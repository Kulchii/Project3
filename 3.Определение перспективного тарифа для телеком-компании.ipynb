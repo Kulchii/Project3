{
 "cells": [
  {
   "cell_type": "markdown",
   "metadata": {
    "toc": true
   },
   "source": [
    "<h1>Содержание<span class=\"tocSkip\"></span></h1>\n",
    "<div class=\"toc\"><ul class=\"toc-item\"><li><span><a href=\"#Изучение-данных-из-файла.\" data-toc-modified-id=\"Изучение-данных-из-файла.-1\"><span class=\"toc-item-num\">1&nbsp;&nbsp;</span>Изучение данных из файла.</a></span><ul class=\"toc-item\"><li><span><a href=\"#Вывод\" data-toc-modified-id=\"Вывод-1.1\"><span class=\"toc-item-num\">1.1&nbsp;&nbsp;</span>Вывод</a></span></li></ul></li><li><span><a href=\"#Предобработка-данных.\" data-toc-modified-id=\"Предобработка-данных.-2\"><span class=\"toc-item-num\">2&nbsp;&nbsp;</span>Предобработка данных.</a></span></li><li><span><a href=\"#Анализ-данных.\" data-toc-modified-id=\"Анализ-данных.-3\"><span class=\"toc-item-num\">3&nbsp;&nbsp;</span>Анализ данных.</a></span></li><li><span><a href=\"#Проверка-гипотезы.\" data-toc-modified-id=\"Проверка-гипотезы.-4\"><span class=\"toc-item-num\">4&nbsp;&nbsp;</span>Проверка гипотезы.</a></span></li><li><span><a href=\"#Общий-вывод.\" data-toc-modified-id=\"Общий-вывод.-5\"><span class=\"toc-item-num\">5&nbsp;&nbsp;</span>Общий вывод.</a></span></li></ul></div>"
   ]
  },
  {
   "cell_type": "markdown",
   "metadata": {},
   "source": [
    "# Определение перспективного тарифа для телеком компании."
   ]
  },
  {
   "cell_type": "markdown",
   "metadata": {},
   "source": [
    "# Описание проекта\n",
    "Вы аналитик компании «Мегалайн» — федерального оператора сотовой связи. Клиентам предлагают два тарифных плана: «Смарт» и «Ультра». Чтобы скорректировать рекламный бюджет, коммерческий департамент хочет понять, какой тариф приносит больше денег.\n",
    "Вам предстоит сделать предварительный анализ тарифов на небольшой выборке клиентов. В вашем распоряжении данные 500 пользователей «Мегалайна»: кто они, откуда, каким тарифом пользуются, сколько звонков и сообщений каждый отправил за 2018 год. Нужно проанализировать поведение клиентов и сделать вывод — какой тариф лучше.\n",
    "# Описание тарифов\n",
    "**Тариф «Смарт»**\n",
    "Ежемесячная плата: 550 рублей\n",
    "Включено 500 минут разговора, 50 сообщений и 15 Гб интернет-трафика\n",
    "Стоимость услуг сверх тарифного пакета:\n",
    "минута разговора: 3 рубля\n",
    "сообщение: 3 рубля\n",
    "1 Гб интернет-трафика: 200 рублей\n",
    "\n",
    "**Тариф «Ультра»**\n",
    "Ежемесячная плата: 1950 рублей\n",
    "Включено 3000 минут разговора, 1000 сообщений и 30 Гб интернет-трафика\n",
    "Стоимость услуг сверх тарифного пакета:\n",
    "минута разговора: 1 рубль\n",
    "сообщение: 1 рубль\n",
    "1 Гб интернет-трафика: 150 рублей\n",
    "# Описание данных\n",
    "**Таблица users (информация о пользователях):**\n",
    "user_id — уникальный идентификатор пользователя\n",
    "first_name — имя пользователя\n",
    "last_name — фамилия пользователя\n",
    "age — возраст пользователя (годы)\n",
    "reg_date — дата подключения тарифа (день, месяц, год)\n",
    "churn_date — дата прекращения пользования тарифом (если значение пропущено, то тариф ещё действовал на момент выгрузки данных)\n",
    "city — город проживания пользователя\n",
    "tarif — название тарифного плана\n",
    "\n",
    "**Таблица calls (информация о звонках):**\n",
    "id — уникальный номер звонка\n",
    "call_date — дата звонка\n",
    "duration — длительность звонка в минутах\n",
    "user_id — идентификатор пользователя, сделавшего звонок\n",
    "\n",
    "**Таблица messages (информация о сообщениях):**\n",
    "id — уникальный номер сообщения\n",
    "message_date — дата сообщения\n",
    "user_id — идентификатор пользователя, отправившего сообщение\n",
    "\n",
    "**Таблица internet (информация об интернет-сессиях):**\n",
    "id — уникальный номер сессии\n",
    "mb_used — объём потраченного за сессию интернет-трафика (в мегабайтах)\n",
    "session_date — дата интернет-сессии\n",
    "user_id — идентификатор пользователя\n",
    "\n",
    "**Таблица tariffs (информация о тарифах):**\n",
    "tariff_name — название тарифа\n",
    "rub_monthly_fee — ежемесячная абонентская плата в рублях\n",
    "minutes_included — количество минут разговора в месяц, включённых в абонентскую плату\n",
    "messages_included — количество сообщений в месяц, включённых в абонентскую плату\n",
    "mb_per_month_included — объём интернет-трафика, включённого в абонентскую плату (в мегабайтах)\n",
    "rub_per_minute — стоимость минуты разговора сверх тарифного пакета (например, если в тарифе 100 минут разговора в месяц, то со 101 минуты будет взиматься плата)\n",
    "rub_per_message — стоимость отправки сообщения сверх тарифного пакета\n",
    "rub_per_gb — стоимость дополнительного гигабайта интернет-трафика сверх тарифного пакета (1 гигабайт = 1024 мегабайта)"
   ]
  },
  {
   "cell_type": "markdown",
   "metadata": {},
   "source": [
    "## Изучение данных из файла."
   ]
  },
  {
   "cell_type": "markdown",
   "metadata": {},
   "source": [
    "Импортируем библиотеки."
   ]
  },
  {
   "cell_type": "code",
   "execution_count": 1,
   "metadata": {},
   "outputs": [],
   "source": [
    "import pandas as pd\n",
    "import numpy as np\n",
    "import matplotlib.pyplot as plt\n",
    "from datetime import datetime\n",
    "from scipy import stats as st"
   ]
  },
  {
   "cell_type": "markdown",
   "metadata": {},
   "source": [
    "Откроем файлы с данными."
   ]
  },
  {
   "cell_type": "code",
   "execution_count": 2,
   "metadata": {},
   "outputs": [],
   "source": [
    "calls = pd.read_csv('/datasets/calls.csv')\n",
    "internet = pd.read_csv('/datasets/internet.csv')\n",
    "messages = pd.read_csv('/datasets/messages.csv')\n",
    "tariffs = pd.read_csv('/datasets/tariffs.csv')\n",
    "users = pd.read_csv('/datasets/users.csv')"
   ]
  },
  {
   "cell_type": "markdown",
   "metadata": {},
   "source": [
    "Рассмотрим каждый из датасетов по отдельности."
   ]
  },
  {
   "cell_type": "code",
   "execution_count": 3,
   "metadata": {
    "scrolled": true
   },
   "outputs": [
    {
     "data": {
      "text/html": [
       "<div>\n",
       "<style scoped>\n",
       "    .dataframe tbody tr th:only-of-type {\n",
       "        vertical-align: middle;\n",
       "    }\n",
       "\n",
       "    .dataframe tbody tr th {\n",
       "        vertical-align: top;\n",
       "    }\n",
       "\n",
       "    .dataframe thead th {\n",
       "        text-align: right;\n",
       "    }\n",
       "</style>\n",
       "<table border=\"1\" class=\"dataframe\">\n",
       "  <thead>\n",
       "    <tr style=\"text-align: right;\">\n",
       "      <th></th>\n",
       "      <th>id</th>\n",
       "      <th>call_date</th>\n",
       "      <th>duration</th>\n",
       "      <th>user_id</th>\n",
       "    </tr>\n",
       "  </thead>\n",
       "  <tbody>\n",
       "    <tr>\n",
       "      <td>0</td>\n",
       "      <td>1000_0</td>\n",
       "      <td>2018-07-25</td>\n",
       "      <td>0.00</td>\n",
       "      <td>1000</td>\n",
       "    </tr>\n",
       "    <tr>\n",
       "      <td>1</td>\n",
       "      <td>1000_1</td>\n",
       "      <td>2018-08-17</td>\n",
       "      <td>0.00</td>\n",
       "      <td>1000</td>\n",
       "    </tr>\n",
       "    <tr>\n",
       "      <td>2</td>\n",
       "      <td>1000_2</td>\n",
       "      <td>2018-06-11</td>\n",
       "      <td>2.85</td>\n",
       "      <td>1000</td>\n",
       "    </tr>\n",
       "    <tr>\n",
       "      <td>3</td>\n",
       "      <td>1000_3</td>\n",
       "      <td>2018-09-21</td>\n",
       "      <td>13.80</td>\n",
       "      <td>1000</td>\n",
       "    </tr>\n",
       "    <tr>\n",
       "      <td>4</td>\n",
       "      <td>1000_4</td>\n",
       "      <td>2018-12-15</td>\n",
       "      <td>5.18</td>\n",
       "      <td>1000</td>\n",
       "    </tr>\n",
       "  </tbody>\n",
       "</table>\n",
       "</div>"
      ],
      "text/plain": [
       "       id   call_date  duration  user_id\n",
       "0  1000_0  2018-07-25      0.00     1000\n",
       "1  1000_1  2018-08-17      0.00     1000\n",
       "2  1000_2  2018-06-11      2.85     1000\n",
       "3  1000_3  2018-09-21     13.80     1000\n",
       "4  1000_4  2018-12-15      5.18     1000"
      ]
     },
     "execution_count": 3,
     "metadata": {},
     "output_type": "execute_result"
    }
   ],
   "source": [
    "calls.head()"
   ]
  },
  {
   "cell_type": "code",
   "execution_count": 4,
   "metadata": {
    "scrolled": true
   },
   "outputs": [
    {
     "name": "stdout",
     "output_type": "stream",
     "text": [
      "<class 'pandas.core.frame.DataFrame'>\n",
      "RangeIndex: 202607 entries, 0 to 202606\n",
      "Data columns (total 4 columns):\n",
      "id           202607 non-null object\n",
      "call_date    202607 non-null object\n",
      "duration     202607 non-null float64\n",
      "user_id      202607 non-null int64\n",
      "dtypes: float64(1), int64(1), object(2)\n",
      "memory usage: 6.2+ MB\n"
     ]
    }
   ],
   "source": [
    "calls.info()"
   ]
  },
  {
   "cell_type": "code",
   "execution_count": 5,
   "metadata": {
    "scrolled": false
   },
   "outputs": [
    {
     "data": {
      "text/plain": [
       "id           0\n",
       "call_date    0\n",
       "duration     0\n",
       "user_id      0\n",
       "dtype: int64"
      ]
     },
     "execution_count": 5,
     "metadata": {},
     "output_type": "execute_result"
    }
   ],
   "source": [
    "calls.isnull().sum()"
   ]
  },
  {
   "cell_type": "code",
   "execution_count": 6,
   "metadata": {
    "scrolled": true
   },
   "outputs": [
    {
     "name": "stdout",
     "output_type": "stream",
     "text": [
      "1285_162    1\n",
      "1134_345    1\n",
      "1341_242    1\n",
      "1472_242    1\n",
      "1392_182    1\n",
      "           ..\n",
      "1425_243    1\n",
      "1392_161    1\n",
      "1025_377    1\n",
      "1148_12     1\n",
      "1251_679    1\n",
      "Name: id, Length: 202607, dtype: int64\n",
      "2018-12-31    1435\n",
      "2018-12-29    1202\n",
      "2018-12-30    1192\n",
      "2018-12-22    1158\n",
      "2018-12-26    1149\n",
      "              ... \n",
      "2018-01-05      20\n",
      "2018-01-07      18\n",
      "2018-01-02       9\n",
      "2018-01-03       7\n",
      "2018-01-01       5\n",
      "Name: call_date, Length: 365, dtype: int64\n",
      "0.00     39613\n",
      "4.49       142\n",
      "5.50       142\n",
      "6.15       141\n",
      "6.38       141\n",
      "         ...  \n",
      "27.02        1\n",
      "26.19        1\n",
      "25.34        1\n",
      "27.13        1\n",
      "24.28        1\n",
      "Name: duration, Length: 2871, dtype: int64\n",
      "1377    1760\n",
      "1168    1692\n",
      "1375    1560\n",
      "1453    1440\n",
      "1196    1240\n",
      "        ... \n",
      "1397      33\n",
      "1442      28\n",
      "1373      24\n",
      "1016      20\n",
      "1257      14\n",
      "Name: user_id, Length: 492, dtype: int64\n"
     ]
    }
   ],
   "source": [
    "for row in calls: \n",
    "    print(calls[row].value_counts()) "
   ]
  },
  {
   "cell_type": "code",
   "execution_count": 7,
   "metadata": {},
   "outputs": [
    {
     "data": {
      "text/plain": [
       "0"
      ]
     },
     "execution_count": 7,
     "metadata": {},
     "output_type": "execute_result"
    }
   ],
   "source": [
    "calls.duplicated().sum()"
   ]
  },
  {
   "cell_type": "code",
   "execution_count": 8,
   "metadata": {},
   "outputs": [
    {
     "data": {
      "text/html": [
       "<div>\n",
       "<style scoped>\n",
       "    .dataframe tbody tr th:only-of-type {\n",
       "        vertical-align: middle;\n",
       "    }\n",
       "\n",
       "    .dataframe tbody tr th {\n",
       "        vertical-align: top;\n",
       "    }\n",
       "\n",
       "    .dataframe thead th {\n",
       "        text-align: right;\n",
       "    }\n",
       "</style>\n",
       "<table border=\"1\" class=\"dataframe\">\n",
       "  <thead>\n",
       "    <tr style=\"text-align: right;\">\n",
       "      <th></th>\n",
       "      <th>count</th>\n",
       "      <th>mean</th>\n",
       "      <th>std</th>\n",
       "      <th>min</th>\n",
       "      <th>25%</th>\n",
       "      <th>50%</th>\n",
       "      <th>75%</th>\n",
       "      <th>max</th>\n",
       "    </tr>\n",
       "  </thead>\n",
       "  <tbody>\n",
       "    <tr>\n",
       "      <td>duration</td>\n",
       "      <td>202607.0</td>\n",
       "      <td>6.755887</td>\n",
       "      <td>5.843365</td>\n",
       "      <td>0.0</td>\n",
       "      <td>1.3</td>\n",
       "      <td>6.0</td>\n",
       "      <td>10.7</td>\n",
       "      <td>38.0</td>\n",
       "    </tr>\n",
       "    <tr>\n",
       "      <td>user_id</td>\n",
       "      <td>202607.0</td>\n",
       "      <td>1253.940619</td>\n",
       "      <td>144.722751</td>\n",
       "      <td>1000.0</td>\n",
       "      <td>1126.0</td>\n",
       "      <td>1260.0</td>\n",
       "      <td>1379.0</td>\n",
       "      <td>1499.0</td>\n",
       "    </tr>\n",
       "  </tbody>\n",
       "</table>\n",
       "</div>"
      ],
      "text/plain": [
       "             count         mean         std     min     25%     50%     75%  \\\n",
       "duration  202607.0     6.755887    5.843365     0.0     1.3     6.0    10.7   \n",
       "user_id   202607.0  1253.940619  144.722751  1000.0  1126.0  1260.0  1379.0   \n",
       "\n",
       "             max  \n",
       "duration    38.0  \n",
       "user_id   1499.0  "
      ]
     },
     "execution_count": 8,
     "metadata": {},
     "output_type": "execute_result"
    }
   ],
   "source": [
    "calls.describe().T "
   ]
  },
  {
   "cell_type": "markdown",
   "metadata": {},
   "source": [
    "Датасет - информация о звонках.Состоит из 4 столбцов и 202607 строк. Пропущенных значений нет,дубликатов нет.Есть нули в столбце продолжительность.Нужно привести к DateTime столбец call_date."
   ]
  },
  {
   "cell_type": "code",
   "execution_count": 9,
   "metadata": {
    "scrolled": false
   },
   "outputs": [
    {
     "data": {
      "text/html": [
       "<div>\n",
       "<style scoped>\n",
       "    .dataframe tbody tr th:only-of-type {\n",
       "        vertical-align: middle;\n",
       "    }\n",
       "\n",
       "    .dataframe tbody tr th {\n",
       "        vertical-align: top;\n",
       "    }\n",
       "\n",
       "    .dataframe thead th {\n",
       "        text-align: right;\n",
       "    }\n",
       "</style>\n",
       "<table border=\"1\" class=\"dataframe\">\n",
       "  <thead>\n",
       "    <tr style=\"text-align: right;\">\n",
       "      <th></th>\n",
       "      <th>Unnamed: 0</th>\n",
       "      <th>id</th>\n",
       "      <th>mb_used</th>\n",
       "      <th>session_date</th>\n",
       "      <th>user_id</th>\n",
       "    </tr>\n",
       "  </thead>\n",
       "  <tbody>\n",
       "    <tr>\n",
       "      <td>0</td>\n",
       "      <td>0</td>\n",
       "      <td>1000_0</td>\n",
       "      <td>112.95</td>\n",
       "      <td>2018-11-25</td>\n",
       "      <td>1000</td>\n",
       "    </tr>\n",
       "    <tr>\n",
       "      <td>1</td>\n",
       "      <td>1</td>\n",
       "      <td>1000_1</td>\n",
       "      <td>1052.81</td>\n",
       "      <td>2018-09-07</td>\n",
       "      <td>1000</td>\n",
       "    </tr>\n",
       "    <tr>\n",
       "      <td>2</td>\n",
       "      <td>2</td>\n",
       "      <td>1000_2</td>\n",
       "      <td>1197.26</td>\n",
       "      <td>2018-06-25</td>\n",
       "      <td>1000</td>\n",
       "    </tr>\n",
       "    <tr>\n",
       "      <td>3</td>\n",
       "      <td>3</td>\n",
       "      <td>1000_3</td>\n",
       "      <td>550.27</td>\n",
       "      <td>2018-08-22</td>\n",
       "      <td>1000</td>\n",
       "    </tr>\n",
       "    <tr>\n",
       "      <td>4</td>\n",
       "      <td>4</td>\n",
       "      <td>1000_4</td>\n",
       "      <td>302.56</td>\n",
       "      <td>2018-09-24</td>\n",
       "      <td>1000</td>\n",
       "    </tr>\n",
       "  </tbody>\n",
       "</table>\n",
       "</div>"
      ],
      "text/plain": [
       "   Unnamed: 0      id  mb_used session_date  user_id\n",
       "0           0  1000_0   112.95   2018-11-25     1000\n",
       "1           1  1000_1  1052.81   2018-09-07     1000\n",
       "2           2  1000_2  1197.26   2018-06-25     1000\n",
       "3           3  1000_3   550.27   2018-08-22     1000\n",
       "4           4  1000_4   302.56   2018-09-24     1000"
      ]
     },
     "execution_count": 9,
     "metadata": {},
     "output_type": "execute_result"
    }
   ],
   "source": [
    "internet.head()"
   ]
  },
  {
   "cell_type": "code",
   "execution_count": 10,
   "metadata": {},
   "outputs": [
    {
     "name": "stdout",
     "output_type": "stream",
     "text": [
      "<class 'pandas.core.frame.DataFrame'>\n",
      "RangeIndex: 149396 entries, 0 to 149395\n",
      "Data columns (total 5 columns):\n",
      "Unnamed: 0      149396 non-null int64\n",
      "id              149396 non-null object\n",
      "mb_used         149396 non-null float64\n",
      "session_date    149396 non-null object\n",
      "user_id         149396 non-null int64\n",
      "dtypes: float64(1), int64(2), object(2)\n",
      "memory usage: 5.7+ MB\n"
     ]
    }
   ],
   "source": [
    "internet.info()"
   ]
  },
  {
   "cell_type": "code",
   "execution_count": 11,
   "metadata": {},
   "outputs": [
    {
     "data": {
      "text/plain": [
       "Unnamed: 0      0\n",
       "id              0\n",
       "mb_used         0\n",
       "session_date    0\n",
       "user_id         0\n",
       "dtype: int64"
      ]
     },
     "execution_count": 11,
     "metadata": {},
     "output_type": "execute_result"
    }
   ],
   "source": [
    "internet.isnull().sum()"
   ]
  },
  {
   "cell_type": "code",
   "execution_count": 12,
   "metadata": {
    "scrolled": true
   },
   "outputs": [
    {
     "name": "stdout",
     "output_type": "stream",
     "text": [
      "2047     1\n",
      "95620    1\n",
      "40249    1\n",
      "38200    1\n",
      "60727    1\n",
      "        ..\n",
      "51916    1\n",
      "62155    1\n",
      "64202    1\n",
      "58057    1\n",
      "0        1\n",
      "Name: Unnamed: 0, Length: 149396, dtype: int64\n",
      "1217_150    1\n",
      "1157_628    1\n",
      "1196_101    1\n",
      "1462_125    1\n",
      "1162_74     1\n",
      "           ..\n",
      "1279_18     1\n",
      "1408_313    1\n",
      "1107_70     1\n",
      "1268_79     1\n",
      "1483_133    1\n",
      "Name: id, Length: 149396, dtype: int64\n",
      "0.00      19598\n",
      "197.56        9\n",
      "447.30        9\n",
      "335.91        9\n",
      "108.95        8\n",
      "          ...  \n",
      "72.49         1\n",
      "846.22        1\n",
      "429.17        1\n",
      "899.03        1\n",
      "483.87        1\n",
      "Name: mb_used, Length: 70003, dtype: int64\n",
      "2018-12-31    1057\n",
      "2018-12-30     903\n",
      "2018-12-25     859\n",
      "2018-12-26     844\n",
      "2018-12-22     834\n",
      "              ... \n",
      "2018-01-05      14\n",
      "2018-01-04       9\n",
      "2018-01-03       6\n",
      "2018-01-01       3\n",
      "2018-01-02       3\n",
      "Name: session_date, Length: 365, dtype: int64\n",
      "1496    834\n",
      "1227    812\n",
      "1204    789\n",
      "1240    764\n",
      "1251    759\n",
      "       ... \n",
      "1151     35\n",
      "1467     27\n",
      "1343     26\n",
      "1192     22\n",
      "1399      8\n",
      "Name: user_id, Length: 497, dtype: int64\n"
     ]
    }
   ],
   "source": [
    "for row in internet: \n",
    "    print(internet[row].value_counts()) "
   ]
  },
  {
   "cell_type": "code",
   "execution_count": 13,
   "metadata": {},
   "outputs": [
    {
     "data": {
      "text/plain": [
       "0"
      ]
     },
     "execution_count": 13,
     "metadata": {},
     "output_type": "execute_result"
    }
   ],
   "source": [
    "internet.duplicated().sum()"
   ]
  },
  {
   "cell_type": "code",
   "execution_count": 14,
   "metadata": {},
   "outputs": [
    {
     "data": {
      "text/html": [
       "<div>\n",
       "<style scoped>\n",
       "    .dataframe tbody tr th:only-of-type {\n",
       "        vertical-align: middle;\n",
       "    }\n",
       "\n",
       "    .dataframe tbody tr th {\n",
       "        vertical-align: top;\n",
       "    }\n",
       "\n",
       "    .dataframe thead th {\n",
       "        text-align: right;\n",
       "    }\n",
       "</style>\n",
       "<table border=\"1\" class=\"dataframe\">\n",
       "  <thead>\n",
       "    <tr style=\"text-align: right;\">\n",
       "      <th></th>\n",
       "      <th>count</th>\n",
       "      <th>mean</th>\n",
       "      <th>std</th>\n",
       "      <th>min</th>\n",
       "      <th>25%</th>\n",
       "      <th>50%</th>\n",
       "      <th>75%</th>\n",
       "      <th>max</th>\n",
       "    </tr>\n",
       "  </thead>\n",
       "  <tbody>\n",
       "    <tr>\n",
       "      <td>Unnamed: 0</td>\n",
       "      <td>149396.0</td>\n",
       "      <td>74697.500000</td>\n",
       "      <td>43127.054745</td>\n",
       "      <td>0.0</td>\n",
       "      <td>37348.7500</td>\n",
       "      <td>74697.500</td>\n",
       "      <td>112046.2500</td>\n",
       "      <td>149395.00</td>\n",
       "    </tr>\n",
       "    <tr>\n",
       "      <td>mb_used</td>\n",
       "      <td>149396.0</td>\n",
       "      <td>370.192426</td>\n",
       "      <td>278.300951</td>\n",
       "      <td>0.0</td>\n",
       "      <td>138.1875</td>\n",
       "      <td>348.015</td>\n",
       "      <td>559.5525</td>\n",
       "      <td>1724.83</td>\n",
       "    </tr>\n",
       "    <tr>\n",
       "      <td>user_id</td>\n",
       "      <td>149396.0</td>\n",
       "      <td>1252.099842</td>\n",
       "      <td>144.050823</td>\n",
       "      <td>1000.0</td>\n",
       "      <td>1130.0000</td>\n",
       "      <td>1251.000</td>\n",
       "      <td>1380.0000</td>\n",
       "      <td>1499.00</td>\n",
       "    </tr>\n",
       "  </tbody>\n",
       "</table>\n",
       "</div>"
      ],
      "text/plain": [
       "               count          mean           std     min         25%  \\\n",
       "Unnamed: 0  149396.0  74697.500000  43127.054745     0.0  37348.7500   \n",
       "mb_used     149396.0    370.192426    278.300951     0.0    138.1875   \n",
       "user_id     149396.0   1252.099842    144.050823  1000.0   1130.0000   \n",
       "\n",
       "                  50%          75%        max  \n",
       "Unnamed: 0  74697.500  112046.2500  149395.00  \n",
       "mb_used       348.015     559.5525    1724.83  \n",
       "user_id      1251.000    1380.0000    1499.00  "
      ]
     },
     "execution_count": 14,
     "metadata": {},
     "output_type": "execute_result"
    }
   ],
   "source": [
    "internet.describe().T "
   ]
  },
  {
   "cell_type": "markdown",
   "metadata": {},
   "source": [
    "Датасет - информация об интернет-сессиях.Состоит из 5 столбцов и 149396 строк. Пропущенных значений нет,дубликатов нет.Есть нули в столбце объём потраченного за сессию интернет-трафика (в мегабайтах).Нужно привести к DateTime столбец session_date."
   ]
  },
  {
   "cell_type": "code",
   "execution_count": 15,
   "metadata": {
    "scrolled": true
   },
   "outputs": [
    {
     "data": {
      "text/html": [
       "<div>\n",
       "<style scoped>\n",
       "    .dataframe tbody tr th:only-of-type {\n",
       "        vertical-align: middle;\n",
       "    }\n",
       "\n",
       "    .dataframe tbody tr th {\n",
       "        vertical-align: top;\n",
       "    }\n",
       "\n",
       "    .dataframe thead th {\n",
       "        text-align: right;\n",
       "    }\n",
       "</style>\n",
       "<table border=\"1\" class=\"dataframe\">\n",
       "  <thead>\n",
       "    <tr style=\"text-align: right;\">\n",
       "      <th></th>\n",
       "      <th>id</th>\n",
       "      <th>message_date</th>\n",
       "      <th>user_id</th>\n",
       "    </tr>\n",
       "  </thead>\n",
       "  <tbody>\n",
       "    <tr>\n",
       "      <td>0</td>\n",
       "      <td>1000_0</td>\n",
       "      <td>2018-06-27</td>\n",
       "      <td>1000</td>\n",
       "    </tr>\n",
       "    <tr>\n",
       "      <td>1</td>\n",
       "      <td>1000_1</td>\n",
       "      <td>2018-10-08</td>\n",
       "      <td>1000</td>\n",
       "    </tr>\n",
       "    <tr>\n",
       "      <td>2</td>\n",
       "      <td>1000_2</td>\n",
       "      <td>2018-08-04</td>\n",
       "      <td>1000</td>\n",
       "    </tr>\n",
       "    <tr>\n",
       "      <td>3</td>\n",
       "      <td>1000_3</td>\n",
       "      <td>2018-06-16</td>\n",
       "      <td>1000</td>\n",
       "    </tr>\n",
       "    <tr>\n",
       "      <td>4</td>\n",
       "      <td>1000_4</td>\n",
       "      <td>2018-12-05</td>\n",
       "      <td>1000</td>\n",
       "    </tr>\n",
       "  </tbody>\n",
       "</table>\n",
       "</div>"
      ],
      "text/plain": [
       "       id message_date  user_id\n",
       "0  1000_0   2018-06-27     1000\n",
       "1  1000_1   2018-10-08     1000\n",
       "2  1000_2   2018-08-04     1000\n",
       "3  1000_3   2018-06-16     1000\n",
       "4  1000_4   2018-12-05     1000"
      ]
     },
     "execution_count": 15,
     "metadata": {},
     "output_type": "execute_result"
    }
   ],
   "source": [
    "messages.head()"
   ]
  },
  {
   "cell_type": "code",
   "execution_count": 16,
   "metadata": {},
   "outputs": [
    {
     "name": "stdout",
     "output_type": "stream",
     "text": [
      "<class 'pandas.core.frame.DataFrame'>\n",
      "RangeIndex: 123036 entries, 0 to 123035\n",
      "Data columns (total 3 columns):\n",
      "id              123036 non-null object\n",
      "message_date    123036 non-null object\n",
      "user_id         123036 non-null int64\n",
      "dtypes: int64(1), object(2)\n",
      "memory usage: 2.8+ MB\n"
     ]
    }
   ],
   "source": [
    "messages.info()"
   ]
  },
  {
   "cell_type": "code",
   "execution_count": 17,
   "metadata": {},
   "outputs": [
    {
     "data": {
      "text/plain": [
       "id              0\n",
       "message_date    0\n",
       "user_id         0\n",
       "dtype: int64"
      ]
     },
     "execution_count": 17,
     "metadata": {},
     "output_type": "execute_result"
    }
   ],
   "source": [
    "messages.isnull().sum()"
   ]
  },
  {
   "cell_type": "code",
   "execution_count": 18,
   "metadata": {
    "scrolled": true
   },
   "outputs": [
    {
     "name": "stdout",
     "output_type": "stream",
     "text": [
      "1385_733    1\n",
      "1493_75     1\n",
      "1471_599    1\n",
      "1355_31     1\n",
      "1484_18     1\n",
      "           ..\n",
      "1433_336    1\n",
      "1039_133    1\n",
      "1483_394    1\n",
      "1452_112    1\n",
      "1471_300    1\n",
      "Name: id, Length: 123036, dtype: int64\n",
      "2018-12-31    859\n",
      "2018-12-30    765\n",
      "2018-12-21    712\n",
      "2018-12-29    702\n",
      "2018-12-28    699\n",
      "             ... \n",
      "2018-01-11     12\n",
      "2018-01-05     10\n",
      "2018-01-02     10\n",
      "2018-01-04     10\n",
      "2018-01-03      4\n",
      "Name: message_date, Length: 364, dtype: int64\n",
      "1277    1463\n",
      "1089    1408\n",
      "1231    1384\n",
      "1385    1380\n",
      "1356    1224\n",
      "        ... \n",
      "1389       6\n",
      "1279       5\n",
      "1074       3\n",
      "1159       2\n",
      "1141       1\n",
      "Name: user_id, Length: 426, dtype: int64\n"
     ]
    }
   ],
   "source": [
    "for row in messages: \n",
    "    print(messages[row].value_counts()) "
   ]
  },
  {
   "cell_type": "code",
   "execution_count": 19,
   "metadata": {},
   "outputs": [
    {
     "data": {
      "text/plain": [
       "0"
      ]
     },
     "execution_count": 19,
     "metadata": {},
     "output_type": "execute_result"
    }
   ],
   "source": [
    "messages.duplicated().sum()"
   ]
  },
  {
   "cell_type": "code",
   "execution_count": 20,
   "metadata": {},
   "outputs": [
    {
     "data": {
      "text/html": [
       "<div>\n",
       "<style scoped>\n",
       "    .dataframe tbody tr th:only-of-type {\n",
       "        vertical-align: middle;\n",
       "    }\n",
       "\n",
       "    .dataframe tbody tr th {\n",
       "        vertical-align: top;\n",
       "    }\n",
       "\n",
       "    .dataframe thead th {\n",
       "        text-align: right;\n",
       "    }\n",
       "</style>\n",
       "<table border=\"1\" class=\"dataframe\">\n",
       "  <thead>\n",
       "    <tr style=\"text-align: right;\">\n",
       "      <th></th>\n",
       "      <th>count</th>\n",
       "      <th>mean</th>\n",
       "      <th>std</th>\n",
       "      <th>min</th>\n",
       "      <th>25%</th>\n",
       "      <th>50%</th>\n",
       "      <th>75%</th>\n",
       "      <th>max</th>\n",
       "    </tr>\n",
       "  </thead>\n",
       "  <tbody>\n",
       "    <tr>\n",
       "      <td>user_id</td>\n",
       "      <td>123036.0</td>\n",
       "      <td>1256.98941</td>\n",
       "      <td>143.523967</td>\n",
       "      <td>1000.0</td>\n",
       "      <td>1134.0</td>\n",
       "      <td>1271.0</td>\n",
       "      <td>1381.0</td>\n",
       "      <td>1499.0</td>\n",
       "    </tr>\n",
       "  </tbody>\n",
       "</table>\n",
       "</div>"
      ],
      "text/plain": [
       "            count        mean         std     min     25%     50%     75%  \\\n",
       "user_id  123036.0  1256.98941  143.523967  1000.0  1134.0  1271.0  1381.0   \n",
       "\n",
       "            max  \n",
       "user_id  1499.0  "
      ]
     },
     "execution_count": 20,
     "metadata": {},
     "output_type": "execute_result"
    }
   ],
   "source": [
    "messages.describe().T "
   ]
  },
  {
   "cell_type": "markdown",
   "metadata": {},
   "source": [
    "Датасет - информация о сообщениях.Состоит из 3 столбцов и 123036 строк. Пропущенных значений нет,дубликатов нет,нулей нет.Нужно привести к DateTime столбец message_date."
   ]
  },
  {
   "cell_type": "code",
   "execution_count": 21,
   "metadata": {},
   "outputs": [
    {
     "data": {
      "text/html": [
       "<div>\n",
       "<style scoped>\n",
       "    .dataframe tbody tr th:only-of-type {\n",
       "        vertical-align: middle;\n",
       "    }\n",
       "\n",
       "    .dataframe tbody tr th {\n",
       "        vertical-align: top;\n",
       "    }\n",
       "\n",
       "    .dataframe thead th {\n",
       "        text-align: right;\n",
       "    }\n",
       "</style>\n",
       "<table border=\"1\" class=\"dataframe\">\n",
       "  <thead>\n",
       "    <tr style=\"text-align: right;\">\n",
       "      <th></th>\n",
       "      <th>messages_included</th>\n",
       "      <th>mb_per_month_included</th>\n",
       "      <th>minutes_included</th>\n",
       "      <th>rub_monthly_fee</th>\n",
       "      <th>rub_per_gb</th>\n",
       "      <th>rub_per_message</th>\n",
       "      <th>rub_per_minute</th>\n",
       "      <th>tariff_name</th>\n",
       "    </tr>\n",
       "  </thead>\n",
       "  <tbody>\n",
       "    <tr>\n",
       "      <td>0</td>\n",
       "      <td>50</td>\n",
       "      <td>15360</td>\n",
       "      <td>500</td>\n",
       "      <td>550</td>\n",
       "      <td>200</td>\n",
       "      <td>3</td>\n",
       "      <td>3</td>\n",
       "      <td>smart</td>\n",
       "    </tr>\n",
       "    <tr>\n",
       "      <td>1</td>\n",
       "      <td>1000</td>\n",
       "      <td>30720</td>\n",
       "      <td>3000</td>\n",
       "      <td>1950</td>\n",
       "      <td>150</td>\n",
       "      <td>1</td>\n",
       "      <td>1</td>\n",
       "      <td>ultra</td>\n",
       "    </tr>\n",
       "  </tbody>\n",
       "</table>\n",
       "</div>"
      ],
      "text/plain": [
       "   messages_included  mb_per_month_included  minutes_included  \\\n",
       "0                 50                  15360               500   \n",
       "1               1000                  30720              3000   \n",
       "\n",
       "   rub_monthly_fee  rub_per_gb  rub_per_message  rub_per_minute tariff_name  \n",
       "0              550         200                3               3       smart  \n",
       "1             1950         150                1               1       ultra  "
      ]
     },
     "execution_count": 21,
     "metadata": {},
     "output_type": "execute_result"
    }
   ],
   "source": [
    "tariffs"
   ]
  },
  {
   "cell_type": "code",
   "execution_count": 22,
   "metadata": {},
   "outputs": [
    {
     "name": "stdout",
     "output_type": "stream",
     "text": [
      "<class 'pandas.core.frame.DataFrame'>\n",
      "RangeIndex: 2 entries, 0 to 1\n",
      "Data columns (total 8 columns):\n",
      "messages_included        2 non-null int64\n",
      "mb_per_month_included    2 non-null int64\n",
      "minutes_included         2 non-null int64\n",
      "rub_monthly_fee          2 non-null int64\n",
      "rub_per_gb               2 non-null int64\n",
      "rub_per_message          2 non-null int64\n",
      "rub_per_minute           2 non-null int64\n",
      "tariff_name              2 non-null object\n",
      "dtypes: int64(7), object(1)\n",
      "memory usage: 256.0+ bytes\n"
     ]
    }
   ],
   "source": [
    "tariffs.info()"
   ]
  },
  {
   "cell_type": "code",
   "execution_count": 23,
   "metadata": {},
   "outputs": [
    {
     "data": {
      "text/plain": [
       "messages_included        0\n",
       "mb_per_month_included    0\n",
       "minutes_included         0\n",
       "rub_monthly_fee          0\n",
       "rub_per_gb               0\n",
       "rub_per_message          0\n",
       "rub_per_minute           0\n",
       "tariff_name              0\n",
       "dtype: int64"
      ]
     },
     "execution_count": 23,
     "metadata": {},
     "output_type": "execute_result"
    }
   ],
   "source": [
    "tariffs.isnull().sum()"
   ]
  },
  {
   "cell_type": "code",
   "execution_count": 24,
   "metadata": {
    "scrolled": true
   },
   "outputs": [
    {
     "name": "stdout",
     "output_type": "stream",
     "text": [
      "50      1\n",
      "1000    1\n",
      "Name: messages_included, dtype: int64\n",
      "30720    1\n",
      "15360    1\n",
      "Name: mb_per_month_included, dtype: int64\n",
      "3000    1\n",
      "500     1\n",
      "Name: minutes_included, dtype: int64\n",
      "550     1\n",
      "1950    1\n",
      "Name: rub_monthly_fee, dtype: int64\n",
      "150    1\n",
      "200    1\n",
      "Name: rub_per_gb, dtype: int64\n",
      "3    1\n",
      "1    1\n",
      "Name: rub_per_message, dtype: int64\n",
      "3    1\n",
      "1    1\n",
      "Name: rub_per_minute, dtype: int64\n",
      "smart    1\n",
      "ultra    1\n",
      "Name: tariff_name, dtype: int64\n"
     ]
    }
   ],
   "source": [
    "for row in tariffs: \n",
    "    print(tariffs[row].value_counts()) "
   ]
  },
  {
   "cell_type": "code",
   "execution_count": 25,
   "metadata": {},
   "outputs": [
    {
     "data": {
      "text/plain": [
       "0"
      ]
     },
     "execution_count": 25,
     "metadata": {},
     "output_type": "execute_result"
    }
   ],
   "source": [
    "tariffs.duplicated().sum()"
   ]
  },
  {
   "cell_type": "code",
   "execution_count": 26,
   "metadata": {},
   "outputs": [
    {
     "data": {
      "text/html": [
       "<div>\n",
       "<style scoped>\n",
       "    .dataframe tbody tr th:only-of-type {\n",
       "        vertical-align: middle;\n",
       "    }\n",
       "\n",
       "    .dataframe tbody tr th {\n",
       "        vertical-align: top;\n",
       "    }\n",
       "\n",
       "    .dataframe thead th {\n",
       "        text-align: right;\n",
       "    }\n",
       "</style>\n",
       "<table border=\"1\" class=\"dataframe\">\n",
       "  <thead>\n",
       "    <tr style=\"text-align: right;\">\n",
       "      <th></th>\n",
       "      <th>count</th>\n",
       "      <th>mean</th>\n",
       "      <th>std</th>\n",
       "      <th>min</th>\n",
       "      <th>25%</th>\n",
       "      <th>50%</th>\n",
       "      <th>75%</th>\n",
       "      <th>max</th>\n",
       "    </tr>\n",
       "  </thead>\n",
       "  <tbody>\n",
       "    <tr>\n",
       "      <td>messages_included</td>\n",
       "      <td>2.0</td>\n",
       "      <td>525.0</td>\n",
       "      <td>671.751442</td>\n",
       "      <td>50.0</td>\n",
       "      <td>287.5</td>\n",
       "      <td>525.0</td>\n",
       "      <td>762.5</td>\n",
       "      <td>1000.0</td>\n",
       "    </tr>\n",
       "    <tr>\n",
       "      <td>mb_per_month_included</td>\n",
       "      <td>2.0</td>\n",
       "      <td>23040.0</td>\n",
       "      <td>10861.160159</td>\n",
       "      <td>15360.0</td>\n",
       "      <td>19200.0</td>\n",
       "      <td>23040.0</td>\n",
       "      <td>26880.0</td>\n",
       "      <td>30720.0</td>\n",
       "    </tr>\n",
       "    <tr>\n",
       "      <td>minutes_included</td>\n",
       "      <td>2.0</td>\n",
       "      <td>1750.0</td>\n",
       "      <td>1767.766953</td>\n",
       "      <td>500.0</td>\n",
       "      <td>1125.0</td>\n",
       "      <td>1750.0</td>\n",
       "      <td>2375.0</td>\n",
       "      <td>3000.0</td>\n",
       "    </tr>\n",
       "    <tr>\n",
       "      <td>rub_monthly_fee</td>\n",
       "      <td>2.0</td>\n",
       "      <td>1250.0</td>\n",
       "      <td>989.949494</td>\n",
       "      <td>550.0</td>\n",
       "      <td>900.0</td>\n",
       "      <td>1250.0</td>\n",
       "      <td>1600.0</td>\n",
       "      <td>1950.0</td>\n",
       "    </tr>\n",
       "    <tr>\n",
       "      <td>rub_per_gb</td>\n",
       "      <td>2.0</td>\n",
       "      <td>175.0</td>\n",
       "      <td>35.355339</td>\n",
       "      <td>150.0</td>\n",
       "      <td>162.5</td>\n",
       "      <td>175.0</td>\n",
       "      <td>187.5</td>\n",
       "      <td>200.0</td>\n",
       "    </tr>\n",
       "    <tr>\n",
       "      <td>rub_per_message</td>\n",
       "      <td>2.0</td>\n",
       "      <td>2.0</td>\n",
       "      <td>1.414214</td>\n",
       "      <td>1.0</td>\n",
       "      <td>1.5</td>\n",
       "      <td>2.0</td>\n",
       "      <td>2.5</td>\n",
       "      <td>3.0</td>\n",
       "    </tr>\n",
       "    <tr>\n",
       "      <td>rub_per_minute</td>\n",
       "      <td>2.0</td>\n",
       "      <td>2.0</td>\n",
       "      <td>1.414214</td>\n",
       "      <td>1.0</td>\n",
       "      <td>1.5</td>\n",
       "      <td>2.0</td>\n",
       "      <td>2.5</td>\n",
       "      <td>3.0</td>\n",
       "    </tr>\n",
       "  </tbody>\n",
       "</table>\n",
       "</div>"
      ],
      "text/plain": [
       "                       count     mean           std      min      25%  \\\n",
       "messages_included        2.0    525.0    671.751442     50.0    287.5   \n",
       "mb_per_month_included    2.0  23040.0  10861.160159  15360.0  19200.0   \n",
       "minutes_included         2.0   1750.0   1767.766953    500.0   1125.0   \n",
       "rub_monthly_fee          2.0   1250.0    989.949494    550.0    900.0   \n",
       "rub_per_gb               2.0    175.0     35.355339    150.0    162.5   \n",
       "rub_per_message          2.0      2.0      1.414214      1.0      1.5   \n",
       "rub_per_minute           2.0      2.0      1.414214      1.0      1.5   \n",
       "\n",
       "                           50%      75%      max  \n",
       "messages_included        525.0    762.5   1000.0  \n",
       "mb_per_month_included  23040.0  26880.0  30720.0  \n",
       "minutes_included        1750.0   2375.0   3000.0  \n",
       "rub_monthly_fee         1250.0   1600.0   1950.0  \n",
       "rub_per_gb               175.0    187.5    200.0  \n",
       "rub_per_message            2.0      2.5      3.0  \n",
       "rub_per_minute             2.0      2.5      3.0  "
      ]
     },
     "execution_count": 26,
     "metadata": {},
     "output_type": "execute_result"
    }
   ],
   "source": [
    "tariffs.describe().T "
   ]
  },
  {
   "cell_type": "markdown",
   "metadata": {},
   "source": [
    "Датасет - информация о тарифах.Состоит из 8 столбцов и 2 строк. Пропущенных значений нет,дубликатов нет,нулей нет."
   ]
  },
  {
   "cell_type": "code",
   "execution_count": 27,
   "metadata": {
    "scrolled": true
   },
   "outputs": [
    {
     "data": {
      "text/html": [
       "<div>\n",
       "<style scoped>\n",
       "    .dataframe tbody tr th:only-of-type {\n",
       "        vertical-align: middle;\n",
       "    }\n",
       "\n",
       "    .dataframe tbody tr th {\n",
       "        vertical-align: top;\n",
       "    }\n",
       "\n",
       "    .dataframe thead th {\n",
       "        text-align: right;\n",
       "    }\n",
       "</style>\n",
       "<table border=\"1\" class=\"dataframe\">\n",
       "  <thead>\n",
       "    <tr style=\"text-align: right;\">\n",
       "      <th></th>\n",
       "      <th>user_id</th>\n",
       "      <th>age</th>\n",
       "      <th>churn_date</th>\n",
       "      <th>city</th>\n",
       "      <th>first_name</th>\n",
       "      <th>last_name</th>\n",
       "      <th>reg_date</th>\n",
       "      <th>tariff</th>\n",
       "    </tr>\n",
       "  </thead>\n",
       "  <tbody>\n",
       "    <tr>\n",
       "      <td>0</td>\n",
       "      <td>1000</td>\n",
       "      <td>52</td>\n",
       "      <td>NaN</td>\n",
       "      <td>Краснодар</td>\n",
       "      <td>Рафаил</td>\n",
       "      <td>Верещагин</td>\n",
       "      <td>2018-05-25</td>\n",
       "      <td>ultra</td>\n",
       "    </tr>\n",
       "    <tr>\n",
       "      <td>1</td>\n",
       "      <td>1001</td>\n",
       "      <td>41</td>\n",
       "      <td>NaN</td>\n",
       "      <td>Москва</td>\n",
       "      <td>Иван</td>\n",
       "      <td>Ежов</td>\n",
       "      <td>2018-11-01</td>\n",
       "      <td>smart</td>\n",
       "    </tr>\n",
       "    <tr>\n",
       "      <td>2</td>\n",
       "      <td>1002</td>\n",
       "      <td>59</td>\n",
       "      <td>NaN</td>\n",
       "      <td>Стерлитамак</td>\n",
       "      <td>Евгений</td>\n",
       "      <td>Абрамович</td>\n",
       "      <td>2018-06-17</td>\n",
       "      <td>smart</td>\n",
       "    </tr>\n",
       "    <tr>\n",
       "      <td>3</td>\n",
       "      <td>1003</td>\n",
       "      <td>23</td>\n",
       "      <td>NaN</td>\n",
       "      <td>Москва</td>\n",
       "      <td>Белла</td>\n",
       "      <td>Белякова</td>\n",
       "      <td>2018-08-17</td>\n",
       "      <td>ultra</td>\n",
       "    </tr>\n",
       "    <tr>\n",
       "      <td>4</td>\n",
       "      <td>1004</td>\n",
       "      <td>68</td>\n",
       "      <td>NaN</td>\n",
       "      <td>Новокузнецк</td>\n",
       "      <td>Татьяна</td>\n",
       "      <td>Авдеенко</td>\n",
       "      <td>2018-05-14</td>\n",
       "      <td>ultra</td>\n",
       "    </tr>\n",
       "  </tbody>\n",
       "</table>\n",
       "</div>"
      ],
      "text/plain": [
       "   user_id  age churn_date         city first_name  last_name    reg_date  \\\n",
       "0     1000   52        NaN    Краснодар     Рафаил  Верещагин  2018-05-25   \n",
       "1     1001   41        NaN       Москва       Иван       Ежов  2018-11-01   \n",
       "2     1002   59        NaN  Стерлитамак    Евгений  Абрамович  2018-06-17   \n",
       "3     1003   23        NaN       Москва      Белла   Белякова  2018-08-17   \n",
       "4     1004   68        NaN  Новокузнецк    Татьяна   Авдеенко  2018-05-14   \n",
       "\n",
       "  tariff  \n",
       "0  ultra  \n",
       "1  smart  \n",
       "2  smart  \n",
       "3  ultra  \n",
       "4  ultra  "
      ]
     },
     "execution_count": 27,
     "metadata": {},
     "output_type": "execute_result"
    }
   ],
   "source": [
    "users.head()"
   ]
  },
  {
   "cell_type": "code",
   "execution_count": 28,
   "metadata": {},
   "outputs": [
    {
     "name": "stdout",
     "output_type": "stream",
     "text": [
      "<class 'pandas.core.frame.DataFrame'>\n",
      "RangeIndex: 500 entries, 0 to 499\n",
      "Data columns (total 8 columns):\n",
      "user_id       500 non-null int64\n",
      "age           500 non-null int64\n",
      "churn_date    38 non-null object\n",
      "city          500 non-null object\n",
      "first_name    500 non-null object\n",
      "last_name     500 non-null object\n",
      "reg_date      500 non-null object\n",
      "tariff        500 non-null object\n",
      "dtypes: int64(2), object(6)\n",
      "memory usage: 31.4+ KB\n"
     ]
    }
   ],
   "source": [
    "users.info()"
   ]
  },
  {
   "cell_type": "code",
   "execution_count": 29,
   "metadata": {},
   "outputs": [
    {
     "data": {
      "text/plain": [
       "user_id         0\n",
       "age             0\n",
       "churn_date    462\n",
       "city            0\n",
       "first_name      0\n",
       "last_name       0\n",
       "reg_date        0\n",
       "tariff          0\n",
       "dtype: int64"
      ]
     },
     "execution_count": 29,
     "metadata": {},
     "output_type": "execute_result"
    }
   ],
   "source": [
    "users.isnull().sum()"
   ]
  },
  {
   "cell_type": "code",
   "execution_count": 30,
   "metadata": {},
   "outputs": [
    {
     "name": "stdout",
     "output_type": "stream",
     "text": [
      "1023    1\n",
      "1194    1\n",
      "1181    1\n",
      "1182    1\n",
      "1183    1\n",
      "       ..\n",
      "1362    1\n",
      "1363    1\n",
      "1364    1\n",
      "1365    1\n",
      "1024    1\n",
      "Name: user_id, Length: 500, dtype: int64\n",
      "53    14\n",
      "42    14\n",
      "63    13\n",
      "71    13\n",
      "64    13\n",
      "73    12\n",
      "21    12\n",
      "40    12\n",
      "39    11\n",
      "47    11\n",
      "29    11\n",
      "26    11\n",
      "37    11\n",
      "41    10\n",
      "36    10\n",
      "58    10\n",
      "45    10\n",
      "70    10\n",
      "52    10\n",
      "51     9\n",
      "27     9\n",
      "48     9\n",
      "50     9\n",
      "28     9\n",
      "30     9\n",
      "24     9\n",
      "20     9\n",
      "19     9\n",
      "56     9\n",
      "23     9\n",
      "68     9\n",
      "66     9\n",
      "65     9\n",
      "69     8\n",
      "62     8\n",
      "60     8\n",
      "44     8\n",
      "55     8\n",
      "25     7\n",
      "43     7\n",
      "67     7\n",
      "35     7\n",
      "74     7\n",
      "32     7\n",
      "31     7\n",
      "46     7\n",
      "75     6\n",
      "54     6\n",
      "59     6\n",
      "18     6\n",
      "33     5\n",
      "34     5\n",
      "38     5\n",
      "22     5\n",
      "72     5\n",
      "49     4\n",
      "57     4\n",
      "61     3\n",
      "Name: age, dtype: int64\n",
      "2018-10-14    2\n",
      "2018-12-21    2\n",
      "2018-12-09    2\n",
      "2018-10-03    2\n",
      "2018-12-03    2\n",
      "2018-12-20    1\n",
      "2018-09-02    1\n",
      "2018-12-14    1\n",
      "2018-12-18    1\n",
      "2018-11-26    1\n",
      "2018-11-07    1\n",
      "2018-10-25    1\n",
      "2018-12-30    1\n",
      "2018-08-17    1\n",
      "2018-12-11    1\n",
      "2018-11-27    1\n",
      "2018-10-05    1\n",
      "2018-11-22    1\n",
      "2018-09-27    1\n",
      "2018-12-26    1\n",
      "2018-10-28    1\n",
      "2018-11-21    1\n",
      "2018-11-16    1\n",
      "2018-09-26    1\n",
      "2018-08-31    1\n",
      "2018-12-24    1\n",
      "2018-12-23    1\n",
      "2018-12-25    1\n",
      "2018-10-04    1\n",
      "2018-10-27    1\n",
      "2018-12-16    1\n",
      "2018-11-13    1\n",
      "2018-11-30    1\n",
      "Name: churn_date, dtype: int64\n",
      "Москва             99\n",
      "Санкт-Петербург    39\n",
      "Новосибирск        16\n",
      "Казань             14\n",
      "Омск               14\n",
      "                   ..\n",
      "Архангельск         1\n",
      "Подольск            1\n",
      "Нижневартовск       1\n",
      "Иваново             1\n",
      "Химки               1\n",
      "Name: city, Length: 76, dtype: int64\n",
      "Радим        6\n",
      "Леонид       5\n",
      "Пётр         5\n",
      "Александр    4\n",
      "Тамара       4\n",
      "            ..\n",
      "Клара        1\n",
      "Дайна        1\n",
      "Роза         1\n",
      "Семён        1\n",
      "Инесса       1\n",
      "Name: first_name, Length: 246, dtype: int64\n",
      "Андреенко     5\n",
      "Алексеенко    3\n",
      "Анищенко      3\n",
      "Соловьев      3\n",
      "Березина      3\n",
      "             ..\n",
      "Панфилова     1\n",
      "Зайцев        1\n",
      "Кукушкин      1\n",
      "Корнеева      1\n",
      "Мамонтова     1\n",
      "Name: last_name, Length: 419, dtype: int64\n",
      "2018-05-28    8\n",
      "2018-07-16    5\n",
      "2018-10-05    5\n",
      "2018-11-16    5\n",
      "2018-01-04    5\n",
      "             ..\n",
      "2018-12-21    1\n",
      "2018-01-06    1\n",
      "2018-11-19    1\n",
      "2018-06-22    1\n",
      "2018-01-15    1\n",
      "Name: reg_date, Length: 270, dtype: int64\n",
      "smart    351\n",
      "ultra    149\n",
      "Name: tariff, dtype: int64\n"
     ]
    }
   ],
   "source": [
    "for row in users: \n",
    "    print(users[row].value_counts()) "
   ]
  },
  {
   "cell_type": "code",
   "execution_count": 31,
   "metadata": {},
   "outputs": [
    {
     "data": {
      "text/plain": [
       "0"
      ]
     },
     "execution_count": 31,
     "metadata": {},
     "output_type": "execute_result"
    }
   ],
   "source": [
    "users.duplicated().sum()"
   ]
  },
  {
   "cell_type": "code",
   "execution_count": 32,
   "metadata": {},
   "outputs": [
    {
     "data": {
      "text/html": [
       "<div>\n",
       "<style scoped>\n",
       "    .dataframe tbody tr th:only-of-type {\n",
       "        vertical-align: middle;\n",
       "    }\n",
       "\n",
       "    .dataframe tbody tr th {\n",
       "        vertical-align: top;\n",
       "    }\n",
       "\n",
       "    .dataframe thead th {\n",
       "        text-align: right;\n",
       "    }\n",
       "</style>\n",
       "<table border=\"1\" class=\"dataframe\">\n",
       "  <thead>\n",
       "    <tr style=\"text-align: right;\">\n",
       "      <th></th>\n",
       "      <th>count</th>\n",
       "      <th>mean</th>\n",
       "      <th>std</th>\n",
       "      <th>min</th>\n",
       "      <th>25%</th>\n",
       "      <th>50%</th>\n",
       "      <th>75%</th>\n",
       "      <th>max</th>\n",
       "    </tr>\n",
       "  </thead>\n",
       "  <tbody>\n",
       "    <tr>\n",
       "      <td>user_id</td>\n",
       "      <td>500.0</td>\n",
       "      <td>1249.500</td>\n",
       "      <td>144.481833</td>\n",
       "      <td>1000.0</td>\n",
       "      <td>1124.75</td>\n",
       "      <td>1249.5</td>\n",
       "      <td>1374.25</td>\n",
       "      <td>1499.0</td>\n",
       "    </tr>\n",
       "    <tr>\n",
       "      <td>age</td>\n",
       "      <td>500.0</td>\n",
       "      <td>46.588</td>\n",
       "      <td>16.667630</td>\n",
       "      <td>18.0</td>\n",
       "      <td>32.00</td>\n",
       "      <td>46.0</td>\n",
       "      <td>62.00</td>\n",
       "      <td>75.0</td>\n",
       "    </tr>\n",
       "  </tbody>\n",
       "</table>\n",
       "</div>"
      ],
      "text/plain": [
       "         count      mean         std     min      25%     50%      75%     max\n",
       "user_id  500.0  1249.500  144.481833  1000.0  1124.75  1249.5  1374.25  1499.0\n",
       "age      500.0    46.588   16.667630    18.0    32.00    46.0    62.00    75.0"
      ]
     },
     "execution_count": 32,
     "metadata": {},
     "output_type": "execute_result"
    }
   ],
   "source": [
    "users.describe().T "
   ]
  },
  {
   "cell_type": "markdown",
   "metadata": {},
   "source": [
    "Датасет - информация о пользователях.Состоит из 8 столбцов и 500 строк. Пропущенные значения в столбце churn_date(462),дубликатов нет,нулей нет.Нужно привести к DateTime столбец reg_date,churn_date."
   ]
  },
  {
   "cell_type": "markdown",
   "metadata": {},
   "source": [
    "### Вывод"
   ]
  },
  {
   "cell_type": "markdown",
   "metadata": {},
   "source": [
    "Есть проблемы в данных.Надо менять типы данных в датах.Вещественный тип в звонках.В столбцах интернет и сообщения переведем в целочисленный.Пропуски в столбце churn_date 462 значения(дата прекращения пользования тарифом),значит тарифом еще пользуются.Округлим длительность звонка и потребление интернета до целого большего числа(по тарифу)."
   ]
  },
  {
   "cell_type": "markdown",
   "metadata": {},
   "source": [
    "## Предобработка данных."
   ]
  },
  {
   "cell_type": "markdown",
   "metadata": {},
   "source": [
    "Столбцы,где есть дата,меняем тип на datetime."
   ]
  },
  {
   "cell_type": "code",
   "execution_count": 33,
   "metadata": {},
   "outputs": [],
   "source": [
    "calls['call_date'] = pd.to_datetime(calls['call_date'],format='%Y.%m.%d') \n",
    "internet['session_date'] = pd.to_datetime(internet['session_date'],format='%Y.%m.%d') \n",
    "messages['message_date'] = pd.to_datetime(messages['message_date'],format='%Y.%m.%d') \n",
    "users['reg_date'] = pd.to_datetime(users['reg_date'],format='%Y.%m.%d') \n",
    "users['churn_date'] = pd.to_datetime(users['churn_date'],format='%Y.%m.%d') "
   ]
  },
  {
   "cell_type": "markdown",
   "metadata": {},
   "source": [
    "«Мегалайн» всегда округляет секунды до минут, а мегабайты — до гигабайт.Поэтому переводим звонки и интернет в целые числа,округляя в большую сторону."
   ]
  },
  {
   "cell_type": "markdown",
   "metadata": {},
   "source": [
    "\n"
   ]
  },
  {
   "cell_type": "code",
   "execution_count": 34,
   "metadata": {
    "scrolled": false
   },
   "outputs": [
    {
     "data": {
      "text/plain": [
       "0       19598\n",
       "333       231\n",
       "382       228\n",
       "377       224\n",
       "334       222\n",
       "        ...  \n",
       "1495        1\n",
       "1624        1\n",
       "1371        1\n",
       "1423        1\n",
       "1279        1\n",
       "Name: mb_used, Length: 1424, dtype: int64"
      ]
     },
     "execution_count": 34,
     "metadata": {},
     "output_type": "execute_result"
    }
   ],
   "source": [
    "internet['mb_used'] = internet['mb_used'].apply(np.ceil).astype('int')\n",
    "internet['mb_used'].value_counts()"
   ]
  },
  {
   "cell_type": "code",
   "execution_count": 35,
   "metadata": {
    "scrolled": false
   },
   "outputs": [
    {
     "data": {
      "text/plain": [
       "0     39613\n",
       "7     11510\n",
       "6     11457\n",
       "5     11411\n",
       "8     11272\n",
       "9     10973\n",
       "4     10918\n",
       "3     10362\n",
       "10    10186\n",
       "11     9385\n",
       "2      9194\n",
       "12     8448\n",
       "1      8402\n",
       "13     7486\n",
       "14     6554\n",
       "15     5505\n",
       "16     4551\n",
       "17     3671\n",
       "18     2984\n",
       "19     2411\n",
       "20     1806\n",
       "21     1304\n",
       "22      975\n",
       "23      720\n",
       "24      468\n",
       "25      363\n",
       "26      257\n",
       "27      151\n",
       "28      104\n",
       "29       56\n",
       "30       39\n",
       "31       30\n",
       "32       17\n",
       "33       10\n",
       "35        5\n",
       "34        3\n",
       "36        2\n",
       "37        2\n",
       "38        2\n",
       "Name: duration, dtype: int64"
      ]
     },
     "execution_count": 35,
     "metadata": {},
     "output_type": "execute_result"
    }
   ],
   "source": [
    "calls['duration'] = calls['duration'].apply(np.ceil).astype('int')\n",
    "calls['duration'].value_counts()"
   ]
  },
  {
   "cell_type": "markdown",
   "metadata": {},
   "source": [
    "Оставим нули в звонках-неотвечанные звонки.И нули в интернете-не пользовались интернетом,такое еще возможно?)"
   ]
  },
  {
   "cell_type": "code",
   "execution_count": 36,
   "metadata": {},
   "outputs": [],
   "source": [
    "calls['id'] = calls['id'].astype('int')\n",
    "internet['id'] = internet['id'].astype('int')\n",
    "messages['id'] = messages['id'].astype('int')"
   ]
  },
  {
   "cell_type": "markdown",
   "metadata": {},
   "source": [
    "Перевели id в датасетах в цельночисловые."
   ]
  },
  {
   "cell_type": "markdown",
   "metadata": {},
   "source": [
    "- Посчитаем количество сделанных звонков и израсходованных минут разговора по месяцам."
   ]
  },
  {
   "cell_type": "code",
   "execution_count": 37,
   "metadata": {
    "scrolled": true
   },
   "outputs": [
    {
     "data": {
      "text/html": [
       "<div>\n",
       "<style scoped>\n",
       "    .dataframe tbody tr th:only-of-type {\n",
       "        vertical-align: middle;\n",
       "    }\n",
       "\n",
       "    .dataframe tbody tr th {\n",
       "        vertical-align: top;\n",
       "    }\n",
       "\n",
       "    .dataframe thead th {\n",
       "        text-align: right;\n",
       "    }\n",
       "</style>\n",
       "<table border=\"1\" class=\"dataframe\">\n",
       "  <thead>\n",
       "    <tr style=\"text-align: right;\">\n",
       "      <th></th>\n",
       "      <th>user_id</th>\n",
       "      <th>month</th>\n",
       "      <th>duration_month</th>\n",
       "      <th>calls_month</th>\n",
       "    </tr>\n",
       "  </thead>\n",
       "  <tbody>\n",
       "    <tr>\n",
       "      <td>0</td>\n",
       "      <td>1000</td>\n",
       "      <td>5</td>\n",
       "      <td>159</td>\n",
       "      <td>22</td>\n",
       "    </tr>\n",
       "    <tr>\n",
       "      <td>1</td>\n",
       "      <td>1000</td>\n",
       "      <td>6</td>\n",
       "      <td>172</td>\n",
       "      <td>43</td>\n",
       "    </tr>\n",
       "    <tr>\n",
       "      <td>2</td>\n",
       "      <td>1000</td>\n",
       "      <td>7</td>\n",
       "      <td>340</td>\n",
       "      <td>47</td>\n",
       "    </tr>\n",
       "    <tr>\n",
       "      <td>3</td>\n",
       "      <td>1000</td>\n",
       "      <td>8</td>\n",
       "      <td>408</td>\n",
       "      <td>52</td>\n",
       "    </tr>\n",
       "    <tr>\n",
       "      <td>4</td>\n",
       "      <td>1000</td>\n",
       "      <td>9</td>\n",
       "      <td>466</td>\n",
       "      <td>58</td>\n",
       "    </tr>\n",
       "  </tbody>\n",
       "</table>\n",
       "</div>"
      ],
      "text/plain": [
       "   user_id  month  duration_month  calls_month\n",
       "0     1000      5             159           22\n",
       "1     1000      6             172           43\n",
       "2     1000      7             340           47\n",
       "3     1000      8             408           52\n",
       "4     1000      9             466           58"
      ]
     },
     "execution_count": 37,
     "metadata": {},
     "output_type": "execute_result"
    }
   ],
   "source": [
    "calls['month'] = calls['call_date'].dt.month\n",
    "group_calls = calls.groupby(['user_id', 'month'])\\\n",
    "                  .agg({'duration':'sum', 'id':'count'})\\\n",
    "                  .reset_index()\\\n",
    "                  .rename(columns={'duration':'duration_month','id':'calls_month'})\n",
    "group_calls.head()"
   ]
  },
  {
   "cell_type": "code",
   "execution_count": 38,
   "metadata": {},
   "outputs": [
    {
     "name": "stdout",
     "output_type": "stream",
     "text": [
      "<class 'pandas.core.frame.DataFrame'>\n",
      "RangeIndex: 3174 entries, 0 to 3173\n",
      "Data columns (total 4 columns):\n",
      "user_id           3174 non-null int64\n",
      "month             3174 non-null int64\n",
      "duration_month    3174 non-null int64\n",
      "calls_month       3174 non-null int64\n",
      "dtypes: int64(4)\n",
      "memory usage: 99.3 KB\n"
     ]
    }
   ],
   "source": [
    "group_calls.info()"
   ]
  },
  {
   "cell_type": "markdown",
   "metadata": {},
   "source": [
    "- Посчитаем количество отправленных сообщений по месяцам."
   ]
  },
  {
   "cell_type": "code",
   "execution_count": 39,
   "metadata": {
    "scrolled": true
   },
   "outputs": [
    {
     "data": {
      "text/html": [
       "<div>\n",
       "<style scoped>\n",
       "    .dataframe tbody tr th:only-of-type {\n",
       "        vertical-align: middle;\n",
       "    }\n",
       "\n",
       "    .dataframe tbody tr th {\n",
       "        vertical-align: top;\n",
       "    }\n",
       "\n",
       "    .dataframe thead th {\n",
       "        text-align: right;\n",
       "    }\n",
       "</style>\n",
       "<table border=\"1\" class=\"dataframe\">\n",
       "  <thead>\n",
       "    <tr style=\"text-align: right;\">\n",
       "      <th></th>\n",
       "      <th>user_id</th>\n",
       "      <th>month</th>\n",
       "      <th>messages_month</th>\n",
       "    </tr>\n",
       "  </thead>\n",
       "  <tbody>\n",
       "    <tr>\n",
       "      <td>0</td>\n",
       "      <td>1000</td>\n",
       "      <td>5</td>\n",
       "      <td>22</td>\n",
       "    </tr>\n",
       "    <tr>\n",
       "      <td>1</td>\n",
       "      <td>1000</td>\n",
       "      <td>6</td>\n",
       "      <td>60</td>\n",
       "    </tr>\n",
       "    <tr>\n",
       "      <td>2</td>\n",
       "      <td>1000</td>\n",
       "      <td>7</td>\n",
       "      <td>75</td>\n",
       "    </tr>\n",
       "    <tr>\n",
       "      <td>3</td>\n",
       "      <td>1000</td>\n",
       "      <td>8</td>\n",
       "      <td>81</td>\n",
       "    </tr>\n",
       "    <tr>\n",
       "      <td>4</td>\n",
       "      <td>1000</td>\n",
       "      <td>9</td>\n",
       "      <td>57</td>\n",
       "    </tr>\n",
       "  </tbody>\n",
       "</table>\n",
       "</div>"
      ],
      "text/plain": [
       "   user_id  month  messages_month\n",
       "0     1000      5              22\n",
       "1     1000      6              60\n",
       "2     1000      7              75\n",
       "3     1000      8              81\n",
       "4     1000      9              57"
      ]
     },
     "execution_count": 39,
     "metadata": {},
     "output_type": "execute_result"
    }
   ],
   "source": [
    "messages['month'] = messages['message_date'].dt.month\n",
    "group_messages = messages.groupby(['user_id', 'month'])\\\n",
    "                        .agg({'id':'count'})\\\n",
    "                        .reset_index()\\\n",
    "                        .rename(columns={'id':'messages_month'})\n",
    "group_messages.head()"
   ]
  },
  {
   "cell_type": "code",
   "execution_count": 40,
   "metadata": {},
   "outputs": [
    {
     "name": "stdout",
     "output_type": "stream",
     "text": [
      "<class 'pandas.core.frame.DataFrame'>\n",
      "RangeIndex: 2717 entries, 0 to 2716\n",
      "Data columns (total 3 columns):\n",
      "user_id           2717 non-null int64\n",
      "month             2717 non-null int64\n",
      "messages_month    2717 non-null int64\n",
      "dtypes: int64(3)\n",
      "memory usage: 63.8 KB\n"
     ]
    }
   ],
   "source": [
    "group_messages.info()"
   ]
  },
  {
   "cell_type": "markdown",
   "metadata": {},
   "source": [
    "- Посчитаем объем израсходованного интернет-трафика по месяцам."
   ]
  },
  {
   "cell_type": "markdown",
   "metadata": {},
   "source": [
    "Переведем мегабайты в гигабайты."
   ]
  },
  {
   "cell_type": "code",
   "execution_count": 41,
   "metadata": {},
   "outputs": [],
   "source": [
    "internet['gb_used'] = internet['mb_used'] / 1024\n",
    "tariffs['gb_per_month_included'] = tariffs['mb_per_month_included'] / 1024"
   ]
  },
  {
   "cell_type": "code",
   "execution_count": 42,
   "metadata": {
    "scrolled": true
   },
   "outputs": [
    {
     "data": {
      "text/html": [
       "<div>\n",
       "<style scoped>\n",
       "    .dataframe tbody tr th:only-of-type {\n",
       "        vertical-align: middle;\n",
       "    }\n",
       "\n",
       "    .dataframe tbody tr th {\n",
       "        vertical-align: top;\n",
       "    }\n",
       "\n",
       "    .dataframe thead th {\n",
       "        text-align: right;\n",
       "    }\n",
       "</style>\n",
       "<table border=\"1\" class=\"dataframe\">\n",
       "  <thead>\n",
       "    <tr style=\"text-align: right;\">\n",
       "      <th></th>\n",
       "      <th>user_id</th>\n",
       "      <th>month</th>\n",
       "      <th>gb_month</th>\n",
       "    </tr>\n",
       "  </thead>\n",
       "  <tbody>\n",
       "    <tr>\n",
       "      <td>0</td>\n",
       "      <td>1000</td>\n",
       "      <td>5</td>\n",
       "      <td>2.203125</td>\n",
       "    </tr>\n",
       "    <tr>\n",
       "      <td>1</td>\n",
       "      <td>1000</td>\n",
       "      <td>6</td>\n",
       "      <td>22.711914</td>\n",
       "    </tr>\n",
       "    <tr>\n",
       "      <td>2</td>\n",
       "      <td>1000</td>\n",
       "      <td>7</td>\n",
       "      <td>13.687500</td>\n",
       "    </tr>\n",
       "    <tr>\n",
       "      <td>3</td>\n",
       "      <td>1000</td>\n",
       "      <td>8</td>\n",
       "      <td>13.740234</td>\n",
       "    </tr>\n",
       "    <tr>\n",
       "      <td>4</td>\n",
       "      <td>1000</td>\n",
       "      <td>9</td>\n",
       "      <td>14.239258</td>\n",
       "    </tr>\n",
       "  </tbody>\n",
       "</table>\n",
       "</div>"
      ],
      "text/plain": [
       "   user_id  month   gb_month\n",
       "0     1000      5   2.203125\n",
       "1     1000      6  22.711914\n",
       "2     1000      7  13.687500\n",
       "3     1000      8  13.740234\n",
       "4     1000      9  14.239258"
      ]
     },
     "execution_count": 42,
     "metadata": {},
     "output_type": "execute_result"
    }
   ],
   "source": [
    "internet['month'] = internet['session_date'].dt.month \n",
    "group_internet = internet.groupby(['user_id', 'month'])\\\n",
    "                        .agg({'gb_used':'sum'})\\\n",
    "                        .reset_index()\\\n",
    "                        .rename(columns={'gb_used':'gb_month'})\n",
    "group_internet.head()"
   ]
  },
  {
   "cell_type": "code",
   "execution_count": 43,
   "metadata": {},
   "outputs": [
    {
     "name": "stdout",
     "output_type": "stream",
     "text": [
      "<class 'pandas.core.frame.DataFrame'>\n",
      "RangeIndex: 3203 entries, 0 to 3202\n",
      "Data columns (total 3 columns):\n",
      "user_id     3203 non-null int64\n",
      "month       3203 non-null int64\n",
      "gb_month    3203 non-null float64\n",
      "dtypes: float64(1), int64(2)\n",
      "memory usage: 75.2 KB\n"
     ]
    }
   ],
   "source": [
    "group_internet.info()"
   ]
  },
  {
   "cell_type": "markdown",
   "metadata": {},
   "source": [
    "Объединим таблицу звонки и сообщения."
   ]
  },
  {
   "cell_type": "code",
   "execution_count": 44,
   "metadata": {
    "scrolled": true
   },
   "outputs": [
    {
     "data": {
      "text/html": [
       "<div>\n",
       "<style scoped>\n",
       "    .dataframe tbody tr th:only-of-type {\n",
       "        vertical-align: middle;\n",
       "    }\n",
       "\n",
       "    .dataframe tbody tr th {\n",
       "        vertical-align: top;\n",
       "    }\n",
       "\n",
       "    .dataframe thead th {\n",
       "        text-align: right;\n",
       "    }\n",
       "</style>\n",
       "<table border=\"1\" class=\"dataframe\">\n",
       "  <thead>\n",
       "    <tr style=\"text-align: right;\">\n",
       "      <th></th>\n",
       "      <th>user_id</th>\n",
       "      <th>month</th>\n",
       "      <th>messages_month</th>\n",
       "      <th>duration_month</th>\n",
       "      <th>calls_month</th>\n",
       "    </tr>\n",
       "  </thead>\n",
       "  <tbody>\n",
       "    <tr>\n",
       "      <td>0</td>\n",
       "      <td>1000</td>\n",
       "      <td>5</td>\n",
       "      <td>22.0</td>\n",
       "      <td>159.0</td>\n",
       "      <td>22.0</td>\n",
       "    </tr>\n",
       "    <tr>\n",
       "      <td>1</td>\n",
       "      <td>1000</td>\n",
       "      <td>6</td>\n",
       "      <td>60.0</td>\n",
       "      <td>172.0</td>\n",
       "      <td>43.0</td>\n",
       "    </tr>\n",
       "    <tr>\n",
       "      <td>2</td>\n",
       "      <td>1000</td>\n",
       "      <td>7</td>\n",
       "      <td>75.0</td>\n",
       "      <td>340.0</td>\n",
       "      <td>47.0</td>\n",
       "    </tr>\n",
       "    <tr>\n",
       "      <td>3</td>\n",
       "      <td>1000</td>\n",
       "      <td>8</td>\n",
       "      <td>81.0</td>\n",
       "      <td>408.0</td>\n",
       "      <td>52.0</td>\n",
       "    </tr>\n",
       "    <tr>\n",
       "      <td>4</td>\n",
       "      <td>1000</td>\n",
       "      <td>9</td>\n",
       "      <td>57.0</td>\n",
       "      <td>466.0</td>\n",
       "      <td>58.0</td>\n",
       "    </tr>\n",
       "  </tbody>\n",
       "</table>\n",
       "</div>"
      ],
      "text/plain": [
       "   user_id  month  messages_month  duration_month  calls_month\n",
       "0     1000      5            22.0           159.0         22.0\n",
       "1     1000      6            60.0           172.0         43.0\n",
       "2     1000      7            75.0           340.0         47.0\n",
       "3     1000      8            81.0           408.0         52.0\n",
       "4     1000      9            57.0           466.0         58.0"
      ]
     },
     "execution_count": 44,
     "metadata": {},
     "output_type": "execute_result"
    }
   ],
   "source": [
    "group_messages_call = group_messages.merge(group_calls,on=['user_id','month'],how='outer')\n",
    "group_messages_call.head()"
   ]
  },
  {
   "cell_type": "code",
   "execution_count": 45,
   "metadata": {},
   "outputs": [
    {
     "name": "stdout",
     "output_type": "stream",
     "text": [
      "<class 'pandas.core.frame.DataFrame'>\n",
      "Int64Index: 3213 entries, 0 to 3212\n",
      "Data columns (total 5 columns):\n",
      "user_id           3213 non-null int64\n",
      "month             3213 non-null int64\n",
      "messages_month    2717 non-null float64\n",
      "duration_month    3174 non-null float64\n",
      "calls_month       3174 non-null float64\n",
      "dtypes: float64(3), int64(2)\n",
      "memory usage: 150.6 KB\n"
     ]
    }
   ],
   "source": [
    "group_messages_call.info()"
   ]
  },
  {
   "cell_type": "markdown",
   "metadata": {},
   "source": [
    "Объединим таблицу звонки и сообщения + интернет."
   ]
  },
  {
   "cell_type": "code",
   "execution_count": 46,
   "metadata": {
    "scrolled": true
   },
   "outputs": [
    {
     "data": {
      "text/html": [
       "<div>\n",
       "<style scoped>\n",
       "    .dataframe tbody tr th:only-of-type {\n",
       "        vertical-align: middle;\n",
       "    }\n",
       "\n",
       "    .dataframe tbody tr th {\n",
       "        vertical-align: top;\n",
       "    }\n",
       "\n",
       "    .dataframe thead th {\n",
       "        text-align: right;\n",
       "    }\n",
       "</style>\n",
       "<table border=\"1\" class=\"dataframe\">\n",
       "  <thead>\n",
       "    <tr style=\"text-align: right;\">\n",
       "      <th></th>\n",
       "      <th>user_id</th>\n",
       "      <th>month</th>\n",
       "      <th>messages_month</th>\n",
       "      <th>duration_month</th>\n",
       "      <th>calls_month</th>\n",
       "      <th>gb_month</th>\n",
       "    </tr>\n",
       "  </thead>\n",
       "  <tbody>\n",
       "    <tr>\n",
       "      <td>0</td>\n",
       "      <td>1000</td>\n",
       "      <td>5</td>\n",
       "      <td>22.0</td>\n",
       "      <td>159.0</td>\n",
       "      <td>22.0</td>\n",
       "      <td>2.203125</td>\n",
       "    </tr>\n",
       "    <tr>\n",
       "      <td>1</td>\n",
       "      <td>1000</td>\n",
       "      <td>6</td>\n",
       "      <td>60.0</td>\n",
       "      <td>172.0</td>\n",
       "      <td>43.0</td>\n",
       "      <td>22.711914</td>\n",
       "    </tr>\n",
       "    <tr>\n",
       "      <td>2</td>\n",
       "      <td>1000</td>\n",
       "      <td>7</td>\n",
       "      <td>75.0</td>\n",
       "      <td>340.0</td>\n",
       "      <td>47.0</td>\n",
       "      <td>13.687500</td>\n",
       "    </tr>\n",
       "    <tr>\n",
       "      <td>3</td>\n",
       "      <td>1000</td>\n",
       "      <td>8</td>\n",
       "      <td>81.0</td>\n",
       "      <td>408.0</td>\n",
       "      <td>52.0</td>\n",
       "      <td>13.740234</td>\n",
       "    </tr>\n",
       "    <tr>\n",
       "      <td>4</td>\n",
       "      <td>1000</td>\n",
       "      <td>9</td>\n",
       "      <td>57.0</td>\n",
       "      <td>466.0</td>\n",
       "      <td>58.0</td>\n",
       "      <td>14.239258</td>\n",
       "    </tr>\n",
       "  </tbody>\n",
       "</table>\n",
       "</div>"
      ],
      "text/plain": [
       "   user_id  month  messages_month  duration_month  calls_month   gb_month\n",
       "0     1000      5            22.0           159.0         22.0   2.203125\n",
       "1     1000      6            60.0           172.0         43.0  22.711914\n",
       "2     1000      7            75.0           340.0         47.0  13.687500\n",
       "3     1000      8            81.0           408.0         52.0  13.740234\n",
       "4     1000      9            57.0           466.0         58.0  14.239258"
      ]
     },
     "execution_count": 46,
     "metadata": {},
     "output_type": "execute_result"
    }
   ],
   "source": [
    "big_group = group_messages_call.merge(group_internet,on=['user_id','month'],how='outer')\n",
    "big_group.head()"
   ]
  },
  {
   "cell_type": "code",
   "execution_count": 47,
   "metadata": {},
   "outputs": [
    {
     "name": "stdout",
     "output_type": "stream",
     "text": [
      "<class 'pandas.core.frame.DataFrame'>\n",
      "Int64Index: 3214 entries, 0 to 3213\n",
      "Data columns (total 6 columns):\n",
      "user_id           3214 non-null int64\n",
      "month             3214 non-null int64\n",
      "messages_month    2717 non-null float64\n",
      "duration_month    3174 non-null float64\n",
      "calls_month       3174 non-null float64\n",
      "gb_month          3203 non-null float64\n",
      "dtypes: float64(4), int64(2)\n",
      "memory usage: 175.8 KB\n"
     ]
    }
   ],
   "source": [
    "big_group.info()"
   ]
  },
  {
   "cell_type": "markdown",
   "metadata": {},
   "source": [
    "- Посчитаем помесячную выручку с каждого пользователя (вычтите бесплатный лимит из суммарного количества звонков, сообщений и интернет-трафика; остаток умножьте на значение из тарифного плана; прибавьте абонентскую плату, соответствующую тарифному плану)."
   ]
  },
  {
   "cell_type": "markdown",
   "metadata": {},
   "source": [
    "Объединим таблицу звонки,сообщения,интернет + информация о пользователях + тарифы."
   ]
  },
  {
   "cell_type": "code",
   "execution_count": 48,
   "metadata": {
    "scrolled": true
   },
   "outputs": [
    {
     "data": {
      "text/html": [
       "<div>\n",
       "<style scoped>\n",
       "    .dataframe tbody tr th:only-of-type {\n",
       "        vertical-align: middle;\n",
       "    }\n",
       "\n",
       "    .dataframe tbody tr th {\n",
       "        vertical-align: top;\n",
       "    }\n",
       "\n",
       "    .dataframe thead th {\n",
       "        text-align: right;\n",
       "    }\n",
       "</style>\n",
       "<table border=\"1\" class=\"dataframe\">\n",
       "  <thead>\n",
       "    <tr style=\"text-align: right;\">\n",
       "      <th></th>\n",
       "      <th>user_id</th>\n",
       "      <th>month</th>\n",
       "      <th>messages_month</th>\n",
       "      <th>duration_month</th>\n",
       "      <th>calls_month</th>\n",
       "      <th>gb_month</th>\n",
       "      <th>age</th>\n",
       "      <th>churn_date</th>\n",
       "      <th>city</th>\n",
       "      <th>first_name</th>\n",
       "      <th>...</th>\n",
       "      <th>reg_date</th>\n",
       "      <th>tariff</th>\n",
       "      <th>messages_included</th>\n",
       "      <th>mb_per_month_included</th>\n",
       "      <th>minutes_included</th>\n",
       "      <th>rub_monthly_fee</th>\n",
       "      <th>rub_per_gb</th>\n",
       "      <th>rub_per_message</th>\n",
       "      <th>rub_per_minute</th>\n",
       "      <th>gb_per_month_included</th>\n",
       "    </tr>\n",
       "  </thead>\n",
       "  <tbody>\n",
       "    <tr>\n",
       "      <td>0</td>\n",
       "      <td>1000</td>\n",
       "      <td>5</td>\n",
       "      <td>22.0</td>\n",
       "      <td>159.0</td>\n",
       "      <td>22.0</td>\n",
       "      <td>2.203125</td>\n",
       "      <td>52</td>\n",
       "      <td>NaT</td>\n",
       "      <td>Краснодар</td>\n",
       "      <td>Рафаил</td>\n",
       "      <td>...</td>\n",
       "      <td>2018-05-25</td>\n",
       "      <td>ultra</td>\n",
       "      <td>1000</td>\n",
       "      <td>30720</td>\n",
       "      <td>3000</td>\n",
       "      <td>1950</td>\n",
       "      <td>150</td>\n",
       "      <td>1</td>\n",
       "      <td>1</td>\n",
       "      <td>30.0</td>\n",
       "    </tr>\n",
       "    <tr>\n",
       "      <td>1</td>\n",
       "      <td>1003</td>\n",
       "      <td>8</td>\n",
       "      <td>37.0</td>\n",
       "      <td>380.0</td>\n",
       "      <td>55.0</td>\n",
       "      <td>8.370117</td>\n",
       "      <td>23</td>\n",
       "      <td>NaT</td>\n",
       "      <td>Москва</td>\n",
       "      <td>Белла</td>\n",
       "      <td>...</td>\n",
       "      <td>2018-08-17</td>\n",
       "      <td>ultra</td>\n",
       "      <td>1000</td>\n",
       "      <td>30720</td>\n",
       "      <td>3000</td>\n",
       "      <td>1950</td>\n",
       "      <td>150</td>\n",
       "      <td>1</td>\n",
       "      <td>1</td>\n",
       "      <td>30.0</td>\n",
       "    </tr>\n",
       "    <tr>\n",
       "      <td>2</td>\n",
       "      <td>1004</td>\n",
       "      <td>5</td>\n",
       "      <td>95.0</td>\n",
       "      <td>35.0</td>\n",
       "      <td>9.0</td>\n",
       "      <td>13.100586</td>\n",
       "      <td>68</td>\n",
       "      <td>NaT</td>\n",
       "      <td>Новокузнецк</td>\n",
       "      <td>Татьяна</td>\n",
       "      <td>...</td>\n",
       "      <td>2018-05-14</td>\n",
       "      <td>ultra</td>\n",
       "      <td>1000</td>\n",
       "      <td>30720</td>\n",
       "      <td>3000</td>\n",
       "      <td>1950</td>\n",
       "      <td>150</td>\n",
       "      <td>1</td>\n",
       "      <td>1</td>\n",
       "      <td>30.0</td>\n",
       "    </tr>\n",
       "    <tr>\n",
       "      <td>3</td>\n",
       "      <td>1013</td>\n",
       "      <td>11</td>\n",
       "      <td>17.0</td>\n",
       "      <td>369.0</td>\n",
       "      <td>52.0</td>\n",
       "      <td>9.560547</td>\n",
       "      <td>36</td>\n",
       "      <td>NaT</td>\n",
       "      <td>Иваново</td>\n",
       "      <td>Борис</td>\n",
       "      <td>...</td>\n",
       "      <td>2018-11-14</td>\n",
       "      <td>ultra</td>\n",
       "      <td>1000</td>\n",
       "      <td>30720</td>\n",
       "      <td>3000</td>\n",
       "      <td>1950</td>\n",
       "      <td>150</td>\n",
       "      <td>1</td>\n",
       "      <td>1</td>\n",
       "      <td>30.0</td>\n",
       "    </tr>\n",
       "    <tr>\n",
       "      <td>4</td>\n",
       "      <td>1016</td>\n",
       "      <td>11</td>\n",
       "      <td>39.0</td>\n",
       "      <td>28.0</td>\n",
       "      <td>4.0</td>\n",
       "      <td>7.214844</td>\n",
       "      <td>58</td>\n",
       "      <td>NaT</td>\n",
       "      <td>Омск</td>\n",
       "      <td>Марица</td>\n",
       "      <td>...</td>\n",
       "      <td>2018-11-21</td>\n",
       "      <td>ultra</td>\n",
       "      <td>1000</td>\n",
       "      <td>30720</td>\n",
       "      <td>3000</td>\n",
       "      <td>1950</td>\n",
       "      <td>150</td>\n",
       "      <td>1</td>\n",
       "      <td>1</td>\n",
       "      <td>30.0</td>\n",
       "    </tr>\n",
       "  </tbody>\n",
       "</table>\n",
       "<p>5 rows × 21 columns</p>\n",
       "</div>"
      ],
      "text/plain": [
       "   user_id  month  messages_month  duration_month  calls_month   gb_month  \\\n",
       "0     1000      5            22.0           159.0         22.0   2.203125   \n",
       "1     1003      8            37.0           380.0         55.0   8.370117   \n",
       "2     1004      5            95.0            35.0          9.0  13.100586   \n",
       "3     1013     11            17.0           369.0         52.0   9.560547   \n",
       "4     1016     11            39.0            28.0          4.0   7.214844   \n",
       "\n",
       "   age churn_date         city first_name  ...   reg_date tariff  \\\n",
       "0   52        NaT    Краснодар     Рафаил  ... 2018-05-25  ultra   \n",
       "1   23        NaT       Москва      Белла  ... 2018-08-17  ultra   \n",
       "2   68        NaT  Новокузнецк    Татьяна  ... 2018-05-14  ultra   \n",
       "3   36        NaT      Иваново      Борис  ... 2018-11-14  ultra   \n",
       "4   58        NaT         Омск     Марица  ... 2018-11-21  ultra   \n",
       "\n",
       "  messages_included  mb_per_month_included  minutes_included  rub_monthly_fee  \\\n",
       "0              1000                  30720              3000             1950   \n",
       "1              1000                  30720              3000             1950   \n",
       "2              1000                  30720              3000             1950   \n",
       "3              1000                  30720              3000             1950   \n",
       "4              1000                  30720              3000             1950   \n",
       "\n",
       "   rub_per_gb  rub_per_message  rub_per_minute  gb_per_month_included  \n",
       "0         150                1               1                   30.0  \n",
       "1         150                1               1                   30.0  \n",
       "2         150                1               1                   30.0  \n",
       "3         150                1               1                   30.0  \n",
       "4         150                1               1                   30.0  \n",
       "\n",
       "[5 rows x 21 columns]"
      ]
     },
     "execution_count": 48,
     "metadata": {},
     "output_type": "execute_result"
    }
   ],
   "source": [
    "tariffs = tariffs.rename(columns={'tariff_name': 'tariff'})\n",
    "users['month'] = users['reg_date'].dt.month\n",
    "good_group = big_group.merge(users,on=['user_id','month'],how='inner').merge(tariffs, on='tariff', how='outer')\n",
    "good_group.head()"
   ]
  },
  {
   "cell_type": "markdown",
   "metadata": {},
   "source": [
    "Поменяли название столбца на 'tariff',так как такой столбец повторяется."
   ]
  },
  {
   "cell_type": "markdown",
   "metadata": {},
   "source": [
    "Избавимся от ненужных столбцов."
   ]
  },
  {
   "cell_type": "code",
   "execution_count": 49,
   "metadata": {},
   "outputs": [
    {
     "data": {
      "text/html": [
       "<div>\n",
       "<style scoped>\n",
       "    .dataframe tbody tr th:only-of-type {\n",
       "        vertical-align: middle;\n",
       "    }\n",
       "\n",
       "    .dataframe tbody tr th {\n",
       "        vertical-align: top;\n",
       "    }\n",
       "\n",
       "    .dataframe thead th {\n",
       "        text-align: right;\n",
       "    }\n",
       "</style>\n",
       "<table border=\"1\" class=\"dataframe\">\n",
       "  <thead>\n",
       "    <tr style=\"text-align: right;\">\n",
       "      <th></th>\n",
       "      <th>user_id</th>\n",
       "      <th>month</th>\n",
       "      <th>messages_month</th>\n",
       "      <th>duration_month</th>\n",
       "      <th>calls_month</th>\n",
       "      <th>gb_month</th>\n",
       "      <th>city</th>\n",
       "      <th>tariff</th>\n",
       "      <th>messages_included</th>\n",
       "      <th>mb_per_month_included</th>\n",
       "      <th>minutes_included</th>\n",
       "      <th>rub_monthly_fee</th>\n",
       "      <th>rub_per_gb</th>\n",
       "      <th>rub_per_message</th>\n",
       "      <th>rub_per_minute</th>\n",
       "      <th>gb_per_month_included</th>\n",
       "    </tr>\n",
       "  </thead>\n",
       "  <tbody>\n",
       "    <tr>\n",
       "      <td>0</td>\n",
       "      <td>1000</td>\n",
       "      <td>5</td>\n",
       "      <td>22.0</td>\n",
       "      <td>159.0</td>\n",
       "      <td>22.0</td>\n",
       "      <td>2.203125</td>\n",
       "      <td>Краснодар</td>\n",
       "      <td>ultra</td>\n",
       "      <td>1000</td>\n",
       "      <td>30720</td>\n",
       "      <td>3000</td>\n",
       "      <td>1950</td>\n",
       "      <td>150</td>\n",
       "      <td>1</td>\n",
       "      <td>1</td>\n",
       "      <td>30.0</td>\n",
       "    </tr>\n",
       "    <tr>\n",
       "      <td>1</td>\n",
       "      <td>1003</td>\n",
       "      <td>8</td>\n",
       "      <td>37.0</td>\n",
       "      <td>380.0</td>\n",
       "      <td>55.0</td>\n",
       "      <td>8.370117</td>\n",
       "      <td>Москва</td>\n",
       "      <td>ultra</td>\n",
       "      <td>1000</td>\n",
       "      <td>30720</td>\n",
       "      <td>3000</td>\n",
       "      <td>1950</td>\n",
       "      <td>150</td>\n",
       "      <td>1</td>\n",
       "      <td>1</td>\n",
       "      <td>30.0</td>\n",
       "    </tr>\n",
       "    <tr>\n",
       "      <td>2</td>\n",
       "      <td>1004</td>\n",
       "      <td>5</td>\n",
       "      <td>95.0</td>\n",
       "      <td>35.0</td>\n",
       "      <td>9.0</td>\n",
       "      <td>13.100586</td>\n",
       "      <td>Новокузнецк</td>\n",
       "      <td>ultra</td>\n",
       "      <td>1000</td>\n",
       "      <td>30720</td>\n",
       "      <td>3000</td>\n",
       "      <td>1950</td>\n",
       "      <td>150</td>\n",
       "      <td>1</td>\n",
       "      <td>1</td>\n",
       "      <td>30.0</td>\n",
       "    </tr>\n",
       "    <tr>\n",
       "      <td>3</td>\n",
       "      <td>1013</td>\n",
       "      <td>11</td>\n",
       "      <td>17.0</td>\n",
       "      <td>369.0</td>\n",
       "      <td>52.0</td>\n",
       "      <td>9.560547</td>\n",
       "      <td>Иваново</td>\n",
       "      <td>ultra</td>\n",
       "      <td>1000</td>\n",
       "      <td>30720</td>\n",
       "      <td>3000</td>\n",
       "      <td>1950</td>\n",
       "      <td>150</td>\n",
       "      <td>1</td>\n",
       "      <td>1</td>\n",
       "      <td>30.0</td>\n",
       "    </tr>\n",
       "    <tr>\n",
       "      <td>4</td>\n",
       "      <td>1016</td>\n",
       "      <td>11</td>\n",
       "      <td>39.0</td>\n",
       "      <td>28.0</td>\n",
       "      <td>4.0</td>\n",
       "      <td>7.214844</td>\n",
       "      <td>Омск</td>\n",
       "      <td>ultra</td>\n",
       "      <td>1000</td>\n",
       "      <td>30720</td>\n",
       "      <td>3000</td>\n",
       "      <td>1950</td>\n",
       "      <td>150</td>\n",
       "      <td>1</td>\n",
       "      <td>1</td>\n",
       "      <td>30.0</td>\n",
       "    </tr>\n",
       "  </tbody>\n",
       "</table>\n",
       "</div>"
      ],
      "text/plain": [
       "   user_id  month  messages_month  duration_month  calls_month   gb_month  \\\n",
       "0     1000      5            22.0           159.0         22.0   2.203125   \n",
       "1     1003      8            37.0           380.0         55.0   8.370117   \n",
       "2     1004      5            95.0            35.0          9.0  13.100586   \n",
       "3     1013     11            17.0           369.0         52.0   9.560547   \n",
       "4     1016     11            39.0            28.0          4.0   7.214844   \n",
       "\n",
       "          city tariff  messages_included  mb_per_month_included  \\\n",
       "0    Краснодар  ultra               1000                  30720   \n",
       "1       Москва  ultra               1000                  30720   \n",
       "2  Новокузнецк  ultra               1000                  30720   \n",
       "3      Иваново  ultra               1000                  30720   \n",
       "4         Омск  ultra               1000                  30720   \n",
       "\n",
       "   minutes_included  rub_monthly_fee  rub_per_gb  rub_per_message  \\\n",
       "0              3000             1950         150                1   \n",
       "1              3000             1950         150                1   \n",
       "2              3000             1950         150                1   \n",
       "3              3000             1950         150                1   \n",
       "4              3000             1950         150                1   \n",
       "\n",
       "   rub_per_minute  gb_per_month_included  \n",
       "0               1                   30.0  \n",
       "1               1                   30.0  \n",
       "2               1                   30.0  \n",
       "3               1                   30.0  \n",
       "4               1                   30.0  "
      ]
     },
     "execution_count": 49,
     "metadata": {},
     "output_type": "execute_result"
    }
   ],
   "source": [
    "del good_group['age']\n",
    "del good_group['churn_date']\n",
    "del good_group['first_name']\n",
    "del good_group['last_name']\n",
    "del good_group['reg_date']\n",
    "good_group.head()"
   ]
  },
  {
   "cell_type": "code",
   "execution_count": 50,
   "metadata": {},
   "outputs": [
    {
     "data": {
      "text/plain": [
       "user_id                   0.000000\n",
       "month                     0.000000\n",
       "messages_month           17.068273\n",
       "duration_month            1.405622\n",
       "calls_month               1.405622\n",
       "gb_month                  0.803213\n",
       "city                      0.000000\n",
       "tariff                    0.000000\n",
       "messages_included         0.000000\n",
       "mb_per_month_included     0.000000\n",
       "minutes_included          0.000000\n",
       "rub_monthly_fee           0.000000\n",
       "rub_per_gb                0.000000\n",
       "rub_per_message           0.000000\n",
       "rub_per_minute            0.000000\n",
       "gb_per_month_included     0.000000\n",
       "dtype: float64"
      ]
     },
     "execution_count": 50,
     "metadata": {},
     "output_type": "execute_result"
    }
   ],
   "source": [
    "good_group.isna().sum()*100/len(good_group)"
   ]
  },
  {
   "cell_type": "markdown",
   "metadata": {},
   "source": [
    "Появились пропуски,заменим их нулями.Скорей всего клиенты не пользовались этими услугами."
   ]
  },
  {
   "cell_type": "code",
   "execution_count": 51,
   "metadata": {},
   "outputs": [
    {
     "data": {
      "text/plain": [
       "user_id                  0\n",
       "month                    0\n",
       "messages_month           0\n",
       "duration_month           0\n",
       "calls_month              0\n",
       "gb_month                 0\n",
       "city                     0\n",
       "tariff                   0\n",
       "messages_included        0\n",
       "mb_per_month_included    0\n",
       "minutes_included         0\n",
       "rub_monthly_fee          0\n",
       "rub_per_gb               0\n",
       "rub_per_message          0\n",
       "rub_per_minute           0\n",
       "gb_per_month_included    0\n",
       "dtype: int64"
      ]
     },
     "execution_count": 51,
     "metadata": {},
     "output_type": "execute_result"
    }
   ],
   "source": [
    "good_group['messages_month'] = good_group['messages_month'].fillna(0)\n",
    "good_group['duration_month'] = good_group['duration_month'].fillna(0)\n",
    "good_group['calls_month'] = good_group['calls_month'].fillna(0)\n",
    "good_group['gb_month'] = good_group['gb_month'].fillna(0)\n",
    "good_group.isna().sum()"
   ]
  },
  {
   "cell_type": "code",
   "execution_count": 52,
   "metadata": {},
   "outputs": [
    {
     "data": {
      "text/plain": [
       "0"
      ]
     },
     "execution_count": 52,
     "metadata": {},
     "output_type": "execute_result"
    }
   ],
   "source": [
    "good_group.duplicated().sum()"
   ]
  },
  {
   "cell_type": "markdown",
   "metadata": {},
   "source": [
    "- Описание тарифов\n",
    "Тариф «Смарт»\n",
    "Ежемесячная плата: 550 рублей\n",
    "Включено 500 минут разговора, 50 сообщений и 15 Гб интернет-трафика\n",
    "Стоимость услуг сверх тарифного пакета: 1. минута разговора: 3 рубля («Мегалайн» всегда округляет вверх значения минут и мегабайтов. Если пользователь проговорил всего 1 секунду, в тарифе засчитывается целая минута); 2. сообщение: 3 рубля; 3. 1 Гб интернет-трафика: 200 рублей.\n",
    "Тариф «Ультра»\n",
    "Ежемесячная плата: 1950 рублей\n",
    "Включено 3000 минут разговора, 1000 сообщений и 30 Гб интернет-трафика\n",
    "Стоимость услуг сверх тарифного пакета: 1. минута разговора: 1 рубль; 2. сообщение: 1 рубль; 3. 1 Гб интернет-трафика: 150 рублей."
   ]
  },
  {
   "cell_type": "code",
   "execution_count": 53,
   "metadata": {
    "scrolled": true
   },
   "outputs": [
    {
     "data": {
      "text/html": [
       "<div>\n",
       "<style scoped>\n",
       "    .dataframe tbody tr th:only-of-type {\n",
       "        vertical-align: middle;\n",
       "    }\n",
       "\n",
       "    .dataframe tbody tr th {\n",
       "        vertical-align: top;\n",
       "    }\n",
       "\n",
       "    .dataframe thead th {\n",
       "        text-align: right;\n",
       "    }\n",
       "</style>\n",
       "<table border=\"1\" class=\"dataframe\">\n",
       "  <thead>\n",
       "    <tr style=\"text-align: right;\">\n",
       "      <th></th>\n",
       "      <th>user_id</th>\n",
       "      <th>month</th>\n",
       "      <th>messages_month</th>\n",
       "      <th>duration_month</th>\n",
       "      <th>calls_month</th>\n",
       "      <th>gb_month</th>\n",
       "      <th>city</th>\n",
       "      <th>tariff</th>\n",
       "      <th>messages_included</th>\n",
       "      <th>mb_per_month_included</th>\n",
       "      <th>minutes_included</th>\n",
       "      <th>rub_monthly_fee</th>\n",
       "      <th>rub_per_gb</th>\n",
       "      <th>rub_per_message</th>\n",
       "      <th>rub_per_minute</th>\n",
       "      <th>gb_per_month_included</th>\n",
       "      <th>total_cost</th>\n",
       "    </tr>\n",
       "  </thead>\n",
       "  <tbody>\n",
       "    <tr>\n",
       "      <td>0</td>\n",
       "      <td>1000</td>\n",
       "      <td>5</td>\n",
       "      <td>22.0</td>\n",
       "      <td>159.0</td>\n",
       "      <td>22.0</td>\n",
       "      <td>2.203125</td>\n",
       "      <td>Краснодар</td>\n",
       "      <td>ultra</td>\n",
       "      <td>1000</td>\n",
       "      <td>30720</td>\n",
       "      <td>3000</td>\n",
       "      <td>1950</td>\n",
       "      <td>150</td>\n",
       "      <td>1</td>\n",
       "      <td>1</td>\n",
       "      <td>30.0</td>\n",
       "      <td>1950.0</td>\n",
       "    </tr>\n",
       "    <tr>\n",
       "      <td>1</td>\n",
       "      <td>1003</td>\n",
       "      <td>8</td>\n",
       "      <td>37.0</td>\n",
       "      <td>380.0</td>\n",
       "      <td>55.0</td>\n",
       "      <td>8.370117</td>\n",
       "      <td>Москва</td>\n",
       "      <td>ultra</td>\n",
       "      <td>1000</td>\n",
       "      <td>30720</td>\n",
       "      <td>3000</td>\n",
       "      <td>1950</td>\n",
       "      <td>150</td>\n",
       "      <td>1</td>\n",
       "      <td>1</td>\n",
       "      <td>30.0</td>\n",
       "      <td>1950.0</td>\n",
       "    </tr>\n",
       "    <tr>\n",
       "      <td>2</td>\n",
       "      <td>1004</td>\n",
       "      <td>5</td>\n",
       "      <td>95.0</td>\n",
       "      <td>35.0</td>\n",
       "      <td>9.0</td>\n",
       "      <td>13.100586</td>\n",
       "      <td>Новокузнецк</td>\n",
       "      <td>ultra</td>\n",
       "      <td>1000</td>\n",
       "      <td>30720</td>\n",
       "      <td>3000</td>\n",
       "      <td>1950</td>\n",
       "      <td>150</td>\n",
       "      <td>1</td>\n",
       "      <td>1</td>\n",
       "      <td>30.0</td>\n",
       "      <td>1950.0</td>\n",
       "    </tr>\n",
       "    <tr>\n",
       "      <td>3</td>\n",
       "      <td>1013</td>\n",
       "      <td>11</td>\n",
       "      <td>17.0</td>\n",
       "      <td>369.0</td>\n",
       "      <td>52.0</td>\n",
       "      <td>9.560547</td>\n",
       "      <td>Иваново</td>\n",
       "      <td>ultra</td>\n",
       "      <td>1000</td>\n",
       "      <td>30720</td>\n",
       "      <td>3000</td>\n",
       "      <td>1950</td>\n",
       "      <td>150</td>\n",
       "      <td>1</td>\n",
       "      <td>1</td>\n",
       "      <td>30.0</td>\n",
       "      <td>1950.0</td>\n",
       "    </tr>\n",
       "    <tr>\n",
       "      <td>4</td>\n",
       "      <td>1016</td>\n",
       "      <td>11</td>\n",
       "      <td>39.0</td>\n",
       "      <td>28.0</td>\n",
       "      <td>4.0</td>\n",
       "      <td>7.214844</td>\n",
       "      <td>Омск</td>\n",
       "      <td>ultra</td>\n",
       "      <td>1000</td>\n",
       "      <td>30720</td>\n",
       "      <td>3000</td>\n",
       "      <td>1950</td>\n",
       "      <td>150</td>\n",
       "      <td>1</td>\n",
       "      <td>1</td>\n",
       "      <td>30.0</td>\n",
       "      <td>1950.0</td>\n",
       "    </tr>\n",
       "  </tbody>\n",
       "</table>\n",
       "</div>"
      ],
      "text/plain": [
       "   user_id  month  messages_month  duration_month  calls_month   gb_month  \\\n",
       "0     1000      5            22.0           159.0         22.0   2.203125   \n",
       "1     1003      8            37.0           380.0         55.0   8.370117   \n",
       "2     1004      5            95.0            35.0          9.0  13.100586   \n",
       "3     1013     11            17.0           369.0         52.0   9.560547   \n",
       "4     1016     11            39.0            28.0          4.0   7.214844   \n",
       "\n",
       "          city tariff  messages_included  mb_per_month_included  \\\n",
       "0    Краснодар  ultra               1000                  30720   \n",
       "1       Москва  ultra               1000                  30720   \n",
       "2  Новокузнецк  ultra               1000                  30720   \n",
       "3      Иваново  ultra               1000                  30720   \n",
       "4         Омск  ultra               1000                  30720   \n",
       "\n",
       "   minutes_included  rub_monthly_fee  rub_per_gb  rub_per_message  \\\n",
       "0              3000             1950         150                1   \n",
       "1              3000             1950         150                1   \n",
       "2              3000             1950         150                1   \n",
       "3              3000             1950         150                1   \n",
       "4              3000             1950         150                1   \n",
       "\n",
       "   rub_per_minute  gb_per_month_included  total_cost  \n",
       "0               1                   30.0      1950.0  \n",
       "1               1                   30.0      1950.0  \n",
       "2               1                   30.0      1950.0  \n",
       "3               1                   30.0      1950.0  \n",
       "4               1                   30.0      1950.0  "
      ]
     },
     "execution_count": 53,
     "metadata": {},
     "output_type": "execute_result"
    }
   ],
   "source": [
    "def limit(row):\n",
    "    if row['tariff'] == 'smart':\n",
    "        if row['messages_month'] > row['messages_included']:\n",
    "            messages_extra = (row['messages_month'] - row['messages_included']) * row['rub_per_message']\n",
    "        else:\n",
    "            messages_extra = 0\n",
    "        if row['calls_month'] > row['minutes_included']:\n",
    "            calls_extra = (row['calls_month'] - row['minutes_included']) * row['rub_per_minute']\n",
    "        else:\n",
    "            calls_extra = 0\n",
    "        if row['gb_month'] > row['gb_per_month_included']:\n",
    "            gb_extra = (row['gb_month'] - row['gb_per_month_included']) * row['rub_per_gb']\n",
    "        else:\n",
    "            gb_extra = 0\n",
    "        total_cost = messages_extra + calls_extra + gb_extra + row['rub_monthly_fee']\n",
    "    if row['tariff'] == 'ultra':\n",
    "        if row['messages_month'] > row['messages_included']:\n",
    "            messages_extra = (row['messages_month'] - row['messages_included']) * row['rub_per_message']\n",
    "        else:\n",
    "            messages_extra = 0\n",
    "        if row['calls_month'] > row['minutes_included']:\n",
    "            calls_extra = (row['calls_month'] - row['minutes_included']) * row['rub_per_minute']\n",
    "        else:\n",
    "            calls_extra = 0\n",
    "        if row['gb_month'] > row['gb_per_month_included']:\n",
    "            gb_extra = (row['gb_month'] - row['gb_per_month_included']) * row['rub_per_gb']\n",
    "        else:\n",
    "            gb_extra = 0\n",
    "        total_cost = messages_extra + calls_extra + gb_extra + row['rub_monthly_fee']\n",
    "    return total_cost\n",
    " \n",
    "good_group['total_cost'] = good_group.apply(limit, axis=1)\n",
    "good_group.head()"
   ]
  },
  {
   "cell_type": "markdown",
   "metadata": {},
   "source": [
    "По описанию тарифа создали функцию и посчитали выручку для каждого пользователя."
   ]
  },
  {
   "cell_type": "markdown",
   "metadata": {},
   "source": [
    "## Анализ данных."
   ]
  },
  {
   "cell_type": "markdown",
   "metadata": {},
   "source": [
    "Количество пользователей по тарифам."
   ]
  },
  {
   "cell_type": "code",
   "execution_count": 54,
   "metadata": {},
   "outputs": [
    {
     "data": {
      "text/plain": [
       "smart    350\n",
       "ultra    148\n",
       "Name: tariff, dtype: int64"
      ]
     },
     "execution_count": 54,
     "metadata": {},
     "output_type": "execute_result"
    }
   ],
   "source": [
    "good_group['tariff'].value_counts()"
   ]
  },
  {
   "cell_type": "code",
   "execution_count": 55,
   "metadata": {},
   "outputs": [
    {
     "data": {
      "text/html": [
       "<style  type=\"text/css\" >\n",
       "</style><table id=\"T_6886f676_927d_11ec_8050_02420a394f5a\" ><thead>    <tr>        <th class=\"blank level0\" ></th>        <th class=\"col_heading level0 col0\" colspan=5>total_cost</th>    </tr>    <tr>        <th class=\"blank level1\" ></th>        <th class=\"col_heading level1 col0\" >max</th>        <th class=\"col_heading level1 col1\" >median</th>        <th class=\"col_heading level1 col2\" >mean</th>        <th class=\"col_heading level1 col3\" >var</th>        <th class=\"col_heading level1 col4\" >std</th>    </tr>    <tr>        <th class=\"index_name level0\" >tariff</th>        <th class=\"blank\" ></th>        <th class=\"blank\" ></th>        <th class=\"blank\" ></th>        <th class=\"blank\" ></th>        <th class=\"blank\" ></th>    </tr></thead><tbody>\n",
       "                <tr>\n",
       "                        <th id=\"T_6886f676_927d_11ec_8050_02420a394f5alevel0_row0\" class=\"row_heading level0 row0\" >smart</th>\n",
       "                        <td id=\"T_6886f676_927d_11ec_8050_02420a394f5arow0_col0\" class=\"data row0 col0\" >2609.57</td>\n",
       "                        <td id=\"T_6886f676_927d_11ec_8050_02420a394f5arow0_col1\" class=\"data row0 col1\" >550.00</td>\n",
       "                        <td id=\"T_6886f676_927d_11ec_8050_02420a394f5arow0_col2\" class=\"data row0 col2\" >666.86</td>\n",
       "                        <td id=\"T_6886f676_927d_11ec_8050_02420a394f5arow0_col3\" class=\"data row0 col3\" >117896.37</td>\n",
       "                        <td id=\"T_6886f676_927d_11ec_8050_02420a394f5arow0_col4\" class=\"data row0 col4\" >343.36</td>\n",
       "            </tr>\n",
       "            <tr>\n",
       "                        <th id=\"T_6886f676_927d_11ec_8050_02420a394f5alevel0_row1\" class=\"row_heading level0 row1\" >ultra</th>\n",
       "                        <td id=\"T_6886f676_927d_11ec_8050_02420a394f5arow1_col0\" class=\"data row1 col0\" >2565.82</td>\n",
       "                        <td id=\"T_6886f676_927d_11ec_8050_02420a394f5arow1_col1\" class=\"data row1 col1\" >1950.00</td>\n",
       "                        <td id=\"T_6886f676_927d_11ec_8050_02420a394f5arow1_col2\" class=\"data row1 col2\" >1958.79</td>\n",
       "                        <td id=\"T_6886f676_927d_11ec_8050_02420a394f5arow1_col3\" class=\"data row1 col3\" >4172.42</td>\n",
       "                        <td id=\"T_6886f676_927d_11ec_8050_02420a394f5arow1_col4\" class=\"data row1 col4\" >64.59</td>\n",
       "            </tr>\n",
       "    </tbody></table>"
      ],
      "text/plain": [
       "<pandas.io.formats.style.Styler at 0x7fc128656b10>"
      ]
     },
     "execution_count": 55,
     "metadata": {},
     "output_type": "execute_result"
    }
   ],
   "source": [
    "good_group.groupby('tariff')\\\n",
    "  .agg({'total_cost':['max', 'median','mean','var','std']})\\\n",
    "  .style.format(\"{:.2f}\")"
   ]
  },
  {
   "cell_type": "markdown",
   "metadata": {},
   "source": [
    "Оплата по тарифу смарт в среднем в месяц 666,медиана-550.Оплата по тарифу ультра в среднем в месяц 1958,медиана-1950.\n",
    "Можно сделать вывод,что клиенты,которые пользуются смарт,чаще выходят за лимит и им приходится покупать доп.услуги.А клиенты ультра обычно укладываются в пакет услуг."
   ]
  },
  {
   "cell_type": "markdown",
   "metadata": {},
   "source": [
    "Создадим переменную с интересующими нас столбцами и посмотрим сколько минут разговора, сколько сообщений и какой объём интернет-трафика требуется пользователям каждого тарифа по месяцам."
   ]
  },
  {
   "cell_type": "code",
   "execution_count": 56,
   "metadata": {},
   "outputs": [
    {
     "data": {
      "text/html": [
       "<div>\n",
       "<style scoped>\n",
       "    .dataframe tbody tr th:only-of-type {\n",
       "        vertical-align: middle;\n",
       "    }\n",
       "\n",
       "    .dataframe tbody tr th {\n",
       "        vertical-align: top;\n",
       "    }\n",
       "\n",
       "    .dataframe thead th {\n",
       "        text-align: right;\n",
       "    }\n",
       "</style>\n",
       "<table border=\"1\" class=\"dataframe\">\n",
       "  <thead>\n",
       "    <tr style=\"text-align: right;\">\n",
       "      <th></th>\n",
       "      <th></th>\n",
       "      <th>duration_month</th>\n",
       "      <th>gb_month</th>\n",
       "      <th>messages_month</th>\n",
       "      <th>total_cost</th>\n",
       "    </tr>\n",
       "    <tr>\n",
       "      <th>tariff</th>\n",
       "      <th>month</th>\n",
       "      <th></th>\n",
       "      <th></th>\n",
       "      <th></th>\n",
       "      <th></th>\n",
       "    </tr>\n",
       "  </thead>\n",
       "  <tbody>\n",
       "    <tr>\n",
       "      <td rowspan=\"12\" valign=\"top\">smart</td>\n",
       "      <td>1</td>\n",
       "      <td>204.0</td>\n",
       "      <td>9.0</td>\n",
       "      <td>19.0</td>\n",
       "      <td>699.0</td>\n",
       "    </tr>\n",
       "    <tr>\n",
       "      <td>2</td>\n",
       "      <td>169.0</td>\n",
       "      <td>7.0</td>\n",
       "      <td>13.0</td>\n",
       "      <td>552.0</td>\n",
       "    </tr>\n",
       "    <tr>\n",
       "      <td>3</td>\n",
       "      <td>266.0</td>\n",
       "      <td>10.0</td>\n",
       "      <td>22.0</td>\n",
       "      <td>691.0</td>\n",
       "    </tr>\n",
       "    <tr>\n",
       "      <td>4</td>\n",
       "      <td>232.0</td>\n",
       "      <td>8.0</td>\n",
       "      <td>22.0</td>\n",
       "      <td>568.0</td>\n",
       "    </tr>\n",
       "    <tr>\n",
       "      <td>5</td>\n",
       "      <td>196.0</td>\n",
       "      <td>10.0</td>\n",
       "      <td>18.0</td>\n",
       "      <td>733.0</td>\n",
       "    </tr>\n",
       "    <tr>\n",
       "      <td>6</td>\n",
       "      <td>186.0</td>\n",
       "      <td>9.0</td>\n",
       "      <td>14.0</td>\n",
       "      <td>581.0</td>\n",
       "    </tr>\n",
       "    <tr>\n",
       "      <td>7</td>\n",
       "      <td>242.0</td>\n",
       "      <td>9.0</td>\n",
       "      <td>19.0</td>\n",
       "      <td>642.0</td>\n",
       "    </tr>\n",
       "    <tr>\n",
       "      <td>8</td>\n",
       "      <td>214.0</td>\n",
       "      <td>10.0</td>\n",
       "      <td>17.0</td>\n",
       "      <td>609.0</td>\n",
       "    </tr>\n",
       "    <tr>\n",
       "      <td>9</td>\n",
       "      <td>263.0</td>\n",
       "      <td>10.0</td>\n",
       "      <td>22.0</td>\n",
       "      <td>600.0</td>\n",
       "    </tr>\n",
       "    <tr>\n",
       "      <td>10</td>\n",
       "      <td>261.0</td>\n",
       "      <td>9.0</td>\n",
       "      <td>18.0</td>\n",
       "      <td>594.0</td>\n",
       "    </tr>\n",
       "    <tr>\n",
       "      <td>11</td>\n",
       "      <td>270.0</td>\n",
       "      <td>10.0</td>\n",
       "      <td>23.0</td>\n",
       "      <td>720.0</td>\n",
       "    </tr>\n",
       "    <tr>\n",
       "      <td>12</td>\n",
       "      <td>445.0</td>\n",
       "      <td>17.0</td>\n",
       "      <td>31.0</td>\n",
       "      <td>1061.0</td>\n",
       "    </tr>\n",
       "    <tr>\n",
       "      <td rowspan=\"12\" valign=\"top\">ultra</td>\n",
       "      <td>1</td>\n",
       "      <td>429.0</td>\n",
       "      <td>13.0</td>\n",
       "      <td>34.0</td>\n",
       "      <td>1950.0</td>\n",
       "    </tr>\n",
       "    <tr>\n",
       "      <td>2</td>\n",
       "      <td>125.0</td>\n",
       "      <td>8.0</td>\n",
       "      <td>13.0</td>\n",
       "      <td>1968.0</td>\n",
       "    </tr>\n",
       "    <tr>\n",
       "      <td>3</td>\n",
       "      <td>323.0</td>\n",
       "      <td>8.0</td>\n",
       "      <td>12.0</td>\n",
       "      <td>1950.0</td>\n",
       "    </tr>\n",
       "    <tr>\n",
       "      <td>4</td>\n",
       "      <td>294.0</td>\n",
       "      <td>12.0</td>\n",
       "      <td>23.0</td>\n",
       "      <td>1950.0</td>\n",
       "    </tr>\n",
       "    <tr>\n",
       "      <td>5</td>\n",
       "      <td>182.0</td>\n",
       "      <td>9.0</td>\n",
       "      <td>28.0</td>\n",
       "      <td>1950.0</td>\n",
       "    </tr>\n",
       "    <tr>\n",
       "      <td>6</td>\n",
       "      <td>219.0</td>\n",
       "      <td>11.0</td>\n",
       "      <td>30.0</td>\n",
       "      <td>1950.0</td>\n",
       "    </tr>\n",
       "    <tr>\n",
       "      <td>7</td>\n",
       "      <td>432.0</td>\n",
       "      <td>10.0</td>\n",
       "      <td>38.0</td>\n",
       "      <td>1950.0</td>\n",
       "    </tr>\n",
       "    <tr>\n",
       "      <td>8</td>\n",
       "      <td>245.0</td>\n",
       "      <td>8.0</td>\n",
       "      <td>37.0</td>\n",
       "      <td>1950.0</td>\n",
       "    </tr>\n",
       "    <tr>\n",
       "      <td>9</td>\n",
       "      <td>300.0</td>\n",
       "      <td>8.0</td>\n",
       "      <td>27.0</td>\n",
       "      <td>1950.0</td>\n",
       "    </tr>\n",
       "    <tr>\n",
       "      <td>10</td>\n",
       "      <td>358.0</td>\n",
       "      <td>20.0</td>\n",
       "      <td>56.0</td>\n",
       "      <td>1992.0</td>\n",
       "    </tr>\n",
       "    <tr>\n",
       "      <td>11</td>\n",
       "      <td>362.0</td>\n",
       "      <td>13.0</td>\n",
       "      <td>49.0</td>\n",
       "      <td>1992.0</td>\n",
       "    </tr>\n",
       "    <tr>\n",
       "      <td>12</td>\n",
       "      <td>694.0</td>\n",
       "      <td>24.0</td>\n",
       "      <td>68.0</td>\n",
       "      <td>1950.0</td>\n",
       "    </tr>\n",
       "  </tbody>\n",
       "</table>\n",
       "</div>"
      ],
      "text/plain": [
       "              duration_month  gb_month  messages_month  total_cost\n",
       "tariff month                                                      \n",
       "smart  1               204.0       9.0            19.0       699.0\n",
       "       2               169.0       7.0            13.0       552.0\n",
       "       3               266.0      10.0            22.0       691.0\n",
       "       4               232.0       8.0            22.0       568.0\n",
       "       5               196.0      10.0            18.0       733.0\n",
       "       6               186.0       9.0            14.0       581.0\n",
       "       7               242.0       9.0            19.0       642.0\n",
       "       8               214.0      10.0            17.0       609.0\n",
       "       9               263.0      10.0            22.0       600.0\n",
       "       10              261.0       9.0            18.0       594.0\n",
       "       11              270.0      10.0            23.0       720.0\n",
       "       12              445.0      17.0            31.0      1061.0\n",
       "ultra  1               429.0      13.0            34.0      1950.0\n",
       "       2               125.0       8.0            13.0      1968.0\n",
       "       3               323.0       8.0            12.0      1950.0\n",
       "       4               294.0      12.0            23.0      1950.0\n",
       "       5               182.0       9.0            28.0      1950.0\n",
       "       6               219.0      11.0            30.0      1950.0\n",
       "       7               432.0      10.0            38.0      1950.0\n",
       "       8               245.0       8.0            37.0      1950.0\n",
       "       9               300.0       8.0            27.0      1950.0\n",
       "       10              358.0      20.0            56.0      1992.0\n",
       "       11              362.0      13.0            49.0      1992.0\n",
       "       12              694.0      24.0            68.0      1950.0"
      ]
     },
     "execution_count": 56,
     "metadata": {},
     "output_type": "execute_result"
    }
   ],
   "source": [
    "values_month = ['duration_month', 'messages_month', 'gb_month', 'total_cost']\n",
    "tariff_month = good_group.pivot_table(\n",
    "    index=['tariff', 'month'],\n",
    "    values=values_month\n",
    ")\n",
    "tariff_month.apply(np.ceil)"
   ]
  },
  {
   "cell_type": "markdown",
   "metadata": {},
   "source": [
    "Видно,что под конец года показатели выше всего.Наверно это связано с новым годом:доделать все дела,где отметить,что купить и поздравления."
   ]
  },
  {
   "cell_type": "markdown",
   "metadata": {},
   "source": [
    "Посчитаем среднее количество звонков,интернета,сообщений и оплаты."
   ]
  },
  {
   "cell_type": "code",
   "execution_count": 57,
   "metadata": {},
   "outputs": [
    {
     "data": {
      "text/html": [
       "<div>\n",
       "<style scoped>\n",
       "    .dataframe tbody tr th:only-of-type {\n",
       "        vertical-align: middle;\n",
       "    }\n",
       "\n",
       "    .dataframe tbody tr th {\n",
       "        vertical-align: top;\n",
       "    }\n",
       "\n",
       "    .dataframe thead th {\n",
       "        text-align: right;\n",
       "    }\n",
       "</style>\n",
       "<table border=\"1\" class=\"dataframe\">\n",
       "  <thead>\n",
       "    <tr style=\"text-align: right;\">\n",
       "      <th></th>\n",
       "      <th>duration_month</th>\n",
       "      <th>gb_month</th>\n",
       "      <th>messages_month</th>\n",
       "      <th>total_cost</th>\n",
       "    </tr>\n",
       "    <tr>\n",
       "      <th>tariff</th>\n",
       "      <th></th>\n",
       "      <th></th>\n",
       "      <th></th>\n",
       "      <th></th>\n",
       "    </tr>\n",
       "  </thead>\n",
       "  <tbody>\n",
       "    <tr>\n",
       "      <td>smart</td>\n",
       "      <td>246.0</td>\n",
       "      <td>10.0</td>\n",
       "      <td>20.0</td>\n",
       "      <td>671.0</td>\n",
       "    </tr>\n",
       "    <tr>\n",
       "      <td>ultra</td>\n",
       "      <td>330.0</td>\n",
       "      <td>12.0</td>\n",
       "      <td>35.0</td>\n",
       "      <td>1959.0</td>\n",
       "    </tr>\n",
       "  </tbody>\n",
       "</table>\n",
       "</div>"
      ],
      "text/plain": [
       "        duration_month  gb_month  messages_month  total_cost\n",
       "tariff                                                      \n",
       "smart            246.0      10.0            20.0       671.0\n",
       "ultra            330.0      12.0            35.0      1959.0"
      ]
     },
     "execution_count": 57,
     "metadata": {},
     "output_type": "execute_result"
    }
   ],
   "source": [
    "tariff_usage = tariff_month.pivot_table(\n",
    "    index='tariff',\n",
    "    values=values_month\n",
    ")\n",
    "tariff_usage.apply(np.ceil)"
   ]
  },
  {
   "cell_type": "markdown",
   "metadata": {},
   "source": [
    "Дисперсия для звонков,сообщений,интернета и оплаты."
   ]
  },
  {
   "cell_type": "code",
   "execution_count": 58,
   "metadata": {},
   "outputs": [
    {
     "data": {
      "text/plain": [
       "duration_month      3580.0\n",
       "gb_month               3.0\n",
       "messages_month       109.0\n",
       "total_cost        829544.0\n",
       "dtype: float64"
      ]
     },
     "execution_count": 58,
     "metadata": {},
     "output_type": "execute_result"
    }
   ],
   "source": [
    "variance = np.var(tariff_usage, ddof=1)\n",
    "variance.apply(np.ceil)"
   ]
  },
  {
   "cell_type": "markdown",
   "metadata": {},
   "source": [
    "Стандартное отклонение для звонков,сообщений,интернета и оплаты."
   ]
  },
  {
   "cell_type": "code",
   "execution_count": 59,
   "metadata": {},
   "outputs": [
    {
     "data": {
      "text/plain": [
       "duration_month     60.0\n",
       "gb_month            2.0\n",
       "messages_month     11.0\n",
       "total_cost        911.0\n",
       "dtype: float64"
      ]
     },
     "execution_count": 59,
     "metadata": {},
     "output_type": "execute_result"
    }
   ],
   "source": [
    "standard = np.std(tariff_usage, ddof=1)\n",
    "standard.apply(np.ceil)"
   ]
  },
  {
   "cell_type": "code",
   "execution_count": 60,
   "metadata": {},
   "outputs": [],
   "source": [
    "smart = good_group.query(\"tariff=='smart'\").pivot_table(index='month',\\\n",
    "                                            values=['duration_month', 'messages_month', 'gb_month'],\\\n",
    "                                            aggfunc='mean').reset_index()"
   ]
  },
  {
   "cell_type": "code",
   "execution_count": 61,
   "metadata": {},
   "outputs": [
    {
     "name": "stdout",
     "output_type": "stream",
     "text": [
      "Дисперсия по звонкам в месяц:4699.01\n",
      "Дисперсия сообщений в месяц:19.54\n",
      "Дисперсия объёма трафика в месяц:5.80\n"
     ]
    }
   ],
   "source": [
    "print('Дисперсия по звонкам в месяц:{:.2f}'.format(np.var(smart['duration_month'])))\n",
    "print('Дисперсия сообщений в месяц:{:.2f}'.format(np.var(smart['messages_month'])))\n",
    "print('Дисперсия объёма трафика в месяц:{:.2f}'.format(np.var(smart['gb_month'])))"
   ]
  },
  {
   "cell_type": "code",
   "execution_count": 62,
   "metadata": {},
   "outputs": [
    {
     "name": "stdout",
     "output_type": "stream",
     "text": [
      "Стандартное отклонение по звонкам в месяц:68.55\n",
      "Стандартное отклонение сообщений в месяц:4.42\n",
      "Стандартное отклонение объёма трафика в месяц:2.41\n"
     ]
    }
   ],
   "source": [
    "print('Стандартное отклонение по звонкам в месяц:{:.2f}'.format(np.std(smart[('duration_month')])))\n",
    "print('Стандартное отклонение сообщений в месяц:{:.2f}'.format(np.std(smart[('messages_month')])))\n",
    "print('Стандартное отклонение объёма трафика в месяц:{:.2f}'.format(np.std(smart[('gb_month')])))"
   ]
  },
  {
   "cell_type": "code",
   "execution_count": 63,
   "metadata": {},
   "outputs": [],
   "source": [
    "ultra = good_group.query(\"tariff=='ultra'\").pivot_table(index='month',\\\n",
    "                                            values=['duration_month', 'messages_month', 'gb_month'],\\\n",
    "                                            aggfunc='mean').reset_index()"
   ]
  },
  {
   "cell_type": "code",
   "execution_count": 64,
   "metadata": {},
   "outputs": [
    {
     "name": "stdout",
     "output_type": "stream",
     "text": [
      "Дисперсия по звонкам в месяц:19969.32\n",
      "Дисперсия сообщений в месяц:256.18\n",
      "Дисперсия объёма трафика в месяц:23.97\n"
     ]
    }
   ],
   "source": [
    "print('Дисперсия по звонкам в месяц:{:.2f}'.format(np.var(ultra['duration_month'])))\n",
    "print('Дисперсия сообщений в месяц:{:.2f}'.format(np.var(ultra['messages_month'])))\n",
    "print('Дисперсия объёма трафика в месяц:{:.2f}'.format(np.var(ultra['gb_month'])))"
   ]
  },
  {
   "cell_type": "code",
   "execution_count": 65,
   "metadata": {},
   "outputs": [
    {
     "name": "stdout",
     "output_type": "stream",
     "text": [
      "Стандартное отклонение по звонкам в месяц:141.31\n",
      "Стандартное отклонение сообщений в месяц:16.01\n",
      "Стандартное отклонение объёма трафика в месяц:4.90\n"
     ]
    }
   ],
   "source": [
    "print('Стандартное отклонение по звонкам в месяц:{:.2f}'.format(np.std(ultra[('duration_month')])))\n",
    "print('Стандартное отклонение сообщений в месяц:{:.2f}'.format(np.std(ultra[('messages_month')])))\n",
    "print('Стандартное отклонение объёма трафика в месяц:{:.2f}'.format(np.std(ultra[('gb_month')])))"
   ]
  },
  {
   "cell_type": "code",
   "execution_count": 66,
   "metadata": {},
   "outputs": [],
   "source": [
    "smart = good_group.query(\"tariff == 'smart'\")\n",
    "ultra = good_group.query(\"tariff == 'ultra'\")"
   ]
  },
  {
   "cell_type": "code",
   "execution_count": 67,
   "metadata": {},
   "outputs": [
    {
     "data": {
      "text/plain": [
       "count    350.000000\n",
       "mean     244.140000\n",
       "std      161.277637\n",
       "min        0.000000\n",
       "25%      109.000000\n",
       "50%      222.500000\n",
       "75%      346.750000\n",
       "max      705.000000\n",
       "Name: duration_month, dtype: float64"
      ]
     },
     "execution_count": 67,
     "metadata": {},
     "output_type": "execute_result"
    }
   ],
   "source": [
    "smart['duration_month'].describe()"
   ]
  },
  {
   "cell_type": "code",
   "execution_count": 68,
   "metadata": {},
   "outputs": [
    {
     "data": {
      "text/plain": [
       "count     148.000000\n",
       "mean      301.202703\n",
       "std       267.696090\n",
       "min         0.000000\n",
       "25%        88.500000\n",
       "50%       248.000000\n",
       "75%       445.000000\n",
       "max      1186.000000\n",
       "Name: duration_month, dtype: float64"
      ]
     },
     "execution_count": 68,
     "metadata": {},
     "output_type": "execute_result"
    }
   ],
   "source": [
    "ultra['duration_month'].describe()"
   ]
  },
  {
   "cell_type": "code",
   "execution_count": 69,
   "metadata": {},
   "outputs": [
    {
     "data": {
      "image/png": "[encoded data removed]",
      "text/plain": [
       "<Figure size 432x288 with 1 Axes>"
      ]
     },
     "metadata": {
      "needs_background": "light"
     },
     "output_type": "display_data"
    }
   ],
   "source": [
    "plt.hist(smart['duration_month'], bins=50, label='smart')\n",
    "plt.hist(ultra['duration_month'], bins=50, range=(0, 1186), label='ultra', alpha=0.7)\n",
    "plt.legend(loc='upper right')\n",
    "plt.title('Минуты в тарифах')\n",
    "plt.xlabel('количество минут')\n",
    "plt.ylabel('количество пользователей')\n",
    "plt.show()"
   ]
  },
  {
   "cell_type": "code",
   "execution_count": 70,
   "metadata": {},
   "outputs": [
    {
     "data": {
      "image/png": "[encoded data removed]",
      "text/plain": [
       "<Figure size 432x288 with 1 Axes>"
      ]
     },
     "metadata": {
      "needs_background": "light"
     },
     "output_type": "display_data"
    }
   ],
   "source": [
    "plt.ylim(0,700) #построим диаграмму размаха\n",
    "smart.boxplot(column='duration_month')\n",
    "plt.title('Смарт минуты')\n",
    "plt.ylabel('минуты')\n",
    "plt.show()"
   ]
  },
  {
   "cell_type": "code",
   "execution_count": 71,
   "metadata": {},
   "outputs": [
    {
     "data": {
      "image/png": "[encoded data removed]",
      "text/plain": [
       "<Figure size 432x288 with 1 Axes>"
      ]
     },
     "metadata": {
      "needs_background": "light"
     },
     "output_type": "display_data"
    }
   ],
   "source": [
    "plt.ylim(0,1200) #построим диаграмму размаха\n",
    "ultra.boxplot(column='duration_month')\n",
    "plt.title('Ультра минуты')\n",
    "plt.ylabel('минуты')\n",
    "plt.show()"
   ]
  },
  {
   "cell_type": "markdown",
   "metadata": {},
   "source": [
    "Построили гистограмму и диаграммы звонков.Лимит у тарифа смарт-500 у ультра-3000 минут.Видим,что у смарт,показатели есть и после 500,люди доплачивают за минуты.У ультра не выговаривают все минуты.Пик у смарт от 100-350 минут,у ультра от 100-450 минут.Среднее смарт-244,ультра-301.Из-за того,что у ультра лимит больше,то и минуты размазаны по графику."
   ]
  },
  {
   "cell_type": "code",
   "execution_count": 72,
   "metadata": {},
   "outputs": [
    {
     "data": {
      "text/plain": [
       "count    350.000000\n",
       "mean      19.334286\n",
       "std       20.791080\n",
       "min        0.000000\n",
       "25%        3.000000\n",
       "50%       13.000000\n",
       "75%       29.000000\n",
       "max      103.000000\n",
       "Name: messages_month, dtype: float64"
      ]
     },
     "execution_count": 72,
     "metadata": {},
     "output_type": "execute_result"
    }
   ],
   "source": [
    "smart['messages_month'].describe()"
   ]
  },
  {
   "cell_type": "code",
   "execution_count": 73,
   "metadata": {},
   "outputs": [
    {
     "data": {
      "text/plain": [
       "count    148.000000\n",
       "mean      31.864865\n",
       "std       37.016387\n",
       "min        0.000000\n",
       "25%        4.000000\n",
       "50%       20.000000\n",
       "75%       49.250000\n",
       "max      223.000000\n",
       "Name: messages_month, dtype: float64"
      ]
     },
     "execution_count": 73,
     "metadata": {},
     "output_type": "execute_result"
    }
   ],
   "source": [
    "ultra['messages_month'].describe()"
   ]
  },
  {
   "cell_type": "code",
   "execution_count": 74,
   "metadata": {},
   "outputs": [
    {
     "data": {
      "image/png": "[encoded data removed]",
      "text/plain": [
       "<Figure size 432x288 with 1 Axes>"
      ]
     },
     "metadata": {
      "needs_background": "light"
     },
     "output_type": "display_data"
    }
   ],
   "source": [
    "plt.hist(smart['messages_month'], bins=10, label='smart')\n",
    "plt.hist(ultra['messages_month'], bins=10, range=(0, 223), label='ultra', alpha=0.7)\n",
    "plt.legend(loc='upper right')\n",
    "plt.title('Сообщения в тарифах')\n",
    "plt.xlabel('количество сообщений')\n",
    "plt.ylabel('количество пользователей')\n",
    "plt.show()"
   ]
  },
  {
   "cell_type": "code",
   "execution_count": 75,
   "metadata": {},
   "outputs": [
    {
     "data": {
      "image/png": "[encoded data removed]",
      "text/plain": [
       "<Figure size 432x288 with 1 Axes>"
      ]
     },
     "metadata": {
      "needs_background": "light"
     },
     "output_type": "display_data"
    }
   ],
   "source": [
    "plt.ylim(0,103) #построим диаграмму размаха\n",
    "smart.boxplot(column='messages_month')\n",
    "plt.title('Смарт сообщения')\n",
    "plt.ylabel('сообщения')\n",
    "plt.show()"
   ]
  },
  {
   "cell_type": "code",
   "execution_count": 76,
   "metadata": {},
   "outputs": [
    {
     "data": {
      "image/png": "[encoded data removed]",
      "text/plain": [
       "<Figure size 432x288 with 1 Axes>"
      ]
     },
     "metadata": {
      "needs_background": "light"
     },
     "output_type": "display_data"
    }
   ],
   "source": [
    "plt.ylim(0,223) #построим диаграмму размаха\n",
    "ultra.boxplot(column='messages_month')\n",
    "plt.title('ультра сообщения')\n",
    "plt.ylabel('сообщения')\n",
    "plt.show()"
   ]
  },
  {
   "cell_type": "markdown",
   "metadata": {},
   "source": [
    "Построили гистограмму и диаграммы сообщений.Лимит у смарта-50,у ультра-1000 сообщений.И здесь видно,что показатели у смарт выходят за лимит,значит люди доплачивают за услугу.У ультра максимум 223 из 1000 лимитных сообщений.Пик приходится у смарт от 2-30,ультра от 3-50.Среднее смарт-19,ультра-31.Выбросы видны у смарт после 65,у ультра после 117."
   ]
  },
  {
   "cell_type": "code",
   "execution_count": 77,
   "metadata": {},
   "outputs": [
    {
     "data": {
      "text/plain": [
       "count    350.000000\n",
       "mean       9.236571\n",
       "std        5.661254\n",
       "min        0.000000\n",
       "25%        4.776611\n",
       "50%        8.595703\n",
       "75%       12.954346\n",
       "max       25.297852\n",
       "Name: gb_month, dtype: float64"
      ]
     },
     "execution_count": 77,
     "metadata": {},
     "output_type": "execute_result"
    }
   ],
   "source": [
    "smart['gb_month'].describe()"
   ]
  },
  {
   "cell_type": "code",
   "execution_count": 78,
   "metadata": {},
   "outputs": [
    {
     "data": {
      "text/plain": [
       "count    148.000000\n",
       "mean      10.932386\n",
       "std        8.303515\n",
       "min        0.000000\n",
       "25%        3.966309\n",
       "50%        9.374512\n",
       "75%       16.048096\n",
       "max       34.105469\n",
       "Name: gb_month, dtype: float64"
      ]
     },
     "execution_count": 78,
     "metadata": {},
     "output_type": "execute_result"
    }
   ],
   "source": [
    "ultra['gb_month'].describe()"
   ]
  },
  {
   "cell_type": "code",
   "execution_count": 79,
   "metadata": {},
   "outputs": [
    {
     "data": {
      "image/png": "[encoded data removed]",
      "text/plain": [
       "<Figure size 432x288 with 1 Axes>"
      ]
     },
     "metadata": {
      "needs_background": "light"
     },
     "output_type": "display_data"
    }
   ],
   "source": [
    "plt.hist(smart['gb_month'], bins=30, label='smart')\n",
    "plt.hist(ultra['gb_month'], bins=30, range=(0, 34), label='ultra', alpha=0.7)\n",
    "plt.legend(loc='upper right')\n",
    "plt.title('Интернет в тарифах')\n",
    "plt.xlabel('количество гигабайт')\n",
    "plt.ylabel('количество пользователей')\n",
    "plt.show()"
   ]
  },
  {
   "cell_type": "code",
   "execution_count": 80,
   "metadata": {},
   "outputs": [
    {
     "data": {
      "image/png": "[encoded data removed]",
      "text/plain": [
       "<Figure size 432x288 with 1 Axes>"
      ]
     },
     "metadata": {
      "needs_background": "light"
     },
     "output_type": "display_data"
    }
   ],
   "source": [
    "plt.ylim(0,25) #построим диаграмму размаха\n",
    "smart.boxplot(column='gb_month')\n",
    "plt.title('Смарт интернет')\n",
    "plt.ylabel('гигабайты')\n",
    "plt.show()"
   ]
  },
  {
   "cell_type": "code",
   "execution_count": 81,
   "metadata": {},
   "outputs": [
    {
     "data": {
      "image/png": "[encoded data removed]",
      "text/plain": [
       "<Figure size 432x288 with 1 Axes>"
      ]
     },
     "metadata": {
      "needs_background": "light"
     },
     "output_type": "display_data"
    }
   ],
   "source": [
    "plt.ylim(0,34) #построим диаграмму размаха\n",
    "ultra.boxplot(column='gb_month')\n",
    "plt.title('ультра интернет')\n",
    "plt.ylabel('гигабайты')\n",
    "plt.show()"
   ]
  },
  {
   "cell_type": "markdown",
   "metadata": {},
   "source": [
    "Построили гистограмму и диаграммы интернета.Лимит у смарта-15 Гб,у ультра-30 Гб.Видим,что показатели у смарта превышают 15 Гб и их не мало,людям не хватает гигабайтов.У ультра тоже выходят за рамки тарифа,но ненамного.Пик у смарта от 5-13 Гб,у ультра от 4-16 Гб.Среднее смарт-9,ультра-10."
   ]
  },
  {
   "cell_type": "markdown",
   "metadata": {},
   "source": [
    "Посчитает среднее значение для Москвы и других регионов.Сначала сгруппируем и посчитаем по месяцам."
   ]
  },
  {
   "cell_type": "code",
   "execution_count": 82,
   "metadata": {
    "scrolled": true
   },
   "outputs": [
    {
     "data": {
      "text/html": [
       "<div>\n",
       "<style scoped>\n",
       "    .dataframe tbody tr th:only-of-type {\n",
       "        vertical-align: middle;\n",
       "    }\n",
       "\n",
       "    .dataframe tbody tr th {\n",
       "        vertical-align: top;\n",
       "    }\n",
       "\n",
       "    .dataframe thead th {\n",
       "        text-align: right;\n",
       "    }\n",
       "</style>\n",
       "<table border=\"1\" class=\"dataframe\">\n",
       "  <thead>\n",
       "    <tr style=\"text-align: right;\">\n",
       "      <th></th>\n",
       "      <th></th>\n",
       "      <th>duration_month</th>\n",
       "      <th>gb_month</th>\n",
       "      <th>messages_month</th>\n",
       "      <th>total_cost</th>\n",
       "    </tr>\n",
       "    <tr>\n",
       "      <th>city</th>\n",
       "      <th>month</th>\n",
       "      <th></th>\n",
       "      <th></th>\n",
       "      <th></th>\n",
       "      <th></th>\n",
       "    </tr>\n",
       "  </thead>\n",
       "  <tbody>\n",
       "    <tr>\n",
       "      <td rowspan=\"12\" valign=\"top\">Другой регион</td>\n",
       "      <td>1</td>\n",
       "      <td>217.285714</td>\n",
       "      <td>7.772182</td>\n",
       "      <td>20.200000</td>\n",
       "      <td>846.247991</td>\n",
       "    </tr>\n",
       "    <tr>\n",
       "      <td>2</td>\n",
       "      <td>145.424242</td>\n",
       "      <td>6.600468</td>\n",
       "      <td>13.727273</td>\n",
       "      <td>1152.565992</td>\n",
       "    </tr>\n",
       "    <tr>\n",
       "      <td>3</td>\n",
       "      <td>276.538462</td>\n",
       "      <td>8.698468</td>\n",
       "      <td>16.269231</td>\n",
       "      <td>1104.802284</td>\n",
       "    </tr>\n",
       "    <tr>\n",
       "      <td>4</td>\n",
       "      <td>256.409091</td>\n",
       "      <td>8.411532</td>\n",
       "      <td>20.704545</td>\n",
       "      <td>1009.038175</td>\n",
       "    </tr>\n",
       "    <tr>\n",
       "      <td>5</td>\n",
       "      <td>204.870968</td>\n",
       "      <td>10.197518</td>\n",
       "      <td>22.612903</td>\n",
       "      <td>1216.732863</td>\n",
       "    </tr>\n",
       "    <tr>\n",
       "      <td>6</td>\n",
       "      <td>202.781250</td>\n",
       "      <td>9.221893</td>\n",
       "      <td>21.343750</td>\n",
       "      <td>1094.770996</td>\n",
       "    </tr>\n",
       "    <tr>\n",
       "      <td>7</td>\n",
       "      <td>282.485714</td>\n",
       "      <td>9.401088</td>\n",
       "      <td>21.885714</td>\n",
       "      <td>886.544643</td>\n",
       "    </tr>\n",
       "    <tr>\n",
       "      <td>8</td>\n",
       "      <td>191.250000</td>\n",
       "      <td>8.747070</td>\n",
       "      <td>22.181818</td>\n",
       "      <td>977.387429</td>\n",
       "    </tr>\n",
       "    <tr>\n",
       "      <td>9</td>\n",
       "      <td>226.464286</td>\n",
       "      <td>8.196777</td>\n",
       "      <td>20.571429</td>\n",
       "      <td>837.626674</td>\n",
       "    </tr>\n",
       "    <tr>\n",
       "      <td>10</td>\n",
       "      <td>284.312500</td>\n",
       "      <td>10.605682</td>\n",
       "      <td>27.531250</td>\n",
       "      <td>936.261475</td>\n",
       "    </tr>\n",
       "    <tr>\n",
       "      <td>11</td>\n",
       "      <td>271.870968</td>\n",
       "      <td>10.275139</td>\n",
       "      <td>30.935484</td>\n",
       "      <td>1248.838206</td>\n",
       "    </tr>\n",
       "    <tr>\n",
       "      <td>12</td>\n",
       "      <td>506.535714</td>\n",
       "      <td>18.743164</td>\n",
       "      <td>38.678571</td>\n",
       "      <td>1335.142299</td>\n",
       "    </tr>\n",
       "    <tr>\n",
       "      <td rowspan=\"12\" valign=\"top\">Москва</td>\n",
       "      <td>1</td>\n",
       "      <td>397.375000</td>\n",
       "      <td>15.827393</td>\n",
       "      <td>27.125000</td>\n",
       "      <td>1458.154297</td>\n",
       "    </tr>\n",
       "    <tr>\n",
       "      <td>2</td>\n",
       "      <td>185.000000</td>\n",
       "      <td>9.365072</td>\n",
       "      <td>6.666667</td>\n",
       "      <td>788.769531</td>\n",
       "    </tr>\n",
       "    <tr>\n",
       "      <td>3</td>\n",
       "      <td>341.666667</td>\n",
       "      <td>8.670410</td>\n",
       "      <td>20.500000</td>\n",
       "      <td>1622.582031</td>\n",
       "    </tr>\n",
       "    <tr>\n",
       "      <td>4</td>\n",
       "      <td>232.333333</td>\n",
       "      <td>12.010308</td>\n",
       "      <td>26.666667</td>\n",
       "      <td>1172.222222</td>\n",
       "    </tr>\n",
       "    <tr>\n",
       "      <td>5</td>\n",
       "      <td>148.500000</td>\n",
       "      <td>5.727246</td>\n",
       "      <td>14.500000</td>\n",
       "      <td>693.000000</td>\n",
       "    </tr>\n",
       "    <tr>\n",
       "      <td>6</td>\n",
       "      <td>187.875000</td>\n",
       "      <td>9.085083</td>\n",
       "      <td>16.500000</td>\n",
       "      <td>1433.471680</td>\n",
       "    </tr>\n",
       "    <tr>\n",
       "      <td>7</td>\n",
       "      <td>228.000000</td>\n",
       "      <td>6.605143</td>\n",
       "      <td>18.444444</td>\n",
       "      <td>705.555556</td>\n",
       "    </tr>\n",
       "    <tr>\n",
       "      <td>8</td>\n",
       "      <td>457.333333</td>\n",
       "      <td>8.539062</td>\n",
       "      <td>30.666667</td>\n",
       "      <td>1483.333333</td>\n",
       "    </tr>\n",
       "    <tr>\n",
       "      <td>9</td>\n",
       "      <td>453.000000</td>\n",
       "      <td>11.005441</td>\n",
       "      <td>30.142857</td>\n",
       "      <td>1383.816964</td>\n",
       "    </tr>\n",
       "    <tr>\n",
       "      <td>10</td>\n",
       "      <td>277.153846</td>\n",
       "      <td>11.168945</td>\n",
       "      <td>23.307692</td>\n",
       "      <td>825.467849</td>\n",
       "    </tr>\n",
       "    <tr>\n",
       "      <td>11</td>\n",
       "      <td>389.727273</td>\n",
       "      <td>11.764471</td>\n",
       "      <td>35.000000</td>\n",
       "      <td>962.777699</td>\n",
       "    </tr>\n",
       "    <tr>\n",
       "      <td>12</td>\n",
       "      <td>447.333333</td>\n",
       "      <td>15.353190</td>\n",
       "      <td>36.333333</td>\n",
       "      <td>815.085938</td>\n",
       "    </tr>\n",
       "  </tbody>\n",
       "</table>\n",
       "</div>"
      ],
      "text/plain": [
       "                     duration_month   gb_month  messages_month   total_cost\n",
       "city          month                                                        \n",
       "Другой регион 1          217.285714   7.772182       20.200000   846.247991\n",
       "              2          145.424242   6.600468       13.727273  1152.565992\n",
       "              3          276.538462   8.698468       16.269231  1104.802284\n",
       "              4          256.409091   8.411532       20.704545  1009.038175\n",
       "              5          204.870968  10.197518       22.612903  1216.732863\n",
       "              6          202.781250   9.221893       21.343750  1094.770996\n",
       "              7          282.485714   9.401088       21.885714   886.544643\n",
       "              8          191.250000   8.747070       22.181818   977.387429\n",
       "              9          226.464286   8.196777       20.571429   837.626674\n",
       "              10         284.312500  10.605682       27.531250   936.261475\n",
       "              11         271.870968  10.275139       30.935484  1248.838206\n",
       "              12         506.535714  18.743164       38.678571  1335.142299\n",
       "Москва        1          397.375000  15.827393       27.125000  1458.154297\n",
       "              2          185.000000   9.365072        6.666667   788.769531\n",
       "              3          341.666667   8.670410       20.500000  1622.582031\n",
       "              4          232.333333  12.010308       26.666667  1172.222222\n",
       "              5          148.500000   5.727246       14.500000   693.000000\n",
       "              6          187.875000   9.085083       16.500000  1433.471680\n",
       "              7          228.000000   6.605143       18.444444   705.555556\n",
       "              8          457.333333   8.539062       30.666667  1483.333333\n",
       "              9          453.000000  11.005441       30.142857  1383.816964\n",
       "              10         277.153846  11.168945       23.307692   825.467849\n",
       "              11         389.727273  11.764471       35.000000   962.777699\n",
       "              12         447.333333  15.353190       36.333333   815.085938"
      ]
     },
     "execution_count": 82,
     "metadata": {},
     "output_type": "execute_result"
    }
   ],
   "source": [
    "moscow = good_group['city'] == 'Москва'\n",
    "good_group['city'].where(moscow, 'Другой регион', inplace=True)\n",
    "\n",
    "city_month = good_group.pivot_table(\n",
    "    index=['city', 'month'],\n",
    "    values=values_month\n",
    ")\n",
    "city_month"
   ]
  },
  {
   "cell_type": "markdown",
   "metadata": {},
   "source": [
    "Конец года опять в рекордах,что в Москве,что по регионам."
   ]
  },
  {
   "cell_type": "code",
   "execution_count": 83,
   "metadata": {},
   "outputs": [
    {
     "data": {
      "text/html": [
       "<div>\n",
       "<style scoped>\n",
       "    .dataframe tbody tr th:only-of-type {\n",
       "        vertical-align: middle;\n",
       "    }\n",
       "\n",
       "    .dataframe tbody tr th {\n",
       "        vertical-align: top;\n",
       "    }\n",
       "\n",
       "    .dataframe thead th {\n",
       "        text-align: right;\n",
       "    }\n",
       "</style>\n",
       "<table border=\"1\" class=\"dataframe\">\n",
       "  <thead>\n",
       "    <tr style=\"text-align: right;\">\n",
       "      <th></th>\n",
       "      <th>duration_month</th>\n",
       "      <th>gb_month</th>\n",
       "      <th>messages_month</th>\n",
       "      <th>total_cost</th>\n",
       "    </tr>\n",
       "    <tr>\n",
       "      <th>city</th>\n",
       "      <th></th>\n",
       "      <th></th>\n",
       "      <th></th>\n",
       "      <th></th>\n",
       "    </tr>\n",
       "  </thead>\n",
       "  <tbody>\n",
       "    <tr>\n",
       "      <td>Другой регион</td>\n",
       "      <td>255.519076</td>\n",
       "      <td>9.739248</td>\n",
       "      <td>23.053497</td>\n",
       "      <td>1053.829919</td>\n",
       "    </tr>\n",
       "    <tr>\n",
       "      <td>Москва</td>\n",
       "      <td>312.108149</td>\n",
       "      <td>10.426814</td>\n",
       "      <td>23.821111</td>\n",
       "      <td>1112.019758</td>\n",
       "    </tr>\n",
       "  </tbody>\n",
       "</table>\n",
       "</div>"
      ],
      "text/plain": [
       "               duration_month   gb_month  messages_month   total_cost\n",
       "city                                                                 \n",
       "Другой регион      255.519076   9.739248       23.053497  1053.829919\n",
       "Москва             312.108149  10.426814       23.821111  1112.019758"
      ]
     },
     "execution_count": 83,
     "metadata": {},
     "output_type": "execute_result"
    }
   ],
   "source": [
    "city_group = city_month.pivot_table(\n",
    "    index='city',\n",
    "    values=values_month\n",
    ")\n",
    "city_group"
   ]
  },
  {
   "cell_type": "markdown",
   "metadata": {},
   "source": [
    "## Проверка гипотезы."
   ]
  },
  {
   "cell_type": "markdown",
   "metadata": {},
   "source": [
    "- средняя выручка пользователей тарифов «Ультра» и «Смарт» различаются."
   ]
  },
  {
   "cell_type": "markdown",
   "metadata": {},
   "source": [
    "H0(нуливая гипотеза) - средняя выручка пользователей тарифов ультра и смарт не различается.\n",
    "H1(альтернотивная гипотеза) - средняя выручка пользователей тарифов различается.\n",
    "Пороговое значение alpha (критический уровень статистической значимости) зададим 5%.Признаю 5%-ю вероятность слишком малой и на этом основании отвергаете нулевую гипотезу."
   ]
  },
  {
   "cell_type": "code",
   "execution_count": 84,
   "metadata": {},
   "outputs": [
    {
     "name": "stdout",
     "output_type": "stream",
     "text": [
      "p-значение:  8.2591638139431e-179\n",
      "Отвергаем нулевую гипотезу\n"
     ]
    }
   ],
   "source": [
    "alpha = 0.05\n",
    "\n",
    "results = st.ttest_ind( smart['total_cost'], \n",
    "    ultra['total_cost'])\n",
    "\n",
    "print('p-значение: ', results.pvalue)\n",
    "\n",
    "if results.pvalue < alpha:\n",
    "    print(\"Отвергаем нулевую гипотезу\")\n",
    "else:\n",
    "    print(\"Не получилось отвергнуть нулевую гипотезу\")"
   ]
  },
  {
   "cell_type": "markdown",
   "metadata": {},
   "source": [
    "Гипотеза H1 подтвердилась.Средняя выручка между тарифами  различается и это не случайность."
   ]
  },
  {
   "cell_type": "markdown",
   "metadata": {},
   "source": [
    "- средняя выручка пользователи из Москвы отличается от выручки пользователей из других регионов."
   ]
  },
  {
   "cell_type": "markdown",
   "metadata": {},
   "source": [
    "H0(нуливая гипотеза) - средняя выручка пользователей тарифов из Москвы и других регионов не различается.\n",
    "H1(альтернативная гипотеза) - средняя выручка пользователей тарифов различается.\n",
    "Пороговое значение alpha (критический уровень статистической значимости) зададим 5%.Признаю 5%-ю вероятность слишком малой и на этом основании отвергаете нулевую гипотезу."
   ]
  },
  {
   "cell_type": "code",
   "execution_count": 85,
   "metadata": {},
   "outputs": [
    {
     "name": "stdout",
     "output_type": "stream",
     "text": [
      "p-значение: 0.7079003256801579\n",
      "Не получилось отвергнуть нулевую гипотезу\n"
     ]
    }
   ],
   "source": [
    "alpha = 0.05\n",
    "\n",
    "moscow = good_group.query(\"city == 'Москва'\")['total_cost']\n",
    "other_region = good_group.query(\"city == 'Другой регион'\")['total_cost']\n",
    "\n",
    "results = st.ttest_ind(moscow, other_region)\n",
    "\n",
    "print('p-значение:', results.pvalue)\n",
    "\n",
    "if (results.pvalue < alpha):\n",
    "    print(\"Отвергаем нулевую гипотезу\")\n",
    "else:\n",
    "    print(\"Не получилось отвергнуть нулевую гипотезу\")"
   ]
  },
  {
   "cell_type": "code",
   "execution_count": 86,
   "metadata": {},
   "outputs": [
    {
     "name": "stdout",
     "output_type": "stream",
     "text": [
      "Дисперсия по Москве: 436959.0060519805\n",
      "Дисперсия по другим регионам: 431204.07766063133\n"
     ]
    }
   ],
   "source": [
    "print('Дисперсия по Москве:',np.var(moscow))\n",
    "print('Дисперсия по другим регионам:',np.var(other_region))"
   ]
  },
  {
   "cell_type": "markdown",
   "metadata": {},
   "source": [
    "Гипотеза H0 подтвердилась.Вероятность получить одинаковую среднюю выручку между Москвой и другими регионами равна 70%.Это слишком большая вероятность,значит гипотеза не подтвердилась и средняя выручка пользователей из Москвы не отличается от средней выручки пользователей из других регионов."
   ]
  },
  {
   "cell_type": "markdown",
   "metadata": {},
   "source": [
    "## Общий вывод."
   ]
  },
  {
   "cell_type": "markdown",
   "metadata": {},
   "source": [
    "Средние показатели по тарифам в месяц:\n",
    "\n",
    "1. Тариф «Смарт»\n",
    "\n",
    "- 666₽ средняя оплата в месяц(из них 500₽ абоненская плата)\n",
    "- 244 минуты в среднем в месяц(500 в тарифе)\n",
    "- 9 Гб в среднем в месяц(15 Гб в тарифе)\n",
    "- 19 сообщений в среднем в месяц(50 в тарифе)\n",
    "\n",
    "2. Тариф «Ультра»\n",
    "\n",
    "- 1958₽ средняя оплата в месяц(из них 1950₽ абоненская плата)\n",
    "- 301 минуты в среднем в месяц(3000 в тарифе)\n",
    "- 10 Гб в среднем в месяц(30 Гб в тарифе)\n",
    "- 31 сообщений в среднем в месяц(1000 в тарифе)\n",
    "\n",
    "1. В тарифе «Смарт»\n",
    "- по звонкам:\n",
    "а)пик 100-350 минут\n",
    "б)есть звонки больше 500 минут\n",
    "- по сообщениям:\n",
    "а)пик 2-30 сообщения\n",
    "б)есть сообщения больше 50\n",
    "- по интернету:\n",
    "а)пик 5-13\n",
    "б)есть больше 15 Гб\n",
    "\n",
    "2. В тарифе «Ультра»\n",
    "- по звонкам:\n",
    "а)пик 100-450 минут\n",
    "б)до 1000 минут с трудом\n",
    "- по сообщениям:\n",
    "а)пик 3-50 сообщения\n",
    "б)до 117 сообщений с трудом\n",
    "- по интернету:\n",
    "а)пик 4-16\n",
    "б)есть больше 30 Гб\n",
    "\n",
    "Тарифом «Смарт» пользуются чаще,но на нем чаще выходят из пакета услуг,что приводит к дополнительным тратам.Тарифом «Ультра» пользуются реже,но и из пакета услуг выходят только по интернету,следоватедбно меньше доплачивают.Показатели по тарифам,что в Москве,что в других регионах особо не отличаются.Единственное,что в Москве побольше любят поговорить.Виден рост потребления под конец года,скорей всего это связано,что нужно:доделать все дела,где отметить,что купить и поздравления.\n",
    "Делаю выводы,что для клиента выгодней пользоваться тарифом «Смарт»,так как стоит значительно меньше денег,а за пределы пакета сильно не выходят,исключение интернет,но и на ультра тоже выходят.Для оператора выгодней тариф «Ультра»,так как его цена значительно выше,хотя и доплачивать чаще приходится клиентам на тарифе смарт."
   ]
  }
 ],
 "metadata": {
  "ExecuteTimeLog": [
   {
    "duration": 1391,
    "start_time": "2021-08-26T15:48:59.813Z"
   },
   {
    "duration": 5,
    "start_time": "2021-08-26T16:09:16.723Z"
   },
   {
    "duration": 635,
    "start_time": "2021-08-26T16:19:56.840Z"
   },
   {
    "duration": 14,
    "start_time": "2021-08-26T16:48:08.481Z"
   },
   {
    "duration": 23,
    "start_time": "2021-08-26T16:49:52.658Z"
   },
   {
    "duration": 14,
    "start_time": "2021-08-26T16:50:55.088Z"
   },
   {
    "duration": 40,
    "start_time": "2021-08-26T16:52:46.341Z"
   },
   {
    "duration": 10,
    "start_time": "2021-08-26T16:54:44.937Z"
   },
   {
    "duration": 28,
    "start_time": "2021-08-26T16:54:45.619Z"
   },
   {
    "duration": 20,
    "start_time": "2021-08-26T16:56:47.119Z"
   },
   {
    "duration": 9,
    "start_time": "2021-08-26T16:57:00.039Z"
   },
   {
    "duration": 8,
    "start_time": "2021-08-26T16:57:03.467Z"
   },
   {
    "duration": 20,
    "start_time": "2021-08-26T17:03:21.916Z"
   },
   {
    "duration": 21,
    "start_time": "2021-08-26T17:03:28.671Z"
   },
   {
    "duration": 27,
    "start_time": "2021-08-26T17:03:30.980Z"
   },
   {
    "duration": 27,
    "start_time": "2021-08-26T17:03:33.628Z"
   },
   {
    "duration": 242,
    "start_time": "2021-08-26T17:03:41.490Z"
   },
   {
    "duration": 123,
    "start_time": "2021-08-26T17:03:43.228Z"
   },
   {
    "duration": 42,
    "start_time": "2021-08-26T17:03:44.108Z"
   },
   {
    "duration": 19,
    "start_time": "2021-08-26T17:08:48.216Z"
   },
   {
    "duration": 19,
    "start_time": "2021-08-26T17:13:57.678Z"
   },
   {
    "duration": 23,
    "start_time": "2021-08-26T17:14:17.454Z"
   },
   {
    "duration": 21,
    "start_time": "2021-08-26T17:15:29.030Z"
   },
   {
    "duration": 174,
    "start_time": "2021-08-26T17:15:41.167Z"
   },
   {
    "duration": 91,
    "start_time": "2021-08-26T17:16:07.866Z"
   },
   {
    "duration": 427,
    "start_time": "2021-08-26T17:16:09.058Z"
   },
   {
    "duration": 44,
    "start_time": "2021-08-26T17:16:19.791Z"
   },
   {
    "duration": 16,
    "start_time": "2021-08-26T17:26:37.836Z"
   },
   {
    "duration": 16,
    "start_time": "2021-08-26T17:26:53.723Z"
   },
   {
    "duration": 23,
    "start_time": "2021-08-26T17:26:55.172Z"
   },
   {
    "duration": 32,
    "start_time": "2021-08-26T17:27:55.177Z"
   },
   {
    "duration": 152,
    "start_time": "2021-08-26T17:28:01.604Z"
   },
   {
    "duration": 82,
    "start_time": "2021-08-26T17:28:13.484Z"
   },
   {
    "duration": 41,
    "start_time": "2021-08-26T17:28:17.652Z"
   },
   {
    "duration": 1378,
    "start_time": "2021-08-26T17:37:58.058Z"
   },
   {
    "duration": 1547,
    "start_time": "2021-08-26T17:38:50.934Z"
   },
   {
    "duration": 4,
    "start_time": "2021-08-26T17:40:11.420Z"
   },
   {
    "duration": 584,
    "start_time": "2021-08-26T17:40:11.818Z"
   },
   {
    "duration": 23,
    "start_time": "2021-08-26T17:40:12.405Z"
   },
   {
    "duration": 30,
    "start_time": "2021-08-26T17:40:12.431Z"
   },
   {
    "duration": 35,
    "start_time": "2021-08-26T17:40:12.574Z"
   },
   {
    "duration": 267,
    "start_time": "2021-08-26T17:40:12.791Z"
   },
   {
    "duration": 141,
    "start_time": "2021-08-26T17:40:13.061Z"
   },
   {
    "duration": 38,
    "start_time": "2021-08-26T17:40:13.205Z"
   },
   {
    "duration": 19,
    "start_time": "2021-08-26T17:40:13.630Z"
   },
   {
    "duration": 24,
    "start_time": "2021-08-26T17:40:13.850Z"
   },
   {
    "duration": 22,
    "start_time": "2021-08-26T17:40:14.075Z"
   },
   {
    "duration": 169,
    "start_time": "2021-08-26T17:40:14.291Z"
   },
   {
    "duration": 99,
    "start_time": "2021-08-26T17:40:14.518Z"
   },
   {
    "duration": 50,
    "start_time": "2021-08-26T17:40:14.750Z"
   },
   {
    "duration": 17,
    "start_time": "2021-08-26T17:40:15.171Z"
   },
   {
    "duration": 17,
    "start_time": "2021-08-26T17:40:15.415Z"
   },
   {
    "duration": 19,
    "start_time": "2021-08-26T17:40:15.930Z"
   },
   {
    "duration": 112,
    "start_time": "2021-08-26T17:40:15.952Z"
   },
   {
    "duration": 51,
    "start_time": "2021-08-26T17:40:16.126Z"
   },
   {
    "duration": 25,
    "start_time": "2021-08-26T17:40:16.303Z"
   },
   {
    "duration": 1660,
    "start_time": "2021-08-26T17:40:16.937Z"
   },
   {
    "duration": 1046,
    "start_time": "2021-08-26T17:40:17.554Z"
   },
   {
    "duration": 1045,
    "start_time": "2021-08-26T17:40:17.557Z"
   },
   {
    "duration": 1043,
    "start_time": "2021-08-26T17:40:17.561Z"
   },
   {
    "duration": 1042,
    "start_time": "2021-08-26T17:40:17.564Z"
   },
   {
    "duration": 1042,
    "start_time": "2021-08-26T17:40:17.566Z"
   },
   {
    "duration": 5,
    "start_time": "2021-08-26T18:22:01.242Z"
   },
   {
    "duration": 667,
    "start_time": "2021-08-26T18:22:01.630Z"
   },
   {
    "duration": 27,
    "start_time": "2021-08-26T18:22:02.300Z"
   },
   {
    "duration": 52,
    "start_time": "2021-08-26T18:22:02.330Z"
   },
   {
    "duration": 40,
    "start_time": "2021-08-26T18:22:02.402Z"
   },
   {
    "duration": 439,
    "start_time": "2021-08-26T18:22:02.630Z"
   },
   {
    "duration": 135,
    "start_time": "2021-08-26T18:22:03.072Z"
   },
   {
    "duration": 40,
    "start_time": "2021-08-26T18:22:03.210Z"
   },
   {
    "duration": 23,
    "start_time": "2021-08-26T18:22:03.406Z"
   },
   {
    "duration": 24,
    "start_time": "2021-08-26T18:22:03.621Z"
   },
   {
    "duration": 21,
    "start_time": "2021-08-26T18:22:03.842Z"
   },
   {
    "duration": 174,
    "start_time": "2021-08-26T18:22:04.046Z"
   },
   {
    "duration": 100,
    "start_time": "2021-08-26T18:22:04.254Z"
   },
   {
    "duration": 55,
    "start_time": "2021-08-26T18:22:04.453Z"
   },
   {
    "duration": 18,
    "start_time": "2021-08-26T18:22:04.902Z"
   },
   {
    "duration": 23,
    "start_time": "2021-08-26T18:22:05.130Z"
   },
   {
    "duration": 21,
    "start_time": "2021-08-26T18:22:05.349Z"
   },
   {
    "duration": 151,
    "start_time": "2021-08-26T18:22:05.585Z"
   },
   {
    "duration": 56,
    "start_time": "2021-08-26T18:22:05.830Z"
   },
   {
    "duration": 40,
    "start_time": "2021-08-26T18:22:06.190Z"
   },
   {
    "duration": 1622,
    "start_time": "2021-08-26T18:22:07.082Z"
   },
   {
    "duration": 16,
    "start_time": "2021-08-26T18:22:55.138Z"
   },
   {
    "duration": 1577,
    "start_time": "2021-08-26T18:23:12.158Z"
   },
   {
    "duration": 12,
    "start_time": "2021-08-26T18:23:20.170Z"
   },
   {
    "duration": 6,
    "start_time": "2021-08-26T18:23:56.878Z"
   },
   {
    "duration": 553,
    "start_time": "2021-08-26T18:23:57.406Z"
   },
   {
    "duration": 23,
    "start_time": "2021-08-26T18:23:57.962Z"
   },
   {
    "duration": 38,
    "start_time": "2021-08-26T18:23:57.988Z"
   },
   {
    "duration": 26,
    "start_time": "2021-08-26T18:23:58.146Z"
   },
   {
    "duration": 265,
    "start_time": "2021-08-26T18:23:58.334Z"
   },
   {
    "duration": 186,
    "start_time": "2021-08-26T18:23:58.602Z"
   },
   {
    "duration": 56,
    "start_time": "2021-08-26T18:23:58.792Z"
   },
   {
    "duration": 28,
    "start_time": "2021-08-26T18:23:59.146Z"
   },
   {
    "duration": 36,
    "start_time": "2021-08-26T18:23:59.342Z"
   },
   {
    "duration": 35,
    "start_time": "2021-08-26T18:23:59.566Z"
   },
   {
    "duration": 193,
    "start_time": "2021-08-26T18:23:59.782Z"
   },
   {
    "duration": 109,
    "start_time": "2021-08-26T18:23:59.994Z"
   },
   {
    "duration": 46,
    "start_time": "2021-08-26T18:24:00.194Z"
   },
   {
    "duration": 20,
    "start_time": "2021-08-26T18:24:00.578Z"
   },
   {
    "duration": 19,
    "start_time": "2021-08-26T18:24:00.750Z"
   },
   {
    "duration": 22,
    "start_time": "2021-08-26T18:24:00.970Z"
   },
   {
    "duration": 121,
    "start_time": "2021-08-26T18:24:01.202Z"
   },
   {
    "duration": 54,
    "start_time": "2021-08-26T18:24:01.410Z"
   },
   {
    "duration": 29,
    "start_time": "2021-08-26T18:24:01.586Z"
   },
   {
    "duration": 14,
    "start_time": "2021-08-26T18:24:03.298Z"
   },
   {
    "duration": 9,
    "start_time": "2021-08-26T18:24:07.002Z"
   },
   {
    "duration": 22,
    "start_time": "2021-08-26T18:24:25.226Z"
   },
   {
    "duration": 10,
    "start_time": "2021-08-26T18:25:43.854Z"
   },
   {
    "duration": 31,
    "start_time": "2021-08-26T18:25:50.554Z"
   },
   {
    "duration": 8,
    "start_time": "2021-08-26T18:25:59.126Z"
   },
   {
    "duration": 44,
    "start_time": "2021-08-26T18:26:04.510Z"
   },
   {
    "duration": 18,
    "start_time": "2021-08-26T18:26:50.723Z"
   },
   {
    "duration": 28,
    "start_time": "2021-08-26T18:27:35.191Z"
   },
   {
    "duration": 9,
    "start_time": "2021-08-26T18:27:38.031Z"
   },
   {
    "duration": 10,
    "start_time": "2021-08-26T18:27:43.019Z"
   },
   {
    "duration": 5,
    "start_time": "2021-08-26T18:32:09.484Z"
   },
   {
    "duration": 5,
    "start_time": "2021-08-26T18:33:03.737Z"
   },
   {
    "duration": 501,
    "start_time": "2021-08-26T18:33:04.288Z"
   },
   {
    "duration": 24,
    "start_time": "2021-08-26T18:33:04.793Z"
   },
   {
    "duration": 42,
    "start_time": "2021-08-26T18:33:04.900Z"
   },
   {
    "duration": 44,
    "start_time": "2021-08-26T18:33:05.084Z"
   },
   {
    "duration": 409,
    "start_time": "2021-08-26T18:33:05.276Z"
   },
   {
    "duration": 168,
    "start_time": "2021-08-26T18:33:05.689Z"
   },
   {
    "duration": 54,
    "start_time": "2021-08-26T18:33:05.860Z"
   },
   {
    "duration": 29,
    "start_time": "2021-08-26T18:33:06.044Z"
   },
   {
    "duration": 23,
    "start_time": "2021-08-26T18:33:06.252Z"
   },
   {
    "duration": 21,
    "start_time": "2021-08-26T18:33:06.455Z"
   },
   {
    "duration": 256,
    "start_time": "2021-08-26T18:33:06.663Z"
   },
   {
    "duration": 134,
    "start_time": "2021-08-26T18:33:06.923Z"
   },
   {
    "duration": 63,
    "start_time": "2021-08-26T18:33:07.060Z"
   },
   {
    "duration": 22,
    "start_time": "2021-08-26T18:33:07.443Z"
   },
   {
    "duration": 31,
    "start_time": "2021-08-26T18:33:07.628Z"
   },
   {
    "duration": 29,
    "start_time": "2021-08-26T18:33:07.832Z"
   },
   {
    "duration": 127,
    "start_time": "2021-08-26T18:33:08.020Z"
   },
   {
    "duration": 62,
    "start_time": "2021-08-26T18:33:08.208Z"
   },
   {
    "duration": 24,
    "start_time": "2021-08-26T18:33:08.404Z"
   },
   {
    "duration": 17,
    "start_time": "2021-08-26T18:33:08.808Z"
   },
   {
    "duration": 12,
    "start_time": "2021-08-26T18:33:08.991Z"
   },
   {
    "duration": 8,
    "start_time": "2021-08-26T18:33:09.228Z"
   },
   {
    "duration": 24,
    "start_time": "2021-08-26T18:33:09.376Z"
   },
   {
    "duration": 9,
    "start_time": "2021-08-26T18:33:09.568Z"
   },
   {
    "duration": 131,
    "start_time": "2021-08-26T18:33:09.766Z"
   },
   {
    "duration": 19,
    "start_time": "2021-08-26T18:33:10.336Z"
   },
   {
    "duration": 9,
    "start_time": "2021-08-26T18:33:10.528Z"
   },
   {
    "duration": 9,
    "start_time": "2021-08-26T18:33:10.731Z"
   },
   {
    "duration": 41,
    "start_time": "2021-08-26T18:33:10.960Z"
   },
   {
    "duration": 13,
    "start_time": "2021-08-26T18:33:11.148Z"
   },
   {
    "duration": 41,
    "start_time": "2021-08-26T18:33:11.324Z"
   },
   {
    "duration": 5,
    "start_time": "2021-08-26T18:47:28.158Z"
   },
   {
    "duration": 4,
    "start_time": "2021-08-26T18:53:46.863Z"
   },
   {
    "duration": 4,
    "start_time": "2021-08-26T18:55:08.195Z"
   },
   {
    "duration": 498,
    "start_time": "2021-08-26T18:55:09.163Z"
   },
   {
    "duration": 34,
    "start_time": "2021-08-26T18:55:09.883Z"
   },
   {
    "duration": 35,
    "start_time": "2021-08-26T18:55:10.075Z"
   },
   {
    "duration": 30,
    "start_time": "2021-08-26T18:55:10.287Z"
   },
   {
    "duration": 394,
    "start_time": "2021-08-26T18:55:10.479Z"
   },
   {
    "duration": 154,
    "start_time": "2021-08-26T18:55:10.883Z"
   },
   {
    "duration": 60,
    "start_time": "2021-08-26T18:55:11.040Z"
   },
   {
    "duration": 24,
    "start_time": "2021-08-26T18:55:11.231Z"
   },
   {
    "duration": 32,
    "start_time": "2021-08-26T18:55:11.400Z"
   },
   {
    "duration": 30,
    "start_time": "2021-08-26T18:55:11.583Z"
   },
   {
    "duration": 258,
    "start_time": "2021-08-26T18:55:11.771Z"
   },
   {
    "duration": 123,
    "start_time": "2021-08-26T18:55:12.032Z"
   },
   {
    "duration": 65,
    "start_time": "2021-08-26T18:55:12.158Z"
   },
   {
    "duration": 21,
    "start_time": "2021-08-26T18:55:12.535Z"
   },
   {
    "duration": 28,
    "start_time": "2021-08-26T18:55:12.731Z"
   },
   {
    "duration": 19,
    "start_time": "2021-08-26T18:55:12.923Z"
   },
   {
    "duration": 129,
    "start_time": "2021-08-26T18:55:13.111Z"
   },
   {
    "duration": 55,
    "start_time": "2021-08-26T18:55:13.315Z"
   },
   {
    "duration": 33,
    "start_time": "2021-08-26T18:55:13.515Z"
   },
   {
    "duration": 11,
    "start_time": "2021-08-26T18:55:13.911Z"
   },
   {
    "duration": 14,
    "start_time": "2021-08-26T18:55:14.091Z"
   },
   {
    "duration": 9,
    "start_time": "2021-08-26T18:55:14.284Z"
   },
   {
    "duration": 29,
    "start_time": "2021-08-26T18:55:14.479Z"
   },
   {
    "duration": 9,
    "start_time": "2021-08-26T18:55:14.687Z"
   },
   {
    "duration": 50,
    "start_time": "2021-08-26T18:55:14.871Z"
   },
   {
    "duration": 34,
    "start_time": "2021-08-26T18:55:15.303Z"
   },
   {
    "duration": 28,
    "start_time": "2021-08-26T18:55:15.468Z"
   },
   {
    "duration": 27,
    "start_time": "2021-08-26T18:55:15.699Z"
   },
   {
    "duration": 32,
    "start_time": "2021-08-26T18:55:15.871Z"
   },
   {
    "duration": 11,
    "start_time": "2021-08-26T18:55:16.080Z"
   },
   {
    "duration": 34,
    "start_time": "2021-08-26T18:55:16.283Z"
   },
   {
    "duration": 21,
    "start_time": "2021-08-26T19:25:17.916Z"
   },
   {
    "duration": 19,
    "start_time": "2021-08-26T19:33:04.525Z"
   },
   {
    "duration": 41,
    "start_time": "2021-08-26T19:38:33.406Z"
   },
   {
    "duration": 21,
    "start_time": "2021-08-26T19:40:09.214Z"
   },
   {
    "duration": 28,
    "start_time": "2021-08-26T19:41:19.794Z"
   },
   {
    "duration": 56,
    "start_time": "2021-08-26T20:12:13.691Z"
   },
   {
    "duration": 53,
    "start_time": "2021-08-26T20:13:32.012Z"
   },
   {
    "duration": 11,
    "start_time": "2021-08-26T20:15:09.208Z"
   },
   {
    "duration": 13,
    "start_time": "2021-08-26T20:15:38.899Z"
   },
   {
    "duration": 29,
    "start_time": "2021-08-26T20:17:06.262Z"
   },
   {
    "duration": 1491,
    "start_time": "2021-08-26T20:19:12.195Z"
   },
   {
    "duration": 535,
    "start_time": "2021-08-26T20:19:13.689Z"
   },
   {
    "duration": 26,
    "start_time": "2021-08-26T20:19:14.227Z"
   },
   {
    "duration": 33,
    "start_time": "2021-08-26T20:19:14.256Z"
   },
   {
    "duration": 36,
    "start_time": "2021-08-26T20:19:14.292Z"
   },
   {
    "duration": 313,
    "start_time": "2021-08-26T20:19:14.330Z"
   },
   {
    "duration": 153,
    "start_time": "2021-08-26T20:19:14.645Z"
   },
   {
    "duration": 50,
    "start_time": "2021-08-26T20:19:14.803Z"
   },
   {
    "duration": 34,
    "start_time": "2021-08-26T20:19:14.857Z"
   },
   {
    "duration": 32,
    "start_time": "2021-08-26T20:19:14.894Z"
   },
   {
    "duration": 21,
    "start_time": "2021-08-26T20:19:14.928Z"
   },
   {
    "duration": 223,
    "start_time": "2021-08-26T20:19:14.952Z"
   },
   {
    "duration": 132,
    "start_time": "2021-08-26T20:19:15.182Z"
   },
   {
    "duration": 40,
    "start_time": "2021-08-26T20:19:15.317Z"
   },
   {
    "duration": 35,
    "start_time": "2021-08-26T20:19:15.360Z"
   },
   {
    "duration": 28,
    "start_time": "2021-08-26T20:19:15.398Z"
   },
   {
    "duration": 18,
    "start_time": "2021-08-26T20:19:15.429Z"
   },
   {
    "duration": 188,
    "start_time": "2021-08-26T20:19:15.450Z"
   },
   {
    "duration": 86,
    "start_time": "2021-08-26T20:19:15.640Z"
   },
   {
    "duration": 38,
    "start_time": "2021-08-26T20:19:15.728Z"
   },
   {
    "duration": 19,
    "start_time": "2021-08-26T20:19:15.785Z"
   },
   {
    "duration": 10,
    "start_time": "2021-08-26T20:19:15.807Z"
   },
   {
    "duration": 11,
    "start_time": "2021-08-26T20:19:15.822Z"
   },
   {
    "duration": 57,
    "start_time": "2021-08-26T20:19:15.836Z"
   },
   {
    "duration": 10,
    "start_time": "2021-08-26T20:19:15.895Z"
   },
   {
    "duration": 48,
    "start_time": "2021-08-26T20:19:15.907Z"
   },
   {
    "duration": 47,
    "start_time": "2021-08-26T20:19:15.957Z"
   },
   {
    "duration": 10,
    "start_time": "2021-08-26T20:19:16.007Z"
   },
   {
    "duration": 9,
    "start_time": "2021-08-26T20:19:16.020Z"
   },
   {
    "duration": 59,
    "start_time": "2021-08-26T20:19:16.031Z"
   },
   {
    "duration": 20,
    "start_time": "2021-08-26T20:19:16.098Z"
   },
   {
    "duration": 30,
    "start_time": "2021-08-26T20:19:16.121Z"
   },
   {
    "duration": 123,
    "start_time": "2021-08-26T20:19:16.153Z"
   },
   {
    "duration": 282,
    "start_time": "2021-08-27T11:58:07.409Z"
   },
   {
    "duration": 1111,
    "start_time": "2021-08-27T11:58:21.809Z"
   },
   {
    "duration": 374,
    "start_time": "2021-08-27T11:58:24.613Z"
   },
   {
    "duration": 16,
    "start_time": "2021-08-27T11:58:25.501Z"
   },
   {
    "duration": 31,
    "start_time": "2021-08-27T11:58:25.520Z"
   },
   {
    "duration": 26,
    "start_time": "2021-08-27T11:58:25.553Z"
   },
   {
    "duration": 204,
    "start_time": "2021-08-27T11:58:25.601Z"
   },
   {
    "duration": 93,
    "start_time": "2021-08-27T11:58:25.839Z"
   },
   {
    "duration": 31,
    "start_time": "2021-08-27T11:58:26.093Z"
   },
   {
    "duration": 13,
    "start_time": "2021-08-27T11:58:26.557Z"
   },
   {
    "duration": 16,
    "start_time": "2021-08-27T11:58:27.525Z"
   },
   {
    "duration": 15,
    "start_time": "2021-08-27T11:58:27.577Z"
   },
   {
    "duration": 129,
    "start_time": "2021-08-27T11:58:27.594Z"
   },
   {
    "duration": 56,
    "start_time": "2021-08-27T11:58:27.725Z"
   },
   {
    "duration": 27,
    "start_time": "2021-08-27T11:58:27.783Z"
   },
   {
    "duration": 12,
    "start_time": "2021-08-27T11:58:33.233Z"
   },
   {
    "duration": 13,
    "start_time": "2021-08-27T11:58:33.247Z"
   },
   {
    "duration": 14,
    "start_time": "2021-08-27T11:58:33.262Z"
   },
   {
    "duration": 112,
    "start_time": "2021-08-27T11:58:33.277Z"
   },
   {
    "duration": 57,
    "start_time": "2021-08-27T11:58:33.390Z"
   },
   {
    "duration": 19,
    "start_time": "2021-08-27T11:58:33.449Z"
   },
   {
    "duration": 9,
    "start_time": "2021-08-27T11:58:33.471Z"
   },
   {
    "duration": 6,
    "start_time": "2021-08-27T11:58:33.483Z"
   },
   {
    "duration": 6,
    "start_time": "2021-08-27T11:58:33.491Z"
   },
   {
    "duration": 44,
    "start_time": "2021-08-27T11:58:33.499Z"
   },
   {
    "duration": 7,
    "start_time": "2021-08-27T11:58:33.545Z"
   },
   {
    "duration": 36,
    "start_time": "2021-08-27T11:58:33.554Z"
   },
   {
    "duration": 12,
    "start_time": "2021-08-27T11:58:33.591Z"
   },
   {
    "duration": 10,
    "start_time": "2021-08-27T11:58:33.606Z"
   },
   {
    "duration": 23,
    "start_time": "2021-08-27T11:58:33.618Z"
   },
   {
    "duration": 16,
    "start_time": "2021-08-27T11:58:33.643Z"
   },
   {
    "duration": 11,
    "start_time": "2021-08-27T11:58:33.660Z"
   },
   {
    "duration": 18,
    "start_time": "2021-08-27T11:58:33.673Z"
   },
   {
    "duration": 60,
    "start_time": "2021-08-27T11:58:33.765Z"
   },
   {
    "duration": 16,
    "start_time": "2021-08-27T12:05:40.395Z"
   },
   {
    "duration": 11,
    "start_time": "2021-08-27T12:06:17.854Z"
   },
   {
    "duration": 2,
    "start_time": "2021-08-27T12:06:31.735Z"
   },
   {
    "duration": 371,
    "start_time": "2021-08-27T12:06:32.130Z"
   },
   {
    "duration": 13,
    "start_time": "2021-08-27T12:06:32.514Z"
   },
   {
    "duration": 20,
    "start_time": "2021-08-27T12:06:32.718Z"
   },
   {
    "duration": 19,
    "start_time": "2021-08-27T12:06:32.919Z"
   },
   {
    "duration": 181,
    "start_time": "2021-08-27T12:06:33.174Z"
   },
   {
    "duration": 75,
    "start_time": "2021-08-27T12:06:33.406Z"
   },
   {
    "duration": 27,
    "start_time": "2021-08-27T12:06:33.698Z"
   },
   {
    "duration": 17,
    "start_time": "2021-08-27T12:06:34.134Z"
   },
   {
    "duration": 17,
    "start_time": "2021-08-27T12:06:34.379Z"
   },
   {
    "duration": 14,
    "start_time": "2021-08-27T12:06:34.567Z"
   },
   {
    "duration": 118,
    "start_time": "2021-08-27T12:06:34.838Z"
   },
   {
    "duration": 50,
    "start_time": "2021-08-27T12:06:35.170Z"
   },
   {
    "duration": 30,
    "start_time": "2021-08-27T12:06:35.494Z"
   },
   {
    "duration": 11,
    "start_time": "2021-08-27T12:06:35.995Z"
   },
   {
    "duration": 15,
    "start_time": "2021-08-27T12:06:36.218Z"
   },
   {
    "duration": 14,
    "start_time": "2021-08-27T12:06:36.455Z"
   },
   {
    "duration": 87,
    "start_time": "2021-08-27T12:06:36.683Z"
   },
   {
    "duration": 40,
    "start_time": "2021-08-27T12:06:36.935Z"
   },
   {
    "duration": 17,
    "start_time": "2021-08-27T12:06:37.166Z"
   },
   {
    "duration": 8,
    "start_time": "2021-08-27T12:06:37.602Z"
   },
   {
    "duration": 6,
    "start_time": "2021-08-27T12:06:37.843Z"
   },
   {
    "duration": 5,
    "start_time": "2021-08-27T12:06:38.035Z"
   },
   {
    "duration": 12,
    "start_time": "2021-08-27T12:06:38.251Z"
   },
   {
    "duration": 6,
    "start_time": "2021-08-27T12:06:38.467Z"
   },
   {
    "duration": 29,
    "start_time": "2021-08-27T12:06:38.710Z"
   },
   {
    "duration": 13,
    "start_time": "2021-08-27T12:06:39.422Z"
   },
   {
    "duration": 6,
    "start_time": "2021-08-27T12:06:40.171Z"
   },
   {
    "duration": 5,
    "start_time": "2021-08-27T12:06:40.571Z"
   },
   {
    "duration": 16,
    "start_time": "2021-08-27T12:06:40.755Z"
   },
   {
    "duration": 7,
    "start_time": "2021-08-27T12:06:40.995Z"
   },
   {
    "duration": 17,
    "start_time": "2021-08-27T12:06:41.218Z"
   },
   {
    "duration": 60,
    "start_time": "2021-08-27T12:06:42.883Z"
   },
   {
    "duration": 11,
    "start_time": "2021-08-27T12:06:43.351Z"
   },
   {
    "duration": 11,
    "start_time": "2021-08-27T12:07:39.689Z"
   },
   {
    "duration": 2,
    "start_time": "2021-08-27T12:07:52.051Z"
   },
   {
    "duration": 360,
    "start_time": "2021-08-27T12:07:52.500Z"
   },
   {
    "duration": 13,
    "start_time": "2021-08-27T12:07:53.017Z"
   },
   {
    "duration": 19,
    "start_time": "2021-08-27T12:07:53.041Z"
   },
   {
    "duration": 19,
    "start_time": "2021-08-27T12:07:53.235Z"
   },
   {
    "duration": 197,
    "start_time": "2021-08-27T12:07:53.431Z"
   },
   {
    "duration": 78,
    "start_time": "2021-08-27T12:07:53.661Z"
   },
   {
    "duration": 26,
    "start_time": "2021-08-27T12:07:54.419Z"
   },
   {
    "duration": 14,
    "start_time": "2021-08-27T12:07:54.490Z"
   },
   {
    "duration": 31,
    "start_time": "2021-08-27T12:07:54.505Z"
   },
   {
    "duration": 15,
    "start_time": "2021-08-27T12:07:55.007Z"
   },
   {
    "duration": 131,
    "start_time": "2021-08-27T12:07:55.042Z"
   },
   {
    "duration": 46,
    "start_time": "2021-08-27T12:07:55.174Z"
   },
   {
    "duration": 36,
    "start_time": "2021-08-27T12:07:55.222Z"
   },
   {
    "duration": 11,
    "start_time": "2021-08-27T12:07:55.571Z"
   },
   {
    "duration": 14,
    "start_time": "2021-08-27T12:07:55.747Z"
   },
   {
    "duration": 14,
    "start_time": "2021-08-27T12:07:56.011Z"
   },
   {
    "duration": 85,
    "start_time": "2021-08-27T12:07:56.579Z"
   },
   {
    "duration": 39,
    "start_time": "2021-08-27T12:07:56.666Z"
   },
   {
    "duration": 34,
    "start_time": "2021-08-27T12:07:56.707Z"
   },
   {
    "duration": 7,
    "start_time": "2021-08-27T12:07:57.067Z"
   },
   {
    "duration": 6,
    "start_time": "2021-08-27T12:07:57.231Z"
   },
   {
    "duration": 6,
    "start_time": "2021-08-27T12:07:57.443Z"
   },
   {
    "duration": 13,
    "start_time": "2021-08-27T12:07:58.035Z"
   },
   {
    "duration": 20,
    "start_time": "2021-08-27T12:07:58.050Z"
   },
   {
    "duration": 25,
    "start_time": "2021-08-27T12:07:58.134Z"
   },
   {
    "duration": 12,
    "start_time": "2021-08-27T12:07:58.555Z"
   },
   {
    "duration": 6,
    "start_time": "2021-08-27T12:07:58.931Z"
   },
   {
    "duration": 5,
    "start_time": "2021-08-27T12:07:59.111Z"
   },
   {
    "duration": 17,
    "start_time": "2021-08-27T12:07:59.617Z"
   },
   {
    "duration": 8,
    "start_time": "2021-08-27T12:07:59.636Z"
   },
   {
    "duration": 22,
    "start_time": "2021-08-27T12:07:59.646Z"
   },
   {
    "duration": 60,
    "start_time": "2021-08-27T12:08:02.662Z"
   },
   {
    "duration": 11,
    "start_time": "2021-08-27T12:08:02.724Z"
   },
   {
    "duration": 3,
    "start_time": "2021-08-27T12:08:19.254Z"
   },
   {
    "duration": 366,
    "start_time": "2021-08-27T12:08:20.043Z"
   },
   {
    "duration": 14,
    "start_time": "2021-08-27T12:08:20.434Z"
   },
   {
    "duration": 20,
    "start_time": "2021-08-27T12:08:20.503Z"
   },
   {
    "duration": 20,
    "start_time": "2021-08-27T12:08:20.652Z"
   },
   {
    "duration": 192,
    "start_time": "2021-08-27T12:08:20.863Z"
   },
   {
    "duration": 77,
    "start_time": "2021-08-27T12:08:21.411Z"
   },
   {
    "duration": 26,
    "start_time": "2021-08-27T12:08:21.489Z"
   },
   {
    "duration": 14,
    "start_time": "2021-08-27T12:08:22.131Z"
   },
   {
    "duration": 30,
    "start_time": "2021-08-27T12:08:22.146Z"
   },
   {
    "duration": 16,
    "start_time": "2021-08-27T12:08:22.178Z"
   },
   {
    "duration": 133,
    "start_time": "2021-08-27T12:08:22.338Z"
   },
   {
    "duration": 47,
    "start_time": "2021-08-27T12:08:22.566Z"
   },
   {
    "duration": 28,
    "start_time": "2021-08-27T12:08:22.775Z"
   },
   {
    "duration": 11,
    "start_time": "2021-08-27T12:08:23.271Z"
   },
   {
    "duration": 14,
    "start_time": "2021-08-27T12:08:23.719Z"
   },
   {
    "duration": 24,
    "start_time": "2021-08-27T12:08:23.734Z"
   },
   {
    "duration": 91,
    "start_time": "2021-08-27T12:08:23.770Z"
   },
   {
    "duration": 39,
    "start_time": "2021-08-27T12:08:23.987Z"
   },
   {
    "duration": 15,
    "start_time": "2021-08-27T12:08:24.483Z"
   },
   {
    "duration": 7,
    "start_time": "2021-08-27T12:08:24.771Z"
   },
   {
    "duration": 7,
    "start_time": "2021-08-27T12:08:24.812Z"
   },
   {
    "duration": 6,
    "start_time": "2021-08-27T12:08:25.051Z"
   },
   {
    "duration": 13,
    "start_time": "2021-08-27T12:08:25.315Z"
   },
   {
    "duration": 6,
    "start_time": "2021-08-27T12:08:25.475Z"
   },
   {
    "duration": 27,
    "start_time": "2021-08-27T12:08:26.071Z"
   },
   {
    "duration": 20,
    "start_time": "2021-08-27T12:08:26.100Z"
   },
   {
    "duration": 6,
    "start_time": "2021-08-27T12:08:26.771Z"
   },
   {
    "duration": 24,
    "start_time": "2021-08-27T12:08:26.779Z"
   },
   {
    "duration": 23,
    "start_time": "2021-08-27T12:08:26.806Z"
   },
   {
    "duration": 7,
    "start_time": "2021-08-27T12:08:26.946Z"
   },
   {
    "duration": 17,
    "start_time": "2021-08-27T12:08:27.463Z"
   },
   {
    "duration": 58,
    "start_time": "2021-08-27T12:08:29.395Z"
   },
   {
    "duration": 11,
    "start_time": "2021-08-27T12:08:30.187Z"
   },
   {
    "duration": 3,
    "start_time": "2021-08-27T12:08:50.141Z"
   },
   {
    "duration": 394,
    "start_time": "2021-08-27T12:08:50.146Z"
   },
   {
    "duration": 16,
    "start_time": "2021-08-27T12:08:50.859Z"
   },
   {
    "duration": 31,
    "start_time": "2021-08-27T12:08:50.877Z"
   },
   {
    "duration": 20,
    "start_time": "2021-08-27T12:08:50.910Z"
   },
   {
    "duration": 212,
    "start_time": "2021-08-27T12:08:50.932Z"
   },
   {
    "duration": 79,
    "start_time": "2021-08-27T12:08:51.146Z"
   },
   {
    "duration": 27,
    "start_time": "2021-08-27T12:08:51.661Z"
   },
   {
    "duration": 12,
    "start_time": "2021-08-27T12:08:51.690Z"
   },
   {
    "duration": 17,
    "start_time": "2021-08-27T12:08:52.188Z"
   },
   {
    "duration": 26,
    "start_time": "2021-08-27T12:08:52.207Z"
   },
   {
    "duration": 131,
    "start_time": "2021-08-27T12:08:52.235Z"
   },
   {
    "duration": 53,
    "start_time": "2021-08-27T12:08:52.723Z"
   },
   {
    "duration": 32,
    "start_time": "2021-08-27T12:08:52.778Z"
   },
   {
    "duration": 11,
    "start_time": "2021-08-27T12:08:52.967Z"
   },
   {
    "duration": 20,
    "start_time": "2021-08-27T12:08:53.171Z"
   },
   {
    "duration": 18,
    "start_time": "2021-08-27T12:08:53.399Z"
   },
   {
    "duration": 101,
    "start_time": "2021-08-27T12:08:53.571Z"
   },
   {
    "duration": 38,
    "start_time": "2021-08-27T12:08:54.110Z"
   },
   {
    "duration": 15,
    "start_time": "2021-08-27T12:08:54.150Z"
   },
   {
    "duration": 8,
    "start_time": "2021-08-27T12:08:54.423Z"
   },
   {
    "duration": 7,
    "start_time": "2021-08-27T12:08:54.907Z"
   },
   {
    "duration": 16,
    "start_time": "2021-08-27T12:08:54.916Z"
   },
   {
    "duration": 13,
    "start_time": "2021-08-27T12:08:54.995Z"
   },
   {
    "duration": 6,
    "start_time": "2021-08-27T12:08:55.197Z"
   },
   {
    "duration": 27,
    "start_time": "2021-08-27T12:08:55.404Z"
   },
   {
    "duration": 13,
    "start_time": "2021-08-27T12:08:55.803Z"
   },
   {
    "duration": 7,
    "start_time": "2021-08-27T12:08:56.307Z"
   },
   {
    "duration": 25,
    "start_time": "2021-08-27T12:08:56.315Z"
   },
   {
    "duration": 17,
    "start_time": "2021-08-27T12:08:56.415Z"
   },
   {
    "duration": 7,
    "start_time": "2021-08-27T12:08:56.999Z"
   },
   {
    "duration": 42,
    "start_time": "2021-08-27T12:08:57.007Z"
   },
   {
    "duration": 65,
    "start_time": "2021-08-27T12:08:59.087Z"
   },
   {
    "duration": 13,
    "start_time": "2021-08-27T12:08:59.371Z"
   },
   {
    "duration": 3,
    "start_time": "2021-08-27T12:09:17.877Z"
   },
   {
    "duration": 376,
    "start_time": "2021-08-27T12:09:18.579Z"
   },
   {
    "duration": 14,
    "start_time": "2021-08-27T12:09:18.957Z"
   },
   {
    "duration": 20,
    "start_time": "2021-08-27T12:09:19.242Z"
   },
   {
    "duration": 24,
    "start_time": "2021-08-27T12:09:19.263Z"
   },
   {
    "duration": 203,
    "start_time": "2021-08-27T12:09:19.289Z"
   },
   {
    "duration": 79,
    "start_time": "2021-08-27T12:09:19.891Z"
   },
   {
    "duration": 26,
    "start_time": "2021-08-27T12:09:19.972Z"
   },
   {
    "duration": 14,
    "start_time": "2021-08-27T12:09:20.359Z"
   },
   {
    "duration": 30,
    "start_time": "2021-08-27T12:09:20.374Z"
   },
   {
    "duration": 16,
    "start_time": "2021-08-27T12:09:20.875Z"
   },
   {
    "duration": 143,
    "start_time": "2021-08-27T12:09:20.893Z"
   },
   {
    "duration": 49,
    "start_time": "2021-08-27T12:09:21.457Z"
   },
   {
    "duration": 29,
    "start_time": "2021-08-27T12:09:21.508Z"
   },
   {
    "duration": 11,
    "start_time": "2021-08-27T12:09:21.605Z"
   },
   {
    "duration": 15,
    "start_time": "2021-08-27T12:09:22.071Z"
   },
   {
    "duration": 20,
    "start_time": "2021-08-27T12:09:22.088Z"
   },
   {
    "duration": 87,
    "start_time": "2021-08-27T12:09:22.207Z"
   },
   {
    "duration": 41,
    "start_time": "2021-08-27T12:09:22.783Z"
   },
   {
    "duration": 17,
    "start_time": "2021-08-27T12:09:22.826Z"
   },
   {
    "duration": 8,
    "start_time": "2021-08-27T12:09:23.423Z"
   },
   {
    "duration": 14,
    "start_time": "2021-08-27T12:09:23.432Z"
   },
   {
    "duration": 5,
    "start_time": "2021-08-27T12:09:24.033Z"
   },
   {
    "duration": 16,
    "start_time": "2021-08-27T12:09:24.040Z"
   },
   {
    "duration": 5,
    "start_time": "2021-08-27T12:09:24.082Z"
   },
   {
    "duration": 28,
    "start_time": "2021-08-27T12:09:24.657Z"
   },
   {
    "duration": 12,
    "start_time": "2021-08-27T12:09:25.339Z"
   },
   {
    "duration": 8,
    "start_time": "2021-08-27T12:09:25.353Z"
   },
   {
    "duration": 10,
    "start_time": "2021-08-27T12:09:25.363Z"
   },
   {
    "duration": 18,
    "start_time": "2021-08-27T12:09:25.374Z"
   },
   {
    "duration": 6,
    "start_time": "2021-08-27T12:09:25.907Z"
   },
   {
    "duration": 18,
    "start_time": "2021-08-27T12:09:25.915Z"
   },
   {
    "duration": 60,
    "start_time": "2021-08-27T12:09:27.627Z"
   },
   {
    "duration": 12,
    "start_time": "2021-08-27T12:09:27.851Z"
   },
   {
    "duration": 3,
    "start_time": "2021-08-27T12:09:46.767Z"
   },
   {
    "duration": 363,
    "start_time": "2021-08-27T12:09:47.311Z"
   },
   {
    "duration": 13,
    "start_time": "2021-08-27T12:09:47.676Z"
   },
   {
    "duration": 20,
    "start_time": "2021-08-27T12:09:47.788Z"
   },
   {
    "duration": 29,
    "start_time": "2021-08-27T12:09:47.810Z"
   },
   {
    "duration": 200,
    "start_time": "2021-08-27T12:09:47.864Z"
   },
   {
    "duration": 78,
    "start_time": "2021-08-27T12:09:48.323Z"
   },
   {
    "duration": 38,
    "start_time": "2021-08-27T12:09:48.403Z"
   },
   {
    "duration": 18,
    "start_time": "2021-08-27T12:09:48.939Z"
   },
   {
    "duration": 23,
    "start_time": "2021-08-27T12:09:48.960Z"
   },
   {
    "duration": 17,
    "start_time": "2021-08-27T12:09:49.419Z"
   },
   {
    "duration": 121,
    "start_time": "2021-08-27T12:09:49.484Z"
   },
   {
    "duration": 48,
    "start_time": "2021-08-27T12:09:49.606Z"
   },
   {
    "duration": 30,
    "start_time": "2021-08-27T12:09:50.031Z"
   },
   {
    "duration": 12,
    "start_time": "2021-08-27T12:09:50.156Z"
   },
   {
    "duration": 15,
    "start_time": "2021-08-27T12:09:50.335Z"
   },
   {
    "duration": 15,
    "start_time": "2021-08-27T12:09:50.943Z"
   },
   {
    "duration": 95,
    "start_time": "2021-08-27T12:09:50.991Z"
   },
   {
    "duration": 40,
    "start_time": "2021-08-27T12:09:51.088Z"
   },
   {
    "duration": 18,
    "start_time": "2021-08-27T12:09:51.439Z"
   },
   {
    "duration": 8,
    "start_time": "2021-08-27T12:09:51.458Z"
   },
   {
    "duration": 6,
    "start_time": "2021-08-27T12:09:51.659Z"
   },
   {
    "duration": 6,
    "start_time": "2021-08-27T12:09:52.283Z"
   },
   {
    "duration": 21,
    "start_time": "2021-08-27T12:09:52.290Z"
   },
   {
    "duration": 11,
    "start_time": "2021-08-27T12:09:52.313Z"
   },
   {
    "duration": 28,
    "start_time": "2021-08-27T12:09:52.783Z"
   },
   {
    "duration": 13,
    "start_time": "2021-08-27T12:09:52.828Z"
   },
   {
    "duration": 7,
    "start_time": "2021-08-27T12:09:53.423Z"
   },
   {
    "duration": 6,
    "start_time": "2021-08-27T12:09:53.438Z"
   },
   {
    "duration": 28,
    "start_time": "2021-08-27T12:09:53.447Z"
   },
   {
    "duration": 7,
    "start_time": "2021-08-27T12:09:53.563Z"
   },
   {
    "duration": 18,
    "start_time": "2021-08-27T12:09:54.083Z"
   },
   {
    "duration": 65,
    "start_time": "2021-08-27T12:09:56.069Z"
   },
   {
    "duration": 10,
    "start_time": "2021-08-27T12:09:56.903Z"
   },
   {
    "duration": 12,
    "start_time": "2021-08-27T12:11:17.632Z"
   },
   {
    "duration": 4,
    "start_time": "2021-08-27T12:11:28.815Z"
   },
   {
    "duration": 360,
    "start_time": "2021-08-27T12:11:28.967Z"
   },
   {
    "duration": 14,
    "start_time": "2021-08-27T12:11:29.329Z"
   },
   {
    "duration": 19,
    "start_time": "2021-08-27T12:11:29.508Z"
   },
   {
    "duration": 18,
    "start_time": "2021-08-27T12:11:29.724Z"
   },
   {
    "duration": 220,
    "start_time": "2021-08-27T12:11:30.223Z"
   },
   {
    "duration": 83,
    "start_time": "2021-08-27T12:11:30.445Z"
   },
   {
    "duration": 38,
    "start_time": "2021-08-27T12:11:30.530Z"
   },
   {
    "duration": 13,
    "start_time": "2021-08-27T12:11:30.999Z"
   },
   {
    "duration": 25,
    "start_time": "2021-08-27T12:11:31.014Z"
   },
   {
    "duration": 17,
    "start_time": "2021-08-27T12:11:31.041Z"
   },
   {
    "duration": 130,
    "start_time": "2021-08-27T12:11:31.235Z"
   },
   {
    "duration": 50,
    "start_time": "2021-08-27T12:11:31.455Z"
   },
   {
    "duration": 29,
    "start_time": "2021-08-27T12:11:31.641Z"
   },
   {
    "duration": 11,
    "start_time": "2021-08-27T12:11:32.237Z"
   },
   {
    "duration": 16,
    "start_time": "2021-08-27T12:11:32.439Z"
   },
   {
    "duration": 13,
    "start_time": "2021-08-27T12:11:33.072Z"
   },
   {
    "duration": 103,
    "start_time": "2021-08-27T12:11:33.087Z"
   },
   {
    "duration": 52,
    "start_time": "2021-08-27T12:11:33.192Z"
   },
   {
    "duration": 15,
    "start_time": "2021-08-27T12:11:33.678Z"
   },
   {
    "duration": 8,
    "start_time": "2021-08-27T12:11:33.767Z"
   },
   {
    "duration": 7,
    "start_time": "2021-08-27T12:11:33.859Z"
   },
   {
    "duration": 5,
    "start_time": "2021-08-27T12:11:34.040Z"
   },
   {
    "duration": 14,
    "start_time": "2021-08-27T12:11:34.635Z"
   },
   {
    "duration": 9,
    "start_time": "2021-08-27T12:11:34.650Z"
   },
   {
    "duration": 28,
    "start_time": "2021-08-27T12:11:34.661Z"
   },
   {
    "duration": 13,
    "start_time": "2021-08-27T12:11:35.400Z"
   },
   {
    "duration": 10,
    "start_time": "2021-08-27T12:11:35.415Z"
   },
   {
    "duration": 5,
    "start_time": "2021-08-27T12:11:35.443Z"
   },
   {
    "duration": 16,
    "start_time": "2021-08-27T12:11:35.652Z"
   },
   {
    "duration": 7,
    "start_time": "2021-08-27T12:11:35.847Z"
   },
   {
    "duration": 17,
    "start_time": "2021-08-27T12:11:36.157Z"
   },
   {
    "duration": 74,
    "start_time": "2021-08-27T12:11:37.787Z"
   },
   {
    "duration": 12,
    "start_time": "2021-08-27T12:11:39.453Z"
   },
   {
    "duration": 12,
    "start_time": "2021-08-27T12:11:51.309Z"
   },
   {
    "duration": 11,
    "start_time": "2021-08-27T12:12:03.720Z"
   },
   {
    "duration": 3,
    "start_time": "2021-08-27T12:12:12.608Z"
   },
   {
    "duration": 390,
    "start_time": "2021-08-27T12:12:12.893Z"
   },
   {
    "duration": 15,
    "start_time": "2021-08-27T12:12:13.285Z"
   },
   {
    "duration": 22,
    "start_time": "2021-08-27T12:12:13.967Z"
   },
   {
    "duration": 33,
    "start_time": "2021-08-27T12:12:13.992Z"
   },
   {
    "duration": 201,
    "start_time": "2021-08-27T12:12:14.028Z"
   },
   {
    "duration": 87,
    "start_time": "2021-08-27T12:12:14.231Z"
   },
   {
    "duration": 30,
    "start_time": "2021-08-27T12:12:14.396Z"
   },
   {
    "duration": 15,
    "start_time": "2021-08-27T12:12:14.427Z"
   },
   {
    "duration": 19,
    "start_time": "2021-08-27T12:12:14.603Z"
   },
   {
    "duration": 19,
    "start_time": "2021-08-27T12:12:14.804Z"
   },
   {
    "duration": 135,
    "start_time": "2021-08-27T12:12:14.987Z"
   },
   {
    "duration": 48,
    "start_time": "2021-08-27T12:12:15.175Z"
   },
   {
    "duration": 40,
    "start_time": "2021-08-27T12:12:15.384Z"
   },
   {
    "duration": 12,
    "start_time": "2021-08-27T12:12:15.756Z"
   },
   {
    "duration": 14,
    "start_time": "2021-08-27T12:12:15.931Z"
   },
   {
    "duration": 13,
    "start_time": "2021-08-27T12:12:16.336Z"
   },
   {
    "duration": 89,
    "start_time": "2021-08-27T12:12:16.515Z"
   },
   {
    "duration": 39,
    "start_time": "2021-08-27T12:12:16.687Z"
   },
   {
    "duration": 15,
    "start_time": "2021-08-27T12:12:16.872Z"
   },
   {
    "duration": 8,
    "start_time": "2021-08-27T12:12:17.223Z"
   },
   {
    "duration": 6,
    "start_time": "2021-08-27T12:12:17.411Z"
   },
   {
    "duration": 5,
    "start_time": "2021-08-27T12:12:17.604Z"
   },
   {
    "duration": 13,
    "start_time": "2021-08-27T12:12:18.008Z"
   },
   {
    "duration": 6,
    "start_time": "2021-08-27T12:12:18.191Z"
   },
   {
    "duration": 28,
    "start_time": "2021-08-27T12:12:18.384Z"
   },
   {
    "duration": 12,
    "start_time": "2021-08-27T12:12:18.791Z"
   },
   {
    "duration": 7,
    "start_time": "2021-08-27T12:12:18.987Z"
   },
   {
    "duration": 7,
    "start_time": "2021-08-27T12:12:19.183Z"
   },
   {
    "duration": 19,
    "start_time": "2021-08-27T12:12:19.379Z"
   },
   {
    "duration": 7,
    "start_time": "2021-08-27T12:12:19.571Z"
   },
   {
    "duration": 17,
    "start_time": "2021-08-27T12:12:19.791Z"
   },
   {
    "duration": 62,
    "start_time": "2021-08-27T12:12:21.164Z"
   },
   {
    "duration": 11,
    "start_time": "2021-08-27T12:12:21.569Z"
   },
   {
    "duration": 11,
    "start_time": "2021-08-27T12:33:55.674Z"
   },
   {
    "duration": 3,
    "start_time": "2021-08-27T12:35:45.426Z"
   },
   {
    "duration": 360,
    "start_time": "2021-08-27T12:35:45.778Z"
   },
   {
    "duration": 14,
    "start_time": "2021-08-27T12:35:46.275Z"
   },
   {
    "duration": 21,
    "start_time": "2021-08-27T12:35:46.291Z"
   },
   {
    "duration": 18,
    "start_time": "2021-08-27T12:35:46.439Z"
   },
   {
    "duration": 176,
    "start_time": "2021-08-27T12:35:46.591Z"
   },
   {
    "duration": 77,
    "start_time": "2021-08-27T12:35:46.782Z"
   },
   {
    "duration": 27,
    "start_time": "2021-08-27T12:35:46.955Z"
   },
   {
    "duration": 13,
    "start_time": "2021-08-27T12:35:47.295Z"
   },
   {
    "duration": 18,
    "start_time": "2021-08-27T12:35:47.483Z"
   },
   {
    "duration": 16,
    "start_time": "2021-08-27T12:35:47.674Z"
   },
   {
    "duration": 124,
    "start_time": "2021-08-27T12:35:48.273Z"
   },
   {
    "duration": 52,
    "start_time": "2021-08-27T12:35:48.399Z"
   },
   {
    "duration": 28,
    "start_time": "2021-08-27T12:35:48.453Z"
   },
   {
    "duration": 11,
    "start_time": "2021-08-27T12:35:48.902Z"
   },
   {
    "duration": 27,
    "start_time": "2021-08-27T12:35:48.915Z"
   },
   {
    "duration": 13,
    "start_time": "2021-08-27T12:35:49.039Z"
   },
   {
    "duration": 95,
    "start_time": "2021-08-27T12:35:49.751Z"
   },
   {
    "duration": 44,
    "start_time": "2021-08-27T12:35:49.847Z"
   },
   {
    "duration": 15,
    "start_time": "2021-08-27T12:35:49.892Z"
   },
   {
    "duration": 14,
    "start_time": "2021-08-27T12:35:49.908Z"
   },
   {
    "duration": 6,
    "start_time": "2021-08-27T12:35:50.083Z"
   },
   {
    "duration": 6,
    "start_time": "2021-08-27T12:35:50.303Z"
   },
   {
    "duration": 13,
    "start_time": "2021-08-27T12:35:50.475Z"
   },
   {
    "duration": 6,
    "start_time": "2021-08-27T12:35:50.679Z"
   },
   {
    "duration": 27,
    "start_time": "2021-08-27T12:35:51.118Z"
   },
   {
    "duration": 13,
    "start_time": "2021-08-27T12:35:51.262Z"
   },
   {
    "duration": 6,
    "start_time": "2021-08-27T12:35:51.735Z"
   },
   {
    "duration": 23,
    "start_time": "2021-08-27T12:35:51.743Z"
   },
   {
    "duration": 15,
    "start_time": "2021-08-27T12:35:52.263Z"
   },
   {
    "duration": 23,
    "start_time": "2021-08-27T12:35:52.280Z"
   },
   {
    "duration": 40,
    "start_time": "2021-08-27T12:35:52.305Z"
   },
   {
    "duration": 59,
    "start_time": "2021-08-27T12:35:53.647Z"
   },
   {
    "duration": 10,
    "start_time": "2021-08-27T12:35:56.566Z"
   },
   {
    "duration": 11,
    "start_time": "2021-08-27T12:35:57.942Z"
   },
   {
    "duration": 1077,
    "start_time": "2021-08-27T13:16:33.852Z"
   },
   {
    "duration": 423,
    "start_time": "2021-08-27T13:16:34.931Z"
   },
   {
    "duration": 19,
    "start_time": "2021-08-27T13:16:35.356Z"
   },
   {
    "duration": 24,
    "start_time": "2021-08-27T13:16:35.377Z"
   },
   {
    "duration": 23,
    "start_time": "2021-08-27T13:16:35.403Z"
   },
   {
    "duration": 239,
    "start_time": "2021-08-27T13:16:35.428Z"
   },
   {
    "duration": 110,
    "start_time": "2021-08-27T13:16:35.668Z"
   },
   {
    "duration": 34,
    "start_time": "2021-08-27T13:16:35.781Z"
   },
   {
    "duration": 31,
    "start_time": "2021-08-27T13:16:35.817Z"
   },
   {
    "duration": 18,
    "start_time": "2021-08-27T13:16:35.849Z"
   },
   {
    "duration": 32,
    "start_time": "2021-08-27T13:16:35.869Z"
   },
   {
    "duration": 161,
    "start_time": "2021-08-27T13:16:35.902Z"
   },
   {
    "duration": 64,
    "start_time": "2021-08-27T13:16:36.065Z"
   },
   {
    "duration": 32,
    "start_time": "2021-08-27T13:16:36.141Z"
   },
   {
    "duration": 11,
    "start_time": "2021-08-27T13:16:36.174Z"
   },
   {
    "duration": 40,
    "start_time": "2021-08-27T13:16:36.187Z"
   },
   {
    "duration": 36,
    "start_time": "2021-08-27T13:16:36.229Z"
   },
   {
    "duration": 112,
    "start_time": "2021-08-27T13:16:36.267Z"
   },
   {
    "duration": 46,
    "start_time": "2021-08-27T13:16:36.381Z"
   },
   {
    "duration": 19,
    "start_time": "2021-08-27T13:16:36.441Z"
   },
   {
    "duration": 17,
    "start_time": "2021-08-27T13:16:36.462Z"
   },
   {
    "duration": 22,
    "start_time": "2021-08-27T13:16:36.481Z"
   },
   {
    "duration": 12,
    "start_time": "2021-08-27T13:16:36.507Z"
   },
   {
    "duration": 41,
    "start_time": "2021-08-27T13:16:36.521Z"
   },
   {
    "duration": 12,
    "start_time": "2021-08-27T13:16:36.564Z"
   },
   {
    "duration": 34,
    "start_time": "2021-08-27T13:16:36.578Z"
   },
   {
    "duration": 12,
    "start_time": "2021-08-27T13:16:36.614Z"
   },
   {
    "duration": 20,
    "start_time": "2021-08-27T13:16:36.628Z"
   },
   {
    "duration": 27,
    "start_time": "2021-08-27T13:16:36.650Z"
   },
   {
    "duration": 37,
    "start_time": "2021-08-27T13:16:36.679Z"
   },
   {
    "duration": 7,
    "start_time": "2021-08-27T13:16:36.717Z"
   },
   {
    "duration": 29,
    "start_time": "2021-08-27T13:16:36.726Z"
   },
   {
    "duration": 79,
    "start_time": "2021-08-27T13:16:36.757Z"
   },
   {
    "duration": 13,
    "start_time": "2021-08-27T13:16:36.837Z"
   },
   {
    "duration": 22,
    "start_time": "2021-08-27T13:16:36.852Z"
   },
   {
    "duration": 3,
    "start_time": "2021-08-27T13:19:55.188Z"
   },
   {
    "duration": 408,
    "start_time": "2021-08-27T13:19:56.168Z"
   },
   {
    "duration": 17,
    "start_time": "2021-08-27T13:19:58.592Z"
   },
   {
    "duration": 23,
    "start_time": "2021-08-27T13:25:28.985Z"
   },
   {
    "duration": 22,
    "start_time": "2021-08-27T13:25:30.221Z"
   },
   {
    "duration": 214,
    "start_time": "2021-08-27T13:25:31.689Z"
   },
   {
    "duration": 103,
    "start_time": "2021-08-27T13:25:33.797Z"
   },
   {
    "duration": 30,
    "start_time": "2021-08-27T13:25:39.317Z"
   },
   {
    "duration": 15,
    "start_time": "2021-08-27T13:25:41.502Z"
   },
   {
    "duration": 19,
    "start_time": "2021-08-27T13:25:48.269Z"
   },
   {
    "duration": 19,
    "start_time": "2021-08-27T13:25:53.326Z"
   },
   {
    "duration": 149,
    "start_time": "2021-08-27T13:26:06.333Z"
   },
   {
    "duration": 56,
    "start_time": "2021-08-27T13:26:06.789Z"
   },
   {
    "duration": 31,
    "start_time": "2021-08-27T13:26:09.921Z"
   },
   {
    "duration": 12,
    "start_time": "2021-08-27T13:26:11.446Z"
   },
   {
    "duration": 19,
    "start_time": "2021-08-27T13:27:37.297Z"
   },
   {
    "duration": 15,
    "start_time": "2021-08-27T13:27:44.042Z"
   },
   {
    "duration": 1054,
    "start_time": "2021-08-27T13:33:40.372Z"
   },
   {
    "duration": 409,
    "start_time": "2021-08-27T13:33:41.428Z"
   },
   {
    "duration": 20,
    "start_time": "2021-08-27T13:33:41.840Z"
   },
   {
    "duration": 23,
    "start_time": "2021-08-27T13:33:41.862Z"
   },
   {
    "duration": 28,
    "start_time": "2021-08-27T13:33:41.887Z"
   },
   {
    "duration": 261,
    "start_time": "2021-08-27T13:33:41.917Z"
   },
   {
    "duration": 106,
    "start_time": "2021-08-27T13:33:42.180Z"
   },
   {
    "duration": 32,
    "start_time": "2021-08-27T13:33:42.289Z"
   },
   {
    "duration": 27,
    "start_time": "2021-08-27T13:33:42.323Z"
   },
   {
    "duration": 19,
    "start_time": "2021-08-27T13:33:42.352Z"
   },
   {
    "duration": 18,
    "start_time": "2021-08-27T13:33:42.373Z"
   },
   {
    "duration": 171,
    "start_time": "2021-08-27T13:33:42.393Z"
   },
   {
    "duration": 76,
    "start_time": "2021-08-27T13:33:42.566Z"
   },
   {
    "duration": 32,
    "start_time": "2021-08-27T13:33:42.643Z"
   },
   {
    "duration": 11,
    "start_time": "2021-08-27T13:33:42.677Z"
   },
   {
    "duration": 28,
    "start_time": "2021-08-27T13:33:42.690Z"
   },
   {
    "duration": 29,
    "start_time": "2021-08-27T13:33:42.720Z"
   },
   {
    "duration": 113,
    "start_time": "2021-08-27T13:33:42.751Z"
   },
   {
    "duration": 45,
    "start_time": "2021-08-27T13:33:42.865Z"
   },
   {
    "duration": 40,
    "start_time": "2021-08-27T13:33:42.912Z"
   },
   {
    "duration": 7,
    "start_time": "2021-08-27T13:33:42.954Z"
   },
   {
    "duration": 17,
    "start_time": "2021-08-27T13:33:42.963Z"
   },
   {
    "duration": 6,
    "start_time": "2021-08-27T13:33:42.983Z"
   },
   {
    "duration": 16,
    "start_time": "2021-08-27T13:33:42.991Z"
   },
   {
    "duration": 5,
    "start_time": "2021-08-27T13:33:43.009Z"
   },
   {
    "duration": 48,
    "start_time": "2021-08-27T13:33:43.016Z"
   },
   {
    "duration": 15,
    "start_time": "2021-08-27T13:33:43.065Z"
   },
   {
    "duration": 15,
    "start_time": "2021-08-27T13:33:43.082Z"
   },
   {
    "duration": 21,
    "start_time": "2021-08-27T13:33:43.099Z"
   },
   {
    "duration": 32,
    "start_time": "2021-08-27T13:33:43.122Z"
   },
   {
    "duration": 6,
    "start_time": "2021-08-27T13:33:43.156Z"
   },
   {
    "duration": 19,
    "start_time": "2021-08-27T13:33:43.164Z"
   },
   {
    "duration": 93,
    "start_time": "2021-08-27T13:33:43.184Z"
   },
   {
    "duration": 13,
    "start_time": "2021-08-27T13:33:43.279Z"
   },
   {
    "duration": 13,
    "start_time": "2021-08-27T13:33:43.294Z"
   },
   {
    "duration": 1128,
    "start_time": "2021-08-27T14:09:37.705Z"
   },
   {
    "duration": 448,
    "start_time": "2021-08-27T14:09:38.835Z"
   },
   {
    "duration": 21,
    "start_time": "2021-08-27T14:09:39.285Z"
   },
   {
    "duration": 22,
    "start_time": "2021-08-27T14:09:39.308Z"
   },
   {
    "duration": 30,
    "start_time": "2021-08-27T14:09:39.333Z"
   },
   {
    "duration": 256,
    "start_time": "2021-08-27T14:09:39.366Z"
   },
   {
    "duration": 124,
    "start_time": "2021-08-27T14:09:39.624Z"
   },
   {
    "duration": 36,
    "start_time": "2021-08-27T14:09:39.751Z"
   },
   {
    "duration": 15,
    "start_time": "2021-08-27T14:09:39.789Z"
   },
   {
    "duration": 49,
    "start_time": "2021-08-27T14:09:39.806Z"
   },
   {
    "duration": 18,
    "start_time": "2021-08-27T14:09:39.858Z"
   },
   {
    "duration": 190,
    "start_time": "2021-08-27T14:09:39.878Z"
   },
   {
    "duration": 74,
    "start_time": "2021-08-27T14:09:40.070Z"
   },
   {
    "duration": 39,
    "start_time": "2021-08-27T14:09:40.149Z"
   },
   {
    "duration": 12,
    "start_time": "2021-08-27T14:09:40.190Z"
   },
   {
    "duration": 16,
    "start_time": "2021-08-27T14:09:40.204Z"
   },
   {
    "duration": 44,
    "start_time": "2021-08-27T14:09:40.222Z"
   },
   {
    "duration": 133,
    "start_time": "2021-08-27T14:09:40.268Z"
   },
   {
    "duration": 58,
    "start_time": "2021-08-27T14:09:40.403Z"
   },
   {
    "duration": 16,
    "start_time": "2021-08-27T14:09:40.463Z"
   },
   {
    "duration": 8,
    "start_time": "2021-08-27T14:09:40.481Z"
   },
   {
    "duration": 10,
    "start_time": "2021-08-27T14:09:40.491Z"
   },
   {
    "duration": 10,
    "start_time": "2021-08-27T14:09:40.503Z"
   },
   {
    "duration": 48,
    "start_time": "2021-08-27T14:09:40.515Z"
   },
   {
    "duration": 6,
    "start_time": "2021-08-27T14:09:40.564Z"
   },
   {
    "duration": 31,
    "start_time": "2021-08-27T14:09:40.571Z"
   },
   {
    "duration": 13,
    "start_time": "2021-08-27T14:09:40.605Z"
   },
   {
    "duration": 13,
    "start_time": "2021-08-27T14:09:40.643Z"
   },
   {
    "duration": 8,
    "start_time": "2021-08-27T14:09:40.658Z"
   },
   {
    "duration": 21,
    "start_time": "2021-08-27T14:09:40.668Z"
   },
   {
    "duration": 7,
    "start_time": "2021-08-27T14:09:40.690Z"
   },
   {
    "duration": 62,
    "start_time": "2021-08-27T14:09:40.699Z"
   },
   {
    "duration": 68,
    "start_time": "2021-08-27T14:09:40.763Z"
   },
   {
    "duration": 22,
    "start_time": "2021-08-27T14:09:40.833Z"
   },
   {
    "duration": 11,
    "start_time": "2021-08-27T14:09:40.857Z"
   },
   {
    "duration": 6,
    "start_time": "2021-08-27T14:09:40.870Z"
   },
   {
    "duration": 5,
    "start_time": "2021-08-27T14:11:15.949Z"
   },
   {
    "duration": 575,
    "start_time": "2021-08-27T14:11:18.876Z"
   },
   {
    "duration": 6,
    "start_time": "2021-08-27T14:11:27.620Z"
   },
   {
    "duration": 21,
    "start_time": "2021-08-27T14:12:08.641Z"
   },
   {
    "duration": 6,
    "start_time": "2021-08-27T14:12:31.636Z"
   },
   {
    "duration": 3,
    "start_time": "2021-08-27T14:18:53.361Z"
   },
   {
    "duration": 428,
    "start_time": "2021-08-27T14:18:54.047Z"
   },
   {
    "duration": 14,
    "start_time": "2021-08-27T14:18:54.477Z"
   },
   {
    "duration": 25,
    "start_time": "2021-08-27T14:18:54.494Z"
   },
   {
    "duration": 25,
    "start_time": "2021-08-27T14:18:54.521Z"
   },
   {
    "duration": 247,
    "start_time": "2021-08-27T14:18:54.649Z"
   },
   {
    "duration": 110,
    "start_time": "2021-08-27T14:18:54.898Z"
   },
   {
    "duration": 55,
    "start_time": "2021-08-27T14:18:55.010Z"
   },
   {
    "duration": 21,
    "start_time": "2021-08-27T14:18:55.329Z"
   },
   {
    "duration": 21,
    "start_time": "2021-08-27T14:18:55.525Z"
   },
   {
    "duration": 18,
    "start_time": "2021-08-27T14:18:55.697Z"
   },
   {
    "duration": 171,
    "start_time": "2021-08-27T14:18:55.889Z"
   },
   {
    "duration": 67,
    "start_time": "2021-08-27T14:18:56.113Z"
   },
   {
    "duration": 32,
    "start_time": "2021-08-27T14:18:56.293Z"
   },
   {
    "duration": 12,
    "start_time": "2021-08-27T14:18:56.669Z"
   },
   {
    "duration": 24,
    "start_time": "2021-08-27T14:18:56.842Z"
   },
   {
    "duration": 15,
    "start_time": "2021-08-27T14:18:57.013Z"
   },
   {
    "duration": 115,
    "start_time": "2021-08-27T14:18:57.213Z"
   },
   {
    "duration": 51,
    "start_time": "2021-08-27T14:18:57.432Z"
   },
   {
    "duration": 22,
    "start_time": "2021-08-27T14:18:57.597Z"
   },
   {
    "duration": 12,
    "start_time": "2021-08-27T14:18:57.998Z"
   },
   {
    "duration": 7,
    "start_time": "2021-08-27T14:18:58.190Z"
   },
   {
    "duration": 6,
    "start_time": "2021-08-27T14:18:58.833Z"
   },
   {
    "duration": 17,
    "start_time": "2021-08-27T14:18:59.055Z"
   },
   {
    "duration": 6,
    "start_time": "2021-08-27T14:18:59.273Z"
   },
   {
    "duration": 28,
    "start_time": "2021-08-27T14:18:59.485Z"
   },
   {
    "duration": 14,
    "start_time": "2021-08-27T14:18:59.921Z"
   },
   {
    "duration": 7,
    "start_time": "2021-08-27T14:19:00.209Z"
   },
   {
    "duration": 6,
    "start_time": "2021-08-27T14:19:01.567Z"
   },
   {
    "duration": 40,
    "start_time": "2021-08-27T14:19:01.575Z"
   },
   {
    "duration": 16,
    "start_time": "2021-08-27T14:19:01.618Z"
   },
   {
    "duration": 42,
    "start_time": "2021-08-27T14:19:01.636Z"
   },
   {
    "duration": 83,
    "start_time": "2021-08-27T14:19:03.501Z"
   },
   {
    "duration": 15,
    "start_time": "2021-08-27T14:19:12.905Z"
   },
   {
    "duration": 14,
    "start_time": "2021-08-27T14:19:30.134Z"
   },
   {
    "duration": 4,
    "start_time": "2021-08-27T14:20:24.781Z"
   },
   {
    "duration": 445,
    "start_time": "2021-08-27T14:20:25.109Z"
   },
   {
    "duration": 17,
    "start_time": "2021-08-27T14:20:25.556Z"
   },
   {
    "duration": 31,
    "start_time": "2021-08-27T14:20:25.742Z"
   },
   {
    "duration": 40,
    "start_time": "2021-08-27T14:20:25.847Z"
   },
   {
    "duration": 268,
    "start_time": "2021-08-27T14:20:26.011Z"
   },
   {
    "duration": 109,
    "start_time": "2021-08-27T14:20:26.281Z"
   },
   {
    "duration": 53,
    "start_time": "2021-08-27T14:20:26.392Z"
   },
   {
    "duration": 18,
    "start_time": "2021-08-27T14:20:26.746Z"
   },
   {
    "duration": 25,
    "start_time": "2021-08-27T14:20:26.930Z"
   },
   {
    "duration": 18,
    "start_time": "2021-08-27T14:20:27.097Z"
   },
   {
    "duration": 177,
    "start_time": "2021-08-27T14:20:27.313Z"
   },
   {
    "duration": 62,
    "start_time": "2021-08-27T14:20:27.500Z"
   },
   {
    "duration": 33,
    "start_time": "2021-08-27T14:20:27.685Z"
   },
   {
    "duration": 14,
    "start_time": "2021-08-27T14:20:28.050Z"
   },
   {
    "duration": 29,
    "start_time": "2021-08-27T14:20:28.237Z"
   },
   {
    "duration": 16,
    "start_time": "2021-08-27T14:20:28.601Z"
   },
   {
    "duration": 116,
    "start_time": "2021-08-27T14:20:28.805Z"
   },
   {
    "duration": 39,
    "start_time": "2021-08-27T14:20:28.993Z"
   },
   {
    "duration": 28,
    "start_time": "2021-08-27T14:20:29.233Z"
   },
   {
    "duration": 11,
    "start_time": "2021-08-27T14:20:29.642Z"
   },
   {
    "duration": 9,
    "start_time": "2021-08-27T14:20:29.909Z"
   },
   {
    "duration": 8,
    "start_time": "2021-08-27T14:20:30.124Z"
   },
   {
    "duration": 18,
    "start_time": "2021-08-27T14:20:30.354Z"
   },
   {
    "duration": 9,
    "start_time": "2021-08-27T14:20:30.548Z"
   },
   {
    "duration": 30,
    "start_time": "2021-08-27T14:20:30.710Z"
   },
   {
    "duration": 14,
    "start_time": "2021-08-27T14:20:31.185Z"
   },
   {
    "duration": 7,
    "start_time": "2021-08-27T14:20:31.417Z"
   },
   {
    "duration": 6,
    "start_time": "2021-08-27T14:20:31.617Z"
   },
   {
    "duration": 28,
    "start_time": "2021-08-27T14:20:31.837Z"
   },
   {
    "duration": 7,
    "start_time": "2021-08-27T14:20:32.085Z"
   },
   {
    "duration": 18,
    "start_time": "2021-08-27T14:20:32.321Z"
   },
   {
    "duration": 76,
    "start_time": "2021-08-27T14:20:34.086Z"
   },
   {
    "duration": 10,
    "start_time": "2021-08-27T14:20:36.817Z"
   },
   {
    "duration": 9,
    "start_time": "2021-08-27T14:20:37.658Z"
   },
   {
    "duration": 6,
    "start_time": "2021-08-27T14:20:38.030Z"
   },
   {
    "duration": 67,
    "start_time": "2021-08-27T14:40:49.345Z"
   },
   {
    "duration": 72,
    "start_time": "2021-08-27T14:41:40.581Z"
   },
   {
    "duration": 45,
    "start_time": "2021-08-27T14:45:50.290Z"
   },
   {
    "duration": 73,
    "start_time": "2021-08-27T14:47:19.823Z"
   },
   {
    "duration": 45,
    "start_time": "2021-08-27T14:47:51.061Z"
   },
   {
    "duration": 29,
    "start_time": "2021-08-27T14:54:32.094Z"
   },
   {
    "duration": 45,
    "start_time": "2021-08-27T14:55:21.719Z"
   },
   {
    "duration": 26,
    "start_time": "2021-08-27T14:56:08.715Z"
   },
   {
    "duration": 396,
    "start_time": "2021-08-27T14:56:39.288Z"
   },
   {
    "duration": 27,
    "start_time": "2021-08-27T14:56:55.902Z"
   },
   {
    "duration": 294,
    "start_time": "2021-08-27T14:58:09.907Z"
   },
   {
    "duration": 53,
    "start_time": "2021-08-27T14:58:29.453Z"
   },
   {
    "duration": 51,
    "start_time": "2021-08-27T14:58:38.247Z"
   },
   {
    "duration": 55,
    "start_time": "2021-08-27T14:58:55.839Z"
   },
   {
    "duration": 358,
    "start_time": "2021-08-27T15:03:39.903Z"
   },
   {
    "duration": 40,
    "start_time": "2021-08-27T15:04:05.068Z"
   },
   {
    "duration": 46,
    "start_time": "2021-08-27T15:17:08.742Z"
   },
   {
    "duration": 1330,
    "start_time": "2021-08-27T15:18:00.286Z"
   },
   {
    "duration": 3,
    "start_time": "2021-08-27T15:18:34.186Z"
   },
   {
    "duration": 388,
    "start_time": "2021-08-27T15:18:34.530Z"
   },
   {
    "duration": 15,
    "start_time": "2021-08-27T15:18:34.920Z"
   },
   {
    "duration": 21,
    "start_time": "2021-08-27T15:18:35.022Z"
   },
   {
    "duration": 21,
    "start_time": "2021-08-27T15:18:35.174Z"
   },
   {
    "duration": 209,
    "start_time": "2021-08-27T15:18:35.338Z"
   },
   {
    "duration": 107,
    "start_time": "2021-08-27T15:18:35.550Z"
   },
   {
    "duration": 31,
    "start_time": "2021-08-27T15:18:35.669Z"
   },
   {
    "duration": 14,
    "start_time": "2021-08-27T15:18:36.018Z"
   },
   {
    "duration": 19,
    "start_time": "2021-08-27T15:18:36.186Z"
   },
   {
    "duration": 19,
    "start_time": "2021-08-27T15:18:36.370Z"
   },
   {
    "duration": 140,
    "start_time": "2021-08-27T15:18:36.530Z"
   },
   {
    "duration": 52,
    "start_time": "2021-08-27T15:18:36.718Z"
   },
   {
    "duration": 29,
    "start_time": "2021-08-27T15:18:36.886Z"
   },
   {
    "duration": 12,
    "start_time": "2021-08-27T15:18:37.256Z"
   },
   {
    "duration": 15,
    "start_time": "2021-08-27T15:18:37.466Z"
   },
   {
    "duration": 15,
    "start_time": "2021-08-27T15:18:37.638Z"
   },
   {
    "duration": 106,
    "start_time": "2021-08-27T15:18:37.842Z"
   },
   {
    "duration": 43,
    "start_time": "2021-08-27T15:18:38.050Z"
   },
   {
    "duration": 18,
    "start_time": "2021-08-27T15:18:38.214Z"
   },
   {
    "duration": 8,
    "start_time": "2021-08-27T15:18:38.581Z"
   },
   {
    "duration": 7,
    "start_time": "2021-08-27T15:18:39.007Z"
   },
   {
    "duration": 8,
    "start_time": "2021-08-27T15:18:39.016Z"
   },
   {
    "duration": 15,
    "start_time": "2021-08-27T15:18:39.104Z"
   },
   {
    "duration": 6,
    "start_time": "2021-08-27T15:18:39.288Z"
   },
   {
    "duration": 29,
    "start_time": "2021-08-27T15:18:39.470Z"
   },
   {
    "duration": 13,
    "start_time": "2021-08-27T15:18:39.886Z"
   },
   {
    "duration": 7,
    "start_time": "2021-08-27T15:18:40.054Z"
   },
   {
    "duration": 6,
    "start_time": "2021-08-27T15:18:40.242Z"
   },
   {
    "duration": 17,
    "start_time": "2021-08-27T15:18:40.434Z"
   },
   {
    "duration": 7,
    "start_time": "2021-08-27T15:18:40.626Z"
   },
   {
    "duration": 17,
    "start_time": "2021-08-27T15:18:40.810Z"
   },
   {
    "duration": 66,
    "start_time": "2021-08-27T15:18:41.988Z"
   },
   {
    "duration": 10,
    "start_time": "2021-08-27T15:18:42.555Z"
   },
   {
    "duration": 9,
    "start_time": "2021-08-27T15:18:42.748Z"
   },
   {
    "duration": 57,
    "start_time": "2021-08-27T15:18:43.310Z"
   },
   {
    "duration": 36,
    "start_time": "2021-08-27T15:18:43.739Z"
   },
   {
    "duration": 1263,
    "start_time": "2021-08-27T15:18:44.170Z"
   },
   {
    "duration": 41,
    "start_time": "2021-08-27T15:22:12.571Z"
   },
   {
    "duration": 3,
    "start_time": "2021-08-27T15:38:56.821Z"
   },
   {
    "duration": 396,
    "start_time": "2021-08-27T15:38:57.137Z"
   },
   {
    "duration": 13,
    "start_time": "2021-08-27T15:38:57.535Z"
   },
   {
    "duration": 21,
    "start_time": "2021-08-27T15:38:57.693Z"
   },
   {
    "duration": 20,
    "start_time": "2021-08-27T15:38:57.869Z"
   },
   {
    "duration": 228,
    "start_time": "2021-08-27T15:38:58.097Z"
   },
   {
    "duration": 88,
    "start_time": "2021-08-27T15:38:58.328Z"
   },
   {
    "duration": 28,
    "start_time": "2021-08-27T15:38:58.469Z"
   },
   {
    "duration": 15,
    "start_time": "2021-08-27T15:38:58.817Z"
   },
   {
    "duration": 17,
    "start_time": "2021-08-27T15:38:58.993Z"
   },
   {
    "duration": 18,
    "start_time": "2021-08-27T15:38:59.173Z"
   },
   {
    "duration": 144,
    "start_time": "2021-08-27T15:38:59.364Z"
   },
   {
    "duration": 55,
    "start_time": "2021-08-27T15:38:59.586Z"
   },
   {
    "duration": 31,
    "start_time": "2021-08-27T15:38:59.753Z"
   },
   {
    "duration": 11,
    "start_time": "2021-08-27T15:39:00.119Z"
   },
   {
    "duration": 19,
    "start_time": "2021-08-27T15:39:00.388Z"
   },
   {
    "duration": 17,
    "start_time": "2021-08-27T15:39:01.572Z"
   },
   {
    "duration": 122,
    "start_time": "2021-08-27T15:39:01.591Z"
   },
   {
    "duration": 50,
    "start_time": "2021-08-27T15:39:01.715Z"
   },
   {
    "duration": 17,
    "start_time": "2021-08-27T15:39:01.767Z"
   },
   {
    "duration": 18,
    "start_time": "2021-08-27T15:39:01.786Z"
   },
   {
    "duration": 28,
    "start_time": "2021-08-27T15:39:01.806Z"
   },
   {
    "duration": 7,
    "start_time": "2021-08-27T15:39:01.869Z"
   },
   {
    "duration": 14,
    "start_time": "2021-08-27T15:39:02.021Z"
   },
   {
    "duration": 7,
    "start_time": "2021-08-27T15:39:02.273Z"
   },
   {
    "duration": 30,
    "start_time": "2021-08-27T15:39:02.405Z"
   },
   {
    "duration": 13,
    "start_time": "2021-08-27T15:39:03.008Z"
   },
   {
    "duration": 37,
    "start_time": "2021-08-27T15:39:03.023Z"
   },
   {
    "duration": 6,
    "start_time": "2021-08-27T15:39:03.210Z"
   },
   {
    "duration": 17,
    "start_time": "2021-08-27T15:39:03.401Z"
   },
   {
    "duration": 7,
    "start_time": "2021-08-27T15:39:03.639Z"
   },
   {
    "duration": 22,
    "start_time": "2021-08-27T15:39:03.967Z"
   },
   {
    "duration": 69,
    "start_time": "2021-08-27T15:39:14.403Z"
   },
   {
    "duration": 10,
    "start_time": "2021-08-27T15:39:17.085Z"
   },
   {
    "duration": 10,
    "start_time": "2021-08-27T15:39:18.109Z"
   },
   {
    "duration": 54,
    "start_time": "2021-08-27T15:39:23.022Z"
   },
   {
    "duration": 42,
    "start_time": "2021-08-27T15:40:25.977Z"
   },
   {
    "duration": 46,
    "start_time": "2021-08-27T15:40:34.018Z"
   },
   {
    "duration": 22,
    "start_time": "2021-08-27T16:04:49.821Z"
   },
   {
    "duration": 21,
    "start_time": "2021-08-27T16:07:53.513Z"
   },
   {
    "duration": 811,
    "start_time": "2021-08-27T16:39:03.606Z"
   },
   {
    "duration": 3,
    "start_time": "2021-08-27T16:39:31.196Z"
   },
   {
    "duration": 394,
    "start_time": "2021-08-27T16:39:31.537Z"
   },
   {
    "duration": 15,
    "start_time": "2021-08-27T16:39:31.933Z"
   },
   {
    "duration": 22,
    "start_time": "2021-08-27T16:39:32.059Z"
   },
   {
    "duration": 20,
    "start_time": "2021-08-27T16:39:32.256Z"
   },
   {
    "duration": 218,
    "start_time": "2021-08-27T16:39:32.445Z"
   },
   {
    "duration": 94,
    "start_time": "2021-08-27T16:39:32.665Z"
   },
   {
    "duration": 30,
    "start_time": "2021-08-27T16:39:32.854Z"
   },
   {
    "duration": 14,
    "start_time": "2021-08-27T16:39:33.186Z"
   },
   {
    "duration": 17,
    "start_time": "2021-08-27T16:39:33.370Z"
   },
   {
    "duration": 18,
    "start_time": "2021-08-27T16:39:33.558Z"
   },
   {
    "duration": 161,
    "start_time": "2021-08-27T16:39:33.738Z"
   },
   {
    "duration": 55,
    "start_time": "2021-08-27T16:39:33.961Z"
   },
   {
    "duration": 30,
    "start_time": "2021-08-27T16:39:34.130Z"
   },
   {
    "duration": 12,
    "start_time": "2021-08-27T16:39:34.482Z"
   },
   {
    "duration": 15,
    "start_time": "2021-08-27T16:39:34.678Z"
   },
   {
    "duration": 15,
    "start_time": "2021-08-27T16:39:34.854Z"
   },
   {
    "duration": 98,
    "start_time": "2021-08-27T16:39:35.046Z"
   },
   {
    "duration": 44,
    "start_time": "2021-08-27T16:39:35.286Z"
   },
   {
    "duration": 17,
    "start_time": "2021-08-27T16:39:35.485Z"
   },
   {
    "duration": 8,
    "start_time": "2021-08-27T16:39:36.030Z"
   },
   {
    "duration": 15,
    "start_time": "2021-08-27T16:39:36.040Z"
   },
   {
    "duration": 7,
    "start_time": "2021-08-27T16:39:36.252Z"
   },
   {
    "duration": 14,
    "start_time": "2021-08-27T16:39:36.436Z"
   },
   {
    "duration": 6,
    "start_time": "2021-08-27T16:39:36.648Z"
   },
   {
    "duration": 28,
    "start_time": "2021-08-27T16:39:36.822Z"
   },
   {
    "duration": 14,
    "start_time": "2021-08-27T16:39:37.226Z"
   },
   {
    "duration": 7,
    "start_time": "2021-08-27T16:39:37.418Z"
   },
   {
    "duration": 6,
    "start_time": "2021-08-27T16:39:37.629Z"
   },
   {
    "duration": 17,
    "start_time": "2021-08-27T16:39:37.826Z"
   },
   {
    "duration": 7,
    "start_time": "2021-08-27T16:39:38.023Z"
   },
   {
    "duration": 18,
    "start_time": "2021-08-27T16:39:38.218Z"
   },
   {
    "duration": 126,
    "start_time": "2021-08-27T16:39:39.407Z"
   },
   {
    "duration": 11,
    "start_time": "2021-08-27T16:39:39.899Z"
   },
   {
    "duration": 11,
    "start_time": "2021-08-27T16:39:40.090Z"
   },
   {
    "duration": 55,
    "start_time": "2021-08-27T16:39:40.670Z"
   },
   {
    "duration": 40,
    "start_time": "2021-08-27T16:39:41.062Z"
   },
   {
    "duration": 47,
    "start_time": "2021-08-27T16:39:41.448Z"
   },
   {
    "duration": 813,
    "start_time": "2021-08-27T16:39:41.828Z"
   },
   {
    "duration": 1636,
    "start_time": "2021-08-27T16:39:42.643Z"
   },
   {
    "duration": 22,
    "start_time": "2021-08-27T16:40:36.830Z"
   },
   {
    "duration": 24,
    "start_time": "2021-08-27T16:41:30.330Z"
   },
   {
    "duration": 5,
    "start_time": "2021-08-27T16:46:16.682Z"
   },
   {
    "duration": 45,
    "start_time": "2021-08-27T17:03:19.933Z"
   },
   {
    "duration": 52,
    "start_time": "2021-08-27T17:05:57.374Z"
   },
   {
    "duration": 39,
    "start_time": "2021-08-27T17:07:20.745Z"
   },
   {
    "duration": 3,
    "start_time": "2021-08-27T17:11:02.474Z"
   },
   {
    "duration": 335,
    "start_time": "2021-08-27T17:11:02.878Z"
   },
   {
    "duration": 13,
    "start_time": "2021-08-27T17:11:03.303Z"
   },
   {
    "duration": 20,
    "start_time": "2021-08-27T17:11:03.458Z"
   },
   {
    "duration": 19,
    "start_time": "2021-08-27T17:11:03.671Z"
   },
   {
    "duration": 197,
    "start_time": "2021-08-27T17:11:03.879Z"
   },
   {
    "duration": 82,
    "start_time": "2021-08-27T17:11:04.078Z"
   },
   {
    "duration": 27,
    "start_time": "2021-08-27T17:11:04.270Z"
   },
   {
    "duration": 14,
    "start_time": "2021-08-27T17:11:04.682Z"
   },
   {
    "duration": 16,
    "start_time": "2021-08-27T17:11:04.916Z"
   },
   {
    "duration": 18,
    "start_time": "2021-08-27T17:11:05.107Z"
   },
   {
    "duration": 122,
    "start_time": "2021-08-27T17:11:05.338Z"
   },
   {
    "duration": 46,
    "start_time": "2021-08-27T17:11:05.531Z"
   },
   {
    "duration": 27,
    "start_time": "2021-08-27T17:11:05.772Z"
   },
   {
    "duration": 11,
    "start_time": "2021-08-27T17:11:06.183Z"
   },
   {
    "duration": 13,
    "start_time": "2021-08-27T17:11:06.391Z"
   },
   {
    "duration": 12,
    "start_time": "2021-08-27T17:11:06.627Z"
   },
   {
    "duration": 83,
    "start_time": "2021-08-27T17:11:06.847Z"
   },
   {
    "duration": 37,
    "start_time": "2021-08-27T17:11:07.051Z"
   },
   {
    "duration": 16,
    "start_time": "2021-08-27T17:11:07.291Z"
   },
   {
    "duration": 8,
    "start_time": "2021-08-27T17:11:07.698Z"
   },
   {
    "duration": 7,
    "start_time": "2021-08-27T17:11:07.906Z"
   },
   {
    "duration": 6,
    "start_time": "2021-08-27T17:11:08.122Z"
   },
   {
    "duration": 12,
    "start_time": "2021-08-27T17:11:08.359Z"
   },
   {
    "duration": 6,
    "start_time": "2021-08-27T17:11:08.560Z"
   },
   {
    "duration": 28,
    "start_time": "2021-08-27T17:11:08.816Z"
   },
   {
    "duration": 12,
    "start_time": "2021-08-27T17:11:09.228Z"
   },
   {
    "duration": 7,
    "start_time": "2021-08-27T17:11:09.443Z"
   },
   {
    "duration": 5,
    "start_time": "2021-08-27T17:11:09.639Z"
   },
   {
    "duration": 18,
    "start_time": "2021-08-27T17:11:09.865Z"
   },
   {
    "duration": 6,
    "start_time": "2021-08-27T17:11:10.095Z"
   },
   {
    "duration": 16,
    "start_time": "2021-08-27T17:11:10.306Z"
   },
   {
    "duration": 58,
    "start_time": "2021-08-27T17:11:11.611Z"
   },
   {
    "duration": 9,
    "start_time": "2021-08-27T17:11:12.282Z"
   },
   {
    "duration": 9,
    "start_time": "2021-08-27T17:11:12.692Z"
   },
   {
    "duration": 47,
    "start_time": "2021-08-27T17:11:13.229Z"
   },
   {
    "duration": 50,
    "start_time": "2021-08-27T17:11:13.911Z"
   },
   {
    "duration": 36,
    "start_time": "2021-08-27T17:11:14.180Z"
   },
   {
    "duration": 43,
    "start_time": "2021-08-27T17:11:14.590Z"
   },
   {
    "duration": 19,
    "start_time": "2021-08-27T17:11:14.998Z"
   },
   {
    "duration": 21,
    "start_time": "2021-08-27T17:11:15.437Z"
   },
   {
    "duration": 4,
    "start_time": "2021-08-27T17:11:16.295Z"
   },
   {
    "duration": 40,
    "start_time": "2021-08-27T17:22:08.256Z"
   },
   {
    "duration": 3,
    "start_time": "2021-08-27T17:22:22.908Z"
   },
   {
    "duration": 346,
    "start_time": "2021-08-27T17:22:23.024Z"
   },
   {
    "duration": 14,
    "start_time": "2021-08-27T17:22:23.508Z"
   },
   {
    "duration": 20,
    "start_time": "2021-08-27T17:22:24.204Z"
   },
   {
    "duration": 20,
    "start_time": "2021-08-27T17:22:24.988Z"
   },
   {
    "duration": 200,
    "start_time": "2021-08-27T17:22:25.220Z"
   },
   {
    "duration": 91,
    "start_time": "2021-08-27T17:22:25.422Z"
   },
   {
    "duration": 30,
    "start_time": "2021-08-27T17:22:25.636Z"
   },
   {
    "duration": 14,
    "start_time": "2021-08-27T17:22:26.040Z"
   },
   {
    "duration": 17,
    "start_time": "2021-08-27T17:22:26.272Z"
   },
   {
    "duration": 16,
    "start_time": "2021-08-27T17:22:26.528Z"
   },
   {
    "duration": 118,
    "start_time": "2021-08-27T17:22:27.600Z"
   },
   {
    "duration": 47,
    "start_time": "2021-08-27T17:22:27.800Z"
   },
   {
    "duration": 28,
    "start_time": "2021-08-27T17:22:28.025Z"
   },
   {
    "duration": 12,
    "start_time": "2021-08-27T17:22:28.432Z"
   },
   {
    "duration": 14,
    "start_time": "2021-08-27T17:22:28.660Z"
   },
   {
    "duration": 13,
    "start_time": "2021-08-27T17:22:28.864Z"
   },
   {
    "duration": 80,
    "start_time": "2021-08-27T17:22:29.100Z"
   },
   {
    "duration": 37,
    "start_time": "2021-08-27T17:22:29.280Z"
   },
   {
    "duration": 16,
    "start_time": "2021-08-27T17:22:29.492Z"
   },
   {
    "duration": 8,
    "start_time": "2021-08-27T17:22:29.896Z"
   },
   {
    "duration": 7,
    "start_time": "2021-08-27T17:22:30.120Z"
   },
   {
    "duration": 6,
    "start_time": "2021-08-27T17:22:30.360Z"
   },
   {
    "duration": 12,
    "start_time": "2021-08-27T17:22:31.628Z"
   },
   {
    "duration": 6,
    "start_time": "2021-08-27T17:22:35.412Z"
   },
   {
    "duration": 25,
    "start_time": "2021-08-27T17:22:37.288Z"
   },
   {
    "duration": 13,
    "start_time": "2021-08-27T17:22:39.092Z"
   },
   {
    "duration": 7,
    "start_time": "2021-08-27T17:22:40.048Z"
   },
   {
    "duration": 6,
    "start_time": "2021-08-27T17:22:41.220Z"
   },
   {
    "duration": 16,
    "start_time": "2021-08-27T17:22:42.061Z"
   },
   {
    "duration": 6,
    "start_time": "2021-08-27T17:22:42.736Z"
   },
   {
    "duration": 17,
    "start_time": "2021-08-27T17:22:43.792Z"
   },
   {
    "duration": 59,
    "start_time": "2021-08-27T17:22:47.624Z"
   },
   {
    "duration": 9,
    "start_time": "2021-08-27T17:22:49.198Z"
   },
   {
    "duration": 8,
    "start_time": "2021-08-27T17:22:49.781Z"
   },
   {
    "duration": 50,
    "start_time": "2021-08-27T17:22:52.064Z"
   },
   {
    "duration": 42,
    "start_time": "2021-08-27T17:22:54.456Z"
   },
   {
    "duration": 39,
    "start_time": "2021-08-27T17:24:48.380Z"
   },
   {
    "duration": 78,
    "start_time": "2021-08-27T17:25:44.309Z"
   },
   {
    "duration": 43,
    "start_time": "2021-08-27T17:28:32.989Z"
   },
   {
    "duration": 77,
    "start_time": "2021-08-27T17:29:04.166Z"
   },
   {
    "duration": 44,
    "start_time": "2021-08-27T17:31:22.770Z"
   },
   {
    "duration": 31,
    "start_time": "2021-08-27T17:33:33.366Z"
   },
   {
    "duration": 3,
    "start_time": "2021-08-27T17:36:07.106Z"
   },
   {
    "duration": 356,
    "start_time": "2021-08-27T17:36:07.450Z"
   },
   {
    "duration": 13,
    "start_time": "2021-08-27T17:36:07.808Z"
   },
   {
    "duration": 20,
    "start_time": "2021-08-27T17:36:08.003Z"
   },
   {
    "duration": 20,
    "start_time": "2021-08-27T17:36:08.178Z"
   },
   {
    "duration": 199,
    "start_time": "2021-08-27T17:36:08.362Z"
   },
   {
    "duration": 80,
    "start_time": "2021-08-27T17:36:08.573Z"
   },
   {
    "duration": 28,
    "start_time": "2021-08-27T17:36:08.759Z"
   },
   {
    "duration": 13,
    "start_time": "2021-08-27T17:36:09.183Z"
   },
   {
    "duration": 17,
    "start_time": "2021-08-27T17:36:09.327Z"
   },
   {
    "duration": 17,
    "start_time": "2021-08-27T17:36:09.525Z"
   },
   {
    "duration": 122,
    "start_time": "2021-08-27T17:36:09.721Z"
   },
   {
    "duration": 47,
    "start_time": "2021-08-27T17:36:09.936Z"
   },
   {
    "duration": 28,
    "start_time": "2021-08-27T17:36:10.120Z"
   },
   {
    "duration": 10,
    "start_time": "2021-08-27T17:36:10.499Z"
   },
   {
    "duration": 14,
    "start_time": "2021-08-27T17:36:10.702Z"
   },
   {
    "duration": 13,
    "start_time": "2021-08-27T17:36:10.894Z"
   },
   {
    "duration": 81,
    "start_time": "2021-08-27T17:36:11.103Z"
   },
   {
    "duration": 36,
    "start_time": "2021-08-27T17:36:11.306Z"
   },
   {
    "duration": 16,
    "start_time": "2021-08-27T17:36:11.494Z"
   },
   {
    "duration": 8,
    "start_time": "2021-08-27T17:36:11.858Z"
   },
   {
    "duration": 9,
    "start_time": "2021-08-27T17:36:12.034Z"
   },
   {
    "duration": 6,
    "start_time": "2021-08-27T17:36:12.231Z"
   },
   {
    "duration": 14,
    "start_time": "2021-08-27T17:36:12.402Z"
   },
   {
    "duration": 6,
    "start_time": "2021-08-27T17:36:12.605Z"
   },
   {
    "duration": 28,
    "start_time": "2021-08-27T17:36:12.821Z"
   },
   {
    "duration": 13,
    "start_time": "2021-08-27T17:36:13.196Z"
   },
   {
    "duration": 6,
    "start_time": "2021-08-27T17:36:13.375Z"
   },
   {
    "duration": 6,
    "start_time": "2021-08-27T17:36:13.563Z"
   },
   {
    "duration": 17,
    "start_time": "2021-08-27T17:36:13.758Z"
   },
   {
    "duration": 8,
    "start_time": "2021-08-27T17:36:13.970Z"
   },
   {
    "duration": 19,
    "start_time": "2021-08-27T17:36:14.159Z"
   },
   {
    "duration": 60,
    "start_time": "2021-08-27T17:36:15.818Z"
   },
   {
    "duration": 9,
    "start_time": "2021-08-27T17:36:17.289Z"
   },
   {
    "duration": 9,
    "start_time": "2021-08-27T17:36:17.718Z"
   },
   {
    "duration": 51,
    "start_time": "2021-08-27T17:36:18.544Z"
   },
   {
    "duration": 87,
    "start_time": "2021-08-27T17:36:19.882Z"
   },
   {
    "duration": 89,
    "start_time": "2021-08-27T17:38:27.027Z"
   },
   {
    "duration": 88,
    "start_time": "2021-08-27T17:38:50.323Z"
   },
   {
    "duration": 38,
    "start_time": "2021-08-27T17:38:58.946Z"
   },
   {
    "duration": 34,
    "start_time": "2021-08-27T17:39:04.459Z"
   },
   {
    "duration": 28,
    "start_time": "2021-08-27T17:39:06.479Z"
   },
   {
    "duration": 38,
    "start_time": "2021-08-27T17:39:43.471Z"
   },
   {
    "duration": 28,
    "start_time": "2021-08-27T17:40:21.739Z"
   },
   {
    "duration": 33,
    "start_time": "2021-08-27T17:40:27.507Z"
   },
   {
    "duration": 17,
    "start_time": "2021-08-27T17:40:40.284Z"
   },
   {
    "duration": 12,
    "start_time": "2021-08-27T17:40:57.492Z"
   },
   {
    "duration": 13,
    "start_time": "2021-08-27T17:45:50.108Z"
   },
   {
    "duration": 17,
    "start_time": "2021-08-27T17:46:03.484Z"
   },
   {
    "duration": 38,
    "start_time": "2021-08-27T17:46:56.536Z"
   },
   {
    "duration": 27,
    "start_time": "2021-08-27T17:47:02.728Z"
   },
   {
    "duration": 30,
    "start_time": "2021-08-27T17:47:03.508Z"
   },
   {
    "duration": 14,
    "start_time": "2021-08-27T17:47:04.340Z"
   },
   {
    "duration": 16,
    "start_time": "2021-08-27T17:47:06.144Z"
   },
   {
    "duration": 14,
    "start_time": "2021-08-27T17:52:08.441Z"
   },
   {
    "duration": 13,
    "start_time": "2021-08-27T18:12:40.420Z"
   },
   {
    "duration": 301,
    "start_time": "2021-08-27T18:12:57.576Z"
   },
   {
    "duration": 310,
    "start_time": "2021-08-27T18:13:25.440Z"
   },
   {
    "duration": 365,
    "start_time": "2021-08-27T18:14:39.181Z"
   },
   {
    "duration": 267,
    "start_time": "2021-08-27T18:15:41.140Z"
   },
   {
    "duration": 4,
    "start_time": "2021-08-27T18:16:04.621Z"
   },
   {
    "duration": 348,
    "start_time": "2021-08-27T18:16:05.075Z"
   },
   {
    "duration": 14,
    "start_time": "2021-08-27T18:16:05.425Z"
   },
   {
    "duration": 19,
    "start_time": "2021-08-27T18:16:05.521Z"
   },
   {
    "duration": 19,
    "start_time": "2021-08-27T18:16:05.693Z"
   },
   {
    "duration": 199,
    "start_time": "2021-08-27T18:16:05.864Z"
   },
   {
    "duration": 88,
    "start_time": "2021-08-27T18:16:06.065Z"
   },
   {
    "duration": 27,
    "start_time": "2021-08-27T18:16:06.237Z"
   },
   {
    "duration": 14,
    "start_time": "2021-08-27T18:16:06.592Z"
   },
   {
    "duration": 17,
    "start_time": "2021-08-27T18:16:06.772Z"
   },
   {
    "duration": 16,
    "start_time": "2021-08-27T18:16:06.956Z"
   },
   {
    "duration": 125,
    "start_time": "2021-08-27T18:16:07.160Z"
   },
   {
    "duration": 48,
    "start_time": "2021-08-27T18:16:07.361Z"
   },
   {
    "duration": 28,
    "start_time": "2021-08-27T18:16:07.532Z"
   },
   {
    "duration": 11,
    "start_time": "2021-08-27T18:16:07.929Z"
   },
   {
    "duration": 16,
    "start_time": "2021-08-27T18:16:08.124Z"
   },
   {
    "duration": 14,
    "start_time": "2021-08-27T18:16:08.316Z"
   },
   {
    "duration": 84,
    "start_time": "2021-08-27T18:16:08.525Z"
   },
   {
    "duration": 40,
    "start_time": "2021-08-27T18:16:08.709Z"
   },
   {
    "duration": 16,
    "start_time": "2021-08-27T18:16:08.933Z"
   },
   {
    "duration": 7,
    "start_time": "2021-08-27T18:16:09.325Z"
   },
   {
    "duration": 6,
    "start_time": "2021-08-27T18:16:09.532Z"
   },
   {
    "duration": 6,
    "start_time": "2021-08-27T18:16:09.732Z"
   },
   {
    "duration": 13,
    "start_time": "2021-08-27T18:16:09.980Z"
   },
   {
    "duration": 5,
    "start_time": "2021-08-27T18:16:10.145Z"
   },
   {
    "duration": 26,
    "start_time": "2021-08-27T18:16:10.333Z"
   },
   {
    "duration": 13,
    "start_time": "2021-08-27T18:16:10.724Z"
   },
   {
    "duration": 6,
    "start_time": "2021-08-27T18:16:10.975Z"
   },
   {
    "duration": 5,
    "start_time": "2021-08-27T18:16:11.161Z"
   },
   {
    "duration": 16,
    "start_time": "2021-08-27T18:16:11.348Z"
   },
   {
    "duration": 7,
    "start_time": "2021-08-27T18:16:11.561Z"
   },
   {
    "duration": 16,
    "start_time": "2021-08-27T18:16:11.758Z"
   },
   {
    "duration": 62,
    "start_time": "2021-08-27T18:16:12.989Z"
   },
   {
    "duration": 8,
    "start_time": "2021-08-27T18:16:13.621Z"
   },
   {
    "duration": 9,
    "start_time": "2021-08-27T18:16:13.820Z"
   },
   {
    "duration": 50,
    "start_time": "2021-08-27T18:16:14.241Z"
   },
   {
    "duration": 42,
    "start_time": "2021-08-27T18:16:14.888Z"
   },
   {
    "duration": 29,
    "start_time": "2021-08-27T18:16:15.332Z"
   },
   {
    "duration": 34,
    "start_time": "2021-08-27T18:16:15.737Z"
   },
   {
    "duration": 13,
    "start_time": "2021-08-27T18:16:16.149Z"
   },
   {
    "duration": 14,
    "start_time": "2021-08-27T18:16:16.560Z"
   },
   {
    "duration": 274,
    "start_time": "2021-08-27T18:16:17.033Z"
   },
   {
    "duration": 331,
    "start_time": "2021-08-27T18:17:23.697Z"
   },
   {
    "duration": 24,
    "start_time": "2021-08-27T18:17:39.745Z"
   },
   {
    "duration": 326,
    "start_time": "2021-08-27T18:26:52.622Z"
   },
   {
    "duration": 27,
    "start_time": "2021-08-27T18:27:05.734Z"
   },
   {
    "duration": 36,
    "start_time": "2021-08-27T18:30:12.091Z"
   },
   {
    "duration": 25,
    "start_time": "2021-08-27T18:30:34.067Z"
   },
   {
    "duration": 267,
    "start_time": "2021-08-27T18:37:44.484Z"
   },
   {
    "duration": 366,
    "start_time": "2021-08-27T18:37:54.908Z"
   },
   {
    "duration": 11,
    "start_time": "2021-08-27T18:38:10.792Z"
   },
   {
    "duration": 13,
    "start_time": "2021-08-27T18:42:12.881Z"
   },
   {
    "duration": 15,
    "start_time": "2021-08-27T18:42:23.657Z"
   },
   {
    "duration": 19,
    "start_time": "2021-08-27T18:42:37.013Z"
   },
   {
    "duration": 257,
    "start_time": "2021-08-27T18:42:47.225Z"
   },
   {
    "duration": 261,
    "start_time": "2021-08-27T18:43:12.261Z"
   },
   {
    "duration": 5,
    "start_time": "2021-08-27T18:43:53.009Z"
   },
   {
    "duration": 1103,
    "start_time": "2021-08-27T18:44:12.606Z"
   },
   {
    "duration": 3,
    "start_time": "2021-08-27T18:44:29.817Z"
   },
   {
    "duration": 372,
    "start_time": "2021-08-27T18:44:30.169Z"
   },
   {
    "duration": 16,
    "start_time": "2021-08-27T18:44:30.893Z"
   },
   {
    "duration": 20,
    "start_time": "2021-08-27T18:44:30.949Z"
   },
   {
    "duration": 46,
    "start_time": "2021-08-27T18:44:30.971Z"
   },
   {
    "duration": 215,
    "start_time": "2021-08-27T18:44:31.019Z"
   },
   {
    "duration": 83,
    "start_time": "2021-08-27T18:44:31.241Z"
   },
   {
    "duration": 40,
    "start_time": "2021-08-27T18:44:31.326Z"
   },
   {
    "duration": 13,
    "start_time": "2021-08-27T18:44:31.821Z"
   },
   {
    "duration": 16,
    "start_time": "2021-08-27T18:44:31.993Z"
   },
   {
    "duration": 16,
    "start_time": "2021-08-27T18:44:32.165Z"
   },
   {
    "duration": 123,
    "start_time": "2021-08-27T18:44:32.341Z"
   },
   {
    "duration": 49,
    "start_time": "2021-08-27T18:44:32.521Z"
   },
   {
    "duration": 28,
    "start_time": "2021-08-27T18:44:32.709Z"
   },
   {
    "duration": 11,
    "start_time": "2021-08-27T18:44:33.061Z"
   },
   {
    "duration": 14,
    "start_time": "2021-08-27T18:44:33.225Z"
   },
   {
    "duration": 14,
    "start_time": "2021-08-27T18:44:33.393Z"
   },
   {
    "duration": 82,
    "start_time": "2021-08-27T18:44:33.573Z"
   },
   {
    "duration": 36,
    "start_time": "2021-08-27T18:44:33.757Z"
   },
   {
    "duration": 23,
    "start_time": "2021-08-27T18:44:33.937Z"
   },
   {
    "duration": 7,
    "start_time": "2021-08-27T18:44:34.290Z"
   },
   {
    "duration": 6,
    "start_time": "2021-08-27T18:44:34.453Z"
   },
   {
    "duration": 6,
    "start_time": "2021-08-27T18:44:34.669Z"
   },
   {
    "duration": 14,
    "start_time": "2021-08-27T18:44:34.845Z"
   },
   {
    "duration": 6,
    "start_time": "2021-08-27T18:44:35.033Z"
   },
   {
    "duration": 26,
    "start_time": "2021-08-27T18:44:35.201Z"
   },
   {
    "duration": 12,
    "start_time": "2021-08-27T18:44:35.561Z"
   },
   {
    "duration": 7,
    "start_time": "2021-08-27T18:44:35.749Z"
   },
   {
    "duration": 5,
    "start_time": "2021-08-27T18:44:35.953Z"
   },
   {
    "duration": 17,
    "start_time": "2021-08-27T18:44:36.125Z"
   },
   {
    "duration": 7,
    "start_time": "2021-08-27T18:44:36.309Z"
   },
   {
    "duration": 16,
    "start_time": "2021-08-27T18:44:36.529Z"
   },
   {
    "duration": 69,
    "start_time": "2021-08-27T18:44:38.057Z"
   },
   {
    "duration": 8,
    "start_time": "2021-08-27T18:44:38.613Z"
   },
   {
    "duration": 10,
    "start_time": "2021-08-27T18:44:38.806Z"
   },
   {
    "duration": 49,
    "start_time": "2021-08-27T18:44:39.165Z"
   },
   {
    "duration": 40,
    "start_time": "2021-08-27T18:44:39.749Z"
   },
   {
    "duration": 29,
    "start_time": "2021-08-27T18:44:40.325Z"
   },
   {
    "duration": 33,
    "start_time": "2021-08-27T18:44:40.721Z"
   },
   {
    "duration": 13,
    "start_time": "2021-08-27T18:44:41.094Z"
   },
   {
    "duration": 14,
    "start_time": "2021-08-27T18:44:41.997Z"
   },
   {
    "duration": 21,
    "start_time": "2021-08-27T18:44:42.013Z"
   },
   {
    "duration": 12,
    "start_time": "2021-08-27T18:44:42.124Z"
   },
   {
    "duration": 987,
    "start_time": "2021-08-27T18:45:15.688Z"
   },
   {
    "duration": 384,
    "start_time": "2021-08-27T18:45:16.677Z"
   },
   {
    "duration": 17,
    "start_time": "2021-08-27T18:45:17.063Z"
   },
   {
    "duration": 20,
    "start_time": "2021-08-27T18:45:17.081Z"
   },
   {
    "duration": 24,
    "start_time": "2021-08-27T18:45:17.103Z"
   },
   {
    "duration": 217,
    "start_time": "2021-08-27T18:45:17.128Z"
   },
   {
    "duration": 105,
    "start_time": "2021-08-27T18:45:17.347Z"
   },
   {
    "duration": 30,
    "start_time": "2021-08-27T18:45:17.455Z"
   },
   {
    "duration": 12,
    "start_time": "2021-08-27T18:45:17.487Z"
   },
   {
    "duration": 24,
    "start_time": "2021-08-27T18:45:17.500Z"
   },
   {
    "duration": 24,
    "start_time": "2021-08-27T18:45:17.526Z"
   },
   {
    "duration": 136,
    "start_time": "2021-08-27T18:45:17.552Z"
   },
   {
    "duration": 68,
    "start_time": "2021-08-27T18:45:17.689Z"
   },
   {
    "duration": 28,
    "start_time": "2021-08-27T18:45:17.759Z"
   },
   {
    "duration": 10,
    "start_time": "2021-08-27T18:45:17.788Z"
   },
   {
    "duration": 30,
    "start_time": "2021-08-27T18:45:17.800Z"
   },
   {
    "duration": 22,
    "start_time": "2021-08-27T18:45:17.832Z"
   },
   {
    "duration": 91,
    "start_time": "2021-08-27T18:45:17.855Z"
   },
   {
    "duration": 40,
    "start_time": "2021-08-27T18:45:17.948Z"
   },
   {
    "duration": 17,
    "start_time": "2021-08-27T18:45:17.989Z"
   },
   {
    "duration": 6,
    "start_time": "2021-08-27T18:45:18.008Z"
   },
   {
    "duration": 30,
    "start_time": "2021-08-27T18:45:18.016Z"
   },
   {
    "duration": 7,
    "start_time": "2021-08-27T18:45:18.049Z"
   },
   {
    "duration": 18,
    "start_time": "2021-08-27T18:45:18.057Z"
   },
   {
    "duration": 14,
    "start_time": "2021-08-27T18:45:18.077Z"
   },
   {
    "duration": 29,
    "start_time": "2021-08-27T18:45:18.092Z"
   },
   {
    "duration": 12,
    "start_time": "2021-08-27T18:45:18.141Z"
   },
   {
    "duration": 8,
    "start_time": "2021-08-27T18:45:18.155Z"
   },
   {
    "duration": 18,
    "start_time": "2021-08-27T18:45:18.165Z"
   },
   {
    "duration": 27,
    "start_time": "2021-08-27T18:45:18.185Z"
   },
   {
    "duration": 7,
    "start_time": "2021-08-27T18:45:18.214Z"
   },
   {
    "duration": 32,
    "start_time": "2021-08-27T18:45:18.223Z"
   },
   {
    "duration": 62,
    "start_time": "2021-08-27T18:45:18.256Z"
   },
   {
    "duration": 25,
    "start_time": "2021-08-27T18:45:18.319Z"
   },
   {
    "duration": 8,
    "start_time": "2021-08-27T18:45:18.346Z"
   },
   {
    "duration": 53,
    "start_time": "2021-08-27T18:45:18.356Z"
   },
   {
    "duration": 57,
    "start_time": "2021-08-27T18:45:18.410Z"
   },
   {
    "duration": 29,
    "start_time": "2021-08-27T18:45:18.469Z"
   },
   {
    "duration": 53,
    "start_time": "2021-08-27T18:45:18.499Z"
   },
   {
    "duration": 11,
    "start_time": "2021-08-27T18:45:18.554Z"
   },
   {
    "duration": 14,
    "start_time": "2021-08-27T18:45:18.567Z"
   },
   {
    "duration": 29,
    "start_time": "2021-08-27T18:45:18.582Z"
   },
   {
    "duration": 20,
    "start_time": "2021-08-27T18:45:18.613Z"
   },
   {
    "duration": 3,
    "start_time": "2021-08-27T19:06:43.072Z"
   },
   {
    "duration": 360,
    "start_time": "2021-08-27T19:06:43.444Z"
   },
   {
    "duration": 14,
    "start_time": "2021-08-27T19:06:43.832Z"
   },
   {
    "duration": 19,
    "start_time": "2021-08-27T19:06:43.988Z"
   },
   {
    "duration": 19,
    "start_time": "2021-08-27T19:06:44.161Z"
   },
   {
    "duration": 205,
    "start_time": "2021-08-27T19:06:44.340Z"
   },
   {
    "duration": 80,
    "start_time": "2021-08-27T19:06:44.548Z"
   },
   {
    "duration": 27,
    "start_time": "2021-08-27T19:06:44.692Z"
   },
   {
    "duration": 14,
    "start_time": "2021-08-27T19:06:45.064Z"
   },
   {
    "duration": 16,
    "start_time": "2021-08-27T19:06:45.269Z"
   },
   {
    "duration": 16,
    "start_time": "2021-08-27T19:06:45.436Z"
   },
   {
    "duration": 118,
    "start_time": "2021-08-27T19:06:45.616Z"
   },
   {
    "duration": 47,
    "start_time": "2021-08-27T19:06:45.800Z"
   },
   {
    "duration": 28,
    "start_time": "2021-08-27T19:06:45.968Z"
   },
   {
    "duration": 11,
    "start_time": "2021-08-27T19:06:46.325Z"
   },
   {
    "duration": 14,
    "start_time": "2021-08-27T19:06:46.500Z"
   },
   {
    "duration": 14,
    "start_time": "2021-08-27T19:06:46.688Z"
   },
   {
    "duration": 80,
    "start_time": "2021-08-27T19:06:46.884Z"
   },
   {
    "duration": 37,
    "start_time": "2021-08-27T19:06:47.056Z"
   },
   {
    "duration": 17,
    "start_time": "2021-08-27T19:06:47.224Z"
   },
   {
    "duration": 7,
    "start_time": "2021-08-27T19:06:47.612Z"
   },
   {
    "duration": 6,
    "start_time": "2021-08-27T19:06:47.820Z"
   },
   {
    "duration": 5,
    "start_time": "2021-08-27T19:06:48.032Z"
   },
   {
    "duration": 13,
    "start_time": "2021-08-27T19:06:48.200Z"
   },
   {
    "duration": 5,
    "start_time": "2021-08-27T19:06:48.384Z"
   },
   {
    "duration": 25,
    "start_time": "2021-08-27T19:06:48.576Z"
   },
   {
    "duration": 14,
    "start_time": "2021-08-27T19:06:48.968Z"
   },
   {
    "duration": 7,
    "start_time": "2021-08-27T19:06:49.140Z"
   },
   {
    "duration": 6,
    "start_time": "2021-08-27T19:06:49.340Z"
   },
   {
    "duration": 15,
    "start_time": "2021-08-27T19:06:49.548Z"
   },
   {
    "duration": 7,
    "start_time": "2021-08-27T19:06:49.728Z"
   },
   {
    "duration": 18,
    "start_time": "2021-08-27T19:06:49.908Z"
   },
   {
    "duration": 60,
    "start_time": "2021-08-27T19:06:51.460Z"
   },
   {
    "duration": 9,
    "start_time": "2021-08-27T19:06:52.140Z"
   },
   {
    "duration": 9,
    "start_time": "2021-08-27T19:06:52.344Z"
   },
   {
    "duration": 49,
    "start_time": "2021-08-27T19:06:52.916Z"
   },
   {
    "duration": 41,
    "start_time": "2021-08-27T19:06:54.220Z"
   },
   {
    "duration": 27,
    "start_time": "2021-08-27T19:06:55.104Z"
   },
   {
    "duration": 35,
    "start_time": "2021-08-27T19:06:58.005Z"
   },
   {
    "duration": 14,
    "start_time": "2021-08-27T19:07:04.528Z"
   },
   {
    "duration": 15,
    "start_time": "2021-08-27T19:07:07.276Z"
   },
   {
    "duration": 89,
    "start_time": "2021-08-27T19:26:16.732Z"
   },
   {
    "duration": 5,
    "start_time": "2021-08-27T19:26:34.747Z"
   },
   {
    "duration": 10,
    "start_time": "2021-08-27T19:26:47.651Z"
   },
   {
    "duration": 8212,
    "start_time": "2021-08-27T19:27:32.683Z"
   },
   {
    "duration": 2,
    "start_time": "2021-08-27T19:29:38.124Z"
   },
   {
    "duration": 359,
    "start_time": "2021-08-27T19:29:38.484Z"
   },
   {
    "duration": 13,
    "start_time": "2021-08-27T19:29:38.845Z"
   },
   {
    "duration": 20,
    "start_time": "2021-08-27T19:29:39.043Z"
   },
   {
    "duration": 19,
    "start_time": "2021-08-27T19:29:39.188Z"
   },
   {
    "duration": 198,
    "start_time": "2021-08-27T19:29:39.392Z"
   },
   {
    "duration": 87,
    "start_time": "2021-08-27T19:29:39.591Z"
   },
   {
    "duration": 29,
    "start_time": "2021-08-27T19:29:39.792Z"
   },
   {
    "duration": 13,
    "start_time": "2021-08-27T19:29:40.168Z"
   },
   {
    "duration": 15,
    "start_time": "2021-08-27T19:29:40.356Z"
   },
   {
    "duration": 16,
    "start_time": "2021-08-27T19:29:40.539Z"
   },
   {
    "duration": 114,
    "start_time": "2021-08-27T19:29:40.744Z"
   },
   {
    "duration": 47,
    "start_time": "2021-08-27T19:29:40.947Z"
   },
   {
    "duration": 31,
    "start_time": "2021-08-27T19:29:41.147Z"
   },
   {
    "duration": 11,
    "start_time": "2021-08-27T19:29:41.511Z"
   },
   {
    "duration": 14,
    "start_time": "2021-08-27T19:29:41.708Z"
   },
   {
    "duration": 13,
    "start_time": "2021-08-27T19:29:41.895Z"
   },
   {
    "duration": 84,
    "start_time": "2021-08-27T19:29:42.099Z"
   },
   {
    "duration": 39,
    "start_time": "2021-08-27T19:29:42.276Z"
   },
   {
    "duration": 16,
    "start_time": "2021-08-27T19:29:42.503Z"
   },
   {
    "duration": 7,
    "start_time": "2021-08-27T19:29:42.876Z"
   },
   {
    "duration": 6,
    "start_time": "2021-08-27T19:29:43.080Z"
   },
   {
    "duration": 5,
    "start_time": "2021-08-27T19:29:43.275Z"
   },
   {
    "duration": 13,
    "start_time": "2021-08-27T19:29:43.475Z"
   },
   {
    "duration": 6,
    "start_time": "2021-08-27T19:29:43.683Z"
   },
   {
    "duration": 26,
    "start_time": "2021-08-27T19:29:43.863Z"
   },
   {
    "duration": 12,
    "start_time": "2021-08-27T19:29:44.275Z"
   },
   {
    "duration": 6,
    "start_time": "2021-08-27T19:29:44.471Z"
   },
   {
    "duration": 6,
    "start_time": "2021-08-27T19:29:44.663Z"
   },
   {
    "duration": 15,
    "start_time": "2021-08-27T19:29:44.876Z"
   },
   {
    "duration": 6,
    "start_time": "2021-08-27T19:29:45.052Z"
   },
   {
    "duration": 16,
    "start_time": "2021-08-27T19:29:45.231Z"
   },
   {
    "duration": 61,
    "start_time": "2021-08-27T19:29:46.431Z"
   },
   {
    "duration": 9,
    "start_time": "2021-08-27T19:29:47.043Z"
   },
   {
    "duration": 9,
    "start_time": "2021-08-27T19:29:47.247Z"
   },
   {
    "duration": 47,
    "start_time": "2021-08-27T19:29:47.680Z"
   },
   {
    "duration": 43,
    "start_time": "2021-08-27T19:29:48.299Z"
   },
   {
    "duration": 28,
    "start_time": "2021-08-27T19:29:48.728Z"
   },
   {
    "duration": 37,
    "start_time": "2021-08-27T19:29:49.144Z"
   },
   {
    "duration": 13,
    "start_time": "2021-08-27T19:29:49.576Z"
   },
   {
    "duration": 15,
    "start_time": "2021-08-27T19:29:49.999Z"
   },
   {
    "duration": 20,
    "start_time": "2021-08-27T19:29:50.616Z"
   },
   {
    "duration": 14,
    "start_time": "2021-08-27T19:29:52.415Z"
   },
   {
    "duration": 5,
    "start_time": "2021-08-27T19:29:52.632Z"
   },
   {
    "duration": 7656,
    "start_time": "2021-08-27T19:29:52.848Z"
   },
   {
    "duration": 25,
    "start_time": "2021-08-27T19:36:36.204Z"
   },
   {
    "duration": 10,
    "start_time": "2021-08-27T19:50:55.699Z"
   },
   {
    "duration": 21,
    "start_time": "2021-08-27T19:51:18.347Z"
   },
   {
    "duration": 25,
    "start_time": "2021-08-27T19:51:39.227Z"
   },
   {
    "duration": 25,
    "start_time": "2021-08-27T19:54:45.519Z"
   },
   {
    "duration": 330,
    "start_time": "2021-08-27T20:26:35.316Z"
   },
   {
    "duration": 28,
    "start_time": "2021-08-27T20:26:58.160Z"
   },
   {
    "duration": 57,
    "start_time": "2021-08-27T20:27:12.852Z"
   },
   {
    "duration": 3,
    "start_time": "2021-08-27T20:27:38.448Z"
   },
   {
    "duration": 357,
    "start_time": "2021-08-27T20:27:38.793Z"
   },
   {
    "duration": 13,
    "start_time": "2021-08-27T20:27:39.152Z"
   },
   {
    "duration": 21,
    "start_time": "2021-08-27T20:27:39.284Z"
   },
   {
    "duration": 18,
    "start_time": "2021-08-27T20:27:39.449Z"
   },
   {
    "duration": 180,
    "start_time": "2021-08-27T20:27:39.648Z"
   },
   {
    "duration": 82,
    "start_time": "2021-08-27T20:27:39.830Z"
   },
   {
    "duration": 27,
    "start_time": "2021-08-27T20:27:39.980Z"
   },
   {
    "duration": 14,
    "start_time": "2021-08-27T20:27:40.300Z"
   },
   {
    "duration": 17,
    "start_time": "2021-08-27T20:27:40.492Z"
   },
   {
    "duration": 15,
    "start_time": "2021-08-27T20:27:40.677Z"
   },
   {
    "duration": 114,
    "start_time": "2021-08-27T20:27:40.868Z"
   },
   {
    "duration": 46,
    "start_time": "2021-08-27T20:27:41.032Z"
   },
   {
    "duration": 28,
    "start_time": "2021-08-27T20:27:41.220Z"
   },
   {
    "duration": 12,
    "start_time": "2021-08-27T20:27:41.584Z"
   },
   {
    "duration": 14,
    "start_time": "2021-08-27T20:27:41.756Z"
   },
   {
    "duration": 13,
    "start_time": "2021-08-27T20:27:41.928Z"
   },
   {
    "duration": 85,
    "start_time": "2021-08-27T20:27:42.116Z"
   },
   {
    "duration": 39,
    "start_time": "2021-08-27T20:27:42.292Z"
   },
   {
    "duration": 16,
    "start_time": "2021-08-27T20:27:42.468Z"
   },
   {
    "duration": 8,
    "start_time": "2021-08-27T20:27:42.816Z"
   },
   {
    "duration": 6,
    "start_time": "2021-08-27T20:27:42.996Z"
   },
   {
    "duration": 6,
    "start_time": "2021-08-27T20:27:43.184Z"
   },
   {
    "duration": 12,
    "start_time": "2021-08-27T20:27:43.348Z"
   },
   {
    "duration": 6,
    "start_time": "2021-08-27T20:27:43.532Z"
   },
   {
    "duration": 27,
    "start_time": "2021-08-27T20:27:43.732Z"
   },
   {
    "duration": 13,
    "start_time": "2021-08-27T20:27:44.684Z"
   },
   {
    "duration": 6,
    "start_time": "2021-08-27T20:27:44.932Z"
   },
   {
    "duration": 6,
    "start_time": "2021-08-27T20:27:45.100Z"
   },
   {
    "duration": 15,
    "start_time": "2021-08-27T20:27:45.280Z"
   },
   {
    "duration": 6,
    "start_time": "2021-08-27T20:27:45.460Z"
   },
   {
    "duration": 16,
    "start_time": "2021-08-27T20:27:45.680Z"
   },
   {
    "duration": 60,
    "start_time": "2021-08-27T20:27:47.044Z"
   },
   {
    "duration": 8,
    "start_time": "2021-08-27T20:27:47.977Z"
   },
   {
    "duration": 9,
    "start_time": "2021-08-27T20:27:48.209Z"
   },
   {
    "duration": 50,
    "start_time": "2021-08-27T20:27:48.612Z"
   },
   {
    "duration": 43,
    "start_time": "2021-08-27T20:27:49.656Z"
   },
   {
    "duration": 29,
    "start_time": "2021-08-27T20:27:50.809Z"
   },
   {
    "duration": 35,
    "start_time": "2021-08-27T20:27:52.084Z"
   },
   {
    "duration": 14,
    "start_time": "2021-08-27T20:27:52.576Z"
   },
   {
    "duration": 14,
    "start_time": "2021-08-27T20:27:53.585Z"
   },
   {
    "duration": 25,
    "start_time": "2021-08-27T20:27:54.552Z"
   },
   {
    "duration": 53,
    "start_time": "2021-08-27T20:27:55.940Z"
   },
   {
    "duration": 15,
    "start_time": "2021-08-27T20:28:27.777Z"
   },
   {
    "duration": 8020,
    "start_time": "2021-08-27T20:29:09.372Z"
   },
   {
    "duration": 3,
    "start_time": "2021-08-27T20:30:14.929Z"
   },
   {
    "duration": 352,
    "start_time": "2021-08-27T20:30:15.280Z"
   },
   {
    "duration": 12,
    "start_time": "2021-08-27T20:30:15.644Z"
   },
   {
    "duration": 20,
    "start_time": "2021-08-27T20:30:15.816Z"
   },
   {
    "duration": 20,
    "start_time": "2021-08-27T20:30:15.996Z"
   },
   {
    "duration": 186,
    "start_time": "2021-08-27T20:30:16.176Z"
   },
   {
    "duration": 73,
    "start_time": "2021-08-27T20:30:16.376Z"
   },
   {
    "duration": 28,
    "start_time": "2021-08-27T20:30:16.568Z"
   },
   {
    "duration": 13,
    "start_time": "2021-08-27T20:30:16.956Z"
   },
   {
    "duration": 16,
    "start_time": "2021-08-27T20:30:17.161Z"
   },
   {
    "duration": 16,
    "start_time": "2021-08-27T20:30:17.348Z"
   },
   {
    "duration": 119,
    "start_time": "2021-08-27T20:30:17.553Z"
   },
   {
    "duration": 48,
    "start_time": "2021-08-27T20:30:17.756Z"
   },
   {
    "duration": 28,
    "start_time": "2021-08-27T20:30:17.940Z"
   },
   {
    "duration": 11,
    "start_time": "2021-08-27T20:30:18.340Z"
   },
   {
    "duration": 14,
    "start_time": "2021-08-27T20:30:18.532Z"
   },
   {
    "duration": 14,
    "start_time": "2021-08-27T20:30:18.717Z"
   },
   {
    "duration": 84,
    "start_time": "2021-08-27T20:30:18.904Z"
   },
   {
    "duration": 38,
    "start_time": "2021-08-27T20:30:19.104Z"
   },
   {
    "duration": 17,
    "start_time": "2021-08-27T20:30:19.284Z"
   },
   {
    "duration": 25,
    "start_time": "2021-08-27T20:30:19.677Z"
   },
   {
    "duration": 12,
    "start_time": "2021-08-27T20:30:19.869Z"
   },
   {
    "duration": 6,
    "start_time": "2021-08-27T20:30:20.080Z"
   },
   {
    "duration": 13,
    "start_time": "2021-08-27T20:30:20.248Z"
   },
   {
    "duration": 6,
    "start_time": "2021-08-27T20:30:20.452Z"
   },
   {
    "duration": 28,
    "start_time": "2021-08-27T20:30:20.625Z"
   },
   {
    "duration": 12,
    "start_time": "2021-08-27T20:30:20.996Z"
   },
   {
    "duration": 6,
    "start_time": "2021-08-27T20:30:21.205Z"
   },
   {
    "duration": 5,
    "start_time": "2021-08-27T20:30:21.389Z"
   },
   {
    "duration": 16,
    "start_time": "2021-08-27T20:30:21.588Z"
   },
   {
    "duration": 6,
    "start_time": "2021-08-27T20:30:21.793Z"
   },
   {
    "duration": 16,
    "start_time": "2021-08-27T20:30:21.997Z"
   },
   {
    "duration": 64,
    "start_time": "2021-08-27T20:30:23.153Z"
   },
   {
    "duration": 9,
    "start_time": "2021-08-27T20:30:23.720Z"
   },
   {
    "duration": 9,
    "start_time": "2021-08-27T20:30:23.916Z"
   },
   {
    "duration": 49,
    "start_time": "2021-08-27T20:30:24.284Z"
   },
   {
    "duration": 40,
    "start_time": "2021-08-27T20:30:24.865Z"
   },
   {
    "duration": 27,
    "start_time": "2021-08-27T20:30:25.241Z"
   },
   {
    "duration": 34,
    "start_time": "2021-08-27T20:30:25.637Z"
   },
   {
    "duration": 14,
    "start_time": "2021-08-27T20:30:26.032Z"
   },
   {
    "duration": 13,
    "start_time": "2021-08-27T20:30:26.437Z"
   },
   {
    "duration": 26,
    "start_time": "2021-08-27T20:30:27.008Z"
   },
   {
    "duration": 14,
    "start_time": "2021-08-27T20:30:27.597Z"
   },
   {
    "duration": 44,
    "start_time": "2021-08-27T20:30:30.640Z"
   },
   {
    "duration": 36,
    "start_time": "2021-08-27T20:35:17.137Z"
   },
   {
    "duration": 14,
    "start_time": "2021-08-27T20:46:58.998Z"
   },
   {
    "duration": 16,
    "start_time": "2021-08-27T20:47:52.591Z"
   },
   {
    "duration": 5,
    "start_time": "2021-08-27T20:53:01.661Z"
   },
   {
    "duration": 5,
    "start_time": "2021-08-27T20:53:05.587Z"
   },
   {
    "duration": 16,
    "start_time": "2021-08-27T20:53:26.068Z"
   },
   {
    "duration": 5,
    "start_time": "2021-08-27T20:56:06.624Z"
   },
   {
    "duration": 6789,
    "start_time": "2021-08-27T20:56:50.856Z"
   },
   {
    "duration": 3,
    "start_time": "2021-08-27T20:57:06.132Z"
   },
   {
    "duration": 345,
    "start_time": "2021-08-27T20:57:06.488Z"
   },
   {
    "duration": 13,
    "start_time": "2021-08-27T20:57:06.835Z"
   },
   {
    "duration": 20,
    "start_time": "2021-08-27T20:57:06.992Z"
   },
   {
    "duration": 20,
    "start_time": "2021-08-27T20:57:07.160Z"
   },
   {
    "duration": 181,
    "start_time": "2021-08-27T20:57:07.332Z"
   },
   {
    "duration": 89,
    "start_time": "2021-08-27T20:57:07.514Z"
   },
   {
    "duration": 27,
    "start_time": "2021-08-27T20:57:07.696Z"
   },
   {
    "duration": 13,
    "start_time": "2021-08-27T20:57:08.020Z"
   },
   {
    "duration": 17,
    "start_time": "2021-08-27T20:57:08.188Z"
   },
   {
    "duration": 16,
    "start_time": "2021-08-27T20:57:08.356Z"
   },
   {
    "duration": 112,
    "start_time": "2021-08-27T20:57:08.528Z"
   },
   {
    "duration": 46,
    "start_time": "2021-08-27T20:57:08.720Z"
   },
   {
    "duration": 36,
    "start_time": "2021-08-27T20:57:08.904Z"
   },
   {
    "duration": 10,
    "start_time": "2021-08-27T20:57:09.244Z"
   },
   {
    "duration": 13,
    "start_time": "2021-08-27T20:57:09.420Z"
   },
   {
    "duration": 13,
    "start_time": "2021-08-27T20:57:09.596Z"
   },
   {
    "duration": 82,
    "start_time": "2021-08-27T20:57:09.784Z"
   },
   {
    "duration": 37,
    "start_time": "2021-08-27T20:57:09.968Z"
   },
   {
    "duration": 17,
    "start_time": "2021-08-27T20:57:10.152Z"
   },
   {
    "duration": 7,
    "start_time": "2021-08-27T20:57:10.548Z"
   },
   {
    "duration": 6,
    "start_time": "2021-08-27T20:57:10.712Z"
   },
   {
    "duration": 5,
    "start_time": "2021-08-27T20:57:10.904Z"
   },
   {
    "duration": 12,
    "start_time": "2021-08-27T20:57:11.120Z"
   },
   {
    "duration": 5,
    "start_time": "2021-08-27T20:57:11.320Z"
   },
   {
    "duration": 26,
    "start_time": "2021-08-27T20:57:11.496Z"
   },
   {
    "duration": 12,
    "start_time": "2021-08-27T20:57:11.860Z"
   },
   {
    "duration": 6,
    "start_time": "2021-08-27T20:57:12.063Z"
   },
   {
    "duration": 6,
    "start_time": "2021-08-27T20:57:12.244Z"
   },
   {
    "duration": 15,
    "start_time": "2021-08-27T20:57:12.436Z"
   },
   {
    "duration": 6,
    "start_time": "2021-08-27T20:57:12.640Z"
   },
   {
    "duration": 16,
    "start_time": "2021-08-27T20:57:12.828Z"
   },
   {
    "duration": 61,
    "start_time": "2021-08-27T20:57:14.192Z"
   },
   {
    "duration": 9,
    "start_time": "2021-08-27T20:57:14.788Z"
   },
   {
    "duration": 10,
    "start_time": "2021-08-27T20:57:14.992Z"
   },
   {
    "duration": 57,
    "start_time": "2021-08-27T20:57:15.400Z"
   },
   {
    "duration": 41,
    "start_time": "2021-08-27T20:57:15.960Z"
   },
   {
    "duration": 30,
    "start_time": "2021-08-27T20:57:16.348Z"
   },
   {
    "duration": 33,
    "start_time": "2021-08-27T20:57:16.736Z"
   },
   {
    "duration": 13,
    "start_time": "2021-08-27T20:57:17.712Z"
   },
   {
    "duration": 15,
    "start_time": "2021-08-27T20:57:18.456Z"
   },
   {
    "duration": 26,
    "start_time": "2021-08-27T20:57:23.168Z"
   },
   {
    "duration": 22,
    "start_time": "2021-08-27T20:57:29.780Z"
   },
   {
    "duration": 6,
    "start_time": "2021-08-27T20:58:06.777Z"
   },
   {
    "duration": 6471,
    "start_time": "2021-08-27T21:01:01.758Z"
   },
   {
    "duration": 3,
    "start_time": "2021-08-27T21:01:27.620Z"
   },
   {
    "duration": 341,
    "start_time": "2021-08-27T21:01:27.977Z"
   },
   {
    "duration": 14,
    "start_time": "2021-08-27T21:01:28.328Z"
   },
   {
    "duration": 20,
    "start_time": "2021-08-27T21:01:28.493Z"
   },
   {
    "duration": 20,
    "start_time": "2021-08-27T21:01:28.665Z"
   },
   {
    "duration": 267,
    "start_time": "2021-08-27T21:01:28.842Z"
   },
   {
    "duration": 81,
    "start_time": "2021-08-27T21:01:29.111Z"
   },
   {
    "duration": 26,
    "start_time": "2021-08-27T21:01:29.194Z"
   },
   {
    "duration": 14,
    "start_time": "2021-08-27T21:01:29.569Z"
   },
   {
    "duration": 16,
    "start_time": "2021-08-27T21:01:29.745Z"
   },
   {
    "duration": 16,
    "start_time": "2021-08-27T21:01:29.937Z"
   },
   {
    "duration": 124,
    "start_time": "2021-08-27T21:01:30.121Z"
   },
   {
    "duration": 49,
    "start_time": "2021-08-27T21:01:30.305Z"
   },
   {
    "duration": 29,
    "start_time": "2021-08-27T21:01:30.481Z"
   },
   {
    "duration": 12,
    "start_time": "2021-08-27T21:01:31.053Z"
   },
   {
    "duration": 13,
    "start_time": "2021-08-27T21:01:31.253Z"
   },
   {
    "duration": 13,
    "start_time": "2021-08-27T21:01:31.433Z"
   },
   {
    "duration": 87,
    "start_time": "2021-08-27T21:01:31.613Z"
   },
   {
    "duration": 36,
    "start_time": "2021-08-27T21:01:31.801Z"
   },
   {
    "duration": 16,
    "start_time": "2021-08-27T21:01:31.993Z"
   },
   {
    "duration": 8,
    "start_time": "2021-08-27T21:01:32.365Z"
   },
   {
    "duration": 6,
    "start_time": "2021-08-27T21:01:32.557Z"
   },
   {
    "duration": 6,
    "start_time": "2021-08-27T21:01:32.729Z"
   },
   {
    "duration": 13,
    "start_time": "2021-08-27T21:01:32.925Z"
   },
   {
    "duration": 6,
    "start_time": "2021-08-27T21:01:33.125Z"
   },
   {
    "duration": 25,
    "start_time": "2021-08-27T21:01:33.293Z"
   },
   {
    "duration": 12,
    "start_time": "2021-08-27T21:01:33.641Z"
   },
   {
    "duration": 8,
    "start_time": "2021-08-27T21:01:33.845Z"
   },
   {
    "duration": 6,
    "start_time": "2021-08-27T21:01:34.021Z"
   },
   {
    "duration": 16,
    "start_time": "2021-08-27T21:01:34.229Z"
   },
   {
    "duration": 7,
    "start_time": "2021-08-27T21:01:34.425Z"
   },
   {
    "duration": 17,
    "start_time": "2021-08-27T21:01:34.617Z"
   },
   {
    "duration": 59,
    "start_time": "2021-08-27T21:01:35.769Z"
   },
   {
    "duration": 9,
    "start_time": "2021-08-27T21:01:36.372Z"
   },
   {
    "duration": 9,
    "start_time": "2021-08-27T21:01:36.593Z"
   },
   {
    "duration": 49,
    "start_time": "2021-08-27T21:01:37.021Z"
   },
   {
    "duration": 42,
    "start_time": "2021-08-27T21:01:37.897Z"
   },
   {
    "duration": 28,
    "start_time": "2021-08-27T21:01:38.625Z"
   },
   {
    "duration": 33,
    "start_time": "2021-08-27T21:01:39.133Z"
   },
   {
    "duration": 13,
    "start_time": "2021-08-27T21:01:39.549Z"
   },
   {
    "duration": 13,
    "start_time": "2021-08-27T21:01:40.225Z"
   },
   {
    "duration": 26,
    "start_time": "2021-08-27T21:01:41.065Z"
   },
   {
    "duration": 28,
    "start_time": "2021-08-27T21:01:42.853Z"
   },
   {
    "duration": 6629,
    "start_time": "2021-08-27T21:02:26.549Z"
   },
   {
    "duration": 3,
    "start_time": "2021-08-27T21:02:39.229Z"
   },
   {
    "duration": 337,
    "start_time": "2021-08-27T21:02:39.577Z"
   },
   {
    "duration": 13,
    "start_time": "2021-08-27T21:02:39.916Z"
   },
   {
    "duration": 20,
    "start_time": "2021-08-27T21:02:40.069Z"
   },
   {
    "duration": 20,
    "start_time": "2021-08-27T21:02:40.241Z"
   },
   {
    "duration": 185,
    "start_time": "2021-08-27T21:02:40.397Z"
   },
   {
    "duration": 78,
    "start_time": "2021-08-27T21:02:40.584Z"
   },
   {
    "duration": 26,
    "start_time": "2021-08-27T21:02:40.729Z"
   },
   {
    "duration": 13,
    "start_time": "2021-08-27T21:02:41.069Z"
   },
   {
    "duration": 16,
    "start_time": "2021-08-27T21:02:41.217Z"
   },
   {
    "duration": 15,
    "start_time": "2021-08-27T21:02:41.373Z"
   },
   {
    "duration": 127,
    "start_time": "2021-08-27T21:02:41.533Z"
   },
   {
    "duration": 45,
    "start_time": "2021-08-27T21:02:41.680Z"
   },
   {
    "duration": 27,
    "start_time": "2021-08-27T21:02:41.849Z"
   },
   {
    "duration": 11,
    "start_time": "2021-08-27T21:02:42.189Z"
   },
   {
    "duration": 14,
    "start_time": "2021-08-27T21:02:42.353Z"
   },
   {
    "duration": 14,
    "start_time": "2021-08-27T21:02:42.509Z"
   },
   {
    "duration": 80,
    "start_time": "2021-08-27T21:02:42.693Z"
   },
   {
    "duration": 37,
    "start_time": "2021-08-27T21:02:42.857Z"
   },
   {
    "duration": 17,
    "start_time": "2021-08-27T21:02:43.037Z"
   },
   {
    "duration": 8,
    "start_time": "2021-08-27T21:02:43.397Z"
   },
   {
    "duration": 6,
    "start_time": "2021-08-27T21:02:43.573Z"
   },
   {
    "duration": 5,
    "start_time": "2021-08-27T21:02:43.721Z"
   },
   {
    "duration": 13,
    "start_time": "2021-08-27T21:02:43.905Z"
   },
   {
    "duration": 5,
    "start_time": "2021-08-27T21:02:44.073Z"
   },
   {
    "duration": 25,
    "start_time": "2021-08-27T21:02:44.249Z"
   },
   {
    "duration": 11,
    "start_time": "2021-08-27T21:02:44.641Z"
   },
   {
    "duration": 7,
    "start_time": "2021-08-27T21:02:44.809Z"
   },
   {
    "duration": 6,
    "start_time": "2021-08-27T21:02:45.006Z"
   },
   {
    "duration": 15,
    "start_time": "2021-08-27T21:02:45.193Z"
   },
   {
    "duration": 7,
    "start_time": "2021-08-27T21:02:45.377Z"
   },
   {
    "duration": 17,
    "start_time": "2021-08-27T21:02:45.561Z"
   },
   {
    "duration": 59,
    "start_time": "2021-08-27T21:02:46.697Z"
   },
   {
    "duration": 9,
    "start_time": "2021-08-27T21:02:47.669Z"
   },
   {
    "duration": 9,
    "start_time": "2021-08-27T21:02:47.849Z"
   },
   {
    "duration": 50,
    "start_time": "2021-08-27T21:02:50.072Z"
   },
   {
    "duration": 40,
    "start_time": "2021-08-27T21:02:52.381Z"
   },
   {
    "duration": 28,
    "start_time": "2021-08-27T21:02:57.629Z"
   },
   {
    "duration": 35,
    "start_time": "2021-08-27T21:03:00.570Z"
   },
   {
    "duration": 14,
    "start_time": "2021-08-27T21:03:03.545Z"
   },
   {
    "duration": 15,
    "start_time": "2021-08-27T21:03:04.721Z"
   },
   {
    "duration": 28,
    "start_time": "2021-08-27T21:03:14.701Z"
   },
   {
    "duration": 40,
    "start_time": "2021-08-27T21:03:47.213Z"
   },
   {
    "duration": 22,
    "start_time": "2021-08-27T21:04:05.165Z"
   },
   {
    "duration": 29,
    "start_time": "2021-08-27T21:04:20.918Z"
   },
   {
    "duration": 16,
    "start_time": "2021-08-27T21:04:33.245Z"
   },
   {
    "duration": 7,
    "start_time": "2021-08-27T21:04:46.950Z"
   },
   {
    "duration": 6,
    "start_time": "2021-08-27T21:07:14.494Z"
   },
   {
    "duration": 9,
    "start_time": "2021-08-27T21:07:30.516Z"
   },
   {
    "duration": 37,
    "start_time": "2021-08-27T21:07:37.486Z"
   },
   {
    "duration": 17,
    "start_time": "2021-08-27T21:07:55.523Z"
   },
   {
    "duration": 1087,
    "start_time": "2021-08-27T21:08:53.135Z"
   },
   {
    "duration": 404,
    "start_time": "2021-08-27T21:08:54.224Z"
   },
   {
    "duration": 18,
    "start_time": "2021-08-27T21:08:54.630Z"
   },
   {
    "duration": 20,
    "start_time": "2021-08-27T21:08:54.651Z"
   },
   {
    "duration": 20,
    "start_time": "2021-08-27T21:08:54.673Z"
   },
   {
    "duration": 219,
    "start_time": "2021-08-27T21:08:54.695Z"
   },
   {
    "duration": 103,
    "start_time": "2021-08-27T21:08:54.916Z"
   },
   {
    "duration": 34,
    "start_time": "2021-08-27T21:08:55.023Z"
   },
   {
    "duration": 409,
    "start_time": "2021-08-27T21:08:55.060Z"
   },
   {
    "duration": 17,
    "start_time": "2021-08-27T21:08:55.472Z"
   },
   {
    "duration": 16,
    "start_time": "2021-08-27T21:08:55.491Z"
   },
   {
    "duration": 137,
    "start_time": "2021-08-27T21:08:55.509Z"
   },
   {
    "duration": 60,
    "start_time": "2021-08-27T21:08:55.648Z"
   },
   {
    "duration": 46,
    "start_time": "2021-08-27T21:08:55.710Z"
   },
   {
    "duration": 10,
    "start_time": "2021-08-27T21:08:55.758Z"
   },
   {
    "duration": 13,
    "start_time": "2021-08-27T21:08:55.770Z"
   },
   {
    "duration": 20,
    "start_time": "2021-08-27T21:08:55.785Z"
   },
   {
    "duration": 112,
    "start_time": "2021-08-27T21:08:55.807Z"
   },
   {
    "duration": 53,
    "start_time": "2021-08-27T21:08:55.921Z"
   },
   {
    "duration": 16,
    "start_time": "2021-08-27T21:08:55.975Z"
   },
   {
    "duration": 7,
    "start_time": "2021-08-27T21:08:55.993Z"
   },
   {
    "duration": 8,
    "start_time": "2021-08-27T21:08:56.002Z"
   },
   {
    "duration": 29,
    "start_time": "2021-08-27T21:08:56.013Z"
   },
   {
    "duration": 13,
    "start_time": "2021-08-27T21:08:56.044Z"
   },
   {
    "duration": 7,
    "start_time": "2021-08-27T21:08:56.058Z"
   },
   {
    "duration": 26,
    "start_time": "2021-08-27T21:08:56.067Z"
   },
   {
    "duration": 12,
    "start_time": "2021-08-27T21:08:56.094Z"
   },
   {
    "duration": 33,
    "start_time": "2021-08-27T21:08:56.108Z"
   },
   {
    "duration": 5,
    "start_time": "2021-08-27T21:08:56.143Z"
   },
   {
    "duration": 18,
    "start_time": "2021-08-27T21:08:56.150Z"
   },
   {
    "duration": 6,
    "start_time": "2021-08-27T21:08:56.170Z"
   },
   {
    "duration": 19,
    "start_time": "2021-08-27T21:08:56.177Z"
   },
   {
    "duration": 92,
    "start_time": "2021-08-27T21:08:56.197Z"
   },
   {
    "duration": 9,
    "start_time": "2021-08-27T21:08:56.290Z"
   },
   {
    "duration": 9,
    "start_time": "2021-08-27T21:08:56.300Z"
   },
   {
    "duration": 66,
    "start_time": "2021-08-27T21:08:56.310Z"
   },
   {
    "duration": 45,
    "start_time": "2021-08-27T21:08:56.377Z"
   },
   {
    "duration": 40,
    "start_time": "2021-08-27T21:08:56.424Z"
   },
   {
    "duration": 36,
    "start_time": "2021-08-27T21:08:56.465Z"
   },
   {
    "duration": 13,
    "start_time": "2021-08-27T21:08:56.502Z"
   },
   {
    "duration": 36,
    "start_time": "2021-08-27T21:08:56.516Z"
   },
   {
    "duration": 26,
    "start_time": "2021-08-27T21:08:56.554Z"
   },
   {
    "duration": 14,
    "start_time": "2021-08-27T21:08:56.581Z"
   },
   {
    "duration": 5,
    "start_time": "2021-08-27T21:08:56.596Z"
   },
   {
    "duration": 39,
    "start_time": "2021-08-27T21:08:56.603Z"
   },
   {
    "duration": 37,
    "start_time": "2021-08-27T21:08:56.644Z"
   },
   {
    "duration": 20,
    "start_time": "2021-08-27T21:08:56.682Z"
   },
   {
    "duration": 8,
    "start_time": "2021-08-27T21:12:11.880Z"
   },
   {
    "duration": 1230,
    "start_time": "2021-08-27T21:27:32.257Z"
   },
   {
    "duration": 14,
    "start_time": "2021-08-27T21:28:48.723Z"
   },
   {
    "duration": 13,
    "start_time": "2021-08-27T21:30:31.823Z"
   },
   {
    "duration": 5,
    "start_time": "2021-08-27T21:33:52.547Z"
   },
   {
    "duration": 5,
    "start_time": "2021-08-27T21:36:32.776Z"
   },
   {
    "duration": 5,
    "start_time": "2021-08-27T21:36:33.368Z"
   },
   {
    "duration": 6,
    "start_time": "2021-08-27T21:37:31.680Z"
   },
   {
    "duration": 456,
    "start_time": "2021-08-28T08:41:12.906Z"
   },
   {
    "duration": 1023,
    "start_time": "2021-08-28T08:41:27.792Z"
   },
   {
    "duration": 377,
    "start_time": "2021-08-28T08:41:28.817Z"
   },
   {
    "duration": 17,
    "start_time": "2021-08-28T08:41:29.196Z"
   },
   {
    "duration": 20,
    "start_time": "2021-08-28T08:41:29.215Z"
   },
   {
    "duration": 18,
    "start_time": "2021-08-28T08:41:29.262Z"
   },
   {
    "duration": 206,
    "start_time": "2021-08-28T08:41:29.461Z"
   },
   {
    "duration": 99,
    "start_time": "2021-08-28T08:41:29.668Z"
   },
   {
    "duration": 31,
    "start_time": "2021-08-28T08:41:29.812Z"
   },
   {
    "duration": 14,
    "start_time": "2021-08-28T08:41:30.188Z"
   },
   {
    "duration": 17,
    "start_time": "2021-08-28T08:41:30.388Z"
   },
   {
    "duration": 17,
    "start_time": "2021-08-28T08:41:30.570Z"
   },
   {
    "duration": 117,
    "start_time": "2021-08-28T08:41:30.774Z"
   },
   {
    "duration": 59,
    "start_time": "2021-08-28T08:41:31.012Z"
   },
   {
    "duration": 27,
    "start_time": "2021-08-28T08:41:31.170Z"
   },
   {
    "duration": 11,
    "start_time": "2021-08-28T08:41:31.572Z"
   },
   {
    "duration": 14,
    "start_time": "2021-08-28T08:41:31.786Z"
   },
   {
    "duration": 13,
    "start_time": "2021-08-28T08:41:31.998Z"
   },
   {
    "duration": 86,
    "start_time": "2021-08-28T08:41:32.210Z"
   },
   {
    "duration": 40,
    "start_time": "2021-08-28T08:41:32.406Z"
   },
   {
    "duration": 16,
    "start_time": "2021-08-28T08:41:32.624Z"
   },
   {
    "duration": 8,
    "start_time": "2021-08-28T08:41:34.400Z"
   },
   {
    "duration": 29,
    "start_time": "2021-08-28T08:41:34.410Z"
   },
   {
    "duration": 24,
    "start_time": "2021-08-28T08:41:34.441Z"
   },
   {
    "duration": 26,
    "start_time": "2021-08-28T08:41:34.466Z"
   },
   {
    "duration": 16,
    "start_time": "2021-08-28T08:41:34.494Z"
   },
   {
    "duration": 32,
    "start_time": "2021-08-28T08:41:34.512Z"
   },
   {
    "duration": 12,
    "start_time": "2021-08-28T08:41:34.553Z"
   },
   {
    "duration": 7,
    "start_time": "2021-08-28T08:41:34.754Z"
   },
   {
    "duration": 5,
    "start_time": "2021-08-28T08:41:34.962Z"
   },
   {
    "duration": 16,
    "start_time": "2021-08-28T08:41:35.142Z"
   },
   {
    "duration": 6,
    "start_time": "2021-08-28T08:41:35.362Z"
   },
   {
    "duration": 16,
    "start_time": "2021-08-28T08:41:35.556Z"
   },
   {
    "duration": 62,
    "start_time": "2021-08-28T08:41:36.738Z"
   },
   {
    "duration": 9,
    "start_time": "2021-08-28T08:41:37.350Z"
   },
   {
    "duration": 9,
    "start_time": "2021-08-28T08:41:37.554Z"
   },
   {
    "duration": 49,
    "start_time": "2021-08-28T08:41:37.958Z"
   },
   {
    "duration": 45,
    "start_time": "2021-08-28T08:41:38.900Z"
   },
   {
    "duration": 27,
    "start_time": "2021-08-28T08:41:39.223Z"
   },
   {
    "duration": 34,
    "start_time": "2021-08-28T08:41:39.673Z"
   },
   {
    "duration": 14,
    "start_time": "2021-08-28T08:41:40.102Z"
   },
   {
    "duration": 14,
    "start_time": "2021-08-28T08:41:40.515Z"
   },
   {
    "duration": 28,
    "start_time": "2021-08-28T08:41:41.154Z"
   },
   {
    "duration": 15,
    "start_time": "2021-08-28T08:41:41.774Z"
   },
   {
    "duration": 6,
    "start_time": "2021-08-28T08:41:41.966Z"
   },
   {
    "duration": 8,
    "start_time": "2021-08-28T08:41:42.360Z"
   },
   {
    "duration": 8,
    "start_time": "2021-08-28T08:41:42.602Z"
   },
   {
    "duration": 39,
    "start_time": "2021-08-28T08:41:43.042Z"
   },
   {
    "duration": 6,
    "start_time": "2021-08-28T08:41:44.350Z"
   },
   {
    "duration": 19,
    "start_time": "2021-08-28T08:41:44.610Z"
   },
   {
    "duration": 5,
    "start_time": "2021-08-28T08:41:45.226Z"
   },
   {
    "duration": 5,
    "start_time": "2021-08-28T08:41:45.702Z"
   },
   {
    "duration": 14,
    "start_time": "2021-08-28T08:41:46.056Z"
   },
   {
    "duration": 13,
    "start_time": "2021-08-28T08:42:46.123Z"
   },
   {
    "duration": 5,
    "start_time": "2021-08-28T08:44:19.298Z"
   },
   {
    "duration": 5,
    "start_time": "2021-08-28T08:44:20.346Z"
   },
   {
    "duration": 7843,
    "start_time": "2021-08-28T08:45:50.431Z"
   },
   {
    "duration": 7057,
    "start_time": "2021-08-28T08:46:24.147Z"
   },
   {
    "duration": 6,
    "start_time": "2021-08-28T08:47:04.575Z"
   },
   {
    "duration": 14,
    "start_time": "2021-08-28T08:47:05.924Z"
   },
   {
    "duration": 6730,
    "start_time": "2021-08-28T08:47:10.779Z"
   },
   {
    "duration": 4,
    "start_time": "2021-08-28T08:48:25.703Z"
   },
   {
    "duration": 3,
    "start_time": "2021-08-28T08:52:52.657Z"
   },
   {
    "duration": 363,
    "start_time": "2021-08-28T08:52:52.972Z"
   },
   {
    "duration": 13,
    "start_time": "2021-08-28T08:52:53.337Z"
   },
   {
    "duration": 20,
    "start_time": "2021-08-28T08:52:53.522Z"
   },
   {
    "duration": 19,
    "start_time": "2021-08-28T08:52:53.772Z"
   },
   {
    "duration": 197,
    "start_time": "2021-08-28T08:52:53.941Z"
   },
   {
    "duration": 81,
    "start_time": "2021-08-28T08:52:54.140Z"
   },
   {
    "duration": 28,
    "start_time": "2021-08-28T08:52:54.371Z"
   },
   {
    "duration": 13,
    "start_time": "2021-08-28T08:52:55.024Z"
   },
   {
    "duration": 16,
    "start_time": "2021-08-28T08:52:55.252Z"
   },
   {
    "duration": 17,
    "start_time": "2021-08-28T08:52:55.452Z"
   },
   {
    "duration": 136,
    "start_time": "2021-08-28T08:52:55.681Z"
   },
   {
    "duration": 48,
    "start_time": "2021-08-28T08:52:55.920Z"
   },
   {
    "duration": 27,
    "start_time": "2021-08-28T08:52:56.370Z"
   },
   {
    "duration": 11,
    "start_time": "2021-08-28T08:52:56.560Z"
   },
   {
    "duration": 13,
    "start_time": "2021-08-28T08:52:56.940Z"
   },
   {
    "duration": 13,
    "start_time": "2021-08-28T08:52:57.188Z"
   },
   {
    "duration": 87,
    "start_time": "2021-08-28T08:52:57.400Z"
   },
   {
    "duration": 47,
    "start_time": "2021-08-28T08:52:57.624Z"
   },
   {
    "duration": 15,
    "start_time": "2021-08-28T08:52:57.820Z"
   },
   {
    "duration": 7,
    "start_time": "2021-08-28T08:52:58.252Z"
   },
   {
    "duration": 6,
    "start_time": "2021-08-28T08:52:58.460Z"
   },
   {
    "duration": 5,
    "start_time": "2021-08-28T08:52:58.664Z"
   },
   {
    "duration": 13,
    "start_time": "2021-08-28T08:52:58.848Z"
   },
   {
    "duration": 6,
    "start_time": "2021-08-28T08:52:59.060Z"
   },
   {
    "duration": 25,
    "start_time": "2021-08-28T08:52:59.248Z"
   },
   {
    "duration": 12,
    "start_time": "2021-08-28T08:52:59.648Z"
   },
   {
    "duration": 7,
    "start_time": "2021-08-28T08:52:59.824Z"
   },
   {
    "duration": 6,
    "start_time": "2021-08-28T08:53:00.028Z"
   },
   {
    "duration": 23,
    "start_time": "2021-08-28T08:53:00.420Z"
   },
   {
    "duration": 16,
    "start_time": "2021-08-28T08:53:00.445Z"
   },
   {
    "duration": 18,
    "start_time": "2021-08-28T08:53:00.644Z"
   },
   {
    "duration": 60,
    "start_time": "2021-08-28T08:53:01.812Z"
   },
   {
    "duration": 9,
    "start_time": "2021-08-28T08:53:03.748Z"
   },
   {
    "duration": 10,
    "start_time": "2021-08-28T08:53:03.972Z"
   },
   {
    "duration": 51,
    "start_time": "2021-08-28T08:53:05.688Z"
   },
   {
    "duration": 41,
    "start_time": "2021-08-28T08:53:06.096Z"
   },
   {
    "duration": 28,
    "start_time": "2021-08-28T08:53:06.596Z"
   },
   {
    "duration": 34,
    "start_time": "2021-08-28T08:53:08.384Z"
   },
   {
    "duration": 13,
    "start_time": "2021-08-28T08:53:09.418Z"
   },
   {
    "duration": 15,
    "start_time": "2021-08-28T08:53:14.634Z"
   },
   {
    "duration": 27,
    "start_time": "2021-08-28T08:53:17.252Z"
   },
   {
    "duration": 16,
    "start_time": "2021-08-28T09:08:57.026Z"
   },
   {
    "duration": 6,
    "start_time": "2021-08-28T09:08:58.786Z"
   },
   {
    "duration": 8,
    "start_time": "2021-08-28T09:09:11.502Z"
   },
   {
    "duration": 8,
    "start_time": "2021-08-28T09:09:12.675Z"
   },
   {
    "duration": 37,
    "start_time": "2021-08-28T09:09:30.710Z"
   },
   {
    "duration": 6,
    "start_time": "2021-08-28T09:09:43.887Z"
   },
   {
    "duration": 14,
    "start_time": "2021-08-28T09:09:46.391Z"
   },
   {
    "duration": 5,
    "start_time": "2021-08-28T09:09:55.899Z"
   },
   {
    "duration": 4,
    "start_time": "2021-08-28T09:10:00.747Z"
   },
   {
    "duration": 15,
    "start_time": "2021-08-28T09:10:03.070Z"
   },
   {
    "duration": 6,
    "start_time": "2021-08-28T09:10:03.910Z"
   },
   {
    "duration": 5,
    "start_time": "2021-08-28T09:10:09.398Z"
   },
   {
    "duration": 8,
    "start_time": "2021-08-28T09:14:40.435Z"
   },
   {
    "duration": 7,
    "start_time": "2021-08-28T09:15:25.679Z"
   },
   {
    "duration": 34,
    "start_time": "2021-08-28T09:16:18.387Z"
   },
   {
    "duration": 51,
    "start_time": "2021-08-28T09:16:47.300Z"
   },
   {
    "duration": 44,
    "start_time": "2021-08-28T09:19:11.864Z"
   },
   {
    "duration": 51,
    "start_time": "2021-08-28T09:19:34.800Z"
   },
   {
    "duration": 15,
    "start_time": "2021-08-28T09:21:13.000Z"
   },
   {
    "duration": 45,
    "start_time": "2021-08-28T09:21:17.396Z"
   },
   {
    "duration": 314,
    "start_time": "2021-08-28T09:28:21.457Z"
   },
   {
    "duration": 44,
    "start_time": "2021-08-28T09:28:44.133Z"
   },
   {
    "duration": 533,
    "start_time": "2021-08-28T09:33:31.791Z"
   },
   {
    "duration": 16,
    "start_time": "2021-08-28T09:44:46.912Z"
   },
   {
    "duration": 3,
    "start_time": "2021-08-28T09:46:33.412Z"
   },
   {
    "duration": 382,
    "start_time": "2021-08-28T09:46:34.260Z"
   },
   {
    "duration": 14,
    "start_time": "2021-08-28T09:46:34.684Z"
   },
   {
    "duration": 21,
    "start_time": "2021-08-28T09:46:34.864Z"
   },
   {
    "duration": 21,
    "start_time": "2021-08-28T09:46:35.052Z"
   },
   {
    "duration": 199,
    "start_time": "2021-08-28T09:46:35.232Z"
   },
   {
    "duration": 91,
    "start_time": "2021-08-28T09:46:35.432Z"
   },
   {
    "duration": 27,
    "start_time": "2021-08-28T09:46:35.608Z"
   },
   {
    "duration": 13,
    "start_time": "2021-08-28T09:46:35.997Z"
   },
   {
    "duration": 16,
    "start_time": "2021-08-28T09:46:36.184Z"
   },
   {
    "duration": 16,
    "start_time": "2021-08-28T09:46:36.364Z"
   },
   {
    "duration": 122,
    "start_time": "2021-08-28T09:46:36.556Z"
   },
   {
    "duration": 48,
    "start_time": "2021-08-28T09:46:36.760Z"
   },
   {
    "duration": 28,
    "start_time": "2021-08-28T09:46:36.960Z"
   },
   {
    "duration": 11,
    "start_time": "2021-08-28T09:46:37.372Z"
   },
   {
    "duration": 13,
    "start_time": "2021-08-28T09:46:37.572Z"
   },
   {
    "duration": 13,
    "start_time": "2021-08-28T09:46:37.788Z"
   },
   {
    "duration": 89,
    "start_time": "2021-08-28T09:46:37.980Z"
   },
   {
    "duration": 36,
    "start_time": "2021-08-28T09:46:38.185Z"
   },
   {
    "duration": 15,
    "start_time": "2021-08-28T09:46:38.396Z"
   },
   {
    "duration": 8,
    "start_time": "2021-08-28T09:46:38.800Z"
   },
   {
    "duration": 6,
    "start_time": "2021-08-28T09:46:39.020Z"
   },
   {
    "duration": 6,
    "start_time": "2021-08-28T09:46:39.236Z"
   },
   {
    "duration": 20,
    "start_time": "2021-08-28T09:46:39.444Z"
   },
   {
    "duration": 15,
    "start_time": "2021-08-28T09:46:39.653Z"
   },
   {
    "duration": 26,
    "start_time": "2021-08-28T09:46:39.852Z"
   },
   {
    "duration": 12,
    "start_time": "2021-08-28T09:46:40.276Z"
   },
   {
    "duration": 7,
    "start_time": "2021-08-28T09:46:40.508Z"
   },
   {
    "duration": 6,
    "start_time": "2021-08-28T09:46:41.308Z"
   },
   {
    "duration": 17,
    "start_time": "2021-08-28T09:46:41.808Z"
   },
   {
    "duration": 7,
    "start_time": "2021-08-28T09:46:42.357Z"
   },
   {
    "duration": 17,
    "start_time": "2021-08-28T09:46:42.820Z"
   },
   {
    "duration": 66,
    "start_time": "2021-08-28T09:46:44.390Z"
   },
   {
    "duration": 10,
    "start_time": "2021-08-28T09:46:44.992Z"
   },
   {
    "duration": 10,
    "start_time": "2021-08-28T09:46:45.164Z"
   },
   {
    "duration": 50,
    "start_time": "2021-08-28T09:46:45.580Z"
   },
   {
    "duration": 43,
    "start_time": "2021-08-28T09:46:46.200Z"
   },
   {
    "duration": 31,
    "start_time": "2021-08-28T09:46:46.628Z"
   },
   {
    "duration": 36,
    "start_time": "2021-08-28T09:46:47.452Z"
   },
   {
    "duration": 13,
    "start_time": "2021-08-28T09:46:47.952Z"
   },
   {
    "duration": 21,
    "start_time": "2021-08-28T09:46:49.140Z"
   },
   {
    "duration": 28,
    "start_time": "2021-08-28T09:46:50.508Z"
   },
   {
    "duration": 15,
    "start_time": "2021-08-28T09:46:51.828Z"
   },
   {
    "duration": 6,
    "start_time": "2021-08-28T09:46:52.096Z"
   },
   {
    "duration": 9,
    "start_time": "2021-08-28T09:46:53.512Z"
   },
   {
    "duration": 7,
    "start_time": "2021-08-28T09:46:53.972Z"
   },
   {
    "duration": 39,
    "start_time": "2021-08-28T09:46:54.504Z"
   },
   {
    "duration": 6,
    "start_time": "2021-08-28T09:46:58.924Z"
   },
   {
    "duration": 14,
    "start_time": "2021-08-28T09:47:00.592Z"
   },
   {
    "duration": 6,
    "start_time": "2021-08-28T09:59:48.765Z"
   },
   {
    "duration": 3,
    "start_time": "2021-08-28T09:59:58.569Z"
   },
   {
    "duration": 374,
    "start_time": "2021-08-28T09:59:59.214Z"
   },
   {
    "duration": 14,
    "start_time": "2021-08-28T09:59:59.590Z"
   },
   {
    "duration": 19,
    "start_time": "2021-08-28T09:59:59.758Z"
   },
   {
    "duration": 22,
    "start_time": "2021-08-28T09:59:59.954Z"
   },
   {
    "duration": 206,
    "start_time": "2021-08-28T10:00:00.150Z"
   },
   {
    "duration": 101,
    "start_time": "2021-08-28T10:00:00.358Z"
   },
   {
    "duration": 31,
    "start_time": "2021-08-28T10:00:00.530Z"
   },
   {
    "duration": 12,
    "start_time": "2021-08-28T10:00:00.910Z"
   },
   {
    "duration": 16,
    "start_time": "2021-08-28T10:00:01.110Z"
   },
   {
    "duration": 16,
    "start_time": "2021-08-28T10:00:01.294Z"
   },
   {
    "duration": 138,
    "start_time": "2021-08-28T10:00:01.514Z"
   },
   {
    "duration": 48,
    "start_time": "2021-08-28T10:00:01.685Z"
   },
   {
    "duration": 33,
    "start_time": "2021-08-28T10:00:01.886Z"
   },
   {
    "duration": 11,
    "start_time": "2021-08-28T10:00:02.290Z"
   },
   {
    "duration": 14,
    "start_time": "2021-08-28T10:00:02.498Z"
   },
   {
    "duration": 13,
    "start_time": "2021-08-28T10:00:02.714Z"
   },
   {
    "duration": 91,
    "start_time": "2021-08-28T10:00:02.929Z"
   },
   {
    "duration": 42,
    "start_time": "2021-08-28T10:00:03.126Z"
   },
   {
    "duration": 16,
    "start_time": "2021-08-28T10:00:06.158Z"
   },
   {
    "duration": 8,
    "start_time": "2021-08-28T10:00:06.930Z"
   },
   {
    "duration": 6,
    "start_time": "2021-08-28T10:00:07.130Z"
   },
   {
    "duration": 5,
    "start_time": "2021-08-28T10:00:07.322Z"
   },
   {
    "duration": 14,
    "start_time": "2021-08-28T10:00:07.506Z"
   },
   {
    "duration": 6,
    "start_time": "2021-08-28T10:00:07.694Z"
   },
   {
    "duration": 26,
    "start_time": "2021-08-28T10:00:07.890Z"
   },
   {
    "duration": 16,
    "start_time": "2021-08-28T10:00:08.438Z"
   },
   {
    "duration": 6,
    "start_time": "2021-08-28T10:00:08.634Z"
   },
   {
    "duration": 6,
    "start_time": "2021-08-28T10:00:08.858Z"
   },
   {
    "duration": 18,
    "start_time": "2021-08-28T10:00:09.026Z"
   },
   {
    "duration": 8,
    "start_time": "2021-08-28T10:00:09.218Z"
   },
   {
    "duration": 17,
    "start_time": "2021-08-28T10:00:09.402Z"
   },
   {
    "duration": 67,
    "start_time": "2021-08-28T10:00:11.338Z"
   },
   {
    "duration": 10,
    "start_time": "2021-08-28T10:00:12.069Z"
   },
   {
    "duration": 9,
    "start_time": "2021-08-28T10:00:12.301Z"
   },
   {
    "duration": 50,
    "start_time": "2021-08-28T10:00:12.682Z"
   },
   {
    "duration": 45,
    "start_time": "2021-08-28T10:00:13.662Z"
   },
   {
    "duration": 33,
    "start_time": "2021-08-28T10:00:14.130Z"
   },
   {
    "duration": 40,
    "start_time": "2021-08-28T10:00:15.530Z"
   },
   {
    "duration": 13,
    "start_time": "2021-08-28T10:00:17.157Z"
   },
   {
    "duration": 14,
    "start_time": "2021-08-28T10:00:17.798Z"
   },
   {
    "duration": 29,
    "start_time": "2021-08-28T10:00:20.794Z"
   },
   {
    "duration": 7,
    "start_time": "2021-08-28T10:00:27.258Z"
   },
   {
    "duration": 10,
    "start_time": "2021-08-28T10:02:14.978Z"
   },
   {
    "duration": 5,
    "start_time": "2021-08-28T10:08:54.300Z"
   },
   {
    "duration": 6,
    "start_time": "2021-08-28T10:09:40.479Z"
   },
   {
    "duration": 27,
    "start_time": "2021-08-28T10:09:52.472Z"
   },
   {
    "duration": 6,
    "start_time": "2021-08-28T10:10:14.007Z"
   },
   {
    "duration": 5,
    "start_time": "2021-08-28T10:11:31.988Z"
   },
   {
    "duration": 8,
    "start_time": "2021-08-28T10:12:08.887Z"
   },
   {
    "duration": 6,
    "start_time": "2021-08-28T10:12:30.508Z"
   },
   {
    "duration": 13,
    "start_time": "2021-08-28T10:12:38.512Z"
   },
   {
    "duration": 8,
    "start_time": "2021-08-28T10:12:54.444Z"
   },
   {
    "duration": 3,
    "start_time": "2021-08-28T10:14:16.320Z"
   },
   {
    "duration": 358,
    "start_time": "2021-08-28T10:14:16.676Z"
   },
   {
    "duration": 16,
    "start_time": "2021-08-28T10:14:17.048Z"
   },
   {
    "duration": 21,
    "start_time": "2021-08-28T10:14:17.228Z"
   },
   {
    "duration": 20,
    "start_time": "2021-08-28T10:14:17.412Z"
   },
   {
    "duration": 204,
    "start_time": "2021-08-28T10:14:17.616Z"
   },
   {
    "duration": 76,
    "start_time": "2021-08-28T10:14:17.822Z"
   },
   {
    "duration": 31,
    "start_time": "2021-08-28T10:14:18.027Z"
   },
   {
    "duration": 13,
    "start_time": "2021-08-28T10:14:18.412Z"
   },
   {
    "duration": 18,
    "start_time": "2021-08-28T10:14:18.672Z"
   },
   {
    "duration": 22,
    "start_time": "2021-08-28T10:14:18.904Z"
   },
   {
    "duration": 122,
    "start_time": "2021-08-28T10:14:19.116Z"
   },
   {
    "duration": 48,
    "start_time": "2021-08-28T10:14:19.348Z"
   },
   {
    "duration": 28,
    "start_time": "2021-08-28T10:14:19.560Z"
   },
   {
    "duration": 13,
    "start_time": "2021-08-28T10:14:20.248Z"
   },
   {
    "duration": 14,
    "start_time": "2021-08-28T10:14:20.464Z"
   },
   {
    "duration": 15,
    "start_time": "2021-08-28T10:14:20.780Z"
   },
   {
    "duration": 93,
    "start_time": "2021-08-28T10:14:21.040Z"
   },
   {
    "duration": 45,
    "start_time": "2021-08-28T10:14:21.240Z"
   },
   {
    "duration": 17,
    "start_time": "2021-08-28T10:14:21.464Z"
   },
   {
    "duration": 8,
    "start_time": "2021-08-28T10:14:21.948Z"
   },
   {
    "duration": 6,
    "start_time": "2021-08-28T10:14:22.288Z"
   },
   {
    "duration": 6,
    "start_time": "2021-08-28T10:14:22.648Z"
   },
   {
    "duration": 13,
    "start_time": "2021-08-28T10:14:22.904Z"
   },
   {
    "duration": 6,
    "start_time": "2021-08-28T10:14:23.137Z"
   },
   {
    "duration": 28,
    "start_time": "2021-08-28T10:14:23.612Z"
   },
   {
    "duration": 14,
    "start_time": "2021-08-28T10:14:24.128Z"
   },
   {
    "duration": 7,
    "start_time": "2021-08-28T10:14:24.388Z"
   },
   {
    "duration": 6,
    "start_time": "2021-08-28T10:14:24.656Z"
   },
   {
    "duration": 16,
    "start_time": "2021-08-28T10:14:24.900Z"
   },
   {
    "duration": 6,
    "start_time": "2021-08-28T10:14:25.300Z"
   },
   {
    "duration": 17,
    "start_time": "2021-08-28T10:14:25.556Z"
   },
   {
    "duration": 81,
    "start_time": "2021-08-28T10:14:30.328Z"
   },
   {
    "duration": 9,
    "start_time": "2021-08-28T10:14:31.892Z"
   },
   {
    "duration": 9,
    "start_time": "2021-08-28T10:14:32.868Z"
   },
   {
    "duration": 51,
    "start_time": "2021-08-28T10:14:35.644Z"
   },
   {
    "duration": 10,
    "start_time": "2021-08-28T10:14:37.988Z"
   },
   {
    "duration": 77,
    "start_time": "2021-08-28T10:16:47.725Z"
   },
   {
    "duration": 81,
    "start_time": "2021-08-28T10:19:39.065Z"
   },
   {
    "duration": 79,
    "start_time": "2021-08-28T10:19:56.477Z"
   },
   {
    "duration": 5,
    "start_time": "2021-08-28T10:22:18.893Z"
   },
   {
    "duration": 45,
    "start_time": "2021-08-28T10:29:24.450Z"
   },
   {
    "duration": 41,
    "start_time": "2021-08-28T10:29:39.026Z"
   },
   {
    "duration": 3,
    "start_time": "2021-08-28T10:29:51.642Z"
   },
   {
    "duration": 361,
    "start_time": "2021-08-28T10:29:52.002Z"
   },
   {
    "duration": 13,
    "start_time": "2021-08-28T10:29:52.365Z"
   },
   {
    "duration": 28,
    "start_time": "2021-08-28T10:29:52.538Z"
   },
   {
    "duration": 19,
    "start_time": "2021-08-28T10:29:52.702Z"
   },
   {
    "duration": 204,
    "start_time": "2021-08-28T10:29:52.874Z"
   },
   {
    "duration": 98,
    "start_time": "2021-08-28T10:29:53.080Z"
   },
   {
    "duration": 28,
    "start_time": "2021-08-28T10:29:53.206Z"
   },
   {
    "duration": 12,
    "start_time": "2021-08-28T10:29:53.715Z"
   },
   {
    "duration": 16,
    "start_time": "2021-08-28T10:29:53.886Z"
   },
   {
    "duration": 17,
    "start_time": "2021-08-28T10:29:54.070Z"
   },
   {
    "duration": 133,
    "start_time": "2021-08-28T10:29:54.246Z"
   },
   {
    "duration": 53,
    "start_time": "2021-08-28T10:29:54.438Z"
   },
   {
    "duration": 32,
    "start_time": "2021-08-28T10:29:54.626Z"
   },
   {
    "duration": 11,
    "start_time": "2021-08-28T10:29:54.995Z"
   },
   {
    "duration": 14,
    "start_time": "2021-08-28T10:29:55.194Z"
   },
   {
    "duration": 13,
    "start_time": "2021-08-28T10:29:55.390Z"
   },
   {
    "duration": 89,
    "start_time": "2021-08-28T10:29:55.582Z"
   },
   {
    "duration": 39,
    "start_time": "2021-08-28T10:29:55.786Z"
   },
   {
    "duration": 16,
    "start_time": "2021-08-28T10:29:56.402Z"
   },
   {
    "duration": 8,
    "start_time": "2021-08-28T10:29:57.050Z"
   },
   {
    "duration": 6,
    "start_time": "2021-08-28T10:29:57.262Z"
   },
   {
    "duration": 5,
    "start_time": "2021-08-28T10:29:57.498Z"
   },
   {
    "duration": 12,
    "start_time": "2021-08-28T10:29:57.698Z"
   },
   {
    "duration": 6,
    "start_time": "2021-08-28T10:29:57.898Z"
   },
   {
    "duration": 28,
    "start_time": "2021-08-28T10:29:58.114Z"
   },
   {
    "duration": 13,
    "start_time": "2021-08-28T10:29:58.550Z"
   },
   {
    "duration": 6,
    "start_time": "2021-08-28T10:29:58.758Z"
   },
   {
    "duration": 6,
    "start_time": "2021-08-28T10:29:58.962Z"
   },
   {
    "duration": 19,
    "start_time": "2021-08-28T10:29:59.143Z"
   },
   {
    "duration": 7,
    "start_time": "2021-08-28T10:29:59.954Z"
   },
   {
    "duration": 17,
    "start_time": "2021-08-28T10:30:00.163Z"
   },
   {
    "duration": 66,
    "start_time": "2021-08-28T10:30:04.002Z"
   },
   {
    "duration": 10,
    "start_time": "2021-08-28T10:30:06.174Z"
   },
   {
    "duration": 16,
    "start_time": "2021-08-28T10:30:07.634Z"
   },
   {
    "duration": 49,
    "start_time": "2021-08-28T10:30:09.591Z"
   },
   {
    "duration": 46,
    "start_time": "2021-08-28T10:30:12.875Z"
   },
   {
    "duration": 44,
    "start_time": "2021-08-28T10:30:55.070Z"
   },
   {
    "duration": 2,
    "start_time": "2021-08-28T10:35:46.683Z"
   },
   {
    "duration": 353,
    "start_time": "2021-08-28T10:35:47.007Z"
   },
   {
    "duration": 14,
    "start_time": "2021-08-28T10:35:47.362Z"
   },
   {
    "duration": 28,
    "start_time": "2021-08-28T10:35:47.535Z"
   },
   {
    "duration": 18,
    "start_time": "2021-08-28T10:35:47.707Z"
   },
   {
    "duration": 191,
    "start_time": "2021-08-28T10:35:47.875Z"
   },
   {
    "duration": 84,
    "start_time": "2021-08-28T10:35:48.067Z"
   },
   {
    "duration": 29,
    "start_time": "2021-08-28T10:35:48.235Z"
   },
   {
    "duration": 14,
    "start_time": "2021-08-28T10:35:48.631Z"
   },
   {
    "duration": 17,
    "start_time": "2021-08-28T10:35:48.783Z"
   },
   {
    "duration": 17,
    "start_time": "2021-08-28T10:35:48.970Z"
   },
   {
    "duration": 120,
    "start_time": "2021-08-28T10:35:49.151Z"
   },
   {
    "duration": 56,
    "start_time": "2021-08-28T10:35:49.339Z"
   },
   {
    "duration": 31,
    "start_time": "2021-08-28T10:35:49.515Z"
   },
   {
    "duration": 12,
    "start_time": "2021-08-28T10:35:49.887Z"
   },
   {
    "duration": 15,
    "start_time": "2021-08-28T10:35:50.075Z"
   },
   {
    "duration": 14,
    "start_time": "2021-08-28T10:35:50.255Z"
   },
   {
    "duration": 90,
    "start_time": "2021-08-28T10:35:50.439Z"
   },
   {
    "duration": 43,
    "start_time": "2021-08-28T10:35:50.635Z"
   },
   {
    "duration": 25,
    "start_time": "2021-08-28T10:35:50.823Z"
   },
   {
    "duration": 8,
    "start_time": "2021-08-28T10:35:51.207Z"
   },
   {
    "duration": 6,
    "start_time": "2021-08-28T10:35:51.399Z"
   },
   {
    "duration": 5,
    "start_time": "2021-08-28T10:35:51.595Z"
   },
   {
    "duration": 12,
    "start_time": "2021-08-28T10:35:51.791Z"
   },
   {
    "duration": 5,
    "start_time": "2021-08-28T10:35:51.971Z"
   },
   {
    "duration": 26,
    "start_time": "2021-08-28T10:35:52.159Z"
   },
   {
    "duration": 16,
    "start_time": "2021-08-28T10:35:52.539Z"
   },
   {
    "duration": 6,
    "start_time": "2021-08-28T10:35:52.718Z"
   },
   {
    "duration": 5,
    "start_time": "2021-08-28T10:35:52.899Z"
   },
   {
    "duration": 18,
    "start_time": "2021-08-28T10:35:53.099Z"
   },
   {
    "duration": 6,
    "start_time": "2021-08-28T10:35:53.279Z"
   },
   {
    "duration": 18,
    "start_time": "2021-08-28T10:35:53.451Z"
   },
   {
    "duration": 68,
    "start_time": "2021-08-28T10:35:55.299Z"
   },
   {
    "duration": 9,
    "start_time": "2021-08-28T10:35:56.011Z"
   },
   {
    "duration": 8,
    "start_time": "2021-08-28T10:35:56.215Z"
   },
   {
    "duration": 47,
    "start_time": "2021-08-28T10:35:56.655Z"
   },
   {
    "duration": 39,
    "start_time": "2021-08-28T10:35:57.567Z"
   },
   {
    "duration": 6,
    "start_time": "2021-08-28T10:35:58.054Z"
   },
   {
    "duration": 31,
    "start_time": "2021-08-28T10:36:06.231Z"
   },
   {
    "duration": 6,
    "start_time": "2021-08-28T10:36:07.195Z"
   },
   {
    "duration": 33,
    "start_time": "2021-08-28T10:36:08.091Z"
   },
   {
    "duration": 7,
    "start_time": "2021-08-28T10:36:08.543Z"
   },
   {
    "duration": 13,
    "start_time": "2021-08-28T10:36:10.323Z"
   },
   {
    "duration": 8,
    "start_time": "2021-08-28T10:36:11.175Z"
   },
   {
    "duration": 14,
    "start_time": "2021-08-28T10:36:11.711Z"
   },
   {
    "duration": 7,
    "start_time": "2021-08-28T10:36:12.563Z"
   },
   {
    "duration": 31,
    "start_time": "2021-08-28T10:36:13.875Z"
   },
   {
    "duration": 8,
    "start_time": "2021-08-28T10:36:15.099Z"
   },
   {
    "duration": 7,
    "start_time": "2021-08-28T10:36:15.486Z"
   },
   {
    "duration": 13,
    "start_time": "2021-08-28T10:36:17.199Z"
   },
   {
    "duration": 6,
    "start_time": "2021-08-28T10:36:17.887Z"
   },
   {
    "duration": 10,
    "start_time": "2021-08-28T10:36:19.507Z"
   },
   {
    "duration": 7,
    "start_time": "2021-08-28T10:36:21.811Z"
   },
   {
    "duration": 41,
    "start_time": "2021-08-28T10:36:25.995Z"
   },
   {
    "duration": 456,
    "start_time": "2021-08-28T10:36:54.699Z"
   },
   {
    "duration": 1051,
    "start_time": "2021-08-28T10:37:11.659Z"
   },
   {
    "duration": 405,
    "start_time": "2021-08-28T10:37:12.712Z"
   },
   {
    "duration": 17,
    "start_time": "2021-08-28T10:37:13.119Z"
   },
   {
    "duration": 33,
    "start_time": "2021-08-28T10:37:13.138Z"
   },
   {
    "duration": 24,
    "start_time": "2021-08-28T10:37:13.173Z"
   },
   {
    "duration": 226,
    "start_time": "2021-08-28T10:37:13.199Z"
   },
   {
    "duration": 105,
    "start_time": "2021-08-28T10:37:13.427Z"
   },
   {
    "duration": 42,
    "start_time": "2021-08-28T10:37:13.535Z"
   },
   {
    "duration": 14,
    "start_time": "2021-08-28T10:37:13.579Z"
   },
   {
    "duration": 36,
    "start_time": "2021-08-28T10:37:13.595Z"
   },
   {
    "duration": 28,
    "start_time": "2021-08-28T10:37:13.633Z"
   },
   {
    "duration": 149,
    "start_time": "2021-08-28T10:37:13.662Z"
   },
   {
    "duration": 75,
    "start_time": "2021-08-28T10:37:13.813Z"
   },
   {
    "duration": 32,
    "start_time": "2021-08-28T10:37:13.889Z"
   },
   {
    "duration": 28,
    "start_time": "2021-08-28T10:37:13.923Z"
   },
   {
    "duration": 22,
    "start_time": "2021-08-28T10:37:13.953Z"
   },
   {
    "duration": 30,
    "start_time": "2021-08-28T10:37:13.977Z"
   },
   {
    "duration": 109,
    "start_time": "2021-08-28T10:37:14.009Z"
   },
   {
    "duration": 53,
    "start_time": "2021-08-28T10:37:14.120Z"
   },
   {
    "duration": 16,
    "start_time": "2021-08-28T10:37:14.175Z"
   },
   {
    "duration": 8,
    "start_time": "2021-08-28T10:37:14.193Z"
   },
   {
    "duration": 22,
    "start_time": "2021-08-28T10:37:14.202Z"
   },
   {
    "duration": 21,
    "start_time": "2021-08-28T10:37:14.228Z"
   },
   {
    "duration": 14,
    "start_time": "2021-08-28T10:37:14.252Z"
   },
   {
    "duration": 17,
    "start_time": "2021-08-28T10:37:14.268Z"
   },
   {
    "duration": 39,
    "start_time": "2021-08-28T10:37:14.286Z"
   },
   {
    "duration": 28,
    "start_time": "2021-08-28T10:37:14.327Z"
   },
   {
    "duration": 7,
    "start_time": "2021-08-28T10:37:14.357Z"
   },
   {
    "duration": 12,
    "start_time": "2021-08-28T10:37:14.366Z"
   },
   {
    "duration": 28,
    "start_time": "2021-08-28T10:37:14.380Z"
   },
   {
    "duration": 6,
    "start_time": "2021-08-28T10:37:14.409Z"
   },
   {
    "duration": 37,
    "start_time": "2021-08-28T10:37:14.417Z"
   },
   {
    "duration": 78,
    "start_time": "2021-08-28T10:37:14.456Z"
   },
   {
    "duration": 13,
    "start_time": "2021-08-28T10:37:14.543Z"
   },
   {
    "duration": 10,
    "start_time": "2021-08-28T10:37:14.559Z"
   },
   {
    "duration": 78,
    "start_time": "2021-08-28T10:37:14.571Z"
   },
   {
    "duration": 53,
    "start_time": "2021-08-28T10:37:14.653Z"
   },
   {
    "duration": 6,
    "start_time": "2021-08-28T10:37:14.708Z"
   },
   {
    "duration": 51,
    "start_time": "2021-08-28T10:37:14.717Z"
   },
   {
    "duration": 6,
    "start_time": "2021-08-28T10:37:14.770Z"
   },
   {
    "duration": 57,
    "start_time": "2021-08-28T10:37:14.778Z"
   },
   {
    "duration": 9,
    "start_time": "2021-08-28T10:37:14.837Z"
   },
   {
    "duration": 31,
    "start_time": "2021-08-28T10:37:14.848Z"
   },
   {
    "duration": 22,
    "start_time": "2021-08-28T10:37:14.881Z"
   },
   {
    "duration": 23,
    "start_time": "2021-08-28T10:37:14.905Z"
   },
   {
    "duration": 7,
    "start_time": "2021-08-28T10:37:14.930Z"
   },
   {
    "duration": 47,
    "start_time": "2021-08-28T10:37:14.938Z"
   },
   {
    "duration": 7,
    "start_time": "2021-08-28T10:37:14.986Z"
   },
   {
    "duration": 8,
    "start_time": "2021-08-28T10:37:14.994Z"
   },
   {
    "duration": 34,
    "start_time": "2021-08-28T10:37:15.004Z"
   },
   {
    "duration": 12,
    "start_time": "2021-08-28T10:37:15.040Z"
   },
   {
    "duration": 20,
    "start_time": "2021-08-28T10:37:15.053Z"
   },
   {
    "duration": 22,
    "start_time": "2021-08-28T10:37:15.075Z"
   },
   {
    "duration": 552,
    "start_time": "2021-08-28T10:37:15.099Z"
   },
   {
    "duration": 1689,
    "start_time": "2021-08-28T10:37:13.965Z"
   },
   {
    "duration": 1686,
    "start_time": "2021-08-28T10:37:13.969Z"
   },
   {
    "duration": 1685,
    "start_time": "2021-08-28T10:37:13.971Z"
   },
   {
    "duration": 1683,
    "start_time": "2021-08-28T10:37:13.973Z"
   },
   {
    "duration": 1681,
    "start_time": "2021-08-28T10:37:13.976Z"
   },
   {
    "duration": 1680,
    "start_time": "2021-08-28T10:37:13.978Z"
   },
   {
    "duration": 1678,
    "start_time": "2021-08-28T10:37:13.981Z"
   },
   {
    "duration": 1676,
    "start_time": "2021-08-28T10:37:13.984Z"
   },
   {
    "duration": 1674,
    "start_time": "2021-08-28T10:37:13.986Z"
   },
   {
    "duration": 1673,
    "start_time": "2021-08-28T10:37:13.988Z"
   },
   {
    "duration": 1671,
    "start_time": "2021-08-28T10:37:13.991Z"
   },
   {
    "duration": 1127,
    "start_time": "2021-08-28T10:39:37.380Z"
   },
   {
    "duration": 509,
    "start_time": "2021-08-28T10:39:38.509Z"
   },
   {
    "duration": 16,
    "start_time": "2021-08-28T10:39:39.020Z"
   },
   {
    "duration": 30,
    "start_time": "2021-08-28T10:39:39.038Z"
   },
   {
    "duration": 17,
    "start_time": "2021-08-28T10:39:39.070Z"
   },
   {
    "duration": 215,
    "start_time": "2021-08-28T10:39:39.089Z"
   },
   {
    "duration": 102,
    "start_time": "2021-08-28T10:39:39.306Z"
   },
   {
    "duration": 46,
    "start_time": "2021-08-28T10:39:39.410Z"
   },
   {
    "duration": 13,
    "start_time": "2021-08-28T10:39:39.458Z"
   },
   {
    "duration": 18,
    "start_time": "2021-08-28T10:39:39.472Z"
   },
   {
    "duration": 15,
    "start_time": "2021-08-28T10:39:39.492Z"
   },
   {
    "duration": 137,
    "start_time": "2021-08-28T10:39:39.509Z"
   },
   {
    "duration": 65,
    "start_time": "2021-08-28T10:39:39.652Z"
   },
   {
    "duration": 40,
    "start_time": "2021-08-28T10:39:39.719Z"
   },
   {
    "duration": 11,
    "start_time": "2021-08-28T10:39:39.761Z"
   },
   {
    "duration": 15,
    "start_time": "2021-08-28T10:39:39.774Z"
   },
   {
    "duration": 14,
    "start_time": "2021-08-28T10:39:39.791Z"
   },
   {
    "duration": 116,
    "start_time": "2021-08-28T10:39:39.806Z"
   },
   {
    "duration": 56,
    "start_time": "2021-08-28T10:39:39.924Z"
   },
   {
    "duration": 15,
    "start_time": "2021-08-28T10:39:39.982Z"
   },
   {
    "duration": 6,
    "start_time": "2021-08-28T10:39:39.999Z"
   },
   {
    "duration": 8,
    "start_time": "2021-08-28T10:39:40.007Z"
   },
   {
    "duration": 29,
    "start_time": "2021-08-28T10:39:40.019Z"
   },
   {
    "duration": 16,
    "start_time": "2021-08-28T10:39:40.051Z"
   },
   {
    "duration": 5,
    "start_time": "2021-08-28T10:39:40.069Z"
   },
   {
    "duration": 28,
    "start_time": "2021-08-28T10:39:40.075Z"
   },
   {
    "duration": 39,
    "start_time": "2021-08-28T10:39:40.105Z"
   },
   {
    "duration": 10,
    "start_time": "2021-08-28T10:39:40.146Z"
   },
   {
    "duration": 5,
    "start_time": "2021-08-28T10:39:40.158Z"
   },
   {
    "duration": 23,
    "start_time": "2021-08-28T10:39:40.165Z"
   },
   {
    "duration": 6,
    "start_time": "2021-08-28T10:39:40.189Z"
   },
   {
    "duration": 17,
    "start_time": "2021-08-28T10:39:40.196Z"
   },
   {
    "duration": 84,
    "start_time": "2021-08-28T10:39:40.214Z"
   },
   {
    "duration": 8,
    "start_time": "2021-08-28T10:39:40.300Z"
   },
   {
    "duration": 8,
    "start_time": "2021-08-28T10:39:40.310Z"
   },
   {
    "duration": 73,
    "start_time": "2021-08-28T10:39:40.319Z"
   },
   {
    "duration": 60,
    "start_time": "2021-08-28T10:39:40.394Z"
   },
   {
    "duration": 6,
    "start_time": "2021-08-28T10:39:40.456Z"
   },
   {
    "duration": 30,
    "start_time": "2021-08-28T10:39:40.464Z"
   },
   {
    "duration": 5,
    "start_time": "2021-08-28T10:39:40.496Z"
   },
   {
    "duration": 63,
    "start_time": "2021-08-28T10:39:40.503Z"
   },
   {
    "duration": 5,
    "start_time": "2021-08-28T10:39:40.567Z"
   },
   {
    "duration": 14,
    "start_time": "2021-08-28T10:39:40.574Z"
   },
   {
    "duration": 6,
    "start_time": "2021-08-28T10:39:40.589Z"
   },
   {
    "duration": 12,
    "start_time": "2021-08-28T10:39:40.596Z"
   },
   {
    "duration": 31,
    "start_time": "2021-08-28T10:39:40.610Z"
   },
   {
    "duration": 34,
    "start_time": "2021-08-28T10:39:40.642Z"
   },
   {
    "duration": 5,
    "start_time": "2021-08-28T10:39:40.678Z"
   },
   {
    "duration": 9,
    "start_time": "2021-08-28T10:39:40.685Z"
   },
   {
    "duration": 16,
    "start_time": "2021-08-28T10:39:40.696Z"
   },
   {
    "duration": 26,
    "start_time": "2021-08-28T10:39:40.714Z"
   },
   {
    "duration": 9,
    "start_time": "2021-08-28T10:39:40.742Z"
   },
   {
    "duration": 8,
    "start_time": "2021-08-28T10:39:40.754Z"
   },
   {
    "duration": 8,
    "start_time": "2021-08-28T10:39:40.764Z"
   },
   {
    "duration": 7478,
    "start_time": "2021-08-28T10:39:40.773Z"
   },
   {
    "duration": 1632,
    "start_time": "2021-08-28T10:39:46.623Z"
   },
   {
    "duration": 1632,
    "start_time": "2021-08-28T10:39:46.627Z"
   },
   {
    "duration": 1629,
    "start_time": "2021-08-28T10:39:46.631Z"
   },
   {
    "duration": 1627,
    "start_time": "2021-08-28T10:39:46.634Z"
   },
   {
    "duration": 1624,
    "start_time": "2021-08-28T10:39:46.637Z"
   },
   {
    "duration": 1622,
    "start_time": "2021-08-28T10:39:46.640Z"
   },
   {
    "duration": 1621,
    "start_time": "2021-08-28T10:39:46.643Z"
   },
   {
    "duration": 1619,
    "start_time": "2021-08-28T10:39:46.645Z"
   },
   {
    "duration": 1617,
    "start_time": "2021-08-28T10:39:46.648Z"
   },
   {
    "duration": 1616,
    "start_time": "2021-08-28T10:39:46.650Z"
   },
   {
    "duration": 7498,
    "start_time": "2021-08-28T10:40:22.617Z"
   },
   {
    "duration": 3537,
    "start_time": "2021-08-28T10:41:18.518Z"
   },
   {
    "duration": 972,
    "start_time": "2021-08-28T10:44:09.962Z"
   },
   {
    "duration": 387,
    "start_time": "2021-08-28T10:44:10.936Z"
   },
   {
    "duration": 17,
    "start_time": "2021-08-28T10:44:11.325Z"
   },
   {
    "duration": 24,
    "start_time": "2021-08-28T10:44:11.344Z"
   },
   {
    "duration": 20,
    "start_time": "2021-08-28T10:44:11.369Z"
   },
   {
    "duration": 230,
    "start_time": "2021-08-28T10:44:11.391Z"
   },
   {
    "duration": 102,
    "start_time": "2021-08-28T10:44:11.623Z"
   },
   {
    "duration": 44,
    "start_time": "2021-08-28T10:44:11.727Z"
   },
   {
    "duration": 12,
    "start_time": "2021-08-28T10:44:11.773Z"
   },
   {
    "duration": 22,
    "start_time": "2021-08-28T10:44:11.787Z"
   },
   {
    "duration": 39,
    "start_time": "2021-08-28T10:44:11.811Z"
   },
   {
    "duration": 149,
    "start_time": "2021-08-28T10:44:11.852Z"
   },
   {
    "duration": 72,
    "start_time": "2021-08-28T10:44:12.003Z"
   },
   {
    "duration": 31,
    "start_time": "2021-08-28T10:44:12.076Z"
   },
   {
    "duration": 12,
    "start_time": "2021-08-28T10:44:12.108Z"
   },
   {
    "duration": 20,
    "start_time": "2021-08-28T10:44:12.142Z"
   },
   {
    "duration": 15,
    "start_time": "2021-08-28T10:44:12.164Z"
   },
   {
    "duration": 126,
    "start_time": "2021-08-28T10:44:12.183Z"
   },
   {
    "duration": 61,
    "start_time": "2021-08-28T10:44:12.311Z"
   },
   {
    "duration": 18,
    "start_time": "2021-08-28T10:44:12.373Z"
   },
   {
    "duration": 9,
    "start_time": "2021-08-28T10:44:12.393Z"
   },
   {
    "duration": 28,
    "start_time": "2021-08-28T10:44:12.404Z"
   },
   {
    "duration": 29,
    "start_time": "2021-08-28T10:44:12.433Z"
   },
   {
    "duration": 18,
    "start_time": "2021-08-28T10:44:12.464Z"
   },
   {
    "duration": 8,
    "start_time": "2021-08-28T10:44:12.484Z"
   },
   {
    "duration": 34,
    "start_time": "2021-08-28T10:44:12.494Z"
   },
   {
    "duration": 29,
    "start_time": "2021-08-28T10:44:12.530Z"
   },
   {
    "duration": 14,
    "start_time": "2021-08-28T10:44:12.561Z"
   },
   {
    "duration": 12,
    "start_time": "2021-08-28T10:44:12.577Z"
   },
   {
    "duration": 23,
    "start_time": "2021-08-28T10:44:12.591Z"
   },
   {
    "duration": 26,
    "start_time": "2021-08-28T10:44:12.616Z"
   },
   {
    "duration": 21,
    "start_time": "2021-08-28T10:44:12.645Z"
   },
   {
    "duration": 95,
    "start_time": "2021-08-28T10:44:12.668Z"
   },
   {
    "duration": 9,
    "start_time": "2021-08-28T10:44:12.765Z"
   },
   {
    "duration": 12,
    "start_time": "2021-08-28T10:44:12.776Z"
   },
   {
    "duration": 84,
    "start_time": "2021-08-28T10:44:12.790Z"
   },
   {
    "duration": 67,
    "start_time": "2021-08-28T10:44:12.875Z"
   },
   {
    "duration": 7,
    "start_time": "2021-08-28T10:44:12.944Z"
   },
   {
    "duration": 41,
    "start_time": "2021-08-28T10:44:12.953Z"
   },
   {
    "duration": 6,
    "start_time": "2021-08-28T10:44:12.996Z"
   },
   {
    "duration": 13,
    "start_time": "2021-08-28T10:44:13.004Z"
   },
   {
    "duration": 59,
    "start_time": "2021-08-28T10:44:13.019Z"
   },
   {
    "duration": 6,
    "start_time": "2021-08-28T10:44:13.080Z"
   },
   {
    "duration": 18,
    "start_time": "2021-08-28T10:44:13.088Z"
   },
   {
    "duration": 38,
    "start_time": "2021-08-28T10:44:13.108Z"
   },
   {
    "duration": 18,
    "start_time": "2021-08-28T10:44:13.148Z"
   },
   {
    "duration": 8,
    "start_time": "2021-08-28T10:44:13.168Z"
   },
   {
    "duration": 33,
    "start_time": "2021-08-28T10:44:13.177Z"
   },
   {
    "duration": 31,
    "start_time": "2021-08-28T10:44:13.212Z"
   },
   {
    "duration": 10,
    "start_time": "2021-08-28T10:44:13.248Z"
   },
   {
    "duration": 19,
    "start_time": "2021-08-28T10:44:13.260Z"
   },
   {
    "duration": 7,
    "start_time": "2021-08-28T10:44:13.281Z"
   },
   {
    "duration": 7162,
    "start_time": "2021-08-28T10:44:13.290Z"
   },
   {
    "duration": 1682,
    "start_time": "2021-08-28T10:44:18.773Z"
   },
   {
    "duration": 1680,
    "start_time": "2021-08-28T10:44:18.777Z"
   },
   {
    "duration": 1678,
    "start_time": "2021-08-28T10:44:18.780Z"
   },
   {
    "duration": 1677,
    "start_time": "2021-08-28T10:44:18.782Z"
   },
   {
    "duration": 1676,
    "start_time": "2021-08-28T10:44:18.785Z"
   },
   {
    "duration": 1674,
    "start_time": "2021-08-28T10:44:18.788Z"
   },
   {
    "duration": 1673,
    "start_time": "2021-08-28T10:44:18.791Z"
   },
   {
    "duration": 1670,
    "start_time": "2021-08-28T10:44:18.795Z"
   },
   {
    "duration": 1668,
    "start_time": "2021-08-28T10:44:18.798Z"
   },
   {
    "duration": 1667,
    "start_time": "2021-08-28T10:44:18.801Z"
   },
   {
    "duration": 1664,
    "start_time": "2021-08-28T10:44:18.805Z"
   },
   {
    "duration": 1661,
    "start_time": "2021-08-28T10:44:18.809Z"
   },
   {
    "duration": 6495,
    "start_time": "2021-08-28T10:45:43.696Z"
   },
   {
    "duration": 1040,
    "start_time": "2021-08-28T10:48:01.775Z"
   },
   {
    "duration": 400,
    "start_time": "2021-08-28T10:48:02.816Z"
   },
   {
    "duration": 18,
    "start_time": "2021-08-28T10:48:03.218Z"
   },
   {
    "duration": 28,
    "start_time": "2021-08-28T10:48:03.238Z"
   },
   {
    "duration": 21,
    "start_time": "2021-08-28T10:48:03.269Z"
   },
   {
    "duration": 238,
    "start_time": "2021-08-28T10:48:03.291Z"
   },
   {
    "duration": 98,
    "start_time": "2021-08-28T10:48:03.531Z"
   },
   {
    "duration": 43,
    "start_time": "2021-08-28T10:48:03.631Z"
   },
   {
    "duration": 12,
    "start_time": "2021-08-28T10:48:03.676Z"
   },
   {
    "duration": 19,
    "start_time": "2021-08-28T10:48:03.690Z"
   },
   {
    "duration": 34,
    "start_time": "2021-08-28T10:48:03.710Z"
   },
   {
    "duration": 149,
    "start_time": "2021-08-28T10:48:03.746Z"
   },
   {
    "duration": 67,
    "start_time": "2021-08-28T10:48:03.897Z"
   },
   {
    "duration": 29,
    "start_time": "2021-08-28T10:48:03.965Z"
   },
   {
    "duration": 10,
    "start_time": "2021-08-28T10:48:03.995Z"
   },
   {
    "duration": 44,
    "start_time": "2021-08-28T10:48:04.007Z"
   },
   {
    "duration": 15,
    "start_time": "2021-08-28T10:48:04.055Z"
   },
   {
    "duration": 104,
    "start_time": "2021-08-28T10:48:04.071Z"
   },
   {
    "duration": 40,
    "start_time": "2021-08-28T10:48:04.176Z"
   },
   {
    "duration": 34,
    "start_time": "2021-08-28T10:48:04.218Z"
   },
   {
    "duration": 7,
    "start_time": "2021-08-28T10:48:04.254Z"
   },
   {
    "duration": 10,
    "start_time": "2021-08-28T10:48:04.262Z"
   },
   {
    "duration": 5,
    "start_time": "2021-08-28T10:48:04.276Z"
   },
   {
    "duration": 17,
    "start_time": "2021-08-28T10:48:04.283Z"
   },
   {
    "duration": 7,
    "start_time": "2021-08-28T10:48:04.302Z"
   },
   {
    "duration": 56,
    "start_time": "2021-08-28T10:48:04.310Z"
   },
   {
    "duration": 16,
    "start_time": "2021-08-28T10:48:04.367Z"
   },
   {
    "duration": 8,
    "start_time": "2021-08-28T10:48:04.385Z"
   },
   {
    "duration": 8,
    "start_time": "2021-08-28T10:48:04.395Z"
   },
   {
    "duration": 43,
    "start_time": "2021-08-28T10:48:04.405Z"
   },
   {
    "duration": 8,
    "start_time": "2021-08-28T10:48:04.450Z"
   },
   {
    "duration": 18,
    "start_time": "2021-08-28T10:48:04.459Z"
   },
   {
    "duration": 81,
    "start_time": "2021-08-28T10:48:04.478Z"
   },
   {
    "duration": 8,
    "start_time": "2021-08-28T10:48:04.561Z"
   },
   {
    "duration": 8,
    "start_time": "2021-08-28T10:48:04.571Z"
   },
   {
    "duration": 74,
    "start_time": "2021-08-28T10:48:04.581Z"
   },
   {
    "duration": 48,
    "start_time": "2021-08-28T10:48:04.656Z"
   },
   {
    "duration": 5,
    "start_time": "2021-08-28T10:48:04.706Z"
   },
   {
    "duration": 51,
    "start_time": "2021-08-28T10:48:04.712Z"
   },
   {
    "duration": 5,
    "start_time": "2021-08-28T10:48:04.765Z"
   },
   {
    "duration": 13,
    "start_time": "2021-08-28T10:48:04.771Z"
   },
   {
    "duration": 37,
    "start_time": "2021-08-28T10:48:04.785Z"
   },
   {
    "duration": 23,
    "start_time": "2021-08-28T10:48:04.824Z"
   },
   {
    "duration": 16,
    "start_time": "2021-08-28T10:48:04.849Z"
   },
   {
    "duration": 6,
    "start_time": "2021-08-28T10:48:04.867Z"
   },
   {
    "duration": 13,
    "start_time": "2021-08-28T10:48:04.875Z"
   },
   {
    "duration": 6,
    "start_time": "2021-08-28T10:48:04.890Z"
   },
   {
    "duration": 60,
    "start_time": "2021-08-28T10:48:04.897Z"
   },
   {
    "duration": 6,
    "start_time": "2021-08-28T10:48:04.958Z"
   },
   {
    "duration": 9,
    "start_time": "2021-08-28T10:48:04.966Z"
   },
   {
    "duration": 15,
    "start_time": "2021-08-28T10:48:04.977Z"
   },
   {
    "duration": 5,
    "start_time": "2021-08-28T10:48:04.993Z"
   },
   {
    "duration": 10,
    "start_time": "2021-08-28T10:48:05.000Z"
   },
   {
    "duration": 46,
    "start_time": "2021-08-28T10:48:05.012Z"
   },
   {
    "duration": 4510,
    "start_time": "2021-08-28T10:48:05.060Z"
   },
   {
    "duration": 1649,
    "start_time": "2021-08-28T10:48:07.923Z"
   },
   {
    "duration": 1648,
    "start_time": "2021-08-28T10:48:07.925Z"
   },
   {
    "duration": 1647,
    "start_time": "2021-08-28T10:48:07.927Z"
   },
   {
    "duration": 1645,
    "start_time": "2021-08-28T10:48:07.930Z"
   },
   {
    "duration": 1636,
    "start_time": "2021-08-28T10:48:07.940Z"
   },
   {
    "duration": 1633,
    "start_time": "2021-08-28T10:48:07.943Z"
   },
   {
    "duration": 1632,
    "start_time": "2021-08-28T10:48:07.945Z"
   },
   {
    "duration": 1629,
    "start_time": "2021-08-28T10:48:07.949Z"
   },
   {
    "duration": 1618,
    "start_time": "2021-08-28T10:48:07.961Z"
   },
   {
    "duration": 1615,
    "start_time": "2021-08-28T10:48:07.964Z"
   },
   {
    "duration": 38,
    "start_time": "2021-08-28T10:49:06.350Z"
   },
   {
    "duration": 50,
    "start_time": "2021-08-28T10:49:27.947Z"
   },
   {
    "duration": 49,
    "start_time": "2021-08-28T10:50:48.135Z"
   },
   {
    "duration": 122,
    "start_time": "2021-08-28T10:52:35.739Z"
   },
   {
    "duration": 4,
    "start_time": "2021-08-28T10:53:09.299Z"
   },
   {
    "duration": 1069,
    "start_time": "2021-08-28T10:53:17.152Z"
   },
   {
    "duration": 389,
    "start_time": "2021-08-28T10:53:18.223Z"
   },
   {
    "duration": 18,
    "start_time": "2021-08-28T10:53:18.614Z"
   },
   {
    "duration": 26,
    "start_time": "2021-08-28T10:53:18.633Z"
   },
   {
    "duration": 19,
    "start_time": "2021-08-28T10:53:18.661Z"
   },
   {
    "duration": 222,
    "start_time": "2021-08-28T10:53:18.681Z"
   },
   {
    "duration": 102,
    "start_time": "2021-08-28T10:53:18.905Z"
   },
   {
    "duration": 47,
    "start_time": "2021-08-28T10:53:19.009Z"
   },
   {
    "duration": 16,
    "start_time": "2021-08-28T10:53:19.058Z"
   },
   {
    "duration": 22,
    "start_time": "2021-08-28T10:53:19.076Z"
   },
   {
    "duration": 42,
    "start_time": "2021-08-28T10:53:19.100Z"
   },
   {
    "duration": 141,
    "start_time": "2021-08-28T10:53:19.144Z"
   },
   {
    "duration": 67,
    "start_time": "2021-08-28T10:53:19.287Z"
   },
   {
    "duration": 28,
    "start_time": "2021-08-28T10:53:19.356Z"
   },
   {
    "duration": 10,
    "start_time": "2021-08-28T10:53:19.385Z"
   },
   {
    "duration": 21,
    "start_time": "2021-08-28T10:53:19.397Z"
   },
   {
    "duration": 35,
    "start_time": "2021-08-28T10:53:19.420Z"
   },
   {
    "duration": 103,
    "start_time": "2021-08-28T10:53:19.457Z"
   },
   {
    "duration": 38,
    "start_time": "2021-08-28T10:53:19.562Z"
   },
   {
    "duration": 14,
    "start_time": "2021-08-28T10:53:19.601Z"
   },
   {
    "duration": 6,
    "start_time": "2021-08-28T10:53:19.617Z"
   },
   {
    "duration": 27,
    "start_time": "2021-08-28T10:53:19.624Z"
   },
   {
    "duration": 5,
    "start_time": "2021-08-28T10:53:19.656Z"
   },
   {
    "duration": 15,
    "start_time": "2021-08-28T10:53:19.663Z"
   },
   {
    "duration": 5,
    "start_time": "2021-08-28T10:53:19.680Z"
   },
   {
    "duration": 28,
    "start_time": "2021-08-28T10:53:19.686Z"
   },
   {
    "duration": 41,
    "start_time": "2021-08-28T10:53:19.715Z"
   },
   {
    "duration": 6,
    "start_time": "2021-08-28T10:53:19.758Z"
   },
   {
    "duration": 9,
    "start_time": "2021-08-28T10:53:19.765Z"
   },
   {
    "duration": 19,
    "start_time": "2021-08-28T10:53:19.775Z"
   },
   {
    "duration": 6,
    "start_time": "2021-08-28T10:53:19.795Z"
   },
   {
    "duration": 49,
    "start_time": "2021-08-28T10:53:19.803Z"
   },
   {
    "duration": 61,
    "start_time": "2021-08-28T10:53:19.854Z"
   },
   {
    "duration": 9,
    "start_time": "2021-08-28T10:53:19.916Z"
   },
   {
    "duration": 28,
    "start_time": "2021-08-28T10:53:19.926Z"
   },
   {
    "duration": 49,
    "start_time": "2021-08-28T10:53:19.956Z"
   },
   {
    "duration": 65,
    "start_time": "2021-08-28T10:53:20.007Z"
   },
   {
    "duration": 6,
    "start_time": "2021-08-28T10:53:20.074Z"
   },
   {
    "duration": 36,
    "start_time": "2021-08-28T10:53:20.081Z"
   },
   {
    "duration": 7,
    "start_time": "2021-08-28T10:53:20.119Z"
   },
   {
    "duration": 11,
    "start_time": "2021-08-28T10:53:20.141Z"
   },
   {
    "duration": 38,
    "start_time": "2021-08-28T10:53:20.154Z"
   },
   {
    "duration": 6,
    "start_time": "2021-08-28T10:53:20.194Z"
   },
   {
    "duration": 14,
    "start_time": "2021-08-28T10:53:20.202Z"
   },
   {
    "duration": 29,
    "start_time": "2021-08-28T10:53:20.218Z"
   },
   {
    "duration": 22,
    "start_time": "2021-08-28T10:53:20.248Z"
   },
   {
    "duration": 7,
    "start_time": "2021-08-28T10:53:20.271Z"
   },
   {
    "duration": 31,
    "start_time": "2021-08-28T10:53:20.280Z"
   },
   {
    "duration": 33,
    "start_time": "2021-08-28T10:53:20.313Z"
   },
   {
    "duration": 11,
    "start_time": "2021-08-28T10:53:20.348Z"
   },
   {
    "duration": 24,
    "start_time": "2021-08-28T10:53:20.361Z"
   },
   {
    "duration": 11,
    "start_time": "2021-08-28T10:53:20.387Z"
   },
   {
    "duration": 9,
    "start_time": "2021-08-28T10:53:20.400Z"
   },
   {
    "duration": 8,
    "start_time": "2021-08-28T10:53:20.411Z"
   },
   {
    "duration": 52,
    "start_time": "2021-08-28T10:53:20.442Z"
   },
   {
    "duration": 5,
    "start_time": "2021-08-28T10:53:20.496Z"
   },
   {
    "duration": 17,
    "start_time": "2021-08-28T10:53:20.502Z"
   },
   {
    "duration": 23,
    "start_time": "2021-08-28T10:53:20.520Z"
   },
   {
    "duration": 9,
    "start_time": "2021-08-28T10:53:20.545Z"
   },
   {
    "duration": 17,
    "start_time": "2021-08-28T10:53:20.556Z"
   },
   {
    "duration": 18,
    "start_time": "2021-08-28T10:53:20.575Z"
   },
   {
    "duration": 6,
    "start_time": "2021-08-28T10:53:20.595Z"
   },
   {
    "duration": 6467,
    "start_time": "2021-08-28T10:53:20.602Z"
   },
   {
    "duration": 1677,
    "start_time": "2021-08-28T10:53:25.394Z"
   },
   {
    "duration": 1675,
    "start_time": "2021-08-28T10:53:25.398Z"
   },
   {
    "duration": 2452,
    "start_time": "2021-08-28T10:57:32.307Z"
   },
   {
    "duration": 24,
    "start_time": "2021-08-28T10:58:03.230Z"
   },
   {
    "duration": 964,
    "start_time": "2021-08-28T11:01:30.745Z"
   },
   {
    "duration": 380,
    "start_time": "2021-08-28T11:01:31.711Z"
   },
   {
    "duration": 18,
    "start_time": "2021-08-28T11:01:32.093Z"
   },
   {
    "duration": 20,
    "start_time": "2021-08-28T11:01:32.114Z"
   },
   {
    "duration": 28,
    "start_time": "2021-08-28T11:01:32.136Z"
   },
   {
    "duration": 233,
    "start_time": "2021-08-28T11:01:32.166Z"
   },
   {
    "duration": 97,
    "start_time": "2021-08-28T11:01:32.401Z"
   },
   {
    "duration": 48,
    "start_time": "2021-08-28T11:01:32.501Z"
   },
   {
    "duration": 16,
    "start_time": "2021-08-28T11:01:32.552Z"
   },
   {
    "duration": 30,
    "start_time": "2021-08-28T11:01:32.569Z"
   },
   {
    "duration": 18,
    "start_time": "2021-08-28T11:01:32.600Z"
   },
   {
    "duration": 149,
    "start_time": "2021-08-28T11:01:32.619Z"
   },
   {
    "duration": 60,
    "start_time": "2021-08-28T11:01:32.769Z"
   },
   {
    "duration": 39,
    "start_time": "2021-08-28T11:01:32.831Z"
   },
   {
    "duration": 18,
    "start_time": "2021-08-28T11:01:32.871Z"
   },
   {
    "duration": 28,
    "start_time": "2021-08-28T11:01:32.891Z"
   },
   {
    "duration": 46,
    "start_time": "2021-08-28T11:01:32.921Z"
   },
   {
    "duration": 96,
    "start_time": "2021-08-28T11:01:32.968Z"
   },
   {
    "duration": 37,
    "start_time": "2021-08-28T11:01:33.066Z"
   },
   {
    "duration": 14,
    "start_time": "2021-08-28T11:01:33.105Z"
   },
   {
    "duration": 26,
    "start_time": "2021-08-28T11:01:33.121Z"
   },
   {
    "duration": 16,
    "start_time": "2021-08-28T11:01:33.149Z"
   },
   {
    "duration": 22,
    "start_time": "2021-08-28T11:01:33.169Z"
   },
   {
    "duration": 39,
    "start_time": "2021-08-28T11:01:33.194Z"
   },
   {
    "duration": 14,
    "start_time": "2021-08-28T11:01:33.235Z"
   },
   {
    "duration": 34,
    "start_time": "2021-08-28T11:01:33.251Z"
   },
   {
    "duration": 28,
    "start_time": "2021-08-28T11:01:33.288Z"
   },
   {
    "duration": 19,
    "start_time": "2021-08-28T11:01:33.318Z"
   },
   {
    "duration": 15,
    "start_time": "2021-08-28T11:01:33.339Z"
   },
   {
    "duration": 29,
    "start_time": "2021-08-28T11:01:33.356Z"
   },
   {
    "duration": 8,
    "start_time": "2021-08-28T11:01:33.388Z"
   },
   {
    "duration": 21,
    "start_time": "2021-08-28T11:01:33.398Z"
   },
   {
    "duration": 73,
    "start_time": "2021-08-28T11:01:33.421Z"
   },
   {
    "duration": 10,
    "start_time": "2021-08-28T11:01:33.495Z"
   },
   {
    "duration": 27,
    "start_time": "2021-08-28T11:01:33.507Z"
   },
   {
    "duration": 62,
    "start_time": "2021-08-28T11:01:33.536Z"
   },
   {
    "duration": 46,
    "start_time": "2021-08-28T11:01:33.600Z"
   },
   {
    "duration": 12,
    "start_time": "2021-08-28T11:01:33.648Z"
   },
   {
    "duration": 37,
    "start_time": "2021-08-28T11:01:33.662Z"
   },
   {
    "duration": 6,
    "start_time": "2021-08-28T11:01:33.701Z"
   },
   {
    "duration": 28,
    "start_time": "2021-08-28T11:01:33.709Z"
   },
   {
    "duration": 53,
    "start_time": "2021-08-28T11:01:33.739Z"
   },
   {
    "duration": 5,
    "start_time": "2021-08-28T11:01:33.794Z"
   },
   {
    "duration": 25,
    "start_time": "2021-08-28T11:01:33.801Z"
   },
   {
    "duration": 8,
    "start_time": "2021-08-28T11:01:33.853Z"
   },
   {
    "duration": 33,
    "start_time": "2021-08-28T11:01:33.865Z"
   },
   {
    "duration": 19,
    "start_time": "2021-08-28T11:01:33.900Z"
   },
   {
    "duration": 38,
    "start_time": "2021-08-28T11:01:33.921Z"
   },
   {
    "duration": 8,
    "start_time": "2021-08-28T11:01:33.961Z"
   },
   {
    "duration": 24,
    "start_time": "2021-08-28T11:01:33.971Z"
   },
   {
    "duration": 52,
    "start_time": "2021-08-28T11:01:33.998Z"
   },
   {
    "duration": 9,
    "start_time": "2021-08-28T11:01:34.052Z"
   },
   {
    "duration": 11,
    "start_time": "2021-08-28T11:01:34.063Z"
   },
   {
    "duration": 30,
    "start_time": "2021-08-28T11:01:34.075Z"
   },
   {
    "duration": 49,
    "start_time": "2021-08-28T11:01:34.106Z"
   },
   {
    "duration": 10,
    "start_time": "2021-08-28T11:01:34.157Z"
   },
   {
    "duration": 32,
    "start_time": "2021-08-28T11:01:34.169Z"
   },
   {
    "duration": 7,
    "start_time": "2021-08-28T11:01:34.203Z"
   },
   {
    "duration": 18,
    "start_time": "2021-08-28T11:01:34.212Z"
   },
   {
    "duration": 7776,
    "start_time": "2021-08-28T11:01:34.231Z"
   },
   {
    "duration": 1677,
    "start_time": "2021-08-28T11:01:40.332Z"
   },
   {
    "duration": 1674,
    "start_time": "2021-08-28T11:01:40.336Z"
   },
   {
    "duration": 1670,
    "start_time": "2021-08-28T11:01:40.341Z"
   },
   {
    "duration": 1668,
    "start_time": "2021-08-28T11:01:40.344Z"
   },
   {
    "duration": 1665,
    "start_time": "2021-08-28T11:01:40.348Z"
   },
   {
    "duration": 983,
    "start_time": "2021-08-28T11:02:14.541Z"
   },
   {
    "duration": 380,
    "start_time": "2021-08-28T11:02:15.526Z"
   },
   {
    "duration": 16,
    "start_time": "2021-08-28T11:02:15.908Z"
   },
   {
    "duration": 21,
    "start_time": "2021-08-28T11:02:15.926Z"
   },
   {
    "duration": 21,
    "start_time": "2021-08-28T11:02:15.950Z"
   },
   {
    "duration": 211,
    "start_time": "2021-08-28T11:02:15.972Z"
   },
   {
    "duration": 97,
    "start_time": "2021-08-28T11:02:16.185Z"
   },
   {
    "duration": 29,
    "start_time": "2021-08-28T11:02:16.285Z"
   },
   {
    "duration": 27,
    "start_time": "2021-08-28T11:02:16.316Z"
   },
   {
    "duration": 22,
    "start_time": "2021-08-28T11:02:16.345Z"
   },
   {
    "duration": 16,
    "start_time": "2021-08-28T11:02:16.369Z"
   },
   {
    "duration": 142,
    "start_time": "2021-08-28T11:02:16.386Z"
   },
   {
    "duration": 66,
    "start_time": "2021-08-28T11:02:16.530Z"
   },
   {
    "duration": 44,
    "start_time": "2021-08-28T11:02:16.597Z"
   },
   {
    "duration": 11,
    "start_time": "2021-08-28T11:02:16.652Z"
   },
   {
    "duration": 21,
    "start_time": "2021-08-28T11:02:16.665Z"
   },
   {
    "duration": 23,
    "start_time": "2021-08-28T11:02:16.688Z"
   },
   {
    "duration": 95,
    "start_time": "2021-08-28T11:02:16.712Z"
   },
   {
    "duration": 54,
    "start_time": "2021-08-28T11:02:16.809Z"
   },
   {
    "duration": 16,
    "start_time": "2021-08-28T11:02:16.864Z"
   },
   {
    "duration": 8,
    "start_time": "2021-08-28T11:02:16.882Z"
   },
   {
    "duration": 17,
    "start_time": "2021-08-28T11:02:16.891Z"
   },
   {
    "duration": 12,
    "start_time": "2021-08-28T11:02:16.913Z"
   },
   {
    "duration": 18,
    "start_time": "2021-08-28T11:02:16.941Z"
   },
   {
    "duration": 6,
    "start_time": "2021-08-28T11:02:16.961Z"
   },
   {
    "duration": 40,
    "start_time": "2021-08-28T11:02:16.969Z"
   },
   {
    "duration": 16,
    "start_time": "2021-08-28T11:02:17.011Z"
   },
   {
    "duration": 26,
    "start_time": "2021-08-28T11:02:17.028Z"
   },
   {
    "duration": 14,
    "start_time": "2021-08-28T11:02:17.056Z"
   },
   {
    "duration": 33,
    "start_time": "2021-08-28T11:02:17.072Z"
   },
   {
    "duration": 8,
    "start_time": "2021-08-28T11:02:17.107Z"
   },
   {
    "duration": 49,
    "start_time": "2021-08-28T11:02:17.116Z"
   },
   {
    "duration": 71,
    "start_time": "2021-08-28T11:02:17.166Z"
   },
   {
    "duration": 11,
    "start_time": "2021-08-28T11:02:17.238Z"
   },
   {
    "duration": 11,
    "start_time": "2021-08-28T11:02:17.253Z"
   },
   {
    "duration": 53,
    "start_time": "2021-08-28T11:02:17.266Z"
   },
   {
    "duration": 53,
    "start_time": "2021-08-28T11:02:17.320Z"
   },
   {
    "duration": 5,
    "start_time": "2021-08-28T11:02:17.375Z"
   },
   {
    "duration": 44,
    "start_time": "2021-08-28T11:02:17.381Z"
   },
   {
    "duration": 5,
    "start_time": "2021-08-28T11:02:17.426Z"
   },
   {
    "duration": 30,
    "start_time": "2021-08-28T11:02:17.433Z"
   },
   {
    "duration": 48,
    "start_time": "2021-08-28T11:02:17.465Z"
   },
   {
    "duration": 5,
    "start_time": "2021-08-28T11:02:17.515Z"
   },
   {
    "duration": 49,
    "start_time": "2021-08-28T11:02:17.521Z"
   },
   {
    "duration": 8,
    "start_time": "2021-08-28T11:02:17.571Z"
   },
   {
    "duration": 22,
    "start_time": "2021-08-28T11:02:17.581Z"
   },
   {
    "duration": 22,
    "start_time": "2021-08-28T11:02:17.605Z"
   },
   {
    "duration": 38,
    "start_time": "2021-08-28T11:02:17.629Z"
   },
   {
    "duration": 24,
    "start_time": "2021-08-28T11:02:17.669Z"
   },
   {
    "duration": 31,
    "start_time": "2021-08-28T11:02:17.695Z"
   },
   {
    "duration": 32,
    "start_time": "2021-08-28T11:02:17.728Z"
   },
   {
    "duration": 7,
    "start_time": "2021-08-28T11:02:17.762Z"
   },
   {
    "duration": 20,
    "start_time": "2021-08-28T11:02:17.771Z"
   },
   {
    "duration": 29,
    "start_time": "2021-08-28T11:02:17.792Z"
   },
   {
    "duration": 49,
    "start_time": "2021-08-28T11:02:17.822Z"
   },
   {
    "duration": 5,
    "start_time": "2021-08-28T11:02:17.872Z"
   },
   {
    "duration": 37,
    "start_time": "2021-08-28T11:02:17.879Z"
   },
   {
    "duration": 9,
    "start_time": "2021-08-28T11:02:17.918Z"
   },
   {
    "duration": 12,
    "start_time": "2021-08-28T11:02:17.929Z"
   },
   {
    "duration": 7310,
    "start_time": "2021-08-28T11:02:17.945Z"
   },
   {
    "duration": 1692,
    "start_time": "2021-08-28T11:02:23.565Z"
   },
   {
    "duration": 1687,
    "start_time": "2021-08-28T11:02:23.571Z"
   },
   {
    "duration": 1683,
    "start_time": "2021-08-28T11:02:23.575Z"
   },
   {
    "duration": 1679,
    "start_time": "2021-08-28T11:02:23.580Z"
   },
   {
    "duration": 1677,
    "start_time": "2021-08-28T11:02:23.583Z"
   },
   {
    "duration": 3,
    "start_time": "2021-08-28T11:03:44.389Z"
   },
   {
    "duration": 366,
    "start_time": "2021-08-28T11:03:45.941Z"
   },
   {
    "duration": 20,
    "start_time": "2021-08-28T11:03:48.033Z"
   },
   {
    "duration": 23,
    "start_time": "2021-08-28T11:03:49.225Z"
   },
   {
    "duration": 20,
    "start_time": "2021-08-28T11:03:49.821Z"
   },
   {
    "duration": 191,
    "start_time": "2021-08-28T11:03:50.437Z"
   },
   {
    "duration": 75,
    "start_time": "2021-08-28T11:03:51.049Z"
   },
   {
    "duration": 26,
    "start_time": "2021-08-28T11:03:54.653Z"
   },
   {
    "duration": 13,
    "start_time": "2021-08-28T11:04:25.065Z"
   },
   {
    "duration": 17,
    "start_time": "2021-08-28T11:04:29.741Z"
   },
   {
    "duration": 12,
    "start_time": "2021-08-28T11:04:46.257Z"
   },
   {
    "duration": 3,
    "start_time": "2021-08-28T11:05:12.474Z"
   },
   {
    "duration": 387,
    "start_time": "2021-08-28T11:05:13.550Z"
   },
   {
    "duration": 13,
    "start_time": "2021-08-28T11:05:18.990Z"
   },
   {
    "duration": 18,
    "start_time": "2021-08-28T11:05:21.893Z"
   },
   {
    "duration": 19,
    "start_time": "2021-08-28T11:05:26.709Z"
   },
   {
    "duration": 185,
    "start_time": "2021-08-28T11:05:28.450Z"
   },
   {
    "duration": 77,
    "start_time": "2021-08-28T11:05:32.069Z"
   },
   {
    "duration": 29,
    "start_time": "2021-08-28T11:05:33.638Z"
   },
   {
    "duration": 11,
    "start_time": "2021-08-28T11:05:37.729Z"
   },
   {
    "duration": 16,
    "start_time": "2021-08-28T11:05:41.150Z"
   },
   {
    "duration": 15,
    "start_time": "2021-08-28T11:05:48.425Z"
   },
   {
    "duration": 116,
    "start_time": "2021-08-28T11:05:49.273Z"
   },
   {
    "duration": 48,
    "start_time": "2021-08-28T11:05:52.438Z"
   },
   {
    "duration": 29,
    "start_time": "2021-08-28T11:05:55.046Z"
   },
   {
    "duration": 10,
    "start_time": "2021-08-28T11:06:20.326Z"
   },
   {
    "duration": 13,
    "start_time": "2021-08-28T11:06:39.122Z"
   },
   {
    "duration": 13,
    "start_time": "2021-08-28T11:06:43.802Z"
   },
   {
    "duration": 78,
    "start_time": "2021-08-28T11:06:47.670Z"
   },
   {
    "duration": 41,
    "start_time": "2021-08-28T11:06:49.993Z"
   },
   {
    "duration": 17,
    "start_time": "2021-08-28T11:06:50.490Z"
   },
   {
    "duration": 9,
    "start_time": "2021-08-28T11:07:37.138Z"
   },
   {
    "duration": 6,
    "start_time": "2021-08-28T11:07:40.866Z"
   },
   {
    "duration": 6,
    "start_time": "2021-08-28T11:07:42.874Z"
   },
   {
    "duration": 12,
    "start_time": "2021-08-28T11:07:43.906Z"
   },
   {
    "duration": 10,
    "start_time": "2021-08-28T11:07:44.638Z"
   },
   {
    "duration": 26,
    "start_time": "2021-08-28T11:07:46.302Z"
   },
   {
    "duration": 12,
    "start_time": "2021-08-28T11:07:57.249Z"
   },
   {
    "duration": 7,
    "start_time": "2021-08-28T11:08:03.194Z"
   },
   {
    "duration": 6,
    "start_time": "2021-08-28T11:08:10.854Z"
   },
   {
    "duration": 17,
    "start_time": "2021-08-28T11:08:13.375Z"
   },
   {
    "duration": 7,
    "start_time": "2021-08-28T11:08:15.694Z"
   },
   {
    "duration": 16,
    "start_time": "2021-08-28T11:08:17.082Z"
   },
   {
    "duration": 63,
    "start_time": "2021-08-28T11:08:32.447Z"
   },
   {
    "duration": 10,
    "start_time": "2021-08-28T11:08:44.658Z"
   },
   {
    "duration": 11,
    "start_time": "2021-08-28T11:08:50.446Z"
   },
   {
    "duration": 55,
    "start_time": "2021-08-28T11:09:06.622Z"
   },
   {
    "duration": 45,
    "start_time": "2021-08-28T11:09:19.002Z"
   },
   {
    "duration": 6,
    "start_time": "2021-08-28T11:09:34.894Z"
   },
   {
    "duration": 30,
    "start_time": "2021-08-28T11:09:59.567Z"
   },
   {
    "duration": 8,
    "start_time": "2021-08-28T11:10:02.746Z"
   },
   {
    "duration": 30,
    "start_time": "2021-08-28T11:10:15.534Z"
   },
   {
    "duration": 5,
    "start_time": "2021-08-28T11:10:16.507Z"
   },
   {
    "duration": 5,
    "start_time": "2021-08-28T11:10:28.474Z"
   },
   {
    "duration": 35,
    "start_time": "2021-08-28T11:11:28.420Z"
   },
   {
    "duration": 8,
    "start_time": "2021-08-28T11:11:30.431Z"
   },
   {
    "duration": 13,
    "start_time": "2021-08-28T11:11:48.895Z"
   },
   {
    "duration": 7,
    "start_time": "2021-08-28T11:11:51.090Z"
   },
   {
    "duration": 13,
    "start_time": "2021-08-28T11:12:01.683Z"
   },
   {
    "duration": 6,
    "start_time": "2021-08-28T11:12:05.075Z"
   },
   {
    "duration": 28,
    "start_time": "2021-08-28T11:12:11.907Z"
   },
   {
    "duration": 6,
    "start_time": "2021-08-28T11:12:29.599Z"
   },
   {
    "duration": 6,
    "start_time": "2021-08-28T11:14:33.379Z"
   },
   {
    "duration": 8,
    "start_time": "2021-08-28T11:14:33.855Z"
   },
   {
    "duration": 14,
    "start_time": "2021-08-28T11:14:50.876Z"
   },
   {
    "duration": 5,
    "start_time": "2021-08-28T11:15:01.080Z"
   },
   {
    "duration": 10,
    "start_time": "2021-08-28T11:15:14.475Z"
   },
   {
    "duration": 8,
    "start_time": "2021-08-28T11:15:15.147Z"
   },
   {
    "duration": 49,
    "start_time": "2021-08-28T11:15:19.015Z"
   },
   {
    "duration": 36,
    "start_time": "2021-08-28T11:15:34.383Z"
   },
   {
    "duration": 7,
    "start_time": "2021-08-28T11:15:53.403Z"
   },
   {
    "duration": 14,
    "start_time": "2021-08-28T11:15:58.391Z"
   },
   {
    "duration": 14,
    "start_time": "2021-08-28T11:17:23.048Z"
   },
   {
    "duration": 3,
    "start_time": "2021-08-28T11:19:12.696Z"
   },
   {
    "duration": 376,
    "start_time": "2021-08-28T11:19:13.020Z"
   },
   {
    "duration": 12,
    "start_time": "2021-08-28T11:19:13.398Z"
   },
   {
    "duration": 21,
    "start_time": "2021-08-28T11:19:13.496Z"
   },
   {
    "duration": 20,
    "start_time": "2021-08-28T11:19:13.668Z"
   },
   {
    "duration": 197,
    "start_time": "2021-08-28T11:19:13.836Z"
   },
   {
    "duration": 84,
    "start_time": "2021-08-28T11:19:14.034Z"
   },
   {
    "duration": 29,
    "start_time": "2021-08-28T11:19:14.384Z"
   },
   {
    "duration": 12,
    "start_time": "2021-08-28T11:19:14.712Z"
   },
   {
    "duration": 17,
    "start_time": "2021-08-28T11:19:14.872Z"
   },
   {
    "duration": 15,
    "start_time": "2021-08-28T11:19:15.068Z"
   },
   {
    "duration": 116,
    "start_time": "2021-08-28T11:19:15.252Z"
   },
   {
    "duration": 49,
    "start_time": "2021-08-28T11:19:15.436Z"
   },
   {
    "duration": 27,
    "start_time": "2021-08-28T11:19:15.616Z"
   },
   {
    "duration": 10,
    "start_time": "2021-08-28T11:19:15.980Z"
   },
   {
    "duration": 14,
    "start_time": "2021-08-28T11:19:16.168Z"
   },
   {
    "duration": 22,
    "start_time": "2021-08-28T11:19:16.340Z"
   },
   {
    "duration": 81,
    "start_time": "2021-08-28T11:19:16.532Z"
   },
   {
    "duration": 40,
    "start_time": "2021-08-28T11:19:16.720Z"
   },
   {
    "duration": 16,
    "start_time": "2021-08-28T11:19:16.896Z"
   },
   {
    "duration": 7,
    "start_time": "2021-08-28T11:19:17.256Z"
   },
   {
    "duration": 7,
    "start_time": "2021-08-28T11:19:17.436Z"
   },
   {
    "duration": 5,
    "start_time": "2021-08-28T11:19:17.628Z"
   },
   {
    "duration": 14,
    "start_time": "2021-08-28T11:19:17.824Z"
   },
   {
    "duration": 6,
    "start_time": "2021-08-28T11:19:18.020Z"
   },
   {
    "duration": 27,
    "start_time": "2021-08-28T11:19:18.196Z"
   },
   {
    "duration": 9,
    "start_time": "2021-08-28T11:19:18.592Z"
   },
   {
    "duration": 7,
    "start_time": "2021-08-28T11:19:18.784Z"
   },
   {
    "duration": 7,
    "start_time": "2021-08-28T11:19:18.996Z"
   },
   {
    "duration": 15,
    "start_time": "2021-08-28T11:19:19.184Z"
   },
   {
    "duration": 7,
    "start_time": "2021-08-28T11:19:19.368Z"
   },
   {
    "duration": 18,
    "start_time": "2021-08-28T11:19:19.552Z"
   },
   {
    "duration": 61,
    "start_time": "2021-08-28T11:19:20.756Z"
   },
   {
    "duration": 10,
    "start_time": "2021-08-28T11:19:21.352Z"
   },
   {
    "duration": 10,
    "start_time": "2021-08-28T11:19:21.544Z"
   },
   {
    "duration": 55,
    "start_time": "2021-08-28T11:19:21.923Z"
   },
   {
    "duration": 43,
    "start_time": "2021-08-28T11:19:22.544Z"
   },
   {
    "duration": 5,
    "start_time": "2021-08-28T11:19:22.732Z"
   },
   {
    "duration": 31,
    "start_time": "2021-08-28T11:19:23.124Z"
   },
   {
    "duration": 5,
    "start_time": "2021-08-28T11:19:23.308Z"
   },
   {
    "duration": 5,
    "start_time": "2021-08-28T11:19:23.892Z"
   },
   {
    "duration": 34,
    "start_time": "2021-08-28T11:19:24.104Z"
   },
   {
    "duration": 6,
    "start_time": "2021-08-28T11:19:24.292Z"
   },
   {
    "duration": 12,
    "start_time": "2021-08-28T11:19:24.676Z"
   },
   {
    "duration": 6,
    "start_time": "2021-08-28T11:19:24.880Z"
   },
   {
    "duration": 13,
    "start_time": "2021-08-28T11:19:25.276Z"
   },
   {
    "duration": 6,
    "start_time": "2021-08-28T11:19:25.464Z"
   },
   {
    "duration": 34,
    "start_time": "2021-08-28T11:19:26.024Z"
   },
   {
    "duration": 6,
    "start_time": "2021-08-28T11:19:26.408Z"
   },
   {
    "duration": 14,
    "start_time": "2021-08-28T11:19:27.028Z"
   },
   {
    "duration": 6,
    "start_time": "2021-08-28T11:19:27.244Z"
   },
   {
    "duration": 9,
    "start_time": "2021-08-28T11:19:27.628Z"
   },
   {
    "duration": 8,
    "start_time": "2021-08-28T11:19:27.856Z"
   },
   {
    "duration": 40,
    "start_time": "2021-08-28T11:19:28.316Z"
   },
   {
    "duration": 6,
    "start_time": "2021-08-28T11:19:29.820Z"
   },
   {
    "duration": 14,
    "start_time": "2021-08-28T11:19:30.016Z"
   },
   {
    "duration": 15,
    "start_time": "2021-08-28T11:19:30.232Z"
   },
   {
    "duration": 2,
    "start_time": "2021-08-28T11:19:30.436Z"
   },
   {
    "duration": 2,
    "start_time": "2021-08-28T11:19:30.632Z"
   },
   {
    "duration": 7265,
    "start_time": "2021-08-28T11:19:36.364Z"
   },
   {
    "duration": 3,
    "start_time": "2021-08-28T11:20:39.592Z"
   },
   {
    "duration": 363,
    "start_time": "2021-08-28T11:20:39.928Z"
   },
   {
    "duration": 15,
    "start_time": "2021-08-28T11:20:40.303Z"
   },
   {
    "duration": 19,
    "start_time": "2021-08-28T11:20:40.456Z"
   },
   {
    "duration": 23,
    "start_time": "2021-08-28T11:20:40.644Z"
   },
   {
    "duration": 199,
    "start_time": "2021-08-28T11:20:40.992Z"
   },
   {
    "duration": 90,
    "start_time": "2021-08-28T11:20:41.193Z"
   },
   {
    "duration": 30,
    "start_time": "2021-08-28T11:20:41.352Z"
   },
   {
    "duration": 13,
    "start_time": "2021-08-28T11:20:41.688Z"
   },
   {
    "duration": 16,
    "start_time": "2021-08-28T11:20:41.864Z"
   },
   {
    "duration": 20,
    "start_time": "2021-08-28T11:20:42.041Z"
   },
   {
    "duration": 141,
    "start_time": "2021-08-28T11:20:42.225Z"
   },
   {
    "duration": 49,
    "start_time": "2021-08-28T11:20:42.376Z"
   },
   {
    "duration": 28,
    "start_time": "2021-08-28T11:20:42.560Z"
   },
   {
    "duration": 10,
    "start_time": "2021-08-28T11:20:42.912Z"
   },
   {
    "duration": 14,
    "start_time": "2021-08-28T11:20:43.092Z"
   },
   {
    "duration": 13,
    "start_time": "2021-08-28T11:20:43.688Z"
   },
   {
    "duration": 104,
    "start_time": "2021-08-28T11:20:43.703Z"
   },
   {
    "duration": 45,
    "start_time": "2021-08-28T11:20:43.808Z"
   },
   {
    "duration": 16,
    "start_time": "2021-08-28T11:20:43.855Z"
   },
   {
    "duration": 9,
    "start_time": "2021-08-28T11:20:44.416Z"
   },
   {
    "duration": 32,
    "start_time": "2021-08-28T11:20:44.427Z"
   },
   {
    "duration": 6,
    "start_time": "2021-08-28T11:20:44.588Z"
   },
   {
    "duration": 13,
    "start_time": "2021-08-28T11:20:44.760Z"
   },
   {
    "duration": 7,
    "start_time": "2021-08-28T11:20:44.944Z"
   },
   {
    "duration": 27,
    "start_time": "2021-08-28T11:20:45.148Z"
   },
   {
    "duration": 10,
    "start_time": "2021-08-28T11:20:45.564Z"
   },
   {
    "duration": 7,
    "start_time": "2021-08-28T11:20:45.736Z"
   },
   {
    "duration": 8,
    "start_time": "2021-08-28T11:20:45.936Z"
   },
   {
    "duration": 17,
    "start_time": "2021-08-28T11:20:46.120Z"
   },
   {
    "duration": 7,
    "start_time": "2021-08-28T11:20:46.325Z"
   },
   {
    "duration": 24,
    "start_time": "2021-08-28T11:20:46.536Z"
   },
   {
    "duration": 60,
    "start_time": "2021-08-28T11:20:47.652Z"
   },
   {
    "duration": 13,
    "start_time": "2021-08-28T11:20:48.237Z"
   },
   {
    "duration": 9,
    "start_time": "2021-08-28T11:20:48.420Z"
   },
   {
    "duration": 50,
    "start_time": "2021-08-28T11:20:48.788Z"
   },
   {
    "duration": 40,
    "start_time": "2021-08-28T11:20:49.472Z"
   },
   {
    "duration": 6,
    "start_time": "2021-08-28T11:20:50.060Z"
   },
   {
    "duration": 28,
    "start_time": "2021-08-28T11:20:50.765Z"
   },
   {
    "duration": 6,
    "start_time": "2021-08-28T11:20:50.968Z"
   },
   {
    "duration": 5,
    "start_time": "2021-08-28T11:20:51.540Z"
   },
   {
    "duration": 36,
    "start_time": "2021-08-28T11:20:51.736Z"
   },
   {
    "duration": 6,
    "start_time": "2021-08-28T11:20:51.928Z"
   },
   {
    "duration": 12,
    "start_time": "2021-08-28T11:20:52.288Z"
   },
   {
    "duration": 7,
    "start_time": "2021-08-28T11:20:52.484Z"
   },
   {
    "duration": 14,
    "start_time": "2021-08-28T11:20:52.892Z"
   },
   {
    "duration": 6,
    "start_time": "2021-08-28T11:20:53.064Z"
   },
   {
    "duration": 28,
    "start_time": "2021-08-28T11:20:54.480Z"
   },
   {
    "duration": 5,
    "start_time": "2021-08-28T11:20:54.528Z"
   },
   {
    "duration": 14,
    "start_time": "2021-08-28T11:20:55.112Z"
   },
   {
    "duration": 26,
    "start_time": "2021-08-28T11:20:55.127Z"
   },
   {
    "duration": 8,
    "start_time": "2021-08-28T11:20:55.633Z"
   },
   {
    "duration": 8,
    "start_time": "2021-08-28T11:20:55.664Z"
   },
   {
    "duration": 36,
    "start_time": "2021-08-28T11:20:56.056Z"
   },
   {
    "duration": 6,
    "start_time": "2021-08-28T11:20:57.216Z"
   },
   {
    "duration": 2,
    "start_time": "2021-08-28T11:20:58.552Z"
   },
   {
    "duration": 3,
    "start_time": "2021-08-28T11:20:59.104Z"
   },
   {
    "duration": 15,
    "start_time": "2021-08-28T11:21:00.013Z"
   },
   {
    "duration": 5,
    "start_time": "2021-08-28T11:21:02.905Z"
   },
   {
    "duration": 5,
    "start_time": "2021-08-28T11:21:04.724Z"
   },
   {
    "duration": 13,
    "start_time": "2021-08-28T11:21:06.516Z"
   },
   {
    "duration": 4,
    "start_time": "2021-08-28T11:21:08.609Z"
   },
   {
    "duration": 5,
    "start_time": "2021-08-28T11:21:09.285Z"
   },
   {
    "duration": 612,
    "start_time": "2021-08-28T13:55:24.247Z"
   },
   {
    "duration": 15,
    "start_time": "2021-08-28T14:15:35.746Z"
   },
   {
    "duration": 23,
    "start_time": "2021-08-28T14:15:49.755Z"
   },
   {
    "duration": 298,
    "start_time": "2021-08-28T14:20:37.407Z"
   },
   {
    "duration": 19,
    "start_time": "2021-08-28T14:20:53.383Z"
   },
   {
    "duration": 30,
    "start_time": "2021-08-28T14:27:57.020Z"
   },
   {
    "duration": 12,
    "start_time": "2021-08-28T14:39:21.469Z"
   },
   {
    "duration": 332,
    "start_time": "2021-08-28T14:49:07.151Z"
   },
   {
    "duration": 12,
    "start_time": "2021-08-28T14:49:19.972Z"
   },
   {
    "duration": 690,
    "start_time": "2021-08-28T14:51:15.627Z"
   },
   {
    "duration": 32,
    "start_time": "2021-08-28T14:51:52.736Z"
   },
   {
    "duration": 284,
    "start_time": "2021-08-28T15:43:14.005Z"
   },
   {
    "duration": 25,
    "start_time": "2021-08-28T15:43:46.072Z"
   },
   {
    "duration": 267,
    "start_time": "2021-08-28T15:53:22.794Z"
   },
   {
    "duration": 262,
    "start_time": "2021-08-28T15:53:59.694Z"
   },
   {
    "duration": 1027,
    "start_time": "2021-08-28T15:54:26.665Z"
   },
   {
    "duration": 392,
    "start_time": "2021-08-28T15:54:27.694Z"
   },
   {
    "duration": 15,
    "start_time": "2021-08-28T15:54:28.088Z"
   },
   {
    "duration": 19,
    "start_time": "2021-08-28T15:54:28.105Z"
   },
   {
    "duration": 20,
    "start_time": "2021-08-28T15:54:28.126Z"
   },
   {
    "duration": 218,
    "start_time": "2021-08-28T15:54:28.150Z"
   },
   {
    "duration": 99,
    "start_time": "2021-08-28T15:54:28.370Z"
   },
   {
    "duration": 28,
    "start_time": "2021-08-28T15:54:28.472Z"
   },
   {
    "duration": 10,
    "start_time": "2021-08-28T15:54:28.502Z"
   },
   {
    "duration": 44,
    "start_time": "2021-08-28T15:54:28.514Z"
   },
   {
    "duration": 14,
    "start_time": "2021-08-28T15:54:28.560Z"
   },
   {
    "duration": 142,
    "start_time": "2021-08-28T15:54:28.576Z"
   },
   {
    "duration": 71,
    "start_time": "2021-08-28T15:54:28.719Z"
   },
   {
    "duration": 28,
    "start_time": "2021-08-28T15:54:28.791Z"
   },
   {
    "duration": 29,
    "start_time": "2021-08-28T15:54:28.821Z"
   },
   {
    "duration": 19,
    "start_time": "2021-08-28T15:54:28.851Z"
   },
   {
    "duration": 15,
    "start_time": "2021-08-28T15:54:28.872Z"
   },
   {
    "duration": 142,
    "start_time": "2021-08-28T15:54:28.889Z"
   },
   {
    "duration": 53,
    "start_time": "2021-08-28T15:54:29.033Z"
   },
   {
    "duration": 17,
    "start_time": "2021-08-28T15:54:29.088Z"
   },
   {
    "duration": 8,
    "start_time": "2021-08-28T15:54:29.107Z"
   },
   {
    "duration": 11,
    "start_time": "2021-08-28T15:54:29.147Z"
   },
   {
    "duration": 8,
    "start_time": "2021-08-28T15:54:29.163Z"
   },
   {
    "duration": 16,
    "start_time": "2021-08-28T15:54:29.173Z"
   },
   {
    "duration": 8,
    "start_time": "2021-08-28T15:54:29.191Z"
   },
   {
    "duration": 55,
    "start_time": "2021-08-28T15:54:29.201Z"
   },
   {
    "duration": 10,
    "start_time": "2021-08-28T15:54:29.258Z"
   },
   {
    "duration": 10,
    "start_time": "2021-08-28T15:54:29.270Z"
   },
   {
    "duration": 10,
    "start_time": "2021-08-28T15:54:29.282Z"
   },
   {
    "duration": 19,
    "start_time": "2021-08-28T15:54:29.294Z"
   },
   {
    "duration": 39,
    "start_time": "2021-08-28T15:54:29.315Z"
   },
   {
    "duration": 19,
    "start_time": "2021-08-28T15:54:29.357Z"
   },
   {
    "duration": 91,
    "start_time": "2021-08-28T15:54:29.377Z"
   },
   {
    "duration": 11,
    "start_time": "2021-08-28T15:54:29.470Z"
   },
   {
    "duration": 10,
    "start_time": "2021-08-28T15:54:29.483Z"
   },
   {
    "duration": 86,
    "start_time": "2021-08-28T15:54:29.495Z"
   },
   {
    "duration": 71,
    "start_time": "2021-08-28T15:54:29.583Z"
   },
   {
    "duration": 7,
    "start_time": "2021-08-28T15:54:29.656Z"
   },
   {
    "duration": 35,
    "start_time": "2021-08-28T15:54:29.665Z"
   },
   {
    "duration": 6,
    "start_time": "2021-08-28T15:54:29.702Z"
   },
   {
    "duration": 36,
    "start_time": "2021-08-28T15:54:29.710Z"
   },
   {
    "duration": 42,
    "start_time": "2021-08-28T15:54:29.748Z"
   },
   {
    "duration": 5,
    "start_time": "2021-08-28T15:54:29.791Z"
   },
   {
    "duration": 18,
    "start_time": "2021-08-28T15:54:29.798Z"
   },
   {
    "duration": 32,
    "start_time": "2021-08-28T15:54:29.818Z"
   },
   {
    "duration": 15,
    "start_time": "2021-08-28T15:54:29.856Z"
   },
   {
    "duration": 6,
    "start_time": "2021-08-28T15:54:29.873Z"
   },
   {
    "duration": 27,
    "start_time": "2021-08-28T15:54:29.880Z"
   },
   {
    "duration": 4,
    "start_time": "2021-08-28T15:54:29.909Z"
   },
   {
    "duration": 21,
    "start_time": "2021-08-28T15:54:29.941Z"
   },
   {
    "duration": 5,
    "start_time": "2021-08-28T15:54:29.964Z"
   },
   {
    "duration": 8,
    "start_time": "2021-08-28T15:54:29.971Z"
   },
   {
    "duration": 9,
    "start_time": "2021-08-28T15:54:29.981Z"
   },
   {
    "duration": 67,
    "start_time": "2021-08-28T15:54:29.991Z"
   },
   {
    "duration": 5,
    "start_time": "2021-08-28T15:54:30.059Z"
   },
   {
    "duration": 541,
    "start_time": "2021-08-28T15:54:30.065Z"
   },
   {
    "duration": 21,
    "start_time": "2021-08-28T15:54:30.607Z"
   },
   {
    "duration": 31,
    "start_time": "2021-08-28T15:54:30.629Z"
   },
   {
    "duration": 357,
    "start_time": "2021-08-28T15:54:30.662Z"
   },
   {
    "duration": -336,
    "start_time": "2021-08-28T15:54:31.357Z"
   },
   {
    "duration": -340,
    "start_time": "2021-08-28T15:54:31.362Z"
   },
   {
    "duration": -343,
    "start_time": "2021-08-28T15:54:31.366Z"
   },
   {
    "duration": -354,
    "start_time": "2021-08-28T15:54:31.378Z"
   },
   {
    "duration": -357,
    "start_time": "2021-08-28T15:54:31.381Z"
   },
   {
    "duration": -360,
    "start_time": "2021-08-28T15:54:31.385Z"
   },
   {
    "duration": -362,
    "start_time": "2021-08-28T15:54:31.388Z"
   },
   {
    "duration": -363,
    "start_time": "2021-08-28T15:54:31.390Z"
   },
   {
    "duration": -366,
    "start_time": "2021-08-28T15:54:31.393Z"
   },
   {
    "duration": 16,
    "start_time": "2021-08-28T16:06:13.819Z"
   },
   {
    "duration": 11,
    "start_time": "2021-08-28T16:06:52.197Z"
   },
   {
    "duration": 31,
    "start_time": "2021-08-28T16:07:49.363Z"
   },
   {
    "duration": 3,
    "start_time": "2021-08-28T16:10:48.043Z"
   },
   {
    "duration": 14,
    "start_time": "2021-08-28T16:11:12.819Z"
   },
   {
    "duration": 3,
    "start_time": "2021-08-28T16:11:52.559Z"
   },
   {
    "duration": 13,
    "start_time": "2021-08-28T16:13:47.207Z"
   },
   {
    "duration": 19,
    "start_time": "2021-08-28T16:17:23.244Z"
   },
   {
    "duration": 12,
    "start_time": "2021-08-28T16:17:56.781Z"
   },
   {
    "duration": 15,
    "start_time": "2021-08-28T16:18:18.696Z"
   },
   {
    "duration": 5,
    "start_time": "2021-08-28T16:18:24.821Z"
   },
   {
    "duration": 14,
    "start_time": "2021-08-28T16:20:56.877Z"
   },
   {
    "duration": 8,
    "start_time": "2021-08-28T16:20:57.597Z"
   },
   {
    "duration": 6,
    "start_time": "2021-08-28T16:20:59.201Z"
   },
   {
    "duration": 16,
    "start_time": "2021-08-28T16:22:31.549Z"
   },
   {
    "duration": 290,
    "start_time": "2021-08-28T16:22:33.186Z"
   },
   {
    "duration": 16,
    "start_time": "2021-08-28T16:22:54.845Z"
   },
   {
    "duration": 7,
    "start_time": "2021-08-28T16:22:56.406Z"
   },
   {
    "duration": 7,
    "start_time": "2021-08-28T16:22:58.681Z"
   },
   {
    "duration": 1225,
    "start_time": "2021-08-28T16:23:18.650Z"
   },
   {
    "duration": 536,
    "start_time": "2021-08-28T16:23:19.878Z"
   },
   {
    "duration": 22,
    "start_time": "2021-08-28T16:23:20.418Z"
   },
   {
    "duration": 33,
    "start_time": "2021-08-28T16:23:20.445Z"
   },
   {
    "duration": 26,
    "start_time": "2021-08-28T16:23:20.481Z"
   },
   {
    "duration": 370,
    "start_time": "2021-08-28T16:23:20.510Z"
   },
   {
    "duration": 148,
    "start_time": "2021-08-28T16:23:20.882Z"
   },
   {
    "duration": 54,
    "start_time": "2021-08-28T16:23:21.034Z"
   },
   {
    "duration": 15,
    "start_time": "2021-08-28T16:23:21.091Z"
   },
   {
    "duration": 52,
    "start_time": "2021-08-28T16:23:21.108Z"
   },
   {
    "duration": 19,
    "start_time": "2021-08-28T16:23:21.163Z"
   },
   {
    "duration": 234,
    "start_time": "2021-08-28T16:23:21.185Z"
   },
   {
    "duration": 102,
    "start_time": "2021-08-28T16:23:21.421Z"
   },
   {
    "duration": 53,
    "start_time": "2021-08-28T16:23:21.525Z"
   },
   {
    "duration": 14,
    "start_time": "2021-08-28T16:23:21.580Z"
   },
   {
    "duration": 48,
    "start_time": "2021-08-28T16:23:21.597Z"
   },
   {
    "duration": 21,
    "start_time": "2021-08-28T16:23:21.649Z"
   },
   {
    "duration": 158,
    "start_time": "2021-08-28T16:23:21.672Z"
   },
   {
    "duration": 68,
    "start_time": "2021-08-28T16:23:21.833Z"
   },
   {
    "duration": 47,
    "start_time": "2021-08-28T16:23:21.903Z"
   },
   {
    "duration": 10,
    "start_time": "2021-08-28T16:23:21.953Z"
   },
   {
    "duration": 24,
    "start_time": "2021-08-28T16:23:21.965Z"
   },
   {
    "duration": 19,
    "start_time": "2021-08-28T16:23:21.994Z"
   },
   {
    "duration": 38,
    "start_time": "2021-08-28T16:23:22.016Z"
   },
   {
    "duration": 13,
    "start_time": "2021-08-28T16:23:22.057Z"
   },
   {
    "duration": 41,
    "start_time": "2021-08-28T16:23:22.073Z"
   },
   {
    "duration": 37,
    "start_time": "2021-08-28T16:23:22.117Z"
   },
   {
    "duration": 20,
    "start_time": "2021-08-28T16:23:22.157Z"
   },
   {
    "duration": 24,
    "start_time": "2021-08-28T16:23:22.179Z"
   },
   {
    "duration": 31,
    "start_time": "2021-08-28T16:23:22.205Z"
   },
   {
    "duration": 16,
    "start_time": "2021-08-28T16:23:22.238Z"
   },
   {
    "duration": 25,
    "start_time": "2021-08-28T16:23:22.258Z"
   },
   {
    "duration": 108,
    "start_time": "2021-08-28T16:23:22.286Z"
   },
   {
    "duration": 14,
    "start_time": "2021-08-28T16:23:22.396Z"
   },
   {
    "duration": 36,
    "start_time": "2021-08-28T16:23:22.413Z"
   },
   {
    "duration": 68,
    "start_time": "2021-08-28T16:23:22.452Z"
   },
   {
    "duration": 75,
    "start_time": "2021-08-28T16:23:22.522Z"
   },
   {
    "duration": 9,
    "start_time": "2021-08-28T16:23:22.600Z"
   },
   {
    "duration": 74,
    "start_time": "2021-08-28T16:23:22.611Z"
   },
   {
    "duration": 8,
    "start_time": "2021-08-28T16:23:22.688Z"
   },
   {
    "duration": 29,
    "start_time": "2021-08-28T16:23:22.699Z"
   },
   {
    "duration": 53,
    "start_time": "2021-08-28T16:23:22.730Z"
   },
   {
    "duration": 9,
    "start_time": "2021-08-28T16:23:22.786Z"
   },
   {
    "duration": 25,
    "start_time": "2021-08-28T16:23:22.798Z"
   },
   {
    "duration": 15,
    "start_time": "2021-08-28T16:23:22.844Z"
   },
   {
    "duration": 33,
    "start_time": "2021-08-28T16:23:22.862Z"
   },
   {
    "duration": 22,
    "start_time": "2021-08-28T16:23:22.898Z"
   },
   {
    "duration": 52,
    "start_time": "2021-08-28T16:23:22.922Z"
   },
   {
    "duration": 13,
    "start_time": "2021-08-28T16:23:22.976Z"
   },
   {
    "duration": 42,
    "start_time": "2021-08-28T16:23:22.991Z"
   },
   {
    "duration": 22,
    "start_time": "2021-08-28T16:23:23.035Z"
   },
   {
    "duration": 16,
    "start_time": "2021-08-28T16:23:23.059Z"
   },
   {
    "duration": 22,
    "start_time": "2021-08-28T16:23:23.077Z"
   },
   {
    "duration": 55,
    "start_time": "2021-08-28T16:23:23.102Z"
   },
   {
    "duration": 7,
    "start_time": "2021-08-28T16:23:23.160Z"
   },
   {
    "duration": 643,
    "start_time": "2021-08-28T16:23:23.170Z"
   },
   {
    "duration": 47,
    "start_time": "2021-08-28T16:23:23.815Z"
   },
   {
    "duration": 23,
    "start_time": "2021-08-28T16:23:23.865Z"
   },
   {
    "duration": 5,
    "start_time": "2021-08-28T16:23:23.891Z"
   },
   {
    "duration": 19,
    "start_time": "2021-08-28T16:23:23.898Z"
   },
   {
    "duration": 39,
    "start_time": "2021-08-28T16:23:23.920Z"
   },
   {
    "duration": 11,
    "start_time": "2021-08-28T16:23:23.962Z"
   },
   {
    "duration": 12,
    "start_time": "2021-08-28T16:23:23.975Z"
   },
   {
    "duration": 17,
    "start_time": "2021-08-28T16:23:23.989Z"
   },
   {
    "duration": 11,
    "start_time": "2021-08-28T16:23:24.008Z"
   },
   {
    "duration": 12,
    "start_time": "2021-08-28T16:23:24.042Z"
   },
   {
    "duration": 425,
    "start_time": "2021-08-28T16:26:16.702Z"
   },
   {
    "duration": 11,
    "start_time": "2021-08-28T16:27:27.494Z"
   },
   {
    "duration": 315,
    "start_time": "2021-08-28T16:27:43.879Z"
   },
   {
    "duration": 432,
    "start_time": "2021-08-28T16:35:48.944Z"
   },
   {
    "duration": 7,
    "start_time": "2021-08-28T16:36:16.124Z"
   },
   {
    "duration": 6,
    "start_time": "2021-08-28T16:36:25.456Z"
   },
   {
    "duration": 11,
    "start_time": "2021-08-28T16:36:26.808Z"
   },
   {
    "duration": 408,
    "start_time": "2021-08-28T16:36:34.528Z"
   },
   {
    "duration": 424,
    "start_time": "2021-08-28T16:36:42.500Z"
   },
   {
    "duration": 9,
    "start_time": "2021-08-28T16:37:48.177Z"
   },
   {
    "duration": 545,
    "start_time": "2021-08-28T16:37:55.836Z"
   },
   {
    "duration": 9,
    "start_time": "2021-08-28T16:38:13.928Z"
   },
   {
    "duration": 11,
    "start_time": "2021-08-28T16:38:14.685Z"
   },
   {
    "duration": 11,
    "start_time": "2021-08-28T16:38:15.524Z"
   },
   {
    "duration": 420,
    "start_time": "2021-08-28T16:38:15.988Z"
   },
   {
    "duration": 416,
    "start_time": "2021-08-28T16:43:55.689Z"
   },
   {
    "duration": 425,
    "start_time": "2021-08-28T16:47:08.566Z"
   },
   {
    "duration": 487,
    "start_time": "2021-08-28T16:48:03.766Z"
   },
   {
    "duration": 567,
    "start_time": "2021-08-28T16:48:30.475Z"
   },
   {
    "duration": 417,
    "start_time": "2021-08-28T16:48:43.254Z"
   },
   {
    "duration": 404,
    "start_time": "2021-08-28T16:50:19.403Z"
   },
   {
    "duration": 10,
    "start_time": "2021-08-28T16:51:06.608Z"
   },
   {
    "duration": 10,
    "start_time": "2021-08-28T16:51:06.774Z"
   },
   {
    "duration": 403,
    "start_time": "2021-08-28T16:51:25.638Z"
   },
   {
    "duration": 414,
    "start_time": "2021-08-28T16:52:25.851Z"
   },
   {
    "duration": 9,
    "start_time": "2021-08-28T16:52:26.268Z"
   },
   {
    "duration": 9,
    "start_time": "2021-08-28T16:52:26.583Z"
   },
   {
    "duration": 397,
    "start_time": "2021-08-28T16:52:26.884Z"
   },
   {
    "duration": 504,
    "start_time": "2021-08-28T16:52:45.003Z"
   },
   {
    "duration": 305,
    "start_time": "2021-08-28T16:52:56.219Z"
   },
   {
    "duration": 261,
    "start_time": "2021-08-28T16:53:12.827Z"
   },
   {
    "duration": 10,
    "start_time": "2021-08-28T16:53:42.802Z"
   },
   {
    "duration": 11,
    "start_time": "2021-08-28T16:54:50.367Z"
   },
   {
    "duration": 11,
    "start_time": "2021-08-28T16:54:51.163Z"
   },
   {
    "duration": 248,
    "start_time": "2021-08-28T16:55:20.379Z"
   },
   {
    "duration": 10,
    "start_time": "2021-08-28T16:55:23.231Z"
   },
   {
    "duration": 10,
    "start_time": "2021-08-28T16:55:23.703Z"
   },
   {
    "duration": 239,
    "start_time": "2021-08-28T16:55:24.391Z"
   },
   {
    "duration": 252,
    "start_time": "2021-08-28T16:58:36.632Z"
   },
   {
    "duration": 304,
    "start_time": "2021-08-28T16:58:52.196Z"
   },
   {
    "duration": 352,
    "start_time": "2021-08-28T16:59:01.987Z"
   },
   {
    "duration": 8,
    "start_time": "2021-08-28T17:52:46.079Z"
   },
   {
    "duration": 19,
    "start_time": "2021-08-28T17:52:46.648Z"
   },
   {
    "duration": 25,
    "start_time": "2021-08-28T17:52:50.908Z"
   },
   {
    "duration": 21,
    "start_time": "2021-08-28T17:52:53.991Z"
   },
   {
    "duration": 3,
    "start_time": "2021-08-28T17:52:55.011Z"
   },
   {
    "duration": 2,
    "start_time": "2021-08-28T17:52:55.516Z"
   },
   {
    "duration": 18,
    "start_time": "2021-08-28T17:52:56.095Z"
   },
   {
    "duration": 7,
    "start_time": "2021-08-28T17:52:57.228Z"
   },
   {
    "duration": 7,
    "start_time": "2021-08-28T17:52:57.835Z"
   },
   {
    "duration": 16,
    "start_time": "2021-08-28T17:52:58.311Z"
   },
   {
    "duration": 7,
    "start_time": "2021-08-28T17:52:58.684Z"
   },
   {
    "duration": 6,
    "start_time": "2021-08-28T17:52:59.095Z"
   },
   {
    "duration": 13,
    "start_time": "2021-08-28T17:52:59.952Z"
   },
   {
    "duration": 10,
    "start_time": "2021-08-28T17:53:01.284Z"
   },
   {
    "duration": 10,
    "start_time": "2021-08-28T17:53:02.580Z"
   },
   {
    "duration": 497,
    "start_time": "2021-08-28T17:53:04.688Z"
   },
   {
    "duration": 298,
    "start_time": "2021-08-28T18:07:26.214Z"
   },
   {
    "duration": 395,
    "start_time": "2021-08-28T18:08:37.067Z"
   },
   {
    "duration": 290,
    "start_time": "2021-08-28T18:08:45.970Z"
   },
   {
    "duration": 10,
    "start_time": "2021-08-28T18:08:59.686Z"
   },
   {
    "duration": 10,
    "start_time": "2021-08-28T18:10:54.310Z"
   },
   {
    "duration": 12,
    "start_time": "2021-08-28T18:11:05.763Z"
   },
   {
    "duration": 538,
    "start_time": "2021-08-28T18:14:57.268Z"
   },
   {
    "duration": 183,
    "start_time": "2021-08-28T18:52:42.809Z"
   },
   {
    "duration": 182,
    "start_time": "2021-08-28T18:53:05.473Z"
   },
   {
    "duration": 179,
    "start_time": "2021-08-28T18:53:27.628Z"
   },
   {
    "duration": 183,
    "start_time": "2021-08-28T18:54:30.841Z"
   },
   {
    "duration": 169,
    "start_time": "2021-08-28T18:55:46.554Z"
   },
   {
    "duration": 186,
    "start_time": "2021-08-28T18:59:48.162Z"
   },
   {
    "duration": 287,
    "start_time": "2021-08-28T19:02:06.990Z"
   },
   {
    "duration": 264,
    "start_time": "2021-08-28T19:03:18.286Z"
   },
   {
    "duration": 183,
    "start_time": "2021-08-28T19:03:18.999Z"
   },
   {
    "duration": 303,
    "start_time": "2021-08-28T19:03:20.067Z"
   },
   {
    "duration": 196,
    "start_time": "2021-08-28T19:03:31.739Z"
   },
   {
    "duration": 170,
    "start_time": "2021-08-28T19:03:37.915Z"
   },
   {
    "duration": 197,
    "start_time": "2021-08-28T19:03:58.935Z"
   },
   {
    "duration": 184,
    "start_time": "2021-08-28T19:04:14.835Z"
   },
   {
    "duration": 179,
    "start_time": "2021-08-28T19:04:27.055Z"
   },
   {
    "duration": 181,
    "start_time": "2021-08-28T19:05:28.675Z"
   },
   {
    "duration": 179,
    "start_time": "2021-08-28T19:05:37.027Z"
   },
   {
    "duration": 162,
    "start_time": "2021-08-28T19:05:42.539Z"
   },
   {
    "duration": 173,
    "start_time": "2021-08-28T19:05:59.655Z"
   },
   {
    "duration": 10,
    "start_time": "2021-08-28T19:18:35.681Z"
   },
   {
    "duration": 11,
    "start_time": "2021-08-28T19:18:36.493Z"
   },
   {
    "duration": 379,
    "start_time": "2021-08-28T19:18:37.321Z"
   },
   {
    "duration": 298,
    "start_time": "2021-08-28T19:18:39.297Z"
   },
   {
    "duration": 195,
    "start_time": "2021-08-28T19:18:40.770Z"
   },
   {
    "duration": 213,
    "start_time": "2021-08-28T19:27:10.099Z"
   },
   {
    "duration": 202,
    "start_time": "2021-08-28T19:27:17.643Z"
   },
   {
    "duration": 480,
    "start_time": "2021-08-28T19:29:49.295Z"
   },
   {
    "duration": 303,
    "start_time": "2021-08-28T19:30:20.761Z"
   },
   {
    "duration": 522,
    "start_time": "2021-08-28T19:30:31.525Z"
   },
   {
    "duration": 209,
    "start_time": "2021-08-28T19:30:36.839Z"
   },
   {
    "duration": 1417,
    "start_time": "2021-08-28T19:31:53.722Z"
   },
   {
    "duration": 535,
    "start_time": "2021-08-28T19:31:55.143Z"
   },
   {
    "duration": 23,
    "start_time": "2021-08-28T19:31:55.681Z"
   },
   {
    "duration": 25,
    "start_time": "2021-08-28T19:31:55.707Z"
   },
   {
    "duration": 27,
    "start_time": "2021-08-28T19:31:55.734Z"
   },
   {
    "duration": 408,
    "start_time": "2021-08-28T19:31:55.764Z"
   },
   {
    "duration": 150,
    "start_time": "2021-08-28T19:31:56.175Z"
   },
   {
    "duration": 57,
    "start_time": "2021-08-28T19:31:56.330Z"
   },
   {
    "duration": 16,
    "start_time": "2021-08-28T19:31:56.390Z"
   },
   {
    "duration": 57,
    "start_time": "2021-08-28T19:31:56.408Z"
   },
   {
    "duration": 20,
    "start_time": "2021-08-28T19:31:56.468Z"
   },
   {
    "duration": 260,
    "start_time": "2021-08-28T19:31:56.490Z"
   },
   {
    "duration": 108,
    "start_time": "2021-08-28T19:31:56.757Z"
   },
   {
    "duration": 44,
    "start_time": "2021-08-28T19:31:56.870Z"
   },
   {
    "duration": 38,
    "start_time": "2021-08-28T19:31:56.916Z"
   },
   {
    "duration": 29,
    "start_time": "2021-08-28T19:31:56.957Z"
   },
   {
    "duration": 56,
    "start_time": "2021-08-28T19:31:56.990Z"
   },
   {
    "duration": 248,
    "start_time": "2021-08-28T19:31:57.049Z"
   },
   {
    "duration": 78,
    "start_time": "2021-08-28T19:31:57.299Z"
   },
   {
    "duration": 26,
    "start_time": "2021-08-28T19:31:57.380Z"
   },
   {
    "duration": 40,
    "start_time": "2021-08-28T19:31:57.408Z"
   },
   {
    "duration": 21,
    "start_time": "2021-08-28T19:31:57.451Z"
   },
   {
    "duration": 19,
    "start_time": "2021-08-28T19:31:57.478Z"
   },
   {
    "duration": 31,
    "start_time": "2021-08-28T19:31:57.501Z"
   },
   {
    "duration": 16,
    "start_time": "2021-08-28T19:31:57.535Z"
   },
   {
    "duration": 50,
    "start_time": "2021-08-28T19:31:57.554Z"
   },
   {
    "duration": 14,
    "start_time": "2021-08-28T19:31:57.606Z"
   },
   {
    "duration": 33,
    "start_time": "2021-08-28T19:31:57.622Z"
   },
   {
    "duration": 27,
    "start_time": "2021-08-28T19:31:57.658Z"
   },
   {
    "duration": 32,
    "start_time": "2021-08-28T19:31:57.687Z"
   },
   {
    "duration": 9,
    "start_time": "2021-08-28T19:31:57.721Z"
   },
   {
    "duration": 37,
    "start_time": "2021-08-28T19:31:57.740Z"
   },
   {
    "duration": 115,
    "start_time": "2021-08-28T19:31:57.780Z"
   },
   {
    "duration": 16,
    "start_time": "2021-08-28T19:31:57.898Z"
   },
   {
    "duration": 33,
    "start_time": "2021-08-28T19:31:57.918Z"
   },
   {
    "duration": 62,
    "start_time": "2021-08-28T19:31:57.954Z"
   },
   {
    "duration": 86,
    "start_time": "2021-08-28T19:31:58.019Z"
   },
   {
    "duration": 9,
    "start_time": "2021-08-28T19:31:58.107Z"
   },
   {
    "duration": 60,
    "start_time": "2021-08-28T19:31:58.119Z"
   },
   {
    "duration": 9,
    "start_time": "2021-08-28T19:31:58.182Z"
   },
   {
    "duration": 18,
    "start_time": "2021-08-28T19:31:58.194Z"
   },
   {
    "duration": 84,
    "start_time": "2021-08-28T19:31:58.214Z"
   },
   {
    "duration": 9,
    "start_time": "2021-08-28T19:31:58.301Z"
   },
   {
    "duration": 44,
    "start_time": "2021-08-28T19:31:58.313Z"
   },
   {
    "duration": 15,
    "start_time": "2021-08-28T19:31:58.360Z"
   },
   {
    "duration": 28,
    "start_time": "2021-08-28T19:31:58.377Z"
   },
   {
    "duration": 9,
    "start_time": "2021-08-28T19:31:58.408Z"
   },
   {
    "duration": 60,
    "start_time": "2021-08-28T19:31:58.444Z"
   },
   {
    "duration": 10,
    "start_time": "2021-08-28T19:31:58.507Z"
   },
   {
    "duration": 48,
    "start_time": "2021-08-28T19:31:58.520Z"
   },
   {
    "duration": 11,
    "start_time": "2021-08-28T19:31:58.571Z"
   },
   {
    "duration": 14,
    "start_time": "2021-08-28T19:31:58.584Z"
   },
   {
    "duration": 49,
    "start_time": "2021-08-28T19:31:58.601Z"
   },
   {
    "duration": 51,
    "start_time": "2021-08-28T19:31:58.654Z"
   },
   {
    "duration": 7,
    "start_time": "2021-08-28T19:31:58.708Z"
   },
   {
    "duration": 1127,
    "start_time": "2021-08-28T19:31:58.717Z"
   },
   {
    "duration": 36,
    "start_time": "2021-08-28T19:31:59.847Z"
   },
   {
    "duration": 17,
    "start_time": "2021-08-28T19:31:59.885Z"
   },
   {
    "duration": 7,
    "start_time": "2021-08-28T19:31:59.904Z"
   },
   {
    "duration": 8,
    "start_time": "2021-08-28T19:31:59.915Z"
   },
   {
    "duration": 31,
    "start_time": "2021-08-28T19:31:59.942Z"
   },
   {
    "duration": 9,
    "start_time": "2021-08-28T19:31:59.976Z"
   },
   {
    "duration": 9,
    "start_time": "2021-08-28T19:31:59.988Z"
   },
   {
    "duration": 54,
    "start_time": "2021-08-28T19:32:00.000Z"
   },
   {
    "duration": 19,
    "start_time": "2021-08-28T19:32:00.058Z"
   },
   {
    "duration": 13,
    "start_time": "2021-08-28T19:32:00.080Z"
   },
   {
    "duration": 34,
    "start_time": "2021-08-28T19:32:00.095Z"
   },
   {
    "duration": 20,
    "start_time": "2021-08-28T19:32:00.136Z"
   },
   {
    "duration": 24,
    "start_time": "2021-08-28T19:32:00.159Z"
   },
   {
    "duration": 619,
    "start_time": "2021-08-28T19:32:00.186Z"
   },
   {
    "duration": 217,
    "start_time": "2021-08-28T19:32:00.807Z"
   },
   {
    "duration": 195,
    "start_time": "2021-08-28T19:32:01.026Z"
   },
   {
    "duration": 20,
    "start_time": "2021-08-28T19:32:01.223Z"
   },
   {
    "duration": 18,
    "start_time": "2021-08-28T19:32:01.247Z"
   },
   {
    "duration": 319,
    "start_time": "2021-08-28T19:32:01.268Z"
   },
   {
    "duration": 211,
    "start_time": "2021-08-28T19:32:01.590Z"
   },
   {
    "duration": 333,
    "start_time": "2021-08-28T19:32:01.804Z"
   },
   {
    "duration": 14,
    "start_time": "2021-08-28T19:32:02.141Z"
   },
   {
    "duration": 42,
    "start_time": "2021-08-28T19:32:02.158Z"
   },
   {
    "duration": 405,
    "start_time": "2021-08-28T19:32:02.203Z"
   },
   {
    "duration": 220,
    "start_time": "2021-08-28T19:32:02.611Z"
   },
   {
    "duration": 214,
    "start_time": "2021-08-28T19:32:02.842Z"
   },
   {
    "duration": 629,
    "start_time": "2021-08-28T19:57:00.491Z"
   },
   {
    "duration": 24,
    "start_time": "2021-08-28T19:57:13.910Z"
   },
   {
    "duration": 315,
    "start_time": "2021-08-28T20:02:40.350Z"
   },
   {
    "duration": 6,
    "start_time": "2021-08-28T20:03:22.583Z"
   },
   {
    "duration": 23,
    "start_time": "2021-08-28T20:15:14.420Z"
   },
   {
    "duration": 268,
    "start_time": "2021-08-28T20:16:32.421Z"
   },
   {
    "duration": 15,
    "start_time": "2021-08-28T20:17:10.669Z"
   },
   {
    "duration": 14,
    "start_time": "2021-08-28T20:17:12.413Z"
   },
   {
    "duration": 20,
    "start_time": "2021-08-28T20:22:03.925Z"
   },
   {
    "duration": 14,
    "start_time": "2021-08-28T20:22:05.214Z"
   },
   {
    "duration": 24,
    "start_time": "2021-08-28T20:23:23.634Z"
   },
   {
    "duration": 33,
    "start_time": "2021-08-28T20:23:40.438Z"
   },
   {
    "duration": 18,
    "start_time": "2021-08-28T20:23:47.669Z"
   },
   {
    "duration": 97,
    "start_time": "2021-08-28T20:30:25.835Z"
   },
   {
    "duration": 12,
    "start_time": "2021-08-28T20:30:41.898Z"
   },
   {
    "duration": 7,
    "start_time": "2021-08-28T20:46:44.473Z"
   },
   {
    "duration": 8,
    "start_time": "2021-08-28T21:04:33.360Z"
   },
   {
    "duration": 7,
    "start_time": "2021-08-28T21:04:58.171Z"
   },
   {
    "duration": 1326,
    "start_time": "2021-08-28T21:06:12.047Z"
   },
   {
    "duration": 524,
    "start_time": "2021-08-28T21:06:13.380Z"
   },
   {
    "duration": 22,
    "start_time": "2021-08-28T21:06:13.906Z"
   },
   {
    "duration": 38,
    "start_time": "2021-08-28T21:06:13.930Z"
   },
   {
    "duration": 22,
    "start_time": "2021-08-28T21:06:13.973Z"
   },
   {
    "duration": 319,
    "start_time": "2021-08-28T21:06:13.997Z"
   },
   {
    "duration": 144,
    "start_time": "2021-08-28T21:06:14.319Z"
   },
   {
    "duration": 42,
    "start_time": "2021-08-28T21:06:14.466Z"
   },
   {
    "duration": 41,
    "start_time": "2021-08-28T21:06:14.510Z"
   },
   {
    "duration": 31,
    "start_time": "2021-08-28T21:06:14.554Z"
   },
   {
    "duration": 20,
    "start_time": "2021-08-28T21:06:14.587Z"
   },
   {
    "duration": 227,
    "start_time": "2021-08-28T21:06:14.610Z"
   },
   {
    "duration": 107,
    "start_time": "2021-08-28T21:06:14.842Z"
   },
   {
    "duration": 41,
    "start_time": "2021-08-28T21:06:14.953Z"
   },
   {
    "duration": 14,
    "start_time": "2021-08-28T21:06:14.996Z"
   },
   {
    "duration": 50,
    "start_time": "2021-08-28T21:06:15.013Z"
   },
   {
    "duration": 28,
    "start_time": "2021-08-28T21:06:15.066Z"
   },
   {
    "duration": 156,
    "start_time": "2021-08-28T21:06:15.096Z"
   },
   {
    "duration": 60,
    "start_time": "2021-08-28T21:06:15.255Z"
   },
   {
    "duration": 46,
    "start_time": "2021-08-28T21:06:15.318Z"
   },
   {
    "duration": 11,
    "start_time": "2021-08-28T21:06:15.366Z"
   },
   {
    "duration": 9,
    "start_time": "2021-08-28T21:06:15.385Z"
   },
   {
    "duration": 52,
    "start_time": "2021-08-28T21:06:15.400Z"
   },
   {
    "duration": 20,
    "start_time": "2021-08-28T21:06:15.456Z"
   },
   {
    "duration": 7,
    "start_time": "2021-08-28T21:06:15.479Z"
   },
   {
    "duration": 78,
    "start_time": "2021-08-28T21:06:15.489Z"
   },
   {
    "duration": 14,
    "start_time": "2021-08-28T21:06:15.569Z"
   },
   {
    "duration": 11,
    "start_time": "2021-08-28T21:06:15.585Z"
   },
   {
    "duration": 15,
    "start_time": "2021-08-28T21:06:15.599Z"
   },
   {
    "duration": 50,
    "start_time": "2021-08-28T21:06:15.616Z"
   },
   {
    "duration": 9,
    "start_time": "2021-08-28T21:06:15.668Z"
   },
   {
    "duration": 23,
    "start_time": "2021-08-28T21:06:15.679Z"
   },
   {
    "duration": 118,
    "start_time": "2021-08-28T21:06:15.705Z"
   },
   {
    "duration": 31,
    "start_time": "2021-08-28T21:06:15.825Z"
   },
   {
    "duration": 12,
    "start_time": "2021-08-28T21:06:15.859Z"
   },
   {
    "duration": 91,
    "start_time": "2021-08-28T21:06:15.873Z"
   },
   {
    "duration": 57,
    "start_time": "2021-08-28T21:06:15.967Z"
   },
   {
    "duration": 20,
    "start_time": "2021-08-28T21:06:16.026Z"
   },
   {
    "duration": 43,
    "start_time": "2021-08-28T21:06:16.050Z"
   },
   {
    "duration": 8,
    "start_time": "2021-08-28T21:06:16.095Z"
   },
   {
    "duration": 38,
    "start_time": "2021-08-28T21:06:16.106Z"
   },
   {
    "duration": 47,
    "start_time": "2021-08-28T21:06:16.147Z"
   },
   {
    "duration": 8,
    "start_time": "2021-08-28T21:06:16.197Z"
   },
   {
    "duration": 46,
    "start_time": "2021-08-28T21:06:16.207Z"
   },
   {
    "duration": 12,
    "start_time": "2021-08-28T21:06:16.255Z"
   },
   {
    "duration": 32,
    "start_time": "2021-08-28T21:06:16.269Z"
   },
   {
    "duration": 8,
    "start_time": "2021-08-28T21:06:16.303Z"
   },
   {
    "duration": 67,
    "start_time": "2021-08-28T21:06:16.314Z"
   },
   {
    "duration": 7,
    "start_time": "2021-08-28T21:06:16.383Z"
   },
   {
    "duration": 31,
    "start_time": "2021-08-28T21:06:16.392Z"
   },
   {
    "duration": 24,
    "start_time": "2021-08-28T21:06:16.425Z"
   },
   {
    "duration": 28,
    "start_time": "2021-08-28T21:06:16.453Z"
   },
   {
    "duration": 21,
    "start_time": "2021-08-28T21:06:16.483Z"
   },
   {
    "duration": 62,
    "start_time": "2021-08-28T21:06:16.506Z"
   },
   {
    "duration": 7,
    "start_time": "2021-08-28T21:06:16.570Z"
   },
   {
    "duration": 616,
    "start_time": "2021-08-28T21:06:16.580Z"
   },
   {
    "duration": 43,
    "start_time": "2021-08-28T21:06:17.199Z"
   },
   {
    "duration": 21,
    "start_time": "2021-08-28T21:06:17.246Z"
   },
   {
    "duration": 3,
    "start_time": "2021-08-28T21:06:17.269Z"
   },
   {
    "duration": 20,
    "start_time": "2021-08-28T21:06:17.274Z"
   },
   {
    "duration": 26,
    "start_time": "2021-08-28T21:06:17.297Z"
   },
   {
    "duration": 30,
    "start_time": "2021-08-28T21:06:17.326Z"
   },
   {
    "duration": 15,
    "start_time": "2021-08-28T21:06:17.359Z"
   },
   {
    "duration": 19,
    "start_time": "2021-08-28T21:06:17.376Z"
   },
   {
    "duration": 10,
    "start_time": "2021-08-28T21:06:17.398Z"
   },
   {
    "duration": 11,
    "start_time": "2021-08-28T21:06:17.411Z"
   },
   {
    "duration": 20,
    "start_time": "2021-08-28T21:06:17.443Z"
   },
   {
    "duration": 12,
    "start_time": "2021-08-28T21:06:17.467Z"
   },
   {
    "duration": 12,
    "start_time": "2021-08-28T21:06:17.481Z"
   },
   {
    "duration": 496,
    "start_time": "2021-08-28T21:06:17.496Z"
   },
   {
    "duration": 186,
    "start_time": "2021-08-28T21:06:17.994Z"
   },
   {
    "duration": 186,
    "start_time": "2021-08-28T21:06:18.183Z"
   },
   {
    "duration": 11,
    "start_time": "2021-08-28T21:06:18.371Z"
   },
   {
    "duration": 14,
    "start_time": "2021-08-28T21:06:18.385Z"
   },
   {
    "duration": 296,
    "start_time": "2021-08-28T21:06:18.401Z"
   },
   {
    "duration": 188,
    "start_time": "2021-08-28T21:06:18.700Z"
   },
   {
    "duration": 291,
    "start_time": "2021-08-28T21:06:18.890Z"
   },
   {
    "duration": 11,
    "start_time": "2021-08-28T21:06:19.183Z"
   },
   {
    "duration": 12,
    "start_time": "2021-08-28T21:06:19.196Z"
   },
   {
    "duration": 394,
    "start_time": "2021-08-28T21:06:19.211Z"
   },
   {
    "duration": 180,
    "start_time": "2021-08-28T21:06:19.607Z"
   },
   {
    "duration": 193,
    "start_time": "2021-08-28T21:06:19.789Z"
   },
   {
    "duration": 25,
    "start_time": "2021-08-28T21:06:19.985Z"
   },
   {
    "duration": 40,
    "start_time": "2021-08-28T21:06:20.012Z"
   },
   {
    "duration": 9,
    "start_time": "2021-08-28T21:06:20.055Z"
   },
   {
    "duration": 16,
    "start_time": "2021-08-28T21:06:20.066Z"
   },
   {
    "duration": 15,
    "start_time": "2021-08-28T21:06:20.085Z"
   },
   {
    "duration": 7,
    "start_time": "2021-08-28T21:07:18.359Z"
   },
   {
    "duration": 21,
    "start_time": "2021-08-28T21:22:58.538Z"
   },
   {
    "duration": 7,
    "start_time": "2021-08-28T21:23:00.671Z"
   },
   {
    "duration": 8,
    "start_time": "2021-08-28T21:23:02.322Z"
   },
   {
    "duration": 15,
    "start_time": "2021-08-28T21:23:03.858Z"
   },
   {
    "duration": 6,
    "start_time": "2021-08-28T21:23:05.198Z"
   },
   {
    "duration": 7,
    "start_time": "2021-08-28T21:23:07.702Z"
   },
   {
    "duration": 9,
    "start_time": "2021-08-28T21:23:10.951Z"
   },
   {
    "duration": 587,
    "start_time": "2021-08-28T21:25:11.251Z"
   },
   {
    "duration": 6,
    "start_time": "2021-08-28T21:25:53.690Z"
   },
   {
    "duration": 296,
    "start_time": "2021-08-28T21:26:55.075Z"
   },
   {
    "duration": 5,
    "start_time": "2021-08-28T21:27:06.479Z"
   },
   {
    "duration": 6,
    "start_time": "2021-08-28T21:29:21.731Z"
   },
   {
    "duration": 9,
    "start_time": "2021-08-28T21:33:02.247Z"
   },
   {
    "duration": 8,
    "start_time": "2021-08-28T21:33:03.260Z"
   },
   {
    "duration": 12,
    "start_time": "2021-08-28T21:37:22.692Z"
   },
   {
    "duration": 495,
    "start_time": "2021-08-28T21:38:15.824Z"
   },
   {
    "duration": 8,
    "start_time": "2021-08-28T21:38:35.025Z"
   },
   {
    "duration": 250,
    "start_time": "2021-08-28T21:46:11.338Z"
   },
   {
    "duration": 254,
    "start_time": "2021-08-28T21:46:20.030Z"
   },
   {
    "duration": 154,
    "start_time": "2021-08-28T21:46:28.322Z"
   },
   {
    "duration": 182,
    "start_time": "2021-08-28T21:46:34.117Z"
   },
   {
    "duration": 232,
    "start_time": "2021-08-28T21:46:40.090Z"
   },
   {
    "duration": 175,
    "start_time": "2021-08-28T21:46:56.168Z"
   },
   {
    "duration": 266,
    "start_time": "2021-08-28T21:47:50.026Z"
   },
   {
    "duration": 181,
    "start_time": "2021-08-28T21:47:55.366Z"
   },
   {
    "duration": 164,
    "start_time": "2021-08-28T21:48:01.890Z"
   },
   {
    "duration": 168,
    "start_time": "2021-08-28T21:48:07.582Z"
   },
   {
    "duration": 154,
    "start_time": "2021-08-28T21:48:32.058Z"
   },
   {
    "duration": 171,
    "start_time": "2021-08-28T21:48:35.078Z"
   },
   {
    "duration": 1214,
    "start_time": "2021-08-28T22:37:47.260Z"
   },
   {
    "duration": 498,
    "start_time": "2021-08-28T22:37:48.477Z"
   },
   {
    "duration": 22,
    "start_time": "2021-08-28T22:37:48.978Z"
   },
   {
    "duration": 24,
    "start_time": "2021-08-28T22:37:49.003Z"
   },
   {
    "duration": 24,
    "start_time": "2021-08-28T22:37:49.030Z"
   },
   {
    "duration": 310,
    "start_time": "2021-08-28T22:37:49.056Z"
   },
   {
    "duration": 136,
    "start_time": "2021-08-28T22:37:49.369Z"
   },
   {
    "duration": 56,
    "start_time": "2021-08-28T22:37:49.510Z"
   },
   {
    "duration": 16,
    "start_time": "2021-08-28T22:37:49.569Z"
   },
   {
    "duration": 21,
    "start_time": "2021-08-28T22:37:49.588Z"
   },
   {
    "duration": 21,
    "start_time": "2021-08-28T22:37:49.640Z"
   },
   {
    "duration": 212,
    "start_time": "2021-08-28T22:37:49.664Z"
   },
   {
    "duration": 108,
    "start_time": "2021-08-28T22:37:49.879Z"
   },
   {
    "duration": 55,
    "start_time": "2021-08-28T22:37:49.990Z"
   },
   {
    "duration": 13,
    "start_time": "2021-08-28T22:37:50.047Z"
   },
   {
    "duration": 29,
    "start_time": "2021-08-28T22:37:50.062Z"
   },
   {
    "duration": 23,
    "start_time": "2021-08-28T22:37:50.094Z"
   },
   {
    "duration": 149,
    "start_time": "2021-08-28T22:37:50.119Z"
   },
   {
    "duration": 72,
    "start_time": "2021-08-28T22:37:50.270Z"
   },
   {
    "duration": 20,
    "start_time": "2021-08-28T22:37:50.344Z"
   },
   {
    "duration": 15,
    "start_time": "2021-08-28T22:37:50.366Z"
   },
   {
    "duration": 27,
    "start_time": "2021-08-28T22:37:50.383Z"
   },
   {
    "duration": 25,
    "start_time": "2021-08-28T22:37:50.415Z"
   },
   {
    "duration": 32,
    "start_time": "2021-08-28T22:37:50.444Z"
   },
   {
    "duration": 26,
    "start_time": "2021-08-28T22:37:50.479Z"
   },
   {
    "duration": 55,
    "start_time": "2021-08-28T22:37:50.508Z"
   },
   {
    "duration": 21,
    "start_time": "2021-08-28T22:37:50.566Z"
   },
   {
    "duration": 36,
    "start_time": "2021-08-28T22:37:50.589Z"
   },
   {
    "duration": 23,
    "start_time": "2021-08-28T22:37:50.627Z"
   },
   {
    "duration": 29,
    "start_time": "2021-08-28T22:37:50.652Z"
   },
   {
    "duration": 14,
    "start_time": "2021-08-28T22:37:50.684Z"
   },
   {
    "duration": 35,
    "start_time": "2021-08-28T22:37:50.700Z"
   },
   {
    "duration": 93,
    "start_time": "2021-08-28T22:37:50.741Z"
   },
   {
    "duration": 13,
    "start_time": "2021-08-28T22:37:50.836Z"
   },
   {
    "duration": 22,
    "start_time": "2021-08-28T22:37:50.851Z"
   },
   {
    "duration": 71,
    "start_time": "2021-08-28T22:37:50.875Z"
   },
   {
    "duration": 62,
    "start_time": "2021-08-28T22:37:50.949Z"
   },
   {
    "duration": 7,
    "start_time": "2021-08-28T22:37:51.013Z"
   },
   {
    "duration": 36,
    "start_time": "2021-08-28T22:37:51.042Z"
   },
   {
    "duration": 7,
    "start_time": "2021-08-28T22:37:51.080Z"
   },
   {
    "duration": 21,
    "start_time": "2021-08-28T22:37:51.089Z"
   },
   {
    "duration": 61,
    "start_time": "2021-08-28T22:37:51.112Z"
   },
   {
    "duration": 7,
    "start_time": "2021-08-28T22:37:51.176Z"
   },
   {
    "duration": 36,
    "start_time": "2021-08-28T22:37:51.185Z"
   },
   {
    "duration": 23,
    "start_time": "2021-08-28T22:37:51.223Z"
   },
   {
    "duration": 27,
    "start_time": "2021-08-28T22:37:51.248Z"
   },
   {
    "duration": 19,
    "start_time": "2021-08-28T22:37:51.278Z"
   },
   {
    "duration": 44,
    "start_time": "2021-08-28T22:37:51.299Z"
   },
   {
    "duration": 8,
    "start_time": "2021-08-28T22:37:51.345Z"
   },
   {
    "duration": 43,
    "start_time": "2021-08-28T22:37:51.355Z"
   },
   {
    "duration": 14,
    "start_time": "2021-08-28T22:37:51.400Z"
   },
   {
    "duration": 26,
    "start_time": "2021-08-28T22:37:51.417Z"
   },
   {
    "duration": 24,
    "start_time": "2021-08-28T22:37:51.445Z"
   },
   {
    "duration": 54,
    "start_time": "2021-08-28T22:37:51.472Z"
   },
   {
    "duration": 13,
    "start_time": "2021-08-28T22:37:51.529Z"
   },
   {
    "duration": 654,
    "start_time": "2021-08-28T22:37:51.544Z"
   },
   {
    "duration": 40,
    "start_time": "2021-08-28T22:37:52.201Z"
   },
   {
    "duration": 15,
    "start_time": "2021-08-28T22:37:52.243Z"
   },
   {
    "duration": 16,
    "start_time": "2021-08-28T22:37:52.260Z"
   },
   {
    "duration": 17,
    "start_time": "2021-08-28T22:37:52.279Z"
   },
   {
    "duration": 12,
    "start_time": "2021-08-28T22:37:52.298Z"
   },
   {
    "duration": 20,
    "start_time": "2021-08-28T22:37:52.312Z"
   },
   {
    "duration": 29,
    "start_time": "2021-08-28T22:37:52.334Z"
   },
   {
    "duration": 15,
    "start_time": "2021-08-28T22:37:52.366Z"
   },
   {
    "duration": 12,
    "start_time": "2021-08-28T22:37:52.384Z"
   },
   {
    "duration": 26,
    "start_time": "2021-08-28T22:37:52.398Z"
   },
   {
    "duration": 32,
    "start_time": "2021-08-28T22:37:52.426Z"
   },
   {
    "duration": 13,
    "start_time": "2021-08-28T22:37:52.465Z"
   },
   {
    "duration": 26,
    "start_time": "2021-08-28T22:37:52.480Z"
   },
   {
    "duration": 25,
    "start_time": "2021-08-28T22:37:52.509Z"
   },
   {
    "duration": 22,
    "start_time": "2021-08-28T22:37:52.536Z"
   },
   {
    "duration": 422,
    "start_time": "2021-08-28T22:37:52.561Z"
   },
   {
    "duration": 178,
    "start_time": "2021-08-28T22:37:52.985Z"
   },
   {
    "duration": 170,
    "start_time": "2021-08-28T22:37:53.166Z"
   },
   {
    "duration": 10,
    "start_time": "2021-08-28T22:37:53.340Z"
   },
   {
    "duration": 27,
    "start_time": "2021-08-28T22:37:53.352Z"
   },
   {
    "duration": 258,
    "start_time": "2021-08-28T22:37:53.382Z"
   },
   {
    "duration": 170,
    "start_time": "2021-08-28T22:37:53.643Z"
   },
   {
    "duration": 271,
    "start_time": "2021-08-28T22:37:53.815Z"
   },
   {
    "duration": 10,
    "start_time": "2021-08-28T22:37:54.089Z"
   },
   {
    "duration": 34,
    "start_time": "2021-08-28T22:37:54.101Z"
   },
   {
    "duration": 327,
    "start_time": "2021-08-28T22:37:54.137Z"
   },
   {
    "duration": 164,
    "start_time": "2021-08-28T22:37:54.466Z"
   },
   {
    "duration": 168,
    "start_time": "2021-08-28T22:37:54.632Z"
   },
   {
    "duration": 24,
    "start_time": "2021-08-28T22:37:54.802Z"
   },
   {
    "duration": 28,
    "start_time": "2021-08-28T22:37:54.828Z"
   },
   {
    "duration": 21,
    "start_time": "2021-08-28T22:37:54.858Z"
   },
   {
    "duration": 33,
    "start_time": "2021-08-28T22:37:54.881Z"
   },
   {
    "duration": 14,
    "start_time": "2021-08-28T22:37:54.917Z"
   },
   {
    "duration": 374,
    "start_time": "2022-02-09T21:01:06.899Z"
   },
   {
    "duration": 1482,
    "start_time": "2022-02-09T21:01:19.758Z"
   },
   {
    "duration": 514,
    "start_time": "2022-02-09T21:01:21.243Z"
   },
   {
    "duration": 18,
    "start_time": "2022-02-09T21:01:21.761Z"
   },
   {
    "duration": 30,
    "start_time": "2022-02-09T21:01:21.783Z"
   },
   {
    "duration": 55,
    "start_time": "2022-02-09T21:01:21.817Z"
   },
   {
    "duration": 306,
    "start_time": "2022-02-09T21:01:21.875Z"
   },
   {
    "duration": 151,
    "start_time": "2022-02-09T21:01:22.183Z"
   },
   {
    "duration": 53,
    "start_time": "2022-02-09T21:01:22.338Z"
   },
   {
    "duration": 11,
    "start_time": "2022-02-09T21:01:22.395Z"
   },
   {
    "duration": 33,
    "start_time": "2022-02-09T21:01:22.409Z"
   },
   {
    "duration": 39,
    "start_time": "2022-02-09T21:01:22.444Z"
   },
   {
    "duration": 207,
    "start_time": "2022-02-09T21:01:22.486Z"
   },
   {
    "duration": 109,
    "start_time": "2022-02-09T21:01:22.695Z"
   },
   {
    "duration": 42,
    "start_time": "2022-02-09T21:01:22.807Z"
   },
   {
    "duration": 11,
    "start_time": "2022-02-09T21:01:22.869Z"
   },
   {
    "duration": 21,
    "start_time": "2022-02-09T21:01:22.883Z"
   },
   {
    "duration": 19,
    "start_time": "2022-02-09T21:01:22.907Z"
   },
   {
    "duration": 165,
    "start_time": "2022-02-09T21:01:22.929Z"
   },
   {
    "duration": 75,
    "start_time": "2022-02-09T21:01:23.096Z"
   },
   {
    "duration": 24,
    "start_time": "2022-02-09T21:01:23.174Z"
   },
   {
    "duration": 10,
    "start_time": "2022-02-09T21:01:23.200Z"
   },
   {
    "duration": 9,
    "start_time": "2022-02-09T21:01:23.212Z"
   },
   {
    "duration": 42,
    "start_time": "2022-02-09T21:01:23.227Z"
   },
   {
    "duration": 21,
    "start_time": "2022-02-09T21:01:23.273Z"
   },
   {
    "duration": 9,
    "start_time": "2022-02-09T21:01:23.297Z"
   },
   {
    "duration": 79,
    "start_time": "2022-02-09T21:01:23.308Z"
   },
   {
    "duration": 14,
    "start_time": "2022-02-09T21:01:23.390Z"
   },
   {
    "duration": 10,
    "start_time": "2022-02-09T21:01:23.406Z"
   },
   {
    "duration": 8,
    "start_time": "2022-02-09T21:01:23.418Z"
   },
   {
    "duration": 64,
    "start_time": "2022-02-09T21:01:23.428Z"
   },
   {
    "duration": 8,
    "start_time": "2022-02-09T21:01:23.494Z"
   },
   {
    "duration": 27,
    "start_time": "2022-02-09T21:01:23.505Z"
   },
   {
    "duration": 122,
    "start_time": "2022-02-09T21:01:23.534Z"
   },
   {
    "duration": 22,
    "start_time": "2022-02-09T21:01:23.658Z"
   },
   {
    "duration": 13,
    "start_time": "2022-02-09T21:01:23.682Z"
   },
   {
    "duration": 106,
    "start_time": "2022-02-09T21:01:23.698Z"
   },
   {
    "duration": 81,
    "start_time": "2022-02-09T21:01:23.806Z"
   },
   {
    "duration": 7,
    "start_time": "2022-02-09T21:01:23.890Z"
   },
   {
    "duration": 52,
    "start_time": "2022-02-09T21:01:23.900Z"
   },
   {
    "duration": 8,
    "start_time": "2022-02-09T21:01:23.970Z"
   },
   {
    "duration": 13,
    "start_time": "2022-02-09T21:01:23.980Z"
   },
   {
    "duration": 76,
    "start_time": "2022-02-09T21:01:23.995Z"
   },
   {
    "duration": 9,
    "start_time": "2022-02-09T21:01:24.073Z"
   },
   {
    "duration": 21,
    "start_time": "2022-02-09T21:01:24.084Z"
   },
   {
    "duration": 10,
    "start_time": "2022-02-09T21:01:24.107Z"
   },
   {
    "duration": 58,
    "start_time": "2022-02-09T21:01:24.119Z"
   },
   {
    "duration": 9,
    "start_time": "2022-02-09T21:01:24.180Z"
   },
   {
    "duration": 40,
    "start_time": "2022-02-09T21:01:24.191Z"
   },
   {
    "duration": 52,
    "start_time": "2022-02-09T21:01:24.234Z"
   },
   {
    "duration": 11,
    "start_time": "2022-02-09T21:01:24.290Z"
   },
   {
    "duration": 14,
    "start_time": "2022-02-09T21:01:24.304Z"
   },
   {
    "duration": 56,
    "start_time": "2022-02-09T21:01:24.321Z"
   },
   {
    "duration": 64,
    "start_time": "2022-02-09T21:01:24.381Z"
   },
   {
    "duration": 9,
    "start_time": "2022-02-09T21:01:24.469Z"
   },
   {
    "duration": 634,
    "start_time": "2022-02-09T21:01:24.481Z"
   },
   {
    "duration": 32,
    "start_time": "2022-02-09T21:01:25.118Z"
   },
   {
    "duration": 35,
    "start_time": "2022-02-09T21:01:25.153Z"
   },
   {
    "duration": 8,
    "start_time": "2022-02-09T21:01:25.191Z"
   },
   {
    "duration": 8,
    "start_time": "2022-02-09T21:01:25.201Z"
   },
   {
    "duration": 3,
    "start_time": "2022-02-09T21:01:25.211Z"
   },
   {
    "duration": 7,
    "start_time": "2022-02-09T21:01:25.216Z"
   },
   {
    "duration": 20,
    "start_time": "2022-02-09T21:01:25.270Z"
   },
   {
    "duration": 12,
    "start_time": "2022-02-09T21:01:25.292Z"
   },
   {
    "duration": 9,
    "start_time": "2022-02-09T21:01:25.306Z"
   },
   {
    "duration": 19,
    "start_time": "2022-02-09T21:01:25.317Z"
   },
   {
    "duration": 40,
    "start_time": "2022-02-09T21:01:25.338Z"
   },
   {
    "duration": 7,
    "start_time": "2022-02-09T21:01:25.381Z"
   },
   {
    "duration": 9,
    "start_time": "2022-02-09T21:01:25.396Z"
   },
   {
    "duration": 12,
    "start_time": "2022-02-09T21:01:25.408Z"
   },
   {
    "duration": 55,
    "start_time": "2022-02-09T21:01:25.423Z"
   },
   {
    "duration": 733,
    "start_time": "2022-02-09T21:01:25.481Z"
   },
   {
    "duration": 236,
    "start_time": "2022-02-09T21:01:26.218Z"
   },
   {
    "duration": 236,
    "start_time": "2022-02-09T21:01:26.457Z"
   },
   {
    "duration": 13,
    "start_time": "2022-02-09T21:01:26.696Z"
   },
   {
    "duration": 12,
    "start_time": "2022-02-09T21:01:26.712Z"
   },
   {
    "duration": 400,
    "start_time": "2022-02-09T21:01:26.727Z"
   },
   {
    "duration": 240,
    "start_time": "2022-02-09T21:01:27.130Z"
   },
   {
    "duration": 340,
    "start_time": "2022-02-09T21:01:27.374Z"
   },
   {
    "duration": 10,
    "start_time": "2022-02-09T21:01:27.717Z"
   },
   {
    "duration": 11,
    "start_time": "2022-02-09T21:01:27.730Z"
   },
   {
    "duration": 587,
    "start_time": "2022-02-09T21:01:27.743Z"
   },
   {
    "duration": 229,
    "start_time": "2022-02-09T21:01:28.332Z"
   },
   {
    "duration": 231,
    "start_time": "2022-02-09T21:01:28.563Z"
   },
   {
    "duration": 32,
    "start_time": "2022-02-09T21:01:28.796Z"
   },
   {
    "duration": 43,
    "start_time": "2022-02-09T21:01:28.831Z"
   },
   {
    "duration": 7,
    "start_time": "2022-02-09T21:01:28.876Z"
   },
   {
    "duration": 16,
    "start_time": "2022-02-09T21:01:28.886Z"
   },
   {
    "duration": 7,
    "start_time": "2022-02-09T21:01:28.904Z"
   },
   {
    "duration": 22,
    "start_time": "2022-02-09T21:20:47.729Z"
   },
   {
    "duration": 23,
    "start_time": "2022-02-09T21:20:56.457Z"
   },
   {
    "duration": 9,
    "start_time": "2022-02-09T21:21:04.775Z"
   },
   {
    "duration": 33,
    "start_time": "2022-02-09T21:22:15.295Z"
   },
   {
    "duration": 20,
    "start_time": "2022-02-09T21:22:41.749Z"
   },
   {
    "duration": 20,
    "start_time": "2022-02-09T21:22:49.209Z"
   },
   {
    "duration": 9,
    "start_time": "2022-02-09T21:22:56.200Z"
   },
   {
    "duration": 28,
    "start_time": "2022-02-09T21:23:43.825Z"
   },
   {
    "duration": 9,
    "start_time": "2022-02-09T21:24:19.285Z"
   },
   {
    "duration": 9,
    "start_time": "2022-02-09T21:24:26.713Z"
   },
   {
    "duration": 19,
    "start_time": "2022-02-09T21:24:41.530Z"
   },
   {
    "duration": 8,
    "start_time": "2022-02-09T21:24:44.207Z"
   },
   {
    "duration": 7,
    "start_time": "2022-02-09T21:24:49.773Z"
   },
   {
    "duration": 18,
    "start_time": "2022-02-09T21:25:22.824Z"
   },
   {
    "duration": 8,
    "start_time": "2022-02-09T21:25:24.318Z"
   },
   {
    "duration": 8,
    "start_time": "2022-02-09T21:25:25.545Z"
   },
   {
    "duration": 10,
    "start_time": "2022-02-09T21:25:38.690Z"
   },
   {
    "duration": 12,
    "start_time": "2022-02-09T21:25:41.221Z"
   },
   {
    "duration": 11,
    "start_time": "2022-02-09T21:25:45.974Z"
   },
   {
    "duration": 607,
    "start_time": "2022-02-09T21:26:57.982Z"
   },
   {
    "duration": 1305,
    "start_time": "2022-02-09T21:27:32.987Z"
   },
   {
    "duration": 1080,
    "start_time": "2022-02-09T21:27:39.075Z"
   },
   {
    "duration": 1027,
    "start_time": "2022-02-09T21:27:44.246Z"
   },
   {
    "duration": 1028,
    "start_time": "2022-02-09T21:28:30.890Z"
   },
   {
    "duration": 605,
    "start_time": "2022-02-09T21:28:38.312Z"
   },
   {
    "duration": 691,
    "start_time": "2022-02-09T21:28:55.186Z"
   },
   {
    "duration": 611,
    "start_time": "2022-02-09T21:29:13.322Z"
   },
   {
    "duration": 325,
    "start_time": "2022-02-09T21:34:47.295Z"
   },
   {
    "duration": 6,
    "start_time": "2022-02-09T21:34:55.820Z"
   },
   {
    "duration": 1195,
    "start_time": "2022-02-13T16:31:34.013Z"
   },
   {
    "duration": 417,
    "start_time": "2022-02-13T16:31:35.210Z"
   },
   {
    "duration": 12,
    "start_time": "2022-02-13T16:31:35.629Z"
   },
   {
    "duration": 27,
    "start_time": "2022-02-13T16:31:35.643Z"
   },
   {
    "duration": 22,
    "start_time": "2022-02-13T16:31:35.671Z"
   },
   {
    "duration": 232,
    "start_time": "2022-02-13T16:31:35.694Z"
   },
   {
    "duration": 113,
    "start_time": "2022-02-13T16:31:35.927Z"
   },
   {
    "duration": 36,
    "start_time": "2022-02-13T16:31:36.043Z"
   },
   {
    "duration": 19,
    "start_time": "2022-02-13T16:31:36.081Z"
   },
   {
    "duration": 29,
    "start_time": "2022-02-13T16:31:36.102Z"
   },
   {
    "duration": 27,
    "start_time": "2022-02-13T16:31:36.133Z"
   },
   {
    "duration": 166,
    "start_time": "2022-02-13T16:31:36.162Z"
   },
   {
    "duration": 75,
    "start_time": "2022-02-13T16:31:36.330Z"
   },
   {
    "duration": 33,
    "start_time": "2022-02-13T16:31:36.407Z"
   },
   {
    "duration": 11,
    "start_time": "2022-02-13T16:31:36.442Z"
   },
   {
    "duration": 49,
    "start_time": "2022-02-13T16:31:36.456Z"
   },
   {
    "duration": 15,
    "start_time": "2022-02-13T16:31:36.507Z"
   },
   {
    "duration": 117,
    "start_time": "2022-02-13T16:31:36.523Z"
   },
   {
    "duration": 57,
    "start_time": "2022-02-13T16:31:36.642Z"
   },
   {
    "duration": 19,
    "start_time": "2022-02-13T16:31:36.700Z"
   },
   {
    "duration": 7,
    "start_time": "2022-02-13T16:31:36.721Z"
   },
   {
    "duration": 10,
    "start_time": "2022-02-13T16:31:36.730Z"
   },
   {
    "duration": 8,
    "start_time": "2022-02-13T16:31:36.744Z"
   },
   {
    "duration": 45,
    "start_time": "2022-02-13T16:31:36.755Z"
   },
   {
    "duration": 6,
    "start_time": "2022-02-13T16:31:36.801Z"
   },
   {
    "duration": 38,
    "start_time": "2022-02-13T16:31:36.808Z"
   },
   {
    "duration": 10,
    "start_time": "2022-02-13T16:31:36.847Z"
   },
   {
    "duration": 10,
    "start_time": "2022-02-13T16:31:36.858Z"
   },
   {
    "duration": 32,
    "start_time": "2022-02-13T16:31:36.869Z"
   },
   {
    "duration": 20,
    "start_time": "2022-02-13T16:31:36.903Z"
   },
   {
    "duration": 11,
    "start_time": "2022-02-13T16:31:36.925Z"
   },
   {
    "duration": 23,
    "start_time": "2022-02-13T16:31:36.938Z"
   },
   {
    "duration": 96,
    "start_time": "2022-02-13T16:31:36.964Z"
   },
   {
    "duration": 14,
    "start_time": "2022-02-13T16:31:37.062Z"
   },
   {
    "duration": 29,
    "start_time": "2022-02-13T16:31:37.078Z"
   },
   {
    "duration": 53,
    "start_time": "2022-02-13T16:31:37.109Z"
   },
   {
    "duration": 81,
    "start_time": "2022-02-13T16:31:37.164Z"
   },
   {
    "duration": 5,
    "start_time": "2022-02-13T16:31:37.247Z"
   },
   {
    "duration": 50,
    "start_time": "2022-02-13T16:31:37.254Z"
   },
   {
    "duration": 6,
    "start_time": "2022-02-13T16:31:37.305Z"
   },
   {
    "duration": 12,
    "start_time": "2022-02-13T16:31:37.312Z"
   },
   {
    "duration": 42,
    "start_time": "2022-02-13T16:31:37.326Z"
   },
   {
    "duration": 33,
    "start_time": "2022-02-13T16:31:37.369Z"
   },
   {
    "duration": 18,
    "start_time": "2022-02-13T16:31:37.405Z"
   },
   {
    "duration": 7,
    "start_time": "2022-02-13T16:31:37.424Z"
   },
   {
    "duration": 17,
    "start_time": "2022-02-13T16:31:37.433Z"
   },
   {
    "duration": 7,
    "start_time": "2022-02-13T16:31:37.452Z"
   },
   {
    "duration": 55,
    "start_time": "2022-02-13T16:31:37.460Z"
   },
   {
    "duration": 17,
    "start_time": "2022-02-13T16:31:37.517Z"
   },
   {
    "duration": 7,
    "start_time": "2022-02-13T16:31:37.535Z"
   },
   {
    "duration": 15,
    "start_time": "2022-02-13T16:31:37.544Z"
   },
   {
    "duration": 38,
    "start_time": "2022-02-13T16:31:37.561Z"
   },
   {
    "duration": 43,
    "start_time": "2022-02-13T16:31:37.601Z"
   },
   {
    "duration": 5,
    "start_time": "2022-02-13T16:31:37.646Z"
   },
   {
    "duration": 347,
    "start_time": "2022-02-13T16:31:37.653Z"
   },
   {
    "duration": 28,
    "start_time": "2022-02-13T16:31:38.002Z"
   },
   {
    "duration": 18,
    "start_time": "2022-02-13T16:31:38.032Z"
   },
   {
    "duration": 10,
    "start_time": "2022-02-13T16:31:38.052Z"
   },
   {
    "duration": 34,
    "start_time": "2022-02-13T16:31:38.064Z"
   },
   {
    "duration": 21,
    "start_time": "2022-02-13T16:31:38.100Z"
   },
   {
    "duration": 8,
    "start_time": "2022-02-13T16:31:38.123Z"
   },
   {
    "duration": 9,
    "start_time": "2022-02-13T16:31:38.133Z"
   },
   {
    "duration": 16,
    "start_time": "2022-02-13T16:31:38.144Z"
   },
   {
    "duration": 21,
    "start_time": "2022-02-13T16:31:38.161Z"
   },
   {
    "duration": 19,
    "start_time": "2022-02-13T16:31:38.184Z"
   },
   {
    "duration": 16,
    "start_time": "2022-02-13T16:31:38.205Z"
   },
   {
    "duration": 12,
    "start_time": "2022-02-13T16:31:38.223Z"
   },
   {
    "duration": 8,
    "start_time": "2022-02-13T16:31:38.240Z"
   },
   {
    "duration": 475,
    "start_time": "2022-02-13T16:31:38.250Z"
   },
   {
    "duration": 175,
    "start_time": "2022-02-13T16:31:38.726Z"
   },
   {
    "duration": 179,
    "start_time": "2022-02-13T16:31:38.904Z"
   },
   {
    "duration": 15,
    "start_time": "2022-02-13T16:31:39.085Z"
   },
   {
    "duration": 8,
    "start_time": "2022-02-13T16:31:39.101Z"
   },
   {
    "duration": 283,
    "start_time": "2022-02-13T16:31:39.111Z"
   },
   {
    "duration": 170,
    "start_time": "2022-02-13T16:31:39.395Z"
   },
   {
    "duration": 245,
    "start_time": "2022-02-13T16:31:39.567Z"
   },
   {
    "duration": 8,
    "start_time": "2022-02-13T16:31:39.814Z"
   },
   {
    "duration": 16,
    "start_time": "2022-02-13T16:31:39.823Z"
   },
   {
    "duration": 361,
    "start_time": "2022-02-13T16:31:39.841Z"
   },
   {
    "duration": 159,
    "start_time": "2022-02-13T16:31:40.203Z"
   },
   {
    "duration": 169,
    "start_time": "2022-02-13T16:31:40.363Z"
   },
   {
    "duration": 22,
    "start_time": "2022-02-13T16:31:40.533Z"
   },
   {
    "duration": 43,
    "start_time": "2022-02-13T16:31:40.557Z"
   },
   {
    "duration": 31,
    "start_time": "2022-02-13T16:31:40.601Z"
   },
   {
    "duration": 33,
    "start_time": "2022-02-13T16:31:40.633Z"
   },
   {
    "duration": 38,
    "start_time": "2022-02-13T16:31:40.668Z"
   },
   {
    "duration": 42,
    "start_time": "2022-02-13T17:03:13.026Z"
   },
   {
    "duration": 48,
    "start_time": "2022-02-13T17:03:32.442Z"
   },
   {
    "duration": 57,
    "start_time": "2022-02-13T17:04:14.390Z"
   },
   {
    "duration": 36,
    "start_time": "2022-02-13T17:14:58.963Z"
   },
   {
    "duration": 4,
    "start_time": "2022-02-13T17:23:40.479Z"
   },
   {
    "duration": 45,
    "start_time": "2022-02-13T17:23:42.396Z"
   },
   {
    "duration": 83,
    "start_time": "2022-02-13T17:24:12.383Z"
   },
   {
    "duration": 131,
    "start_time": "2022-02-13T17:37:08.154Z"
   },
   {
    "duration": 176,
    "start_time": "2022-02-13T17:38:12.181Z"
   },
   {
    "duration": 184,
    "start_time": "2022-02-13T17:41:24.858Z"
   },
   {
    "duration": 516,
    "start_time": "2022-02-13T17:41:33.610Z"
   },
   {
    "duration": 190,
    "start_time": "2022-02-13T17:41:42.401Z"
   },
   {
    "duration": 226,
    "start_time": "2022-02-13T17:44:19.078Z"
   },
   {
    "duration": 194,
    "start_time": "2022-02-13T17:48:16.012Z"
   },
   {
    "duration": 7,
    "start_time": "2022-02-13T17:48:48.535Z"
   },
   {
    "duration": 14,
    "start_time": "2022-02-13T17:48:52.859Z"
   },
   {
    "duration": 23,
    "start_time": "2022-02-13T17:49:11.403Z"
   },
   {
    "duration": 81,
    "start_time": "2022-02-13T17:49:40.008Z"
   },
   {
    "duration": 6,
    "start_time": "2022-02-13T17:49:55.040Z"
   },
   {
    "duration": 13,
    "start_time": "2022-02-13T17:49:58.776Z"
   },
   {
    "duration": 24,
    "start_time": "2022-02-13T17:50:08.367Z"
   },
   {
    "duration": 423,
    "start_time": "2022-02-13T18:15:07.300Z"
   },
   {
    "duration": 217,
    "start_time": "2022-02-13T18:16:03.137Z"
   },
   {
    "duration": 14,
    "start_time": "2022-02-13T18:16:26.884Z"
   },
   {
    "duration": 21,
    "start_time": "2022-02-13T18:16:45.949Z"
   },
   {
    "duration": 223,
    "start_time": "2022-02-13T18:17:33.920Z"
   },
   {
    "duration": 66,
    "start_time": "2022-02-13T18:18:02.177Z"
   },
   {
    "duration": 12,
    "start_time": "2022-02-13T18:18:12.033Z"
   },
   {
    "duration": 24,
    "start_time": "2022-02-13T18:18:38.656Z"
   },
   {
    "duration": 231,
    "start_time": "2022-02-13T19:00:34.085Z"
   },
   {
    "duration": 12,
    "start_time": "2022-02-13T19:00:55.265Z"
   },
   {
    "duration": 281,
    "start_time": "2022-02-13T19:04:31.353Z"
   },
   {
    "duration": 219,
    "start_time": "2022-02-13T19:07:31.854Z"
   },
   {
    "duration": 12,
    "start_time": "2022-02-13T19:07:42.550Z"
   },
   {
    "duration": 54,
    "start_time": "2022-02-13T19:09:40.466Z"
   },
   {
    "duration": 13,
    "start_time": "2022-02-13T19:09:49.322Z"
   },
   {
    "duration": 6,
    "start_time": "2022-02-13T19:15:36.174Z"
   },
   {
    "duration": 6271,
    "start_time": "2022-02-13T19:16:49.115Z"
   },
   {
    "duration": 2,
    "start_time": "2022-02-13T19:17:22.455Z"
   },
   {
    "duration": 722,
    "start_time": "2022-02-13T19:17:23.871Z"
   },
   {
    "duration": 8,
    "start_time": "2022-02-13T19:17:24.595Z"
   },
   {
    "duration": 24,
    "start_time": "2022-02-13T19:17:24.622Z"
   },
   {
    "duration": 23,
    "start_time": "2022-02-13T19:17:24.939Z"
   },
   {
    "duration": 215,
    "start_time": "2022-02-13T19:17:25.919Z"
   },
   {
    "duration": 99,
    "start_time": "2022-02-13T19:17:26.136Z"
   },
   {
    "duration": 34,
    "start_time": "2022-02-13T19:17:26.238Z"
   },
   {
    "duration": 27,
    "start_time": "2022-02-13T19:17:26.274Z"
   },
   {
    "duration": 18,
    "start_time": "2022-02-13T19:17:26.331Z"
   },
   {
    "duration": 31,
    "start_time": "2022-02-13T19:17:26.543Z"
   },
   {
    "duration": 165,
    "start_time": "2022-02-13T19:17:26.779Z"
   },
   {
    "duration": 54,
    "start_time": "2022-02-13T19:17:27.039Z"
   },
   {
    "duration": 34,
    "start_time": "2022-02-13T19:17:27.255Z"
   },
   {
    "duration": 8,
    "start_time": "2022-02-13T19:17:27.711Z"
   },
   {
    "duration": 15,
    "start_time": "2022-02-13T19:17:27.935Z"
   },
   {
    "duration": 15,
    "start_time": "2022-02-13T19:17:28.130Z"
   },
   {
    "duration": 100,
    "start_time": "2022-02-13T19:17:28.347Z"
   },
   {
    "duration": 44,
    "start_time": "2022-02-13T19:17:28.595Z"
   },
   {
    "duration": 18,
    "start_time": "2022-02-13T19:17:28.811Z"
   },
   {
    "duration": 9,
    "start_time": "2022-02-13T19:17:29.250Z"
   },
   {
    "duration": 8,
    "start_time": "2022-02-13T19:17:29.485Z"
   },
   {
    "duration": 6,
    "start_time": "2022-02-13T19:17:29.707Z"
   },
   {
    "duration": 15,
    "start_time": "2022-02-13T19:17:29.963Z"
   },
   {
    "duration": 7,
    "start_time": "2022-02-13T19:17:30.171Z"
   },
   {
    "duration": 33,
    "start_time": "2022-02-13T19:17:30.439Z"
   },
   {
    "duration": 10,
    "start_time": "2022-02-13T19:17:30.911Z"
   },
   {
    "duration": 7,
    "start_time": "2022-02-13T19:17:31.155Z"
   },
   {
    "duration": 8,
    "start_time": "2022-02-13T19:17:31.399Z"
   },
   {
    "duration": 24,
    "start_time": "2022-02-13T19:17:31.643Z"
   },
   {
    "duration": 9,
    "start_time": "2022-02-13T19:17:31.868Z"
   },
   {
    "duration": 27,
    "start_time": "2022-02-13T19:17:32.112Z"
   },
   {
    "duration": 65,
    "start_time": "2022-02-13T19:17:34.579Z"
   },
   {
    "duration": 10,
    "start_time": "2022-02-13T19:17:35.247Z"
   },
   {
    "duration": 9,
    "start_time": "2022-02-13T19:17:35.495Z"
   },
   {
    "duration": 78,
    "start_time": "2022-02-13T19:17:35.983Z"
   },
   {
    "duration": 51,
    "start_time": "2022-02-13T19:17:36.886Z"
   },
   {
    "duration": 7,
    "start_time": "2022-02-13T19:17:37.151Z"
   },
   {
    "duration": 32,
    "start_time": "2022-02-13T19:17:38.122Z"
   },
   {
    "duration": 5,
    "start_time": "2022-02-13T19:17:38.156Z"
   },
   {
    "duration": 6,
    "start_time": "2022-02-13T19:17:38.727Z"
   },
   {
    "duration": 39,
    "start_time": "2022-02-13T19:17:38.871Z"
   },
   {
    "duration": 7,
    "start_time": "2022-02-13T19:17:39.135Z"
   },
   {
    "duration": 16,
    "start_time": "2022-02-13T19:17:40.703Z"
   },
   {
    "duration": 8,
    "start_time": "2022-02-13T19:17:41.043Z"
   },
   {
    "duration": 17,
    "start_time": "2022-02-13T19:17:42.155Z"
   },
   {
    "duration": 8,
    "start_time": "2022-02-13T19:17:42.463Z"
   },
   {
    "duration": 34,
    "start_time": "2022-02-13T19:17:44.415Z"
   },
   {
    "duration": 18,
    "start_time": "2022-02-13T19:17:45.791Z"
   },
   {
    "duration": 8,
    "start_time": "2022-02-13T19:17:46.531Z"
   },
   {
    "duration": 10,
    "start_time": "2022-02-13T19:17:49.931Z"
   },
   {
    "duration": 10,
    "start_time": "2022-02-13T19:17:50.267Z"
   },
   {
    "duration": 74,
    "start_time": "2022-02-13T19:17:51.675Z"
   },
   {
    "duration": 13,
    "start_time": "2022-02-13T19:18:05.839Z"
   },
   {
    "duration": 67,
    "start_time": "2022-02-13T19:18:15.655Z"
   },
   {
    "duration": 13,
    "start_time": "2022-02-13T19:18:30.059Z"
   },
   {
    "duration": 56,
    "start_time": "2022-02-13T19:19:41.039Z"
   },
   {
    "duration": 6,
    "start_time": "2022-02-13T19:19:47.391Z"
   },
   {
    "duration": 13,
    "start_time": "2022-02-13T19:19:49.391Z"
   },
   {
    "duration": 24,
    "start_time": "2022-02-13T19:19:54.975Z"
   },
   {
    "duration": 14,
    "start_time": "2022-02-13T19:19:59.876Z"
   },
   {
    "duration": 7,
    "start_time": "2022-02-13T19:20:05.047Z"
   },
   {
    "duration": 8,
    "start_time": "2022-02-13T19:20:09.147Z"
   },
   {
    "duration": 14,
    "start_time": "2022-02-13T19:20:16.063Z"
   },
   {
    "duration": 6,
    "start_time": "2022-02-13T19:20:16.623Z"
   },
   {
    "duration": 5,
    "start_time": "2022-02-13T19:20:18.440Z"
   },
   {
    "duration": 13,
    "start_time": "2022-02-13T19:20:22.863Z"
   },
   {
    "duration": 5,
    "start_time": "2022-02-13T19:20:23.816Z"
   },
   {
    "duration": 5,
    "start_time": "2022-02-13T19:20:25.402Z"
   },
   {
    "duration": 7,
    "start_time": "2022-02-13T19:20:25.771Z"
   },
   {
    "duration": 9,
    "start_time": "2022-02-13T19:20:29.471Z"
   },
   {
    "duration": 9,
    "start_time": "2022-02-13T19:20:29.905Z"
   },
   {
    "duration": 410,
    "start_time": "2022-02-13T19:20:31.676Z"
   },
   {
    "duration": 151,
    "start_time": "2022-02-13T19:20:40.476Z"
   },
   {
    "duration": 155,
    "start_time": "2022-02-13T19:20:44.575Z"
   },
   {
    "duration": 8,
    "start_time": "2022-02-13T19:21:03.972Z"
   },
   {
    "duration": 264,
    "start_time": "2022-02-13T19:21:08.987Z"
   },
   {
    "duration": 163,
    "start_time": "2022-02-13T19:21:16.045Z"
   },
   {
    "duration": 162,
    "start_time": "2022-02-13T19:21:24.019Z"
   },
   {
    "duration": 50,
    "start_time": "2022-02-13T19:21:36.747Z"
   },
   {
    "duration": 13,
    "start_time": "2022-02-13T19:21:51.799Z"
   },
   {
    "duration": 37,
    "start_time": "2022-02-13T19:21:53.139Z"
   },
   {
    "duration": 14,
    "start_time": "2022-02-13T19:21:54.740Z"
   },
   {
    "duration": 8,
    "start_time": "2022-02-13T19:21:55.996Z"
   },
   {
    "duration": 8,
    "start_time": "2022-02-13T19:21:57.100Z"
   },
   {
    "duration": 22,
    "start_time": "2022-02-13T19:21:57.768Z"
   },
   {
    "duration": 7,
    "start_time": "2022-02-13T19:21:59.528Z"
   },
   {
    "duration": 6,
    "start_time": "2022-02-13T19:22:01.384Z"
   },
   {
    "duration": 15,
    "start_time": "2022-02-13T19:22:02.411Z"
   },
   {
    "duration": 7,
    "start_time": "2022-02-13T19:22:03.800Z"
   },
   {
    "duration": 7,
    "start_time": "2022-02-13T19:22:11.512Z"
   },
   {
    "duration": 9,
    "start_time": "2022-02-13T19:22:12.376Z"
   },
   {
    "duration": 9,
    "start_time": "2022-02-13T19:22:13.511Z"
   },
   {
    "duration": 415,
    "start_time": "2022-02-13T19:22:17.499Z"
   },
   {
    "duration": 1139,
    "start_time": "2022-02-13T19:23:03.864Z"
   },
   {
    "duration": 456,
    "start_time": "2022-02-13T19:23:05.005Z"
   },
   {
    "duration": 12,
    "start_time": "2022-02-13T19:23:05.464Z"
   },
   {
    "duration": 26,
    "start_time": "2022-02-13T19:23:05.478Z"
   },
   {
    "duration": 22,
    "start_time": "2022-02-13T19:23:05.506Z"
   },
   {
    "duration": 254,
    "start_time": "2022-02-13T19:23:05.530Z"
   },
   {
    "duration": 105,
    "start_time": "2022-02-13T19:23:05.786Z"
   },
   {
    "duration": 36,
    "start_time": "2022-02-13T19:23:05.899Z"
   },
   {
    "duration": 8,
    "start_time": "2022-02-13T19:23:05.937Z"
   },
   {
    "duration": 25,
    "start_time": "2022-02-13T19:23:05.947Z"
   },
   {
    "duration": 39,
    "start_time": "2022-02-13T19:23:05.973Z"
   },
   {
    "duration": 155,
    "start_time": "2022-02-13T19:23:06.014Z"
   },
   {
    "duration": 78,
    "start_time": "2022-02-13T19:23:06.171Z"
   },
   {
    "duration": 32,
    "start_time": "2022-02-13T19:23:06.251Z"
   },
   {
    "duration": 20,
    "start_time": "2022-02-13T19:23:06.284Z"
   },
   {
    "duration": 15,
    "start_time": "2022-02-13T19:23:06.305Z"
   },
   {
    "duration": 16,
    "start_time": "2022-02-13T19:23:06.322Z"
   },
   {
    "duration": 132,
    "start_time": "2022-02-13T19:23:06.340Z"
   },
   {
    "duration": 57,
    "start_time": "2022-02-13T19:23:06.474Z"
   },
   {
    "duration": 17,
    "start_time": "2022-02-13T19:23:06.532Z"
   },
   {
    "duration": 7,
    "start_time": "2022-02-13T19:23:06.551Z"
   },
   {
    "duration": 8,
    "start_time": "2022-02-13T19:23:06.560Z"
   },
   {
    "duration": 31,
    "start_time": "2022-02-13T19:23:06.571Z"
   },
   {
    "duration": 16,
    "start_time": "2022-02-13T19:23:06.605Z"
   },
   {
    "duration": 6,
    "start_time": "2022-02-13T19:23:06.623Z"
   },
   {
    "duration": 31,
    "start_time": "2022-02-13T19:23:06.631Z"
   },
   {
    "duration": 41,
    "start_time": "2022-02-13T19:23:06.664Z"
   },
   {
    "duration": 10,
    "start_time": "2022-02-13T19:23:06.707Z"
   },
   {
    "duration": 9,
    "start_time": "2022-02-13T19:23:06.719Z"
   },
   {
    "duration": 24,
    "start_time": "2022-02-13T19:23:06.730Z"
   },
   {
    "duration": 6,
    "start_time": "2022-02-13T19:23:06.755Z"
   },
   {
    "duration": 47,
    "start_time": "2022-02-13T19:23:06.763Z"
   },
   {
    "duration": 63,
    "start_time": "2022-02-13T19:23:06.812Z"
   },
   {
    "duration": 29,
    "start_time": "2022-02-13T19:23:06.877Z"
   },
   {
    "duration": 10,
    "start_time": "2022-02-13T19:23:06.907Z"
   },
   {
    "duration": 52,
    "start_time": "2022-02-13T19:23:06.919Z"
   },
   {
    "duration": 73,
    "start_time": "2022-02-13T19:23:06.973Z"
   },
   {
    "duration": 7,
    "start_time": "2022-02-13T19:23:07.048Z"
   },
   {
    "duration": 51,
    "start_time": "2022-02-13T19:23:07.057Z"
   },
   {
    "duration": 5,
    "start_time": "2022-02-13T19:23:07.110Z"
   },
   {
    "duration": 9,
    "start_time": "2022-02-13T19:23:07.117Z"
   },
   {
    "duration": 40,
    "start_time": "2022-02-13T19:23:07.127Z"
   },
   {
    "duration": 5,
    "start_time": "2022-02-13T19:23:07.168Z"
   },
   {
    "duration": 36,
    "start_time": "2022-02-13T19:23:07.175Z"
   },
   {
    "duration": 6,
    "start_time": "2022-02-13T19:23:07.213Z"
   },
   {
    "duration": 15,
    "start_time": "2022-02-13T19:23:07.221Z"
   },
   {
    "duration": 7,
    "start_time": "2022-02-13T19:23:07.238Z"
   },
   {
    "duration": 73,
    "start_time": "2022-02-13T19:23:07.247Z"
   },
   {
    "duration": 18,
    "start_time": "2022-02-13T19:23:07.322Z"
   },
   {
    "duration": 7,
    "start_time": "2022-02-13T19:23:07.342Z"
   },
   {
    "duration": 10,
    "start_time": "2022-02-13T19:23:07.350Z"
   },
   {
    "duration": 38,
    "start_time": "2022-02-13T19:23:07.362Z"
   },
   {
    "duration": 59,
    "start_time": "2022-02-13T19:23:07.402Z"
   },
   {
    "duration": 6,
    "start_time": "2022-02-13T19:23:07.463Z"
   },
   {
    "duration": 344,
    "start_time": "2022-02-13T19:23:07.471Z"
   },
   {
    "duration": 27,
    "start_time": "2022-02-13T19:23:07.817Z"
   },
   {
    "duration": 18,
    "start_time": "2022-02-13T19:23:07.847Z"
   },
   {
    "duration": 26,
    "start_time": "2022-02-13T19:23:07.866Z"
   },
   {
    "duration": 31,
    "start_time": "2022-02-13T19:23:07.894Z"
   },
   {
    "duration": 20,
    "start_time": "2022-02-13T19:23:07.927Z"
   },
   {
    "duration": 19,
    "start_time": "2022-02-13T19:23:07.949Z"
   },
   {
    "duration": 31,
    "start_time": "2022-02-13T19:23:07.970Z"
   },
   {
    "duration": 53,
    "start_time": "2022-02-13T19:23:08.003Z"
   },
   {
    "duration": 11,
    "start_time": "2022-02-13T19:23:08.058Z"
   },
   {
    "duration": 22,
    "start_time": "2022-02-13T19:23:08.071Z"
   },
   {
    "duration": 20,
    "start_time": "2022-02-13T19:23:08.094Z"
   },
   {
    "duration": 23,
    "start_time": "2022-02-13T19:23:08.115Z"
   },
   {
    "duration": 17,
    "start_time": "2022-02-13T19:23:08.143Z"
   },
   {
    "duration": 450,
    "start_time": "2022-02-13T19:23:08.162Z"
   },
   {
    "duration": 168,
    "start_time": "2022-02-13T19:23:08.614Z"
   },
   {
    "duration": 160,
    "start_time": "2022-02-13T19:23:08.785Z"
   },
   {
    "duration": 8,
    "start_time": "2022-02-13T19:23:08.946Z"
   },
   {
    "duration": 20,
    "start_time": "2022-02-13T19:23:08.956Z"
   },
   {
    "duration": 266,
    "start_time": "2022-02-13T19:23:08.978Z"
   },
   {
    "duration": 164,
    "start_time": "2022-02-13T19:23:09.245Z"
   },
   {
    "duration": 249,
    "start_time": "2022-02-13T19:23:09.411Z"
   },
   {
    "duration": 8,
    "start_time": "2022-02-13T19:23:09.662Z"
   },
   {
    "duration": 24,
    "start_time": "2022-02-13T19:23:09.672Z"
   },
   {
    "duration": 348,
    "start_time": "2022-02-13T19:23:09.698Z"
   },
   {
    "duration": 171,
    "start_time": "2022-02-13T19:23:10.048Z"
   },
   {
    "duration": 164,
    "start_time": "2022-02-13T19:23:10.220Z"
   },
   {
    "duration": 28,
    "start_time": "2022-02-13T19:23:10.386Z"
   },
   {
    "duration": 17,
    "start_time": "2022-02-13T19:23:10.417Z"
   },
   {
    "duration": 16,
    "start_time": "2022-02-13T19:23:10.436Z"
   },
   {
    "duration": 49,
    "start_time": "2022-02-13T19:23:10.454Z"
   },
   {
    "duration": 23,
    "start_time": "2022-02-13T19:23:10.505Z"
   },
   {
    "duration": 414,
    "start_time": "2022-02-13T19:27:16.020Z"
   },
   {
    "duration": 405,
    "start_time": "2022-02-13T19:27:50.485Z"
   },
   {
    "duration": 395,
    "start_time": "2022-02-13T19:28:05.644Z"
   },
   {
    "duration": 462,
    "start_time": "2022-02-13T19:28:43.833Z"
   },
   {
    "duration": 329,
    "start_time": "2022-02-13T19:29:03.572Z"
   },
   {
    "duration": 283,
    "start_time": "2022-02-13T19:29:12.205Z"
   },
   {
    "duration": 14,
    "start_time": "2022-02-13T19:29:50.525Z"
   },
   {
    "duration": 13,
    "start_time": "2022-02-13T19:30:06.382Z"
   },
   {
    "duration": 287,
    "start_time": "2022-02-13T19:30:23.017Z"
   },
   {
    "duration": 37,
    "start_time": "2022-02-13T19:31:17.521Z"
   },
   {
    "duration": 25,
    "start_time": "2022-02-13T19:31:30.077Z"
   },
   {
    "duration": 273,
    "start_time": "2022-02-13T19:32:31.965Z"
   },
   {
    "duration": -538,
    "start_time": "2022-02-13T19:35:57.897Z"
   },
   {
    "duration": 34,
    "start_time": "2022-02-13T19:36:31.447Z"
   },
   {
    "duration": 410,
    "start_time": "2022-02-13T19:36:31.748Z"
   },
   {
    "duration": 399,
    "start_time": "2022-02-13T19:37:07.514Z"
   },
   {
    "duration": 386,
    "start_time": "2022-02-13T19:37:15.994Z"
   },
   {
    "duration": 279,
    "start_time": "2022-02-13T19:37:40.254Z"
   },
   {
    "duration": 306,
    "start_time": "2022-02-13T19:42:08.998Z"
   },
   {
    "duration": 270,
    "start_time": "2022-02-13T19:42:49.762Z"
   },
   {
    "duration": 273,
    "start_time": "2022-02-13T19:43:11.953Z"
   },
   {
    "duration": 226,
    "start_time": "2022-02-13T19:43:24.755Z"
   },
   {
    "duration": 381,
    "start_time": "2022-02-13T19:43:42.519Z"
   },
   {
    "duration": 405,
    "start_time": "2022-02-13T19:44:45.207Z"
   },
   {
    "duration": 435,
    "start_time": "2022-02-13T20:04:17.662Z"
   },
   {
    "duration": 280,
    "start_time": "2022-02-13T20:12:16.596Z"
   },
   {
    "duration": 363,
    "start_time": "2022-02-13T20:12:42.237Z"
   },
   {
    "duration": 1122,
    "start_time": "2022-02-13T20:13:39.265Z"
   },
   {
    "duration": 454,
    "start_time": "2022-02-13T20:13:40.388Z"
   },
   {
    "duration": 11,
    "start_time": "2022-02-13T20:13:40.844Z"
   },
   {
    "duration": 24,
    "start_time": "2022-02-13T20:13:40.857Z"
   },
   {
    "duration": 21,
    "start_time": "2022-02-13T20:13:40.883Z"
   },
   {
    "duration": 244,
    "start_time": "2022-02-13T20:13:40.906Z"
   },
   {
    "duration": 113,
    "start_time": "2022-02-13T20:13:41.152Z"
   },
   {
    "duration": 49,
    "start_time": "2022-02-13T20:13:41.268Z"
   },
   {
    "duration": 9,
    "start_time": "2022-02-13T20:13:41.319Z"
   },
   {
    "duration": 18,
    "start_time": "2022-02-13T20:13:41.330Z"
   },
   {
    "duration": 17,
    "start_time": "2022-02-13T20:13:41.350Z"
   },
   {
    "duration": 148,
    "start_time": "2022-02-13T20:13:41.399Z"
   },
   {
    "duration": 83,
    "start_time": "2022-02-13T20:13:41.550Z"
   },
   {
    "duration": 33,
    "start_time": "2022-02-13T20:13:41.635Z"
   },
   {
    "duration": 8,
    "start_time": "2022-02-13T20:13:41.670Z"
   },
   {
    "duration": 17,
    "start_time": "2022-02-13T20:13:41.699Z"
   },
   {
    "duration": 15,
    "start_time": "2022-02-13T20:13:41.718Z"
   },
   {
    "duration": 133,
    "start_time": "2022-02-13T20:13:41.735Z"
   },
   {
    "duration": 61,
    "start_time": "2022-02-13T20:13:41.871Z"
   },
   {
    "duration": 17,
    "start_time": "2022-02-13T20:13:41.934Z"
   },
   {
    "duration": 7,
    "start_time": "2022-02-13T20:13:41.953Z"
   },
   {
    "duration": 8,
    "start_time": "2022-02-13T20:13:41.962Z"
   },
   {
    "duration": 29,
    "start_time": "2022-02-13T20:13:41.973Z"
   },
   {
    "duration": 17,
    "start_time": "2022-02-13T20:13:42.005Z"
   },
   {
    "duration": 5,
    "start_time": "2022-02-13T20:13:42.024Z"
   },
   {
    "duration": 32,
    "start_time": "2022-02-13T20:13:42.032Z"
   },
   {
    "duration": 39,
    "start_time": "2022-02-13T20:13:42.066Z"
   },
   {
    "duration": 7,
    "start_time": "2022-02-13T20:13:42.107Z"
   },
   {
    "duration": 7,
    "start_time": "2022-02-13T20:13:42.116Z"
   },
   {
    "duration": 21,
    "start_time": "2022-02-13T20:13:42.125Z"
   },
   {
    "duration": 7,
    "start_time": "2022-02-13T20:13:42.148Z"
   },
   {
    "duration": 55,
    "start_time": "2022-02-13T20:13:42.157Z"
   },
   {
    "duration": 68,
    "start_time": "2022-02-13T20:13:42.214Z"
   },
   {
    "duration": 21,
    "start_time": "2022-02-13T20:13:42.283Z"
   },
   {
    "duration": 9,
    "start_time": "2022-02-13T20:13:42.306Z"
   },
   {
    "duration": 82,
    "start_time": "2022-02-13T20:13:42.316Z"
   },
   {
    "duration": 55,
    "start_time": "2022-02-13T20:13:42.400Z"
   },
   {
    "duration": 7,
    "start_time": "2022-02-13T20:13:42.458Z"
   },
   {
    "duration": 56,
    "start_time": "2022-02-13T20:13:42.468Z"
   },
   {
    "duration": 7,
    "start_time": "2022-02-13T20:13:42.526Z"
   },
   {
    "duration": 22,
    "start_time": "2022-02-13T20:13:42.535Z"
   },
   {
    "duration": 48,
    "start_time": "2022-02-13T20:13:42.559Z"
   },
   {
    "duration": 6,
    "start_time": "2022-02-13T20:13:42.608Z"
   },
   {
    "duration": 18,
    "start_time": "2022-02-13T20:13:42.616Z"
   },
   {
    "duration": 6,
    "start_time": "2022-02-13T20:13:42.636Z"
   },
   {
    "duration": 16,
    "start_time": "2022-02-13T20:13:42.644Z"
   },
   {
    "duration": 36,
    "start_time": "2022-02-13T20:13:42.662Z"
   },
   {
    "duration": 33,
    "start_time": "2022-02-13T20:13:42.700Z"
   },
   {
    "duration": 17,
    "start_time": "2022-02-13T20:13:42.735Z"
   },
   {
    "duration": 6,
    "start_time": "2022-02-13T20:13:42.754Z"
   },
   {
    "duration": 41,
    "start_time": "2022-02-13T20:13:42.762Z"
   },
   {
    "duration": 7,
    "start_time": "2022-02-13T20:13:42.805Z"
   },
   {
    "duration": 57,
    "start_time": "2022-02-13T20:13:42.814Z"
   },
   {
    "duration": 28,
    "start_time": "2022-02-13T20:13:42.873Z"
   },
   {
    "duration": 342,
    "start_time": "2022-02-13T20:13:42.903Z"
   },
   {
    "duration": 315,
    "start_time": "2022-02-13T20:13:43.247Z"
   },
   {
    "duration": -516,
    "start_time": "2022-02-13T20:13:44.082Z"
   },
   {
    "duration": -522,
    "start_time": "2022-02-13T20:13:44.090Z"
   },
   {
    "duration": -529,
    "start_time": "2022-02-13T20:13:44.098Z"
   },
   {
    "duration": -534,
    "start_time": "2022-02-13T20:13:44.105Z"
   },
   {
    "duration": -540,
    "start_time": "2022-02-13T20:13:44.112Z"
   },
   {
    "duration": -544,
    "start_time": "2022-02-13T20:13:44.118Z"
   },
   {
    "duration": -547,
    "start_time": "2022-02-13T20:13:44.122Z"
   },
   {
    "duration": -549,
    "start_time": "2022-02-13T20:13:44.126Z"
   },
   {
    "duration": -552,
    "start_time": "2022-02-13T20:13:44.130Z"
   },
   {
    "duration": -556,
    "start_time": "2022-02-13T20:13:44.135Z"
   },
   {
    "duration": -558,
    "start_time": "2022-02-13T20:13:44.139Z"
   },
   {
    "duration": -559,
    "start_time": "2022-02-13T20:13:44.142Z"
   },
   {
    "duration": -563,
    "start_time": "2022-02-13T20:13:44.147Z"
   },
   {
    "duration": -565,
    "start_time": "2022-02-13T20:13:44.150Z"
   },
   {
    "duration": -566,
    "start_time": "2022-02-13T20:13:44.153Z"
   },
   {
    "duration": -568,
    "start_time": "2022-02-13T20:13:44.156Z"
   },
   {
    "duration": -569,
    "start_time": "2022-02-13T20:13:44.159Z"
   },
   {
    "duration": -571,
    "start_time": "2022-02-13T20:13:44.162Z"
   },
   {
    "duration": -572,
    "start_time": "2022-02-13T20:13:44.165Z"
   },
   {
    "duration": -583,
    "start_time": "2022-02-13T20:13:44.177Z"
   },
   {
    "duration": -586,
    "start_time": "2022-02-13T20:13:44.181Z"
   },
   {
    "duration": -587,
    "start_time": "2022-02-13T20:13:44.184Z"
   },
   {
    "duration": -589,
    "start_time": "2022-02-13T20:13:44.187Z"
   },
   {
    "duration": -591,
    "start_time": "2022-02-13T20:13:44.190Z"
   },
   {
    "duration": -592,
    "start_time": "2022-02-13T20:13:44.193Z"
   },
   {
    "duration": -595,
    "start_time": "2022-02-13T20:13:44.197Z"
   },
   {
    "duration": -596,
    "start_time": "2022-02-13T20:13:44.200Z"
   },
   {
    "duration": -599,
    "start_time": "2022-02-13T20:13:44.204Z"
   },
   {
    "duration": -600,
    "start_time": "2022-02-13T20:13:44.207Z"
   },
   {
    "duration": -601,
    "start_time": "2022-02-13T20:13:44.210Z"
   },
   {
    "duration": -603,
    "start_time": "2022-02-13T20:13:44.213Z"
   },
   {
    "duration": 27,
    "start_time": "2022-02-13T20:15:09.849Z"
   },
   {
    "duration": 216,
    "start_time": "2022-02-13T20:15:12.794Z"
   },
   {
    "duration": 16,
    "start_time": "2022-02-13T20:15:23.766Z"
   },
   {
    "duration": 240,
    "start_time": "2022-02-13T20:15:27.762Z"
   },
   {
    "duration": 1188,
    "start_time": "2022-02-13T20:16:38.405Z"
   },
   {
    "duration": 470,
    "start_time": "2022-02-13T20:16:39.595Z"
   },
   {
    "duration": 17,
    "start_time": "2022-02-13T20:16:40.068Z"
   },
   {
    "duration": 62,
    "start_time": "2022-02-13T20:16:40.087Z"
   },
   {
    "duration": 51,
    "start_time": "2022-02-13T20:16:40.151Z"
   },
   {
    "duration": 298,
    "start_time": "2022-02-13T20:16:40.204Z"
   },
   {
    "duration": 118,
    "start_time": "2022-02-13T20:16:40.505Z"
   },
   {
    "duration": 39,
    "start_time": "2022-02-13T20:16:40.626Z"
   },
   {
    "duration": 11,
    "start_time": "2022-02-13T20:16:40.667Z"
   },
   {
    "duration": 34,
    "start_time": "2022-02-13T20:16:40.701Z"
   },
   {
    "duration": 30,
    "start_time": "2022-02-13T20:16:40.737Z"
   },
   {
    "duration": 177,
    "start_time": "2022-02-13T20:16:40.799Z"
   },
   {
    "duration": 84,
    "start_time": "2022-02-13T20:16:40.978Z"
   },
   {
    "duration": 51,
    "start_time": "2022-02-13T20:16:41.064Z"
   },
   {
    "duration": 8,
    "start_time": "2022-02-13T20:16:41.116Z"
   },
   {
    "duration": 30,
    "start_time": "2022-02-13T20:16:41.127Z"
   },
   {
    "duration": 56,
    "start_time": "2022-02-13T20:16:41.159Z"
   },
   {
    "duration": 132,
    "start_time": "2022-02-13T20:16:41.218Z"
   },
   {
    "duration": 58,
    "start_time": "2022-02-13T20:16:41.352Z"
   },
   {
    "duration": 18,
    "start_time": "2022-02-13T20:16:41.412Z"
   },
   {
    "duration": 8,
    "start_time": "2022-02-13T20:16:41.432Z"
   },
   {
    "duration": 9,
    "start_time": "2022-02-13T20:16:41.442Z"
   },
   {
    "duration": 7,
    "start_time": "2022-02-13T20:16:41.455Z"
   },
   {
    "duration": 15,
    "start_time": "2022-02-13T20:16:41.498Z"
   },
   {
    "duration": 15,
    "start_time": "2022-02-13T20:16:41.516Z"
   },
   {
    "duration": 53,
    "start_time": "2022-02-13T20:16:41.533Z"
   },
   {
    "duration": 23,
    "start_time": "2022-02-13T20:16:41.589Z"
   },
   {
    "duration": 23,
    "start_time": "2022-02-13T20:16:41.615Z"
   },
   {
    "duration": 29,
    "start_time": "2022-02-13T20:16:41.640Z"
   },
   {
    "duration": 41,
    "start_time": "2022-02-13T20:16:41.672Z"
   },
   {
    "duration": 7,
    "start_time": "2022-02-13T20:16:41.715Z"
   },
   {
    "duration": 42,
    "start_time": "2022-02-13T20:16:41.724Z"
   },
   {
    "duration": 91,
    "start_time": "2022-02-13T20:16:41.769Z"
   },
   {
    "duration": 13,
    "start_time": "2022-02-13T20:16:41.861Z"
   },
   {
    "duration": 25,
    "start_time": "2022-02-13T20:16:41.875Z"
   },
   {
    "duration": 72,
    "start_time": "2022-02-13T20:16:41.902Z"
   },
   {
    "duration": 69,
    "start_time": "2022-02-13T20:16:41.976Z"
   },
   {
    "duration": 6,
    "start_time": "2022-02-13T20:16:42.047Z"
   },
   {
    "duration": 50,
    "start_time": "2022-02-13T20:16:42.055Z"
   },
   {
    "duration": 6,
    "start_time": "2022-02-13T20:16:42.107Z"
   },
   {
    "duration": 11,
    "start_time": "2022-02-13T20:16:42.115Z"
   },
   {
    "duration": 43,
    "start_time": "2022-02-13T20:16:42.128Z"
   },
   {
    "duration": 31,
    "start_time": "2022-02-13T20:16:42.173Z"
   },
   {
    "duration": 21,
    "start_time": "2022-02-13T20:16:42.209Z"
   },
   {
    "duration": 8,
    "start_time": "2022-02-13T20:16:42.232Z"
   },
   {
    "duration": 16,
    "start_time": "2022-02-13T20:16:42.243Z"
   },
   {
    "duration": 43,
    "start_time": "2022-02-13T20:16:42.261Z"
   },
   {
    "duration": 34,
    "start_time": "2022-02-13T20:16:42.306Z"
   },
   {
    "duration": 18,
    "start_time": "2022-02-13T20:16:42.342Z"
   },
   {
    "duration": 38,
    "start_time": "2022-02-13T20:16:42.362Z"
   },
   {
    "duration": 13,
    "start_time": "2022-02-13T20:16:42.402Z"
   },
   {
    "duration": 12,
    "start_time": "2022-02-13T20:16:42.417Z"
   },
   {
    "duration": 87,
    "start_time": "2022-02-13T20:16:42.431Z"
   },
   {
    "duration": 6,
    "start_time": "2022-02-13T20:16:42.520Z"
   },
   {
    "duration": 356,
    "start_time": "2022-02-13T20:16:42.528Z"
   },
   {
    "duration": 36,
    "start_time": "2022-02-13T20:16:42.887Z"
   },
   {
    "duration": 16,
    "start_time": "2022-02-13T20:16:42.925Z"
   },
   {
    "duration": 10,
    "start_time": "2022-02-13T20:16:42.943Z"
   },
   {
    "duration": 6,
    "start_time": "2022-02-13T20:16:42.954Z"
   },
   {
    "duration": 46,
    "start_time": "2022-02-13T20:16:42.962Z"
   },
   {
    "duration": 7,
    "start_time": "2022-02-13T20:16:43.010Z"
   },
   {
    "duration": 8,
    "start_time": "2022-02-13T20:16:43.018Z"
   },
   {
    "duration": 13,
    "start_time": "2022-02-13T20:16:43.028Z"
   },
   {
    "duration": 7,
    "start_time": "2022-02-13T20:16:43.043Z"
   },
   {
    "duration": 5,
    "start_time": "2022-02-13T20:16:43.052Z"
   },
   {
    "duration": 45,
    "start_time": "2022-02-13T20:16:43.059Z"
   },
   {
    "duration": 16,
    "start_time": "2022-02-13T20:16:43.106Z"
   },
   {
    "duration": 8,
    "start_time": "2022-02-13T20:16:43.128Z"
   },
   {
    "duration": 463,
    "start_time": "2022-02-13T20:16:43.139Z"
   },
   {
    "duration": 178,
    "start_time": "2022-02-13T20:16:43.604Z"
   },
   {
    "duration": 173,
    "start_time": "2022-02-13T20:16:43.784Z"
   },
   {
    "duration": 9,
    "start_time": "2022-02-13T20:16:43.958Z"
   },
   {
    "duration": 8,
    "start_time": "2022-02-13T20:16:43.968Z"
   },
   {
    "duration": 281,
    "start_time": "2022-02-13T20:16:43.978Z"
   },
   {
    "duration": 172,
    "start_time": "2022-02-13T20:16:44.260Z"
   },
   {
    "duration": 260,
    "start_time": "2022-02-13T20:16:44.434Z"
   },
   {
    "duration": 9,
    "start_time": "2022-02-13T20:16:44.695Z"
   },
   {
    "duration": 11,
    "start_time": "2022-02-13T20:16:44.706Z"
   },
   {
    "duration": 372,
    "start_time": "2022-02-13T20:16:44.719Z"
   },
   {
    "duration": 162,
    "start_time": "2022-02-13T20:16:45.093Z"
   },
   {
    "duration": 165,
    "start_time": "2022-02-13T20:16:45.256Z"
   },
   {
    "duration": 23,
    "start_time": "2022-02-13T20:16:45.423Z"
   },
   {
    "duration": 19,
    "start_time": "2022-02-13T20:16:45.447Z"
   },
   {
    "duration": 34,
    "start_time": "2022-02-13T20:16:45.468Z"
   },
   {
    "duration": 15,
    "start_time": "2022-02-13T20:16:45.504Z"
   },
   {
    "duration": 12,
    "start_time": "2022-02-13T20:16:45.520Z"
   },
   {
    "duration": 1123,
    "start_time": "2022-02-13T20:21:12.914Z"
   },
   {
    "duration": 453,
    "start_time": "2022-02-13T20:21:14.039Z"
   },
   {
    "duration": 12,
    "start_time": "2022-02-13T20:21:14.494Z"
   },
   {
    "duration": 24,
    "start_time": "2022-02-13T20:21:14.508Z"
   },
   {
    "duration": 23,
    "start_time": "2022-02-13T20:21:14.534Z"
   },
   {
    "duration": 272,
    "start_time": "2022-02-13T20:21:14.560Z"
   },
   {
    "duration": 113,
    "start_time": "2022-02-13T20:21:14.834Z"
   },
   {
    "duration": 51,
    "start_time": "2022-02-13T20:21:14.950Z"
   },
   {
    "duration": 10,
    "start_time": "2022-02-13T20:21:15.005Z"
   },
   {
    "duration": 42,
    "start_time": "2022-02-13T20:21:15.017Z"
   },
   {
    "duration": 18,
    "start_time": "2022-02-13T20:21:15.060Z"
   },
   {
    "duration": 152,
    "start_time": "2022-02-13T20:21:15.080Z"
   },
   {
    "duration": 74,
    "start_time": "2022-02-13T20:21:15.234Z"
   },
   {
    "duration": 34,
    "start_time": "2022-02-13T20:21:15.310Z"
   },
   {
    "duration": 7,
    "start_time": "2022-02-13T20:21:15.346Z"
   },
   {
    "duration": 49,
    "start_time": "2022-02-13T20:21:15.355Z"
   },
   {
    "duration": 25,
    "start_time": "2022-02-13T20:21:15.407Z"
   },
   {
    "duration": 140,
    "start_time": "2022-02-13T20:21:15.434Z"
   },
   {
    "duration": 46,
    "start_time": "2022-02-13T20:21:15.576Z"
   },
   {
    "duration": 18,
    "start_time": "2022-02-13T20:21:15.624Z"
   },
   {
    "duration": 8,
    "start_time": "2022-02-13T20:21:15.644Z"
   },
   {
    "duration": 12,
    "start_time": "2022-02-13T20:21:15.654Z"
   },
   {
    "duration": 30,
    "start_time": "2022-02-13T20:21:15.671Z"
   },
   {
    "duration": 16,
    "start_time": "2022-02-13T20:21:15.705Z"
   },
   {
    "duration": 7,
    "start_time": "2022-02-13T20:21:15.724Z"
   },
   {
    "duration": 34,
    "start_time": "2022-02-13T20:21:15.733Z"
   },
   {
    "duration": 36,
    "start_time": "2022-02-13T20:21:15.769Z"
   },
   {
    "duration": 9,
    "start_time": "2022-02-13T20:21:15.807Z"
   },
   {
    "duration": 8,
    "start_time": "2022-02-13T20:21:15.819Z"
   },
   {
    "duration": 25,
    "start_time": "2022-02-13T20:21:15.829Z"
   },
   {
    "duration": 44,
    "start_time": "2022-02-13T20:21:15.856Z"
   },
   {
    "duration": 30,
    "start_time": "2022-02-13T20:21:15.902Z"
   },
   {
    "duration": 90,
    "start_time": "2022-02-13T20:21:15.934Z"
   },
   {
    "duration": 13,
    "start_time": "2022-02-13T20:21:16.026Z"
   },
   {
    "duration": 9,
    "start_time": "2022-02-13T20:21:16.041Z"
   },
   {
    "duration": 76,
    "start_time": "2022-02-13T20:21:16.052Z"
   },
   {
    "duration": 56,
    "start_time": "2022-02-13T20:21:16.130Z"
   },
   {
    "duration": 6,
    "start_time": "2022-02-13T20:21:16.199Z"
   },
   {
    "duration": 35,
    "start_time": "2022-02-13T20:21:16.206Z"
   },
   {
    "duration": 5,
    "start_time": "2022-02-13T20:21:16.243Z"
   },
   {
    "duration": 9,
    "start_time": "2022-02-13T20:21:16.250Z"
   },
   {
    "duration": 66,
    "start_time": "2022-02-13T20:21:16.261Z"
   },
   {
    "duration": 6,
    "start_time": "2022-02-13T20:21:16.329Z"
   },
   {
    "duration": 15,
    "start_time": "2022-02-13T20:21:16.337Z"
   },
   {
    "duration": 7,
    "start_time": "2022-02-13T20:21:16.353Z"
   },
   {
    "duration": 42,
    "start_time": "2022-02-13T20:21:16.362Z"
   },
   {
    "duration": 7,
    "start_time": "2022-02-13T20:21:16.406Z"
   },
   {
    "duration": 39,
    "start_time": "2022-02-13T20:21:16.415Z"
   },
   {
    "duration": 18,
    "start_time": "2022-02-13T20:21:16.455Z"
   },
   {
    "duration": 29,
    "start_time": "2022-02-13T20:21:16.474Z"
   },
   {
    "duration": 8,
    "start_time": "2022-02-13T20:21:16.505Z"
   },
   {
    "duration": 10,
    "start_time": "2022-02-13T20:21:16.515Z"
   },
   {
    "duration": 87,
    "start_time": "2022-02-13T20:21:16.526Z"
   },
   {
    "duration": 6,
    "start_time": "2022-02-13T20:21:16.615Z"
   },
   {
    "duration": 332,
    "start_time": "2022-02-13T20:21:16.623Z"
   },
   {
    "duration": 27,
    "start_time": "2022-02-13T20:21:16.957Z"
   },
   {
    "duration": 25,
    "start_time": "2022-02-13T20:21:16.986Z"
   },
   {
    "duration": 10,
    "start_time": "2022-02-13T20:21:17.013Z"
   },
   {
    "duration": 7,
    "start_time": "2022-02-13T20:21:17.026Z"
   },
   {
    "duration": 15,
    "start_time": "2022-02-13T20:21:17.034Z"
   },
   {
    "duration": 9,
    "start_time": "2022-02-13T20:21:17.051Z"
   },
   {
    "duration": 39,
    "start_time": "2022-02-13T20:21:17.061Z"
   },
   {
    "duration": 17,
    "start_time": "2022-02-13T20:21:17.102Z"
   },
   {
    "duration": 9,
    "start_time": "2022-02-13T20:21:17.121Z"
   },
   {
    "duration": 6,
    "start_time": "2022-02-13T20:21:17.132Z"
   },
   {
    "duration": 11,
    "start_time": "2022-02-13T20:21:17.140Z"
   },
   {
    "duration": 12,
    "start_time": "2022-02-13T20:21:17.153Z"
   },
   {
    "duration": 35,
    "start_time": "2022-02-13T20:21:17.172Z"
   },
   {
    "duration": 454,
    "start_time": "2022-02-13T20:21:17.209Z"
   },
   {
    "duration": 178,
    "start_time": "2022-02-13T20:21:17.665Z"
   },
   {
    "duration": 167,
    "start_time": "2022-02-13T20:21:17.845Z"
   },
   {
    "duration": 9,
    "start_time": "2022-02-13T20:21:18.014Z"
   },
   {
    "duration": 12,
    "start_time": "2022-02-13T20:21:18.024Z"
   },
   {
    "duration": 260,
    "start_time": "2022-02-13T20:21:18.038Z"
   },
   {
    "duration": 163,
    "start_time": "2022-02-13T20:21:18.300Z"
   },
   {
    "duration": 251,
    "start_time": "2022-02-13T20:21:18.466Z"
   },
   {
    "duration": 9,
    "start_time": "2022-02-13T20:21:18.719Z"
   },
   {
    "duration": 14,
    "start_time": "2022-02-13T20:21:18.730Z"
   },
   {
    "duration": 351,
    "start_time": "2022-02-13T20:21:18.746Z"
   },
   {
    "duration": 176,
    "start_time": "2022-02-13T20:21:19.099Z"
   },
   {
    "duration": 174,
    "start_time": "2022-02-13T20:21:19.277Z"
   },
   {
    "duration": 23,
    "start_time": "2022-02-13T20:21:19.453Z"
   },
   {
    "duration": 29,
    "start_time": "2022-02-13T20:21:19.478Z"
   },
   {
    "duration": 7,
    "start_time": "2022-02-13T20:21:19.509Z"
   },
   {
    "duration": 12,
    "start_time": "2022-02-13T20:21:19.518Z"
   },
   {
    "duration": 8,
    "start_time": "2022-02-13T20:21:19.532Z"
   },
   {
    "duration": 1543,
    "start_time": "2022-02-20T18:46:20.811Z"
   },
   {
    "duration": 498,
    "start_time": "2022-02-20T18:46:22.357Z"
   },
   {
    "duration": 15,
    "start_time": "2022-02-20T18:46:22.859Z"
   },
   {
    "duration": 30,
    "start_time": "2022-02-20T18:46:22.877Z"
   },
   {
    "duration": 46,
    "start_time": "2022-02-20T18:46:22.910Z"
   },
   {
    "duration": 293,
    "start_time": "2022-02-20T18:46:22.958Z"
   },
   {
    "duration": 151,
    "start_time": "2022-02-20T18:46:23.255Z"
   },
   {
    "duration": 58,
    "start_time": "2022-02-20T18:46:23.410Z"
   },
   {
    "duration": 16,
    "start_time": "2022-02-20T18:46:23.471Z"
   },
   {
    "duration": 24,
    "start_time": "2022-02-20T18:46:23.489Z"
   },
   {
    "duration": 52,
    "start_time": "2022-02-20T18:46:23.516Z"
   },
   {
    "duration": 188,
    "start_time": "2022-02-20T18:46:23.571Z"
   },
   {
    "duration": 107,
    "start_time": "2022-02-20T18:46:23.762Z"
   },
   {
    "duration": 42,
    "start_time": "2022-02-20T18:46:23.871Z"
   },
   {
    "duration": 37,
    "start_time": "2022-02-20T18:46:23.916Z"
   },
   {
    "duration": 21,
    "start_time": "2022-02-20T18:46:23.956Z"
   },
   {
    "duration": 21,
    "start_time": "2022-02-20T18:46:23.980Z"
   },
   {
    "duration": 141,
    "start_time": "2022-02-20T18:46:24.004Z"
   },
   {
    "duration": 56,
    "start_time": "2022-02-20T18:46:24.149Z"
   },
   {
    "duration": 44,
    "start_time": "2022-02-20T18:46:24.208Z"
   },
   {
    "duration": 11,
    "start_time": "2022-02-20T18:46:24.254Z"
   },
   {
    "duration": 29,
    "start_time": "2022-02-20T18:46:24.268Z"
   },
   {
    "duration": 22,
    "start_time": "2022-02-20T18:46:24.304Z"
   },
   {
    "duration": 34,
    "start_time": "2022-02-20T18:46:24.330Z"
   },
   {
    "duration": 16,
    "start_time": "2022-02-20T18:46:24.367Z"
   },
   {
    "duration": 66,
    "start_time": "2022-02-20T18:46:24.386Z"
   },
   {
    "duration": 15,
    "start_time": "2022-02-20T18:46:24.454Z"
   },
   {
    "duration": 24,
    "start_time": "2022-02-20T18:46:24.472Z"
   },
   {
    "duration": 10,
    "start_time": "2022-02-20T18:46:24.499Z"
   },
   {
    "duration": 53,
    "start_time": "2022-02-20T18:46:24.511Z"
   },
   {
    "duration": 10,
    "start_time": "2022-02-20T18:46:24.566Z"
   },
   {
    "duration": 57,
    "start_time": "2022-02-20T18:46:24.578Z"
   },
   {
    "duration": 116,
    "start_time": "2022-02-20T18:46:24.637Z"
   },
   {
    "duration": 19,
    "start_time": "2022-02-20T18:46:24.756Z"
   },
   {
    "duration": 15,
    "start_time": "2022-02-20T18:46:24.778Z"
   },
   {
    "duration": 103,
    "start_time": "2022-02-20T18:46:24.797Z"
   },
   {
    "duration": 92,
    "start_time": "2022-02-20T18:46:24.902Z"
   },
   {
    "duration": 8,
    "start_time": "2022-02-20T18:46:24.997Z"
   },
   {
    "duration": 71,
    "start_time": "2022-02-20T18:46:25.007Z"
   },
   {
    "duration": 8,
    "start_time": "2022-02-20T18:46:25.081Z"
   },
   {
    "duration": 30,
    "start_time": "2022-02-20T18:46:25.092Z"
   },
   {
    "duration": 68,
    "start_time": "2022-02-20T18:46:25.125Z"
   },
   {
    "duration": 9,
    "start_time": "2022-02-20T18:46:25.196Z"
   },
   {
    "duration": 46,
    "start_time": "2022-02-20T18:46:25.207Z"
   },
   {
    "duration": 12,
    "start_time": "2022-02-20T18:46:25.256Z"
   },
   {
    "duration": 21,
    "start_time": "2022-02-20T18:46:25.272Z"
   },
   {
    "duration": 10,
    "start_time": "2022-02-20T18:46:25.296Z"
   },
   {
    "duration": 86,
    "start_time": "2022-02-20T18:46:25.308Z"
   },
   {
    "duration": 25,
    "start_time": "2022-02-20T18:46:25.396Z"
   },
   {
    "duration": 32,
    "start_time": "2022-02-20T18:46:25.424Z"
   },
   {
    "duration": 17,
    "start_time": "2022-02-20T18:46:25.459Z"
   },
   {
    "duration": 13,
    "start_time": "2022-02-20T18:46:25.478Z"
   },
   {
    "duration": 133,
    "start_time": "2022-02-20T18:46:25.494Z"
   },
   {
    "duration": 18,
    "start_time": "2022-02-20T18:46:25.630Z"
   },
   {
    "duration": 747,
    "start_time": "2022-02-20T18:46:25.651Z"
   },
   {
    "duration": 49,
    "start_time": "2022-02-20T18:46:26.401Z"
   },
   {
    "duration": 20,
    "start_time": "2022-02-20T18:46:26.453Z"
   },
   {
    "duration": 13,
    "start_time": "2022-02-20T18:46:26.476Z"
   },
   {
    "duration": 14,
    "start_time": "2022-02-20T18:46:26.492Z"
   },
   {
    "duration": 49,
    "start_time": "2022-02-20T18:46:26.508Z"
   },
   {
    "duration": 15,
    "start_time": "2022-02-20T18:46:26.560Z"
   },
   {
    "duration": 7,
    "start_time": "2022-02-20T18:46:26.578Z"
   },
   {
    "duration": 16,
    "start_time": "2022-02-20T18:46:26.588Z"
   },
   {
    "duration": 6,
    "start_time": "2022-02-20T18:46:26.607Z"
   },
   {
    "duration": 37,
    "start_time": "2022-02-20T18:46:26.616Z"
   },
   {
    "duration": 23,
    "start_time": "2022-02-20T18:46:26.655Z"
   },
   {
    "duration": 12,
    "start_time": "2022-02-20T18:46:26.681Z"
   },
   {
    "duration": 9,
    "start_time": "2022-02-20T18:46:26.702Z"
   },
   {
    "duration": 640,
    "start_time": "2022-02-20T18:46:26.714Z"
   },
   {
    "duration": 242,
    "start_time": "2022-02-20T18:46:27.356Z"
   },
   {
    "duration": 246,
    "start_time": "2022-02-20T18:46:27.602Z"
   },
   {
    "duration": 11,
    "start_time": "2022-02-20T18:46:27.852Z"
   },
   {
    "duration": 16,
    "start_time": "2022-02-20T18:46:27.866Z"
   },
   {
    "duration": 378,
    "start_time": "2022-02-20T18:46:27.885Z"
   },
   {
    "duration": 236,
    "start_time": "2022-02-20T18:46:28.266Z"
   },
   {
    "duration": 346,
    "start_time": "2022-02-20T18:46:28.505Z"
   },
   {
    "duration": 13,
    "start_time": "2022-02-20T18:46:28.853Z"
   },
   {
    "duration": 12,
    "start_time": "2022-02-20T18:46:28.869Z"
   },
   {
    "duration": 596,
    "start_time": "2022-02-20T18:46:28.884Z"
   },
   {
    "duration": 239,
    "start_time": "2022-02-20T18:46:29.483Z"
   },
   {
    "duration": 234,
    "start_time": "2022-02-20T18:46:29.725Z"
   },
   {
    "duration": 31,
    "start_time": "2022-02-20T18:46:29.962Z"
   },
   {
    "duration": 20,
    "start_time": "2022-02-20T18:46:29.996Z"
   },
   {
    "duration": 9,
    "start_time": "2022-02-20T18:46:30.049Z"
   },
   {
    "duration": 29,
    "start_time": "2022-02-20T18:46:30.060Z"
   },
   {
    "duration": 36,
    "start_time": "2022-02-20T18:46:30.092Z"
   }
  ],
  "kernelspec": {
   "display_name": "Python 3",
   "language": "python",
   "name": "python3"
  },
  "language_info": {
   "codemirror_mode": {
    "name": "ipython",
    "version": 3
   },
   "file_extension": ".py",
   "mimetype": "text/x-python",
   "name": "python",
   "nbconvert_exporter": "python",
   "pygments_lexer": "ipython3",
   "version": "3.7.8"
  },
  "toc": {
   "base_numbering": 1,
   "nav_menu": {
    "height": "56px",
    "width": "225px"
   },
   "number_sections": true,
   "sideBar": true,
   "skip_h1_title": true,
   "title_cell": "Содержание",
   "title_sidebar": "Contents",
   "toc_cell": true,
   "toc_position": {
    "height": "calc(100% - 180px)",
    "left": "10px",
    "top": "150px",
    "width": "286.237px"
   },
   "toc_section_display": true,
   "toc_window_display": false
  }
 },
 "nbformat": 4,
 "nbformat_minor": 2
}
